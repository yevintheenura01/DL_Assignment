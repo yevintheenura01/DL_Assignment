{
  "cells": [
    {
      "cell_type": "markdown",
      "metadata": {
        "id": "view-in-github",
        "colab_type": "text"
      },
      "source": [
        "<a href=\"https://colab.research.google.com/github/yevintheenura01/DL_Assignment/blob/Nalinda/Welcome_To_Colab.ipynb\" target=\"_parent\"><img src=\"https://colab.research.google.com/assets/colab-badge.svg\" alt=\"Open In Colab\"/></a>"
      ]
    },
    {
      "cell_type": "code",
      "source": [
        "# ✅ Step 1: Mount Google Drive\n",
        "from google.colab import drive\n",
        "drive.mount('/content/drive')\n"
      ],
      "metadata": {
        "colab": {
          "base_uri": "https://localhost:8080/"
        },
        "id": "ZduOXeRIQeVY",
        "outputId": "9603a8c1-2393-4a36-88e9-8cd6cc46bb0f"
      },
      "execution_count": 1,
      "outputs": [
        {
          "output_type": "stream",
          "name": "stdout",
          "text": [
            "Mounted at /content/drive\n"
          ]
        }
      ]
    },
    {
      "cell_type": "code",
      "source": [
        "# ✅ Step 2: Import libraries\n",
        "import numpy as np\n",
        "import pandas as pd\n",
        "import matplotlib.pyplot as plt\n",
        "from sklearn.preprocessing import StandardScaler\n",
        "from sklearn.metrics import accuracy_score, precision_score, recall_score, f1_score, roc_auc_score, classification_report, confusion_matrix\n",
        "from tensorflow.keras import layers, models, regularizers, callbacks, optimizers\n",
        "import tensorflow as tf\n",
        "from tensorflow.keras.models import Model\n",
        "from tensorflow.keras.layers import Input, LSTM, Dense, Dropout, LayerNormalization, Bidirectional, BatchNormalization\n",
        "\n",
        "# reproducibility\n",
        "tf.random.set_seed(42)\n",
        "np.random.seed(42)\n"
      ],
      "metadata": {
        "id": "eVLesl2UQioY"
      },
      "execution_count": 2,
      "outputs": []
    },
    {
      "cell_type": "code",
      "source": [
        "# ✅ Step 3: Advanced Train/Test Data Loading from Google Drive\n",
        "import pandas as pd\n",
        "import os\n",
        "\n",
        "# Paths to your files\n",
        "train_path = \"/content/drive/MyDrive/DiabetesPrediction/outputs/train.csv\"\n",
        "test_path  = \"/content/drive/MyDrive/DiabetesPrediction/outputs/test.csv\"\n",
        "\n",
        "# Check file existence before loading\n",
        "for path in [train_path, test_path]:\n",
        "    if not os.path.exists(path):\n",
        "        raise FileNotFoundError(f\"❌ File not found: {path}\\nPlease verify the path in Google Drive.\")\n",
        "\n",
        "# Load CSV files\n",
        "train_df = pd.read_csv(train_path)\n",
        "test_df  = pd.read_csv(test_path)\n",
        "\n",
        "# ✅ Display dataset info\n",
        "print(\"✅ Train shape:\", train_df.shape)\n",
        "print(\"✅ Test shape:\",  test_df.shape)\n",
        "print(\"\\n🧩 Columns in dataset:\\n\", list(train_df.columns))\n",
        "print(\"\\n📋 Data types:\\n\", train_df.dtypes)\n",
        "print(\"\\n🔍 Missing values per column:\\n\", train_df.isnull().sum())\n",
        "\n",
        "# Quick look at class distribution (assuming 'diabetes' is your target)\n",
        "target_col = 'diabetes'\n",
        "if target_col in train_df.columns:\n",
        "    print(\"\\n⚖️ Class distribution in train set:\")\n",
        "    print(train_df[target_col].value_counts(normalize=True).rename({0: \"Non-Diabetic\", 1: \"Diabetic\"}))\n",
        "\n",
        "# Show first few records\n",
        "print(\"\\n📘 Sample records:\")\n",
        "display(train_df.head())\n",
        "\n",
        "print(\"\\n✅ Train and Test datasets successfully loaded from Google Drive!\")\n"
      ],
      "metadata": {
        "colab": {
          "base_uri": "https://localhost:8080/",
          "height": 917
        },
        "id": "Fqo0h2R6Qjk8",
        "outputId": "4111d0a1-d46b-4cf0-ffef-7d8de0f19f76"
      },
      "execution_count": 15,
      "outputs": [
        {
          "output_type": "stream",
          "name": "stdout",
          "text": [
            "✅ Train shape: (140262, 9)\n",
            "✅ Test shape: (35066, 9)\n",
            "\n",
            "🧩 Columns in dataset:\n",
            " ['gender', 'age', 'hypertension', 'heart_disease', 'smoking_history', 'bmi', 'HbA1c_level', 'blood_glucose_level', 'diabetes']\n",
            "\n",
            "📋 Data types:\n",
            " gender                 float64\n",
            "age                    float64\n",
            "hypertension           float64\n",
            "heart_disease          float64\n",
            "smoking_history        float64\n",
            "bmi                    float64\n",
            "HbA1c_level            float64\n",
            "blood_glucose_level    float64\n",
            "diabetes                 int64\n",
            "dtype: object\n",
            "\n",
            "🔍 Missing values per column:\n",
            " gender                 0\n",
            "age                    0\n",
            "hypertension           0\n",
            "heart_disease          0\n",
            "smoking_history        0\n",
            "bmi                    0\n",
            "HbA1c_level            0\n",
            "blood_glucose_level    0\n",
            "diabetes               0\n",
            "dtype: int64\n",
            "\n",
            "⚖️ Class distribution in train set:\n",
            "diabetes\n",
            "Diabetic        0.5\n",
            "Non-Diabetic    0.5\n",
            "Name: proportion, dtype: float64\n",
            "\n",
            "📘 Sample records:\n"
          ]
        },
        {
          "output_type": "display_data",
          "data": {
            "text/plain": [
              "     gender       age  hypertension  heart_disease  smoking_history       bmi  \\\n",
              "0  1.183769  1.693635      3.447677       4.848534         0.408968  0.761924   \n",
              "1  1.183769  0.308435     -0.290050      -0.206248        -1.186816  0.055526   \n",
              "2 -0.843459 -1.014757     -0.290050      -0.206248        -1.186816  0.006561   \n",
              "3 -0.843459  0.945914     -0.290050      -0.206248         0.940896  0.094711   \n",
              "4 -0.843459  0.358859     -0.290050      -0.206248         0.940896  2.832448   \n",
              "\n",
              "   HbA1c_level  blood_glucose_level  diabetes  \n",
              "0     2.496579             0.054263         1  \n",
              "1     1.373995             0.047584         1  \n",
              "2    -0.684077             0.518038         0  \n",
              "3     3.057872             3.514083         1  \n",
              "4     0.438507            -0.129164         1  "
            ],
            "text/html": [
              "\n",
              "  <div id=\"df-b9e61e20-9671-485f-8e29-ef4e895a2fc9\" class=\"colab-df-container\">\n",
              "    <div>\n",
              "<style scoped>\n",
              "    .dataframe tbody tr th:only-of-type {\n",
              "        vertical-align: middle;\n",
              "    }\n",
              "\n",
              "    .dataframe tbody tr th {\n",
              "        vertical-align: top;\n",
              "    }\n",
              "\n",
              "    .dataframe thead th {\n",
              "        text-align: right;\n",
              "    }\n",
              "</style>\n",
              "<table border=\"1\" class=\"dataframe\">\n",
              "  <thead>\n",
              "    <tr style=\"text-align: right;\">\n",
              "      <th></th>\n",
              "      <th>gender</th>\n",
              "      <th>age</th>\n",
              "      <th>hypertension</th>\n",
              "      <th>heart_disease</th>\n",
              "      <th>smoking_history</th>\n",
              "      <th>bmi</th>\n",
              "      <th>HbA1c_level</th>\n",
              "      <th>blood_glucose_level</th>\n",
              "      <th>diabetes</th>\n",
              "    </tr>\n",
              "  </thead>\n",
              "  <tbody>\n",
              "    <tr>\n",
              "      <th>0</th>\n",
              "      <td>1.183769</td>\n",
              "      <td>1.693635</td>\n",
              "      <td>3.447677</td>\n",
              "      <td>4.848534</td>\n",
              "      <td>0.408968</td>\n",
              "      <td>0.761924</td>\n",
              "      <td>2.496579</td>\n",
              "      <td>0.054263</td>\n",
              "      <td>1</td>\n",
              "    </tr>\n",
              "    <tr>\n",
              "      <th>1</th>\n",
              "      <td>1.183769</td>\n",
              "      <td>0.308435</td>\n",
              "      <td>-0.290050</td>\n",
              "      <td>-0.206248</td>\n",
              "      <td>-1.186816</td>\n",
              "      <td>0.055526</td>\n",
              "      <td>1.373995</td>\n",
              "      <td>0.047584</td>\n",
              "      <td>1</td>\n",
              "    </tr>\n",
              "    <tr>\n",
              "      <th>2</th>\n",
              "      <td>-0.843459</td>\n",
              "      <td>-1.014757</td>\n",
              "      <td>-0.290050</td>\n",
              "      <td>-0.206248</td>\n",
              "      <td>-1.186816</td>\n",
              "      <td>0.006561</td>\n",
              "      <td>-0.684077</td>\n",
              "      <td>0.518038</td>\n",
              "      <td>0</td>\n",
              "    </tr>\n",
              "    <tr>\n",
              "      <th>3</th>\n",
              "      <td>-0.843459</td>\n",
              "      <td>0.945914</td>\n",
              "      <td>-0.290050</td>\n",
              "      <td>-0.206248</td>\n",
              "      <td>0.940896</td>\n",
              "      <td>0.094711</td>\n",
              "      <td>3.057872</td>\n",
              "      <td>3.514083</td>\n",
              "      <td>1</td>\n",
              "    </tr>\n",
              "    <tr>\n",
              "      <th>4</th>\n",
              "      <td>-0.843459</td>\n",
              "      <td>0.358859</td>\n",
              "      <td>-0.290050</td>\n",
              "      <td>-0.206248</td>\n",
              "      <td>0.940896</td>\n",
              "      <td>2.832448</td>\n",
              "      <td>0.438507</td>\n",
              "      <td>-0.129164</td>\n",
              "      <td>1</td>\n",
              "    </tr>\n",
              "  </tbody>\n",
              "</table>\n",
              "</div>\n",
              "    <div class=\"colab-df-buttons\">\n",
              "\n",
              "  <div class=\"colab-df-container\">\n",
              "    <button class=\"colab-df-convert\" onclick=\"convertToInteractive('df-b9e61e20-9671-485f-8e29-ef4e895a2fc9')\"\n",
              "            title=\"Convert this dataframe to an interactive table.\"\n",
              "            style=\"display:none;\">\n",
              "\n",
              "  <svg xmlns=\"http://www.w3.org/2000/svg\" height=\"24px\" viewBox=\"0 -960 960 960\">\n",
              "    <path d=\"M120-120v-720h720v720H120Zm60-500h600v-160H180v160Zm220 220h160v-160H400v160Zm0 220h160v-160H400v160ZM180-400h160v-160H180v160Zm440 0h160v-160H620v160ZM180-180h160v-160H180v160Zm440 0h160v-160H620v160Z\"/>\n",
              "  </svg>\n",
              "    </button>\n",
              "\n",
              "  <style>\n",
              "    .colab-df-container {\n",
              "      display:flex;\n",
              "      gap: 12px;\n",
              "    }\n",
              "\n",
              "    .colab-df-convert {\n",
              "      background-color: #E8F0FE;\n",
              "      border: none;\n",
              "      border-radius: 50%;\n",
              "      cursor: pointer;\n",
              "      display: none;\n",
              "      fill: #1967D2;\n",
              "      height: 32px;\n",
              "      padding: 0 0 0 0;\n",
              "      width: 32px;\n",
              "    }\n",
              "\n",
              "    .colab-df-convert:hover {\n",
              "      background-color: #E2EBFA;\n",
              "      box-shadow: 0px 1px 2px rgba(60, 64, 67, 0.3), 0px 1px 3px 1px rgba(60, 64, 67, 0.15);\n",
              "      fill: #174EA6;\n",
              "    }\n",
              "\n",
              "    .colab-df-buttons div {\n",
              "      margin-bottom: 4px;\n",
              "    }\n",
              "\n",
              "    [theme=dark] .colab-df-convert {\n",
              "      background-color: #3B4455;\n",
              "      fill: #D2E3FC;\n",
              "    }\n",
              "\n",
              "    [theme=dark] .colab-df-convert:hover {\n",
              "      background-color: #434B5C;\n",
              "      box-shadow: 0px 1px 3px 1px rgba(0, 0, 0, 0.15);\n",
              "      filter: drop-shadow(0px 1px 2px rgba(0, 0, 0, 0.3));\n",
              "      fill: #FFFFFF;\n",
              "    }\n",
              "  </style>\n",
              "\n",
              "    <script>\n",
              "      const buttonEl =\n",
              "        document.querySelector('#df-b9e61e20-9671-485f-8e29-ef4e895a2fc9 button.colab-df-convert');\n",
              "      buttonEl.style.display =\n",
              "        google.colab.kernel.accessAllowed ? 'block' : 'none';\n",
              "\n",
              "      async function convertToInteractive(key) {\n",
              "        const element = document.querySelector('#df-b9e61e20-9671-485f-8e29-ef4e895a2fc9');\n",
              "        const dataTable =\n",
              "          await google.colab.kernel.invokeFunction('convertToInteractive',\n",
              "                                                    [key], {});\n",
              "        if (!dataTable) return;\n",
              "\n",
              "        const docLinkHtml = 'Like what you see? Visit the ' +\n",
              "          '<a target=\"_blank\" href=https://colab.research.google.com/notebooks/data_table.ipynb>data table notebook</a>'\n",
              "          + ' to learn more about interactive tables.';\n",
              "        element.innerHTML = '';\n",
              "        dataTable['output_type'] = 'display_data';\n",
              "        await google.colab.output.renderOutput(dataTable, element);\n",
              "        const docLink = document.createElement('div');\n",
              "        docLink.innerHTML = docLinkHtml;\n",
              "        element.appendChild(docLink);\n",
              "      }\n",
              "    </script>\n",
              "  </div>\n",
              "\n",
              "\n",
              "    <div id=\"df-3fcd6e36-ed3b-431a-b87a-5ac569639c93\">\n",
              "      <button class=\"colab-df-quickchart\" onclick=\"quickchart('df-3fcd6e36-ed3b-431a-b87a-5ac569639c93')\"\n",
              "                title=\"Suggest charts\"\n",
              "                style=\"display:none;\">\n",
              "\n",
              "<svg xmlns=\"http://www.w3.org/2000/svg\" height=\"24px\"viewBox=\"0 0 24 24\"\n",
              "     width=\"24px\">\n",
              "    <g>\n",
              "        <path d=\"M19 3H5c-1.1 0-2 .9-2 2v14c0 1.1.9 2 2 2h14c1.1 0 2-.9 2-2V5c0-1.1-.9-2-2-2zM9 17H7v-7h2v7zm4 0h-2V7h2v10zm4 0h-2v-4h2v4z\"/>\n",
              "    </g>\n",
              "</svg>\n",
              "      </button>\n",
              "\n",
              "<style>\n",
              "  .colab-df-quickchart {\n",
              "      --bg-color: #E8F0FE;\n",
              "      --fill-color: #1967D2;\n",
              "      --hover-bg-color: #E2EBFA;\n",
              "      --hover-fill-color: #174EA6;\n",
              "      --disabled-fill-color: #AAA;\n",
              "      --disabled-bg-color: #DDD;\n",
              "  }\n",
              "\n",
              "  [theme=dark] .colab-df-quickchart {\n",
              "      --bg-color: #3B4455;\n",
              "      --fill-color: #D2E3FC;\n",
              "      --hover-bg-color: #434B5C;\n",
              "      --hover-fill-color: #FFFFFF;\n",
              "      --disabled-bg-color: #3B4455;\n",
              "      --disabled-fill-color: #666;\n",
              "  }\n",
              "\n",
              "  .colab-df-quickchart {\n",
              "    background-color: var(--bg-color);\n",
              "    border: none;\n",
              "    border-radius: 50%;\n",
              "    cursor: pointer;\n",
              "    display: none;\n",
              "    fill: var(--fill-color);\n",
              "    height: 32px;\n",
              "    padding: 0;\n",
              "    width: 32px;\n",
              "  }\n",
              "\n",
              "  .colab-df-quickchart:hover {\n",
              "    background-color: var(--hover-bg-color);\n",
              "    box-shadow: 0 1px 2px rgba(60, 64, 67, 0.3), 0 1px 3px 1px rgba(60, 64, 67, 0.15);\n",
              "    fill: var(--button-hover-fill-color);\n",
              "  }\n",
              "\n",
              "  .colab-df-quickchart-complete:disabled,\n",
              "  .colab-df-quickchart-complete:disabled:hover {\n",
              "    background-color: var(--disabled-bg-color);\n",
              "    fill: var(--disabled-fill-color);\n",
              "    box-shadow: none;\n",
              "  }\n",
              "\n",
              "  .colab-df-spinner {\n",
              "    border: 2px solid var(--fill-color);\n",
              "    border-color: transparent;\n",
              "    border-bottom-color: var(--fill-color);\n",
              "    animation:\n",
              "      spin 1s steps(1) infinite;\n",
              "  }\n",
              "\n",
              "  @keyframes spin {\n",
              "    0% {\n",
              "      border-color: transparent;\n",
              "      border-bottom-color: var(--fill-color);\n",
              "      border-left-color: var(--fill-color);\n",
              "    }\n",
              "    20% {\n",
              "      border-color: transparent;\n",
              "      border-left-color: var(--fill-color);\n",
              "      border-top-color: var(--fill-color);\n",
              "    }\n",
              "    30% {\n",
              "      border-color: transparent;\n",
              "      border-left-color: var(--fill-color);\n",
              "      border-top-color: var(--fill-color);\n",
              "      border-right-color: var(--fill-color);\n",
              "    }\n",
              "    40% {\n",
              "      border-color: transparent;\n",
              "      border-right-color: var(--fill-color);\n",
              "      border-top-color: var(--fill-color);\n",
              "    }\n",
              "    60% {\n",
              "      border-color: transparent;\n",
              "      border-right-color: var(--fill-color);\n",
              "    }\n",
              "    80% {\n",
              "      border-color: transparent;\n",
              "      border-right-color: var(--fill-color);\n",
              "      border-bottom-color: var(--fill-color);\n",
              "    }\n",
              "    90% {\n",
              "      border-color: transparent;\n",
              "      border-bottom-color: var(--fill-color);\n",
              "    }\n",
              "  }\n",
              "</style>\n",
              "\n",
              "      <script>\n",
              "        async function quickchart(key) {\n",
              "          const quickchartButtonEl =\n",
              "            document.querySelector('#' + key + ' button');\n",
              "          quickchartButtonEl.disabled = true;  // To prevent multiple clicks.\n",
              "          quickchartButtonEl.classList.add('colab-df-spinner');\n",
              "          try {\n",
              "            const charts = await google.colab.kernel.invokeFunction(\n",
              "                'suggestCharts', [key], {});\n",
              "          } catch (error) {\n",
              "            console.error('Error during call to suggestCharts:', error);\n",
              "          }\n",
              "          quickchartButtonEl.classList.remove('colab-df-spinner');\n",
              "          quickchartButtonEl.classList.add('colab-df-quickchart-complete');\n",
              "        }\n",
              "        (() => {\n",
              "          let quickchartButtonEl =\n",
              "            document.querySelector('#df-3fcd6e36-ed3b-431a-b87a-5ac569639c93 button');\n",
              "          quickchartButtonEl.style.display =\n",
              "            google.colab.kernel.accessAllowed ? 'block' : 'none';\n",
              "        })();\n",
              "      </script>\n",
              "    </div>\n",
              "\n",
              "    </div>\n",
              "  </div>\n"
            ],
            "application/vnd.google.colaboratory.intrinsic+json": {
              "type": "dataframe",
              "summary": "{\n  \"name\": \"print(\\\"\\\\n\\u2705 Train and Test datasets successfully loaded from Google Drive!\\\")\",\n  \"rows\": 5,\n  \"fields\": [\n    {\n      \"column\": \"gender\",\n      \"properties\": {\n        \"dtype\": \"number\",\n        \"std\": 1.110358854119331,\n        \"min\": -0.84345918910975,\n        \"max\": 1.1837694486460688,\n        \"num_unique_values\": 2,\n        \"samples\": [\n          -0.84345918910975,\n          1.1837694486460688\n        ],\n        \"semantic_type\": \"\",\n        \"description\": \"\"\n      }\n    },\n    {\n      \"column\": \"age\",\n      \"properties\": {\n        \"dtype\": \"number\",\n        \"std\": 0.995749178886114,\n        \"min\": -1.0147574878812138,\n        \"max\": 1.69363477738231,\n        \"num_unique_values\": 5,\n        \"samples\": [\n          0.3084352642582194,\n          0.358858524170956\n        ],\n        \"semantic_type\": \"\",\n        \"description\": \"\"\n      }\n    },\n    {\n      \"column\": \"hypertension\",\n      \"properties\": {\n        \"dtype\": \"number\",\n        \"std\": 1.6715624765503236,\n        \"min\": -0.2900503773512282,\n        \"max\": 3.4476769488531938,\n        \"num_unique_values\": 2,\n        \"samples\": [\n          -0.2900503773512282,\n          3.4476769488531938\n        ],\n        \"semantic_type\": \"\",\n        \"description\": \"\"\n      }\n    },\n    {\n      \"column\": \"heart_disease\",\n      \"properties\": {\n        \"dtype\": \"number\",\n        \"std\": 2.260567303648675,\n        \"min\": -0.2062478980765674,\n        \"max\": 4.848534260595279,\n        \"num_unique_values\": 2,\n        \"samples\": [\n          -0.2062478980765674,\n          4.848534260595279\n        ],\n        \"semantic_type\": \"\",\n        \"description\": \"\"\n      }\n    },\n    {\n      \"column\": \"smoking_history\",\n      \"properties\": {\n        \"dtype\": \"number\",\n        \"std\": 1.0901282981290665,\n        \"min\": -1.186816190130204,\n        \"max\": 0.940896381204629,\n        \"num_unique_values\": 3,\n        \"samples\": [\n          0.4089682383709208,\n          -1.186816190130204\n        ],\n        \"semantic_type\": \"\",\n        \"description\": \"\"\n      }\n    },\n    {\n      \"column\": \"bmi\",\n      \"properties\": {\n        \"dtype\": \"number\",\n        \"std\": 1.2042766669032974,\n        \"min\": 0.006561398574244,\n        \"max\": 2.8324475373921456,\n        \"num_unique_values\": 5,\n        \"samples\": [\n          0.0555256490685375,\n          2.8324475373921456\n        ],\n        \"semantic_type\": \"\",\n        \"description\": \"\"\n      }\n    },\n    {\n      \"column\": \"HbA1c_level\",\n      \"properties\": {\n        \"dtype\": \"number\",\n        \"std\": 1.5165284514173674,\n        \"min\": -0.6840773769983484,\n        \"max\": 3.0578717028305884,\n        \"num_unique_values\": 5,\n        \"samples\": [\n          1.3739946169075663,\n          0.4385073469503325\n        ],\n        \"semantic_type\": \"\",\n        \"description\": \"\"\n      }\n    },\n    {\n      \"column\": \"blood_glucose_level\",\n      \"properties\": {\n        \"dtype\": \"number\",\n        \"std\": 1.53552476045404,\n        \"min\": -0.1291641120573851,\n        \"max\": 3.5140833096841697,\n        \"num_unique_values\": 5,\n        \"samples\": [\n          0.0475842565362016,\n          -0.1291641120573851\n        ],\n        \"semantic_type\": \"\",\n        \"description\": \"\"\n      }\n    },\n    {\n      \"column\": \"diabetes\",\n      \"properties\": {\n        \"dtype\": \"number\",\n        \"std\": 0,\n        \"min\": 0,\n        \"max\": 1,\n        \"num_unique_values\": 2,\n        \"samples\": [\n          0,\n          1\n        ],\n        \"semantic_type\": \"\",\n        \"description\": \"\"\n      }\n    }\n  ]\n}"
            }
          },
          "metadata": {}
        },
        {
          "output_type": "stream",
          "name": "stdout",
          "text": [
            "\n",
            "✅ Train and Test datasets successfully loaded from Google Drive!\n"
          ]
        }
      ]
    },
    {
      "cell_type": "code",
      "source": [
        "# ✅ Step 4: Split features and target\n",
        "target_col = 'diabetes'  # change if your column name is different\n",
        "\n",
        "X_train = train_df.drop(columns=[target_col])\n",
        "y_train = train_df[target_col].values\n",
        "X_test  = test_df.drop(columns=[target_col])\n",
        "y_test  = test_df[target_col].values\n",
        "\n",
        "print(\"Features:\", X_train.shape[1], \" Target distribution:\", np.bincount(y_train))\n"
      ],
      "metadata": {
        "colab": {
          "base_uri": "https://localhost:8080/"
        },
        "id": "1cA71SJlQwkB",
        "outputId": "5f405687-5282-4dfe-8147-76e14efbce94"
      },
      "execution_count": 4,
      "outputs": [
        {
          "output_type": "stream",
          "name": "stdout",
          "text": [
            "Features: 8  Target distribution: [70131 70131]\n"
          ]
        }
      ]
    },
    {
      "cell_type": "code",
      "source": [
        "# ✅ Step 5: Scale features\n",
        "scaler = StandardScaler()\n",
        "X_train_scaled = scaler.fit_transform(X_train)\n",
        "X_test_scaled  = scaler.transform(X_test)\n"
      ],
      "metadata": {
        "id": "3QJNiQHzQz6L"
      },
      "execution_count": 5,
      "outputs": []
    },
    {
      "cell_type": "code",
      "source": [
        "# ✅ Step 6: Reshape for LSTM (each feature = timestep)\n",
        "X_train_seq = X_train_scaled.reshape(X_train_scaled.shape[0], X_train_scaled.shape[1], 1)\n",
        "X_test_seq  = X_test_scaled.reshape(X_test_scaled.shape[0], X_test_scaled.shape[1], 1)\n",
        "\n",
        "print(\"Train seq shape:\", X_train_seq.shape)\n"
      ],
      "metadata": {
        "colab": {
          "base_uri": "https://localhost:8080/"
        },
        "id": "P6APsAueQ1rl",
        "outputId": "2e2acee7-6246-4a1a-b1ae-d964f9f9ce1f"
      },
      "execution_count": 6,
      "outputs": [
        {
          "output_type": "stream",
          "name": "stdout",
          "text": [
            "Train seq shape: (140262, 8, 1)\n"
          ]
        }
      ]
    },
    {
      "cell_type": "code",
      "source": [
        "# ✅ Step 7: Define advanced LSTM model\n",
        "def build_lstm(input_shape):\n",
        "    inp = Input(shape=input_shape)\n",
        "    x = Bidirectional(LSTM(64, return_sequences=True, kernel_regularizer=regularizers.l2(1e-4)))(inp)\n",
        "    x = LayerNormalization()(x)\n",
        "    x = Dropout(0.4)(x)\n",
        "    x = Bidirectional(LSTM(32))(x)\n",
        "    x = BatchNormalization()(x)\n",
        "    x = Dense(32, activation='relu', kernel_regularizer=regularizers.l2(1e-4))(x)\n",
        "    x = Dropout(0.3)(x)\n",
        "    out = Dense(1, activation='sigmoid')(x)\n",
        "    model = Model(inputs=inp, outputs=out)\n",
        "    model.compile(optimizer=optimizers.Adam(1e-3), loss='binary_crossentropy', metrics=['accuracy', tf.keras.metrics.AUC()])\n",
        "    return model\n",
        "\n",
        "model = build_lstm((X_train_seq.shape[1], 1))\n",
        "model.summary()\n"
      ],
      "metadata": {
        "colab": {
          "base_uri": "https://localhost:8080/",
          "height": 449
        },
        "id": "TpCO_EDoQ3ab",
        "outputId": "c5e43924-5e3d-44ab-94a7-a924b7e63993"
      },
      "execution_count": 7,
      "outputs": [
        {
          "output_type": "display_data",
          "data": {
            "text/plain": [
              "\u001b[1mModel: \"functional\"\u001b[0m\n"
            ],
            "text/html": [
              "<pre style=\"white-space:pre;overflow-x:auto;line-height:normal;font-family:Menlo,'DejaVu Sans Mono',consolas,'Courier New',monospace\"><span style=\"font-weight: bold\">Model: \"functional\"</span>\n",
              "</pre>\n"
            ]
          },
          "metadata": {}
        },
        {
          "output_type": "display_data",
          "data": {
            "text/plain": [
              "┏━━━━━━━━━━━━━━━━━━━━━━━━━━━━━━━━━┳━━━━━━━━━━━━━━━━━━━━━━━━┳━━━━━━━━━━━━━━━┓\n",
              "┃\u001b[1m \u001b[0m\u001b[1mLayer (type)                   \u001b[0m\u001b[1m \u001b[0m┃\u001b[1m \u001b[0m\u001b[1mOutput Shape          \u001b[0m\u001b[1m \u001b[0m┃\u001b[1m \u001b[0m\u001b[1m      Param #\u001b[0m\u001b[1m \u001b[0m┃\n",
              "┡━━━━━━━━━━━━━━━━━━━━━━━━━━━━━━━━━╇━━━━━━━━━━━━━━━━━━━━━━━━╇━━━━━━━━━━━━━━━┩\n",
              "│ input_layer (\u001b[38;5;33mInputLayer\u001b[0m)        │ (\u001b[38;5;45mNone\u001b[0m, \u001b[38;5;34m8\u001b[0m, \u001b[38;5;34m1\u001b[0m)           │             \u001b[38;5;34m0\u001b[0m │\n",
              "├─────────────────────────────────┼────────────────────────┼───────────────┤\n",
              "│ bidirectional (\u001b[38;5;33mBidirectional\u001b[0m)   │ (\u001b[38;5;45mNone\u001b[0m, \u001b[38;5;34m8\u001b[0m, \u001b[38;5;34m128\u001b[0m)         │        \u001b[38;5;34m33,792\u001b[0m │\n",
              "├─────────────────────────────────┼────────────────────────┼───────────────┤\n",
              "│ layer_normalization             │ (\u001b[38;5;45mNone\u001b[0m, \u001b[38;5;34m8\u001b[0m, \u001b[38;5;34m128\u001b[0m)         │           \u001b[38;5;34m256\u001b[0m │\n",
              "│ (\u001b[38;5;33mLayerNormalization\u001b[0m)            │                        │               │\n",
              "├─────────────────────────────────┼────────────────────────┼───────────────┤\n",
              "│ dropout (\u001b[38;5;33mDropout\u001b[0m)               │ (\u001b[38;5;45mNone\u001b[0m, \u001b[38;5;34m8\u001b[0m, \u001b[38;5;34m128\u001b[0m)         │             \u001b[38;5;34m0\u001b[0m │\n",
              "├─────────────────────────────────┼────────────────────────┼───────────────┤\n",
              "│ bidirectional_1 (\u001b[38;5;33mBidirectional\u001b[0m) │ (\u001b[38;5;45mNone\u001b[0m, \u001b[38;5;34m64\u001b[0m)             │        \u001b[38;5;34m41,216\u001b[0m │\n",
              "├─────────────────────────────────┼────────────────────────┼───────────────┤\n",
              "│ batch_normalization             │ (\u001b[38;5;45mNone\u001b[0m, \u001b[38;5;34m64\u001b[0m)             │           \u001b[38;5;34m256\u001b[0m │\n",
              "│ (\u001b[38;5;33mBatchNormalization\u001b[0m)            │                        │               │\n",
              "├─────────────────────────────────┼────────────────────────┼───────────────┤\n",
              "│ dense (\u001b[38;5;33mDense\u001b[0m)                   │ (\u001b[38;5;45mNone\u001b[0m, \u001b[38;5;34m32\u001b[0m)             │         \u001b[38;5;34m2,080\u001b[0m │\n",
              "├─────────────────────────────────┼────────────────────────┼───────────────┤\n",
              "│ dropout_1 (\u001b[38;5;33mDropout\u001b[0m)             │ (\u001b[38;5;45mNone\u001b[0m, \u001b[38;5;34m32\u001b[0m)             │             \u001b[38;5;34m0\u001b[0m │\n",
              "├─────────────────────────────────┼────────────────────────┼───────────────┤\n",
              "│ dense_1 (\u001b[38;5;33mDense\u001b[0m)                 │ (\u001b[38;5;45mNone\u001b[0m, \u001b[38;5;34m1\u001b[0m)              │            \u001b[38;5;34m33\u001b[0m │\n",
              "└─────────────────────────────────┴────────────────────────┴───────────────┘\n"
            ],
            "text/html": [
              "<pre style=\"white-space:pre;overflow-x:auto;line-height:normal;font-family:Menlo,'DejaVu Sans Mono',consolas,'Courier New',monospace\">┏━━━━━━━━━━━━━━━━━━━━━━━━━━━━━━━━━┳━━━━━━━━━━━━━━━━━━━━━━━━┳━━━━━━━━━━━━━━━┓\n",
              "┃<span style=\"font-weight: bold\"> Layer (type)                    </span>┃<span style=\"font-weight: bold\"> Output Shape           </span>┃<span style=\"font-weight: bold\">       Param # </span>┃\n",
              "┡━━━━━━━━━━━━━━━━━━━━━━━━━━━━━━━━━╇━━━━━━━━━━━━━━━━━━━━━━━━╇━━━━━━━━━━━━━━━┩\n",
              "│ input_layer (<span style=\"color: #0087ff; text-decoration-color: #0087ff\">InputLayer</span>)        │ (<span style=\"color: #00d7ff; text-decoration-color: #00d7ff\">None</span>, <span style=\"color: #00af00; text-decoration-color: #00af00\">8</span>, <span style=\"color: #00af00; text-decoration-color: #00af00\">1</span>)           │             <span style=\"color: #00af00; text-decoration-color: #00af00\">0</span> │\n",
              "├─────────────────────────────────┼────────────────────────┼───────────────┤\n",
              "│ bidirectional (<span style=\"color: #0087ff; text-decoration-color: #0087ff\">Bidirectional</span>)   │ (<span style=\"color: #00d7ff; text-decoration-color: #00d7ff\">None</span>, <span style=\"color: #00af00; text-decoration-color: #00af00\">8</span>, <span style=\"color: #00af00; text-decoration-color: #00af00\">128</span>)         │        <span style=\"color: #00af00; text-decoration-color: #00af00\">33,792</span> │\n",
              "├─────────────────────────────────┼────────────────────────┼───────────────┤\n",
              "│ layer_normalization             │ (<span style=\"color: #00d7ff; text-decoration-color: #00d7ff\">None</span>, <span style=\"color: #00af00; text-decoration-color: #00af00\">8</span>, <span style=\"color: #00af00; text-decoration-color: #00af00\">128</span>)         │           <span style=\"color: #00af00; text-decoration-color: #00af00\">256</span> │\n",
              "│ (<span style=\"color: #0087ff; text-decoration-color: #0087ff\">LayerNormalization</span>)            │                        │               │\n",
              "├─────────────────────────────────┼────────────────────────┼───────────────┤\n",
              "│ dropout (<span style=\"color: #0087ff; text-decoration-color: #0087ff\">Dropout</span>)               │ (<span style=\"color: #00d7ff; text-decoration-color: #00d7ff\">None</span>, <span style=\"color: #00af00; text-decoration-color: #00af00\">8</span>, <span style=\"color: #00af00; text-decoration-color: #00af00\">128</span>)         │             <span style=\"color: #00af00; text-decoration-color: #00af00\">0</span> │\n",
              "├─────────────────────────────────┼────────────────────────┼───────────────┤\n",
              "│ bidirectional_1 (<span style=\"color: #0087ff; text-decoration-color: #0087ff\">Bidirectional</span>) │ (<span style=\"color: #00d7ff; text-decoration-color: #00d7ff\">None</span>, <span style=\"color: #00af00; text-decoration-color: #00af00\">64</span>)             │        <span style=\"color: #00af00; text-decoration-color: #00af00\">41,216</span> │\n",
              "├─────────────────────────────────┼────────────────────────┼───────────────┤\n",
              "│ batch_normalization             │ (<span style=\"color: #00d7ff; text-decoration-color: #00d7ff\">None</span>, <span style=\"color: #00af00; text-decoration-color: #00af00\">64</span>)             │           <span style=\"color: #00af00; text-decoration-color: #00af00\">256</span> │\n",
              "│ (<span style=\"color: #0087ff; text-decoration-color: #0087ff\">BatchNormalization</span>)            │                        │               │\n",
              "├─────────────────────────────────┼────────────────────────┼───────────────┤\n",
              "│ dense (<span style=\"color: #0087ff; text-decoration-color: #0087ff\">Dense</span>)                   │ (<span style=\"color: #00d7ff; text-decoration-color: #00d7ff\">None</span>, <span style=\"color: #00af00; text-decoration-color: #00af00\">32</span>)             │         <span style=\"color: #00af00; text-decoration-color: #00af00\">2,080</span> │\n",
              "├─────────────────────────────────┼────────────────────────┼───────────────┤\n",
              "│ dropout_1 (<span style=\"color: #0087ff; text-decoration-color: #0087ff\">Dropout</span>)             │ (<span style=\"color: #00d7ff; text-decoration-color: #00d7ff\">None</span>, <span style=\"color: #00af00; text-decoration-color: #00af00\">32</span>)             │             <span style=\"color: #00af00; text-decoration-color: #00af00\">0</span> │\n",
              "├─────────────────────────────────┼────────────────────────┼───────────────┤\n",
              "│ dense_1 (<span style=\"color: #0087ff; text-decoration-color: #0087ff\">Dense</span>)                 │ (<span style=\"color: #00d7ff; text-decoration-color: #00d7ff\">None</span>, <span style=\"color: #00af00; text-decoration-color: #00af00\">1</span>)              │            <span style=\"color: #00af00; text-decoration-color: #00af00\">33</span> │\n",
              "└─────────────────────────────────┴────────────────────────┴───────────────┘\n",
              "</pre>\n"
            ]
          },
          "metadata": {}
        },
        {
          "output_type": "display_data",
          "data": {
            "text/plain": [
              "\u001b[1m Total params: \u001b[0m\u001b[38;5;34m77,633\u001b[0m (303.25 KB)\n"
            ],
            "text/html": [
              "<pre style=\"white-space:pre;overflow-x:auto;line-height:normal;font-family:Menlo,'DejaVu Sans Mono',consolas,'Courier New',monospace\"><span style=\"font-weight: bold\"> Total params: </span><span style=\"color: #00af00; text-decoration-color: #00af00\">77,633</span> (303.25 KB)\n",
              "</pre>\n"
            ]
          },
          "metadata": {}
        },
        {
          "output_type": "display_data",
          "data": {
            "text/plain": [
              "\u001b[1m Trainable params: \u001b[0m\u001b[38;5;34m77,505\u001b[0m (302.75 KB)\n"
            ],
            "text/html": [
              "<pre style=\"white-space:pre;overflow-x:auto;line-height:normal;font-family:Menlo,'DejaVu Sans Mono',consolas,'Courier New',monospace\"><span style=\"font-weight: bold\"> Trainable params: </span><span style=\"color: #00af00; text-decoration-color: #00af00\">77,505</span> (302.75 KB)\n",
              "</pre>\n"
            ]
          },
          "metadata": {}
        },
        {
          "output_type": "display_data",
          "data": {
            "text/plain": [
              "\u001b[1m Non-trainable params: \u001b[0m\u001b[38;5;34m128\u001b[0m (512.00 B)\n"
            ],
            "text/html": [
              "<pre style=\"white-space:pre;overflow-x:auto;line-height:normal;font-family:Menlo,'DejaVu Sans Mono',consolas,'Courier New',monospace\"><span style=\"font-weight: bold\"> Non-trainable params: </span><span style=\"color: #00af00; text-decoration-color: #00af00\">128</span> (512.00 B)\n",
              "</pre>\n"
            ]
          },
          "metadata": {}
        }
      ]
    },
    {
      "cell_type": "code",
      "source": [
        "# ✅ Step 8: Callbacks\n",
        "early_stop = callbacks.EarlyStopping(monitor='val_auc', patience=15, mode='max', restore_best_weights=True)\n",
        "reduce_lr  = callbacks.ReduceLROnPlateau(monitor='val_auc', factor=0.5, patience=5, mode='max')\n",
        "checkpoint = callbacks.ModelCheckpoint('/content/drive/MyDrive/DiabetesPrediction/best_lstm.h5', save_best_only=True, monitor='val_auc', mode='max')\n"
      ],
      "metadata": {
        "id": "T85fbySNQ4FG"
      },
      "execution_count": 8,
      "outputs": []
    },
    {
      "cell_type": "code",
      "source": [
        "# ✅ Step 9: Train model\n",
        "history = model.fit(\n",
        "    X_train_seq, y_train,\n",
        "    validation_split=0.2,\n",
        "    epochs=100,\n",
        "    batch_size=32,\n",
        "    callbacks=[early_stop, reduce_lr, checkpoint],\n",
        "    verbose=2\n",
        ")\n",
        "+"
      ],
      "metadata": {
        "colab": {
          "base_uri": "https://localhost:8080/"
        },
        "id": "QAKmN6wwRHaO",
        "outputId": "5a8ad2da-020d-448f-876b-00a9fb37a47e"
      },
      "execution_count": 9,
      "outputs": [
        {
          "metadata": {
            "tags": null
          },
          "name": "stdout",
          "output_type": "stream",
          "text": [
            "Epoch 1/100\n"
          ]
        },
        {
          "metadata": {
            "tags": null
          },
          "name": "stderr",
          "output_type": "stream",
          "text": [
            "WARNING:absl:You are saving your model as an HDF5 file via `model.save()` or `keras.saving.save_model(model)`. This file format is considered legacy. We recommend using instead the native Keras format, e.g. `model.save('my_model.keras')` or `keras.saving.save_model(model, 'my_model.keras')`. \n"
          ]
        },
        {
          "metadata": {
            "tags": null
          },
          "name": "stdout",
          "output_type": "stream",
          "text": [
            "3507/3507 - 84s - 24ms/step - accuracy: 0.8906 - auc: 0.9652 - loss: 0.2393 - val_accuracy: 0.9040 - val_auc: 0.9754 - val_loss: 0.1973 - learning_rate: 1.0000e-03\n",
            "Epoch 2/100\n"
          ]
        },
        {
          "metadata": {
            "tags": null
          },
          "name": "stderr",
          "output_type": "stream",
          "text": [
            "WARNING:absl:You are saving your model as an HDF5 file via `model.save()` or `keras.saving.save_model(model)`. This file format is considered legacy. We recommend using instead the native Keras format, e.g. `model.save('my_model.keras')` or `keras.saving.save_model(model, 'my_model.keras')`. \n"
          ]
        },
        {
          "metadata": {
            "tags": null
          },
          "name": "stdout",
          "output_type": "stream",
          "text": [
            "3507/3507 - 80s - 23ms/step - accuracy: 0.9038 - auc: 0.9737 - loss: 0.2046 - val_accuracy: 0.9100 - val_auc: 0.9777 - val_loss: 0.1888 - learning_rate: 1.0000e-03\n",
            "Epoch 3/100\n",
            "3507/3507 - 72s - 21ms/step - accuracy: 0.9059 - auc: 0.9753 - loss: 0.1977 - val_accuracy: 0.9084 - val_auc: 0.9769 - val_loss: 0.1914 - learning_rate: 1.0000e-03\n",
            "Epoch 4/100\n"
          ]
        },
        {
          "metadata": {
            "tags": null
          },
          "name": "stderr",
          "output_type": "stream",
          "text": [
            "WARNING:absl:You are saving your model as an HDF5 file via `model.save()` or `keras.saving.save_model(model)`. This file format is considered legacy. We recommend using instead the native Keras format, e.g. `model.save('my_model.keras')` or `keras.saving.save_model(model, 'my_model.keras')`. \n"
          ]
        },
        {
          "metadata": {
            "tags": null
          },
          "name": "stdout",
          "output_type": "stream",
          "text": [
            "3507/3507 - 82s - 23ms/step - accuracy: 0.9079 - auc: 0.9759 - loss: 0.1948 - val_accuracy: 0.9100 - val_auc: 0.9779 - val_loss: 0.1863 - learning_rate: 1.0000e-03\n",
            "Epoch 5/100\n"
          ]
        },
        {
          "metadata": {
            "tags": null
          },
          "name": "stderr",
          "output_type": "stream",
          "text": [
            "WARNING:absl:You are saving your model as an HDF5 file via `model.save()` or `keras.saving.save_model(model)`. This file format is considered legacy. We recommend using instead the native Keras format, e.g. `model.save('my_model.keras')` or `keras.saving.save_model(model, 'my_model.keras')`. \n"
          ]
        },
        {
          "metadata": {
            "tags": null
          },
          "name": "stdout",
          "output_type": "stream",
          "text": [
            "3507/3507 - 75s - 21ms/step - accuracy: 0.9085 - auc: 0.9764 - loss: 0.1922 - val_accuracy: 0.9099 - val_auc: 0.9785 - val_loss: 0.1836 - learning_rate: 1.0000e-03\n",
            "Epoch 6/100\n"
          ]
        },
        {
          "metadata": {
            "tags": null
          },
          "name": "stderr",
          "output_type": "stream",
          "text": [
            "WARNING:absl:You are saving your model as an HDF5 file via `model.save()` or `keras.saving.save_model(model)`. This file format is considered legacy. We recommend using instead the native Keras format, e.g. `model.save('my_model.keras')` or `keras.saving.save_model(model, 'my_model.keras')`. \n"
          ]
        },
        {
          "metadata": {
            "tags": null
          },
          "name": "stdout",
          "output_type": "stream",
          "text": [
            "3507/3507 - 76s - 22ms/step - accuracy: 0.9089 - auc: 0.9769 - loss: 0.1899 - val_accuracy: 0.9121 - val_auc: 0.9787 - val_loss: 0.1821 - learning_rate: 1.0000e-03\n",
            "Epoch 7/100\n"
          ]
        },
        {
          "metadata": {
            "tags": null
          },
          "name": "stderr",
          "output_type": "stream",
          "text": [
            "WARNING:absl:You are saving your model as an HDF5 file via `model.save()` or `keras.saving.save_model(model)`. This file format is considered legacy. We recommend using instead the native Keras format, e.g. `model.save('my_model.keras')` or `keras.saving.save_model(model, 'my_model.keras')`. \n"
          ]
        },
        {
          "metadata": {
            "tags": null
          },
          "name": "stdout",
          "output_type": "stream",
          "text": [
            "3507/3507 - 74s - 21ms/step - accuracy: 0.9096 - auc: 0.9770 - loss: 0.1895 - val_accuracy: 0.9122 - val_auc: 0.9790 - val_loss: 0.1806 - learning_rate: 1.0000e-03\n",
            "Epoch 8/100\n",
            "3507/3507 - 82s - 23ms/step - accuracy: 0.9097 - auc: 0.9772 - loss: 0.1880 - val_accuracy: 0.9119 - val_auc: 0.9789 - val_loss: 0.1817 - learning_rate: 1.0000e-03\n",
            "Epoch 9/100\n"
          ]
        },
        {
          "metadata": {
            "tags": null
          },
          "name": "stderr",
          "output_type": "stream",
          "text": [
            "WARNING:absl:You are saving your model as an HDF5 file via `model.save()` or `keras.saving.save_model(model)`. This file format is considered legacy. We recommend using instead the native Keras format, e.g. `model.save('my_model.keras')` or `keras.saving.save_model(model, 'my_model.keras')`. \n"
          ]
        },
        {
          "metadata": {
            "tags": null
          },
          "name": "stdout",
          "output_type": "stream",
          "text": [
            "3507/3507 - 82s - 23ms/step - accuracy: 0.9095 - auc: 0.9773 - loss: 0.1877 - val_accuracy: 0.9132 - val_auc: 0.9791 - val_loss: 0.1826 - learning_rate: 1.0000e-03\n",
            "Epoch 10/100\n"
          ]
        },
        {
          "metadata": {
            "tags": null
          },
          "name": "stderr",
          "output_type": "stream",
          "text": [
            "WARNING:absl:You are saving your model as an HDF5 file via `model.save()` or `keras.saving.save_model(model)`. This file format is considered legacy. We recommend using instead the native Keras format, e.g. `model.save('my_model.keras')` or `keras.saving.save_model(model, 'my_model.keras')`. \n"
          ]
        },
        {
          "metadata": {
            "tags": null
          },
          "name": "stdout",
          "output_type": "stream",
          "text": [
            "3507/3507 - 75s - 21ms/step - accuracy: 0.9106 - auc: 0.9775 - loss: 0.1871 - val_accuracy: 0.9132 - val_auc: 0.9794 - val_loss: 0.1786 - learning_rate: 1.0000e-03\n",
            "Epoch 11/100\n"
          ]
        },
        {
          "metadata": {
            "tags": null
          },
          "name": "stderr",
          "output_type": "stream",
          "text": [
            "WARNING:absl:You are saving your model as an HDF5 file via `model.save()` or `keras.saving.save_model(model)`. This file format is considered legacy. We recommend using instead the native Keras format, e.g. `model.save('my_model.keras')` or `keras.saving.save_model(model, 'my_model.keras')`. \n"
          ]
        },
        {
          "metadata": {
            "tags": null
          },
          "name": "stdout",
          "output_type": "stream",
          "text": [
            "3507/3507 - 74s - 21ms/step - accuracy: 0.9108 - auc: 0.9777 - loss: 0.1858 - val_accuracy: 0.9137 - val_auc: 0.9796 - val_loss: 0.1778 - learning_rate: 1.0000e-03\n",
            "Epoch 12/100\n",
            "3507/3507 - 73s - 21ms/step - accuracy: 0.9109 - auc: 0.9780 - loss: 0.1848 - val_accuracy: 0.9127 - val_auc: 0.9794 - val_loss: 0.1788 - learning_rate: 1.0000e-03\n",
            "Epoch 13/100\n"
          ]
        },
        {
          "metadata": {
            "tags": null
          },
          "name": "stderr",
          "output_type": "stream",
          "text": [
            "WARNING:absl:You are saving your model as an HDF5 file via `model.save()` or `keras.saving.save_model(model)`. This file format is considered legacy. We recommend using instead the native Keras format, e.g. `model.save('my_model.keras')` or `keras.saving.save_model(model, 'my_model.keras')`. \n"
          ]
        },
        {
          "metadata": {
            "tags": null
          },
          "name": "stdout",
          "output_type": "stream",
          "text": [
            "3507/3507 - 83s - 24ms/step - accuracy: 0.9114 - auc: 0.9782 - loss: 0.1839 - val_accuracy: 0.9157 - val_auc: 0.9799 - val_loss: 0.1771 - learning_rate: 1.0000e-03\n",
            "Epoch 14/100\n",
            "3507/3507 - 72s - 21ms/step - accuracy: 0.9105 - auc: 0.9779 - loss: 0.1848 - val_accuracy: 0.9128 - val_auc: 0.9796 - val_loss: 0.1787 - learning_rate: 1.0000e-03\n",
            "Epoch 15/100\n"
          ]
        },
        {
          "metadata": {
            "tags": null
          },
          "name": "stderr",
          "output_type": "stream",
          "text": [
            "WARNING:absl:You are saving your model as an HDF5 file via `model.save()` or `keras.saving.save_model(model)`. This file format is considered legacy. We recommend using instead the native Keras format, e.g. `model.save('my_model.keras')` or `keras.saving.save_model(model, 'my_model.keras')`. \n"
          ]
        },
        {
          "metadata": {
            "tags": null
          },
          "name": "stdout",
          "output_type": "stream",
          "text": [
            "3507/3507 - 73s - 21ms/step - accuracy: 0.9117 - auc: 0.9785 - loss: 0.1828 - val_accuracy: 0.9153 - val_auc: 0.9803 - val_loss: 0.1755 - learning_rate: 1.0000e-03\n",
            "Epoch 16/100\n",
            "3507/3507 - 73s - 21ms/step - accuracy: 0.9131 - auc: 0.9788 - loss: 0.1819 - val_accuracy: 0.9160 - val_auc: 0.9802 - val_loss: 0.1754 - learning_rate: 1.0000e-03\n",
            "Epoch 17/100\n",
            "3507/3507 - 72s - 21ms/step - accuracy: 0.9129 - auc: 0.9789 - loss: 0.1808 - val_accuracy: 0.9125 - val_auc: 0.9788 - val_loss: 0.1808 - learning_rate: 1.0000e-03\n",
            "Epoch 18/100\n"
          ]
        },
        {
          "metadata": {
            "tags": null
          },
          "name": "stderr",
          "output_type": "stream",
          "text": [
            "WARNING:absl:You are saving your model as an HDF5 file via `model.save()` or `keras.saving.save_model(model)`. This file format is considered legacy. We recommend using instead the native Keras format, e.g. `model.save('my_model.keras')` or `keras.saving.save_model(model, 'my_model.keras')`. \n"
          ]
        },
        {
          "metadata": {
            "tags": null
          },
          "name": "stdout",
          "output_type": "stream",
          "text": [
            "3507/3507 - 73s - 21ms/step - accuracy: 0.9129 - auc: 0.9788 - loss: 0.1817 - val_accuracy: 0.9160 - val_auc: 0.9805 - val_loss: 0.1743 - learning_rate: 1.0000e-03\n",
            "Epoch 19/100\n",
            "3507/3507 - 74s - 21ms/step - accuracy: 0.9133 - auc: 0.9792 - loss: 0.1797 - val_accuracy: 0.9148 - val_auc: 0.9803 - val_loss: 0.1747 - learning_rate: 1.0000e-03\n",
            "Epoch 20/100\n"
          ]
        },
        {
          "metadata": {
            "tags": null
          },
          "name": "stderr",
          "output_type": "stream",
          "text": [
            "WARNING:absl:You are saving your model as an HDF5 file via `model.save()` or `keras.saving.save_model(model)`. This file format is considered legacy. We recommend using instead the native Keras format, e.g. `model.save('my_model.keras')` or `keras.saving.save_model(model, 'my_model.keras')`. \n"
          ]
        },
        {
          "metadata": {
            "tags": null
          },
          "name": "stdout",
          "output_type": "stream",
          "text": [
            "3507/3507 - 80s - 23ms/step - accuracy: 0.9129 - auc: 0.9792 - loss: 0.1796 - val_accuracy: 0.9153 - val_auc: 0.9805 - val_loss: 0.1743 - learning_rate: 1.0000e-03\n",
            "Epoch 21/100\n",
            "3507/3507 - 78s - 22ms/step - accuracy: 0.9133 - auc: 0.9793 - loss: 0.1790 - val_accuracy: 0.9147 - val_auc: 0.9801 - val_loss: 0.1762 - learning_rate: 1.0000e-03\n",
            "Epoch 22/100\n"
          ]
        },
        {
          "metadata": {
            "tags": null
          },
          "name": "stderr",
          "output_type": "stream",
          "text": [
            "WARNING:absl:You are saving your model as an HDF5 file via `model.save()` or `keras.saving.save_model(model)`. This file format is considered legacy. We recommend using instead the native Keras format, e.g. `model.save('my_model.keras')` or `keras.saving.save_model(model, 'my_model.keras')`. \n"
          ]
        },
        {
          "metadata": {
            "tags": null
          },
          "name": "stdout",
          "output_type": "stream",
          "text": [
            "3507/3507 - 73s - 21ms/step - accuracy: 0.9147 - auc: 0.9796 - loss: 0.1779 - val_accuracy: 0.9154 - val_auc: 0.9807 - val_loss: 0.1734 - learning_rate: 1.0000e-03\n",
            "Epoch 23/100\n",
            "3507/3507 - 81s - 23ms/step - accuracy: 0.9144 - auc: 0.9796 - loss: 0.1780 - val_accuracy: 0.9158 - val_auc: 0.9806 - val_loss: 0.1741 - learning_rate: 1.0000e-03\n",
            "Epoch 24/100\n",
            "3507/3507 - 72s - 21ms/step - accuracy: 0.9151 - auc: 0.9800 - loss: 0.1768 - val_accuracy: 0.9147 - val_auc: 0.9801 - val_loss: 0.1755 - learning_rate: 1.0000e-03\n",
            "Epoch 25/100\n"
          ]
        },
        {
          "metadata": {
            "tags": null
          },
          "name": "stderr",
          "output_type": "stream",
          "text": [
            "WARNING:absl:You are saving your model as an HDF5 file via `model.save()` or `keras.saving.save_model(model)`. This file format is considered legacy. We recommend using instead the native Keras format, e.g. `model.save('my_model.keras')` or `keras.saving.save_model(model, 'my_model.keras')`. \n"
          ]
        },
        {
          "metadata": {
            "tags": null
          },
          "name": "stdout",
          "output_type": "stream",
          "text": [
            "3507/3507 - 73s - 21ms/step - accuracy: 0.9151 - auc: 0.9800 - loss: 0.1764 - val_accuracy: 0.9179 - val_auc: 0.9812 - val_loss: 0.1714 - learning_rate: 1.0000e-03\n",
            "Epoch 26/100\n"
          ]
        },
        {
          "metadata": {
            "tags": null
          },
          "name": "stderr",
          "output_type": "stream",
          "text": [
            "WARNING:absl:You are saving your model as an HDF5 file via `model.save()` or `keras.saving.save_model(model)`. This file format is considered legacy. We recommend using instead the native Keras format, e.g. `model.save('my_model.keras')` or `keras.saving.save_model(model, 'my_model.keras')`. \n"
          ]
        },
        {
          "metadata": {
            "tags": null
          },
          "name": "stdout",
          "output_type": "stream",
          "text": [
            "3507/3507 - 75s - 21ms/step - accuracy: 0.9149 - auc: 0.9801 - loss: 0.1763 - val_accuracy: 0.9179 - val_auc: 0.9813 - val_loss: 0.1709 - learning_rate: 1.0000e-03\n",
            "Epoch 27/100\n"
          ]
        },
        {
          "metadata": {
            "tags": null
          },
          "name": "stderr",
          "output_type": "stream",
          "text": [
            "WARNING:absl:You are saving your model as an HDF5 file via `model.save()` or `keras.saving.save_model(model)`. This file format is considered legacy. We recommend using instead the native Keras format, e.g. `model.save('my_model.keras')` or `keras.saving.save_model(model, 'my_model.keras')`. \n"
          ]
        },
        {
          "metadata": {
            "tags": null
          },
          "name": "stdout",
          "output_type": "stream",
          "text": [
            "3507/3507 - 74s - 21ms/step - accuracy: 0.9151 - auc: 0.9803 - loss: 0.1750 - val_accuracy: 0.9178 - val_auc: 0.9814 - val_loss: 0.1711 - learning_rate: 1.0000e-03\n",
            "Epoch 28/100\n"
          ]
        },
        {
          "metadata": {
            "tags": null
          },
          "name": "stderr",
          "output_type": "stream",
          "text": [
            "WARNING:absl:You are saving your model as an HDF5 file via `model.save()` or `keras.saving.save_model(model)`. This file format is considered legacy. We recommend using instead the native Keras format, e.g. `model.save('my_model.keras')` or `keras.saving.save_model(model, 'my_model.keras')`. \n"
          ]
        },
        {
          "metadata": {
            "tags": null
          },
          "name": "stdout",
          "output_type": "stream",
          "text": [
            "3507/3507 - 81s - 23ms/step - accuracy: 0.9162 - auc: 0.9805 - loss: 0.1740 - val_accuracy: 0.9172 - val_auc: 0.9814 - val_loss: 0.1702 - learning_rate: 1.0000e-03\n",
            "Epoch 29/100\n",
            "3507/3507 - 74s - 21ms/step - accuracy: 0.9168 - auc: 0.9807 - loss: 0.1734 - val_accuracy: 0.9160 - val_auc: 0.9809 - val_loss: 0.1734 - learning_rate: 1.0000e-03\n",
            "Epoch 30/100\n"
          ]
        },
        {
          "metadata": {
            "tags": null
          },
          "name": "stderr",
          "output_type": "stream",
          "text": [
            "WARNING:absl:You are saving your model as an HDF5 file via `model.save()` or `keras.saving.save_model(model)`. This file format is considered legacy. We recommend using instead the native Keras format, e.g. `model.save('my_model.keras')` or `keras.saving.save_model(model, 'my_model.keras')`. \n"
          ]
        },
        {
          "metadata": {
            "tags": null
          },
          "name": "stdout",
          "output_type": "stream",
          "text": [
            "3507/3507 - 75s - 21ms/step - accuracy: 0.9161 - auc: 0.9807 - loss: 0.1732 - val_accuracy: 0.9193 - val_auc: 0.9818 - val_loss: 0.1700 - learning_rate: 1.0000e-03\n",
            "Epoch 31/100\n"
          ]
        },
        {
          "metadata": {
            "tags": null
          },
          "name": "stderr",
          "output_type": "stream",
          "text": [
            "WARNING:absl:You are saving your model as an HDF5 file via `model.save()` or `keras.saving.save_model(model)`. This file format is considered legacy. We recommend using instead the native Keras format, e.g. `model.save('my_model.keras')` or `keras.saving.save_model(model, 'my_model.keras')`. \n"
          ]
        },
        {
          "metadata": {
            "tags": null
          },
          "name": "stdout",
          "output_type": "stream",
          "text": [
            "3507/3507 - 80s - 23ms/step - accuracy: 0.9181 - auc: 0.9810 - loss: 0.1722 - val_accuracy: 0.9184 - val_auc: 0.9820 - val_loss: 0.1675 - learning_rate: 1.0000e-03\n",
            "Epoch 32/100\n",
            "3507/3507 - 73s - 21ms/step - accuracy: 0.9172 - auc: 0.9809 - loss: 0.1726 - val_accuracy: 0.9168 - val_auc: 0.9815 - val_loss: 0.1712 - learning_rate: 1.0000e-03\n",
            "Epoch 33/100\n"
          ]
        },
        {
          "metadata": {
            "tags": null
          },
          "name": "stderr",
          "output_type": "stream",
          "text": [
            "WARNING:absl:You are saving your model as an HDF5 file via `model.save()` or `keras.saving.save_model(model)`. This file format is considered legacy. We recommend using instead the native Keras format, e.g. `model.save('my_model.keras')` or `keras.saving.save_model(model, 'my_model.keras')`. \n"
          ]
        },
        {
          "metadata": {
            "tags": null
          },
          "name": "stdout",
          "output_type": "stream",
          "text": [
            "3507/3507 - 82s - 23ms/step - accuracy: 0.9176 - auc: 0.9812 - loss: 0.1713 - val_accuracy: 0.9185 - val_auc: 0.9821 - val_loss: 0.1671 - learning_rate: 1.0000e-03\n",
            "Epoch 34/100\n"
          ]
        },
        {
          "metadata": {
            "tags": null
          },
          "name": "stderr",
          "output_type": "stream",
          "text": [
            "WARNING:absl:You are saving your model as an HDF5 file via `model.save()` or `keras.saving.save_model(model)`. This file format is considered legacy. We recommend using instead the native Keras format, e.g. `model.save('my_model.keras')` or `keras.saving.save_model(model, 'my_model.keras')`. \n"
          ]
        },
        {
          "metadata": {
            "tags": null
          },
          "name": "stdout",
          "output_type": "stream",
          "text": [
            "3507/3507 - 78s - 22ms/step - accuracy: 0.9173 - auc: 0.9810 - loss: 0.1724 - val_accuracy: 0.9196 - val_auc: 0.9823 - val_loss: 0.1662 - learning_rate: 1.0000e-03\n",
            "Epoch 35/100\n"
          ]
        },
        {
          "metadata": {
            "tags": null
          },
          "name": "stderr",
          "output_type": "stream",
          "text": [
            "WARNING:absl:You are saving your model as an HDF5 file via `model.save()` or `keras.saving.save_model(model)`. This file format is considered legacy. We recommend using instead the native Keras format, e.g. `model.save('my_model.keras')` or `keras.saving.save_model(model, 'my_model.keras')`. \n"
          ]
        },
        {
          "metadata": {
            "tags": null
          },
          "name": "stdout",
          "output_type": "stream",
          "text": [
            "3507/3507 - 74s - 21ms/step - accuracy: 0.9182 - auc: 0.9815 - loss: 0.1701 - val_accuracy: 0.9207 - val_auc: 0.9824 - val_loss: 0.1662 - learning_rate: 1.0000e-03\n",
            "Epoch 36/100\n"
          ]
        },
        {
          "metadata": {
            "tags": null
          },
          "name": "stderr",
          "output_type": "stream",
          "text": [
            "WARNING:absl:You are saving your model as an HDF5 file via `model.save()` or `keras.saving.save_model(model)`. This file format is considered legacy. We recommend using instead the native Keras format, e.g. `model.save('my_model.keras')` or `keras.saving.save_model(model, 'my_model.keras')`. \n"
          ]
        },
        {
          "metadata": {
            "tags": null
          },
          "name": "stdout",
          "output_type": "stream",
          "text": [
            "3507/3507 - 73s - 21ms/step - accuracy: 0.9185 - auc: 0.9816 - loss: 0.1694 - val_accuracy: 0.9193 - val_auc: 0.9824 - val_loss: 0.1652 - learning_rate: 1.0000e-03\n",
            "Epoch 37/100\n"
          ]
        },
        {
          "metadata": {
            "tags": null
          },
          "name": "stderr",
          "output_type": "stream",
          "text": [
            "WARNING:absl:You are saving your model as an HDF5 file via `model.save()` or `keras.saving.save_model(model)`. This file format is considered legacy. We recommend using instead the native Keras format, e.g. `model.save('my_model.keras')` or `keras.saving.save_model(model, 'my_model.keras')`. \n"
          ]
        },
        {
          "metadata": {
            "tags": null
          },
          "name": "stdout",
          "output_type": "stream",
          "text": [
            "3507/3507 - 82s - 23ms/step - accuracy: 0.9186 - auc: 0.9817 - loss: 0.1690 - val_accuracy: 0.9193 - val_auc: 0.9825 - val_loss: 0.1651 - learning_rate: 1.0000e-03\n",
            "Epoch 38/100\n",
            "3507/3507 - 81s - 23ms/step - accuracy: 0.9200 - auc: 0.9820 - loss: 0.1679 - val_accuracy: 0.9213 - val_auc: 0.9823 - val_loss: 0.1660 - learning_rate: 1.0000e-03\n",
            "Epoch 39/100\n",
            "3507/3507 - 82s - 23ms/step - accuracy: 0.9200 - auc: 0.9821 - loss: 0.1673 - val_accuracy: 0.9169 - val_auc: 0.9804 - val_loss: 0.1747 - learning_rate: 1.0000e-03\n",
            "Epoch 40/100\n"
          ]
        },
        {
          "metadata": {
            "tags": null
          },
          "name": "stderr",
          "output_type": "stream",
          "text": [
            "WARNING:absl:You are saving your model as an HDF5 file via `model.save()` or `keras.saving.save_model(model)`. This file format is considered legacy. We recommend using instead the native Keras format, e.g. `model.save('my_model.keras')` or `keras.saving.save_model(model, 'my_model.keras')`. \n"
          ]
        },
        {
          "metadata": {
            "tags": null
          },
          "name": "stdout",
          "output_type": "stream",
          "text": [
            "3507/3507 - 72s - 21ms/step - accuracy: 0.9202 - auc: 0.9822 - loss: 0.1668 - val_accuracy: 0.9214 - val_auc: 0.9827 - val_loss: 0.1638 - learning_rate: 1.0000e-03\n",
            "Epoch 41/100\n",
            "3507/3507 - 72s - 21ms/step - accuracy: 0.9195 - auc: 0.9822 - loss: 0.1670 - val_accuracy: 0.9188 - val_auc: 0.9821 - val_loss: 0.1675 - learning_rate: 1.0000e-03\n",
            "Epoch 42/100\n"
          ]
        },
        {
          "metadata": {
            "tags": null
          },
          "name": "stderr",
          "output_type": "stream",
          "text": [
            "WARNING:absl:You are saving your model as an HDF5 file via `model.save()` or `keras.saving.save_model(model)`. This file format is considered legacy. We recommend using instead the native Keras format, e.g. `model.save('my_model.keras')` or `keras.saving.save_model(model, 'my_model.keras')`. \n"
          ]
        },
        {
          "metadata": {
            "tags": null
          },
          "name": "stdout",
          "output_type": "stream",
          "text": [
            "3507/3507 - 73s - 21ms/step - accuracy: 0.9214 - auc: 0.9826 - loss: 0.1655 - val_accuracy: 0.9228 - val_auc: 0.9832 - val_loss: 0.1620 - learning_rate: 1.0000e-03\n",
            "Epoch 43/100\n"
          ]
        },
        {
          "metadata": {
            "tags": null
          },
          "name": "stderr",
          "output_type": "stream",
          "text": [
            "WARNING:absl:You are saving your model as an HDF5 file via `model.save()` or `keras.saving.save_model(model)`. This file format is considered legacy. We recommend using instead the native Keras format, e.g. `model.save('my_model.keras')` or `keras.saving.save_model(model, 'my_model.keras')`. \n"
          ]
        },
        {
          "metadata": {
            "tags": null
          },
          "name": "stdout",
          "output_type": "stream",
          "text": [
            "3507/3507 - 73s - 21ms/step - accuracy: 0.9210 - auc: 0.9826 - loss: 0.1649 - val_accuracy: 0.9221 - val_auc: 0.9834 - val_loss: 0.1608 - learning_rate: 1.0000e-03\n",
            "Epoch 44/100\n",
            "3507/3507 - 73s - 21ms/step - accuracy: 0.9209 - auc: 0.9826 - loss: 0.1655 - val_accuracy: 0.9216 - val_auc: 0.9833 - val_loss: 0.1618 - learning_rate: 1.0000e-03\n",
            "Epoch 45/100\n",
            "3507/3507 - 78s - 22ms/step - accuracy: 0.9215 - auc: 0.9827 - loss: 0.1644 - val_accuracy: 0.9231 - val_auc: 0.9833 - val_loss: 0.1612 - learning_rate: 1.0000e-03\n",
            "Epoch 46/100\n"
          ]
        },
        {
          "metadata": {
            "tags": null
          },
          "name": "stderr",
          "output_type": "stream",
          "text": [
            "WARNING:absl:You are saving your model as an HDF5 file via `model.save()` or `keras.saving.save_model(model)`. This file format is considered legacy. We recommend using instead the native Keras format, e.g. `model.save('my_model.keras')` or `keras.saving.save_model(model, 'my_model.keras')`. \n"
          ]
        },
        {
          "metadata": {
            "tags": null
          },
          "name": "stdout",
          "output_type": "stream",
          "text": [
            "3507/3507 - 80s - 23ms/step - accuracy: 0.9217 - auc: 0.9829 - loss: 0.1641 - val_accuracy: 0.9241 - val_auc: 0.9839 - val_loss: 0.1586 - learning_rate: 1.0000e-03\n",
            "Epoch 47/100\n",
            "3507/3507 - 75s - 21ms/step - accuracy: 0.9223 - auc: 0.9831 - loss: 0.1626 - val_accuracy: 0.9214 - val_auc: 0.9829 - val_loss: 0.1641 - learning_rate: 1.0000e-03\n",
            "Epoch 48/100\n",
            "3507/3507 - 72s - 21ms/step - accuracy: 0.9225 - auc: 0.9834 - loss: 0.1613 - val_accuracy: 0.9238 - val_auc: 0.9837 - val_loss: 0.1595 - learning_rate: 1.0000e-03\n",
            "Epoch 49/100\n"
          ]
        },
        {
          "metadata": {
            "tags": null
          },
          "name": "stderr",
          "output_type": "stream",
          "text": [
            "WARNING:absl:You are saving your model as an HDF5 file via `model.save()` or `keras.saving.save_model(model)`. This file format is considered legacy. We recommend using instead the native Keras format, e.g. `model.save('my_model.keras')` or `keras.saving.save_model(model, 'my_model.keras')`. \n"
          ]
        },
        {
          "metadata": {
            "tags": null
          },
          "name": "stdout",
          "output_type": "stream",
          "text": [
            "3507/3507 - 72s - 21ms/step - accuracy: 0.9225 - auc: 0.9832 - loss: 0.1624 - val_accuracy: 0.9252 - val_auc: 0.9841 - val_loss: 0.1585 - learning_rate: 1.0000e-03\n",
            "Epoch 50/100\n",
            "3507/3507 - 72s - 21ms/step - accuracy: 0.9232 - auc: 0.9835 - loss: 0.1608 - val_accuracy: 0.9226 - val_auc: 0.9835 - val_loss: 0.1611 - learning_rate: 1.0000e-03\n",
            "Epoch 51/100\n",
            "3507/3507 - 73s - 21ms/step - accuracy: 0.9242 - auc: 0.9836 - loss: 0.1607 - val_accuracy: 0.9247 - val_auc: 0.9839 - val_loss: 0.1602 - learning_rate: 1.0000e-03\n",
            "Epoch 52/100\n",
            "3507/3507 - 73s - 21ms/step - accuracy: 0.9237 - auc: 0.9836 - loss: 0.1607 - val_accuracy: 0.9247 - val_auc: 0.9838 - val_loss: 0.1592 - learning_rate: 1.0000e-03\n",
            "Epoch 53/100\n"
          ]
        },
        {
          "metadata": {
            "tags": null
          },
          "name": "stderr",
          "output_type": "stream",
          "text": [
            "WARNING:absl:You are saving your model as an HDF5 file via `model.save()` or `keras.saving.save_model(model)`. This file format is considered legacy. We recommend using instead the native Keras format, e.g. `model.save('my_model.keras')` or `keras.saving.save_model(model, 'my_model.keras')`. \n"
          ]
        },
        {
          "metadata": {
            "tags": null
          },
          "name": "stdout",
          "output_type": "stream",
          "text": [
            "3507/3507 - 74s - 21ms/step - accuracy: 0.9240 - auc: 0.9838 - loss: 0.1598 - val_accuracy: 0.9249 - val_auc: 0.9842 - val_loss: 0.1568 - learning_rate: 1.0000e-03\n",
            "Epoch 54/100\n"
          ]
        },
        {
          "metadata": {
            "tags": null
          },
          "name": "stderr",
          "output_type": "stream",
          "text": [
            "WARNING:absl:You are saving your model as an HDF5 file via `model.save()` or `keras.saving.save_model(model)`. This file format is considered legacy. We recommend using instead the native Keras format, e.g. `model.save('my_model.keras')` or `keras.saving.save_model(model, 'my_model.keras')`. \n"
          ]
        },
        {
          "metadata": {
            "tags": null
          },
          "name": "stdout",
          "output_type": "stream",
          "text": [
            "3507/3507 - 74s - 21ms/step - accuracy: 0.9244 - auc: 0.9839 - loss: 0.1590 - val_accuracy: 0.9269 - val_auc: 0.9845 - val_loss: 0.1564 - learning_rate: 1.0000e-03\n",
            "Epoch 55/100\n",
            "3507/3507 - 82s - 23ms/step - accuracy: 0.9250 - auc: 0.9842 - loss: 0.1581 - val_accuracy: 0.9256 - val_auc: 0.9843 - val_loss: 0.1565 - learning_rate: 1.0000e-03\n",
            "Epoch 56/100\n",
            "3507/3507 - 81s - 23ms/step - accuracy: 0.9250 - auc: 0.9842 - loss: 0.1580 - val_accuracy: 0.9267 - val_auc: 0.9844 - val_loss: 0.1567 - learning_rate: 1.0000e-03\n",
            "Epoch 57/100\n",
            "3507/3507 - 73s - 21ms/step - accuracy: 0.9255 - auc: 0.9842 - loss: 0.1585 - val_accuracy: 0.9259 - val_auc: 0.9838 - val_loss: 0.1590 - learning_rate: 1.0000e-03\n",
            "Epoch 58/100\n"
          ]
        },
        {
          "metadata": {
            "tags": null
          },
          "name": "stderr",
          "output_type": "stream",
          "text": [
            "WARNING:absl:You are saving your model as an HDF5 file via `model.save()` or `keras.saving.save_model(model)`. This file format is considered legacy. We recommend using instead the native Keras format, e.g. `model.save('my_model.keras')` or `keras.saving.save_model(model, 'my_model.keras')`. \n"
          ]
        },
        {
          "metadata": {
            "tags": null
          },
          "name": "stdout",
          "output_type": "stream",
          "text": [
            "3507/3507 - 78s - 22ms/step - accuracy: 0.9253 - auc: 0.9842 - loss: 0.1575 - val_accuracy: 0.9279 - val_auc: 0.9846 - val_loss: 0.1550 - learning_rate: 1.0000e-03\n",
            "Epoch 59/100\n",
            "3507/3507 - 72s - 21ms/step - accuracy: 0.9258 - auc: 0.9843 - loss: 0.1575 - val_accuracy: 0.9262 - val_auc: 0.9846 - val_loss: 0.1553 - learning_rate: 1.0000e-03\n",
            "Epoch 60/100\n"
          ]
        },
        {
          "metadata": {
            "tags": null
          },
          "name": "stderr",
          "output_type": "stream",
          "text": [
            "WARNING:absl:You are saving your model as an HDF5 file via `model.save()` or `keras.saving.save_model(model)`. This file format is considered legacy. We recommend using instead the native Keras format, e.g. `model.save('my_model.keras')` or `keras.saving.save_model(model, 'my_model.keras')`. \n"
          ]
        },
        {
          "metadata": {
            "tags": null
          },
          "name": "stdout",
          "output_type": "stream",
          "text": [
            "3507/3507 - 72s - 21ms/step - accuracy: 0.9272 - auc: 0.9848 - loss: 0.1550 - val_accuracy: 0.9275 - val_auc: 0.9847 - val_loss: 0.1555 - learning_rate: 1.0000e-03\n",
            "Epoch 61/100\n",
            "3507/3507 - 78s - 22ms/step - accuracy: 0.9262 - auc: 0.9846 - loss: 0.1553 - val_accuracy: 0.9269 - val_auc: 0.9847 - val_loss: 0.1552 - learning_rate: 1.0000e-03\n",
            "Epoch 62/100\n"
          ]
        },
        {
          "metadata": {
            "tags": null
          },
          "name": "stderr",
          "output_type": "stream",
          "text": [
            "WARNING:absl:You are saving your model as an HDF5 file via `model.save()` or `keras.saving.save_model(model)`. This file format is considered legacy. We recommend using instead the native Keras format, e.g. `model.save('my_model.keras')` or `keras.saving.save_model(model, 'my_model.keras')`. \n"
          ]
        },
        {
          "metadata": {
            "tags": null
          },
          "name": "stdout",
          "output_type": "stream",
          "text": [
            "3507/3507 - 77s - 22ms/step - accuracy: 0.9266 - auc: 0.9847 - loss: 0.1557 - val_accuracy: 0.9273 - val_auc: 0.9852 - val_loss: 0.1525 - learning_rate: 1.0000e-03\n",
            "Epoch 63/100\n",
            "3507/3507 - 80s - 23ms/step - accuracy: 0.9274 - auc: 0.9849 - loss: 0.1545 - val_accuracy: 0.9282 - val_auc: 0.9851 - val_loss: 0.1528 - learning_rate: 1.0000e-03\n",
            "Epoch 64/100\n",
            "3507/3507 - 77s - 22ms/step - accuracy: 0.9274 - auc: 0.9849 - loss: 0.1546 - val_accuracy: 0.9260 - val_auc: 0.9849 - val_loss: 0.1535 - learning_rate: 1.0000e-03\n",
            "Epoch 65/100\n",
            "3507/3507 - 71s - 20ms/step - accuracy: 0.9277 - auc: 0.9850 - loss: 0.1547 - val_accuracy: 0.9269 - val_auc: 0.9848 - val_loss: 0.1534 - learning_rate: 1.0000e-03\n",
            "Epoch 66/100\n",
            "3507/3507 - 71s - 20ms/step - accuracy: 0.9278 - auc: 0.9851 - loss: 0.1540 - val_accuracy: 0.9255 - val_auc: 0.9846 - val_loss: 0.1549 - learning_rate: 1.0000e-03\n",
            "Epoch 67/100\n",
            "3507/3507 - 72s - 20ms/step - accuracy: 0.9278 - auc: 0.9851 - loss: 0.1535 - val_accuracy: 0.9265 - val_auc: 0.9847 - val_loss: 0.1541 - learning_rate: 1.0000e-03\n",
            "Epoch 68/100\n"
          ]
        },
        {
          "metadata": {
            "tags": null
          },
          "name": "stderr",
          "output_type": "stream",
          "text": [
            "WARNING:absl:You are saving your model as an HDF5 file via `model.save()` or `keras.saving.save_model(model)`. This file format is considered legacy. We recommend using instead the native Keras format, e.g. `model.save('my_model.keras')` or `keras.saving.save_model(model, 'my_model.keras')`. \n"
          ]
        },
        {
          "metadata": {
            "tags": null
          },
          "name": "stdout",
          "output_type": "stream",
          "text": [
            "3507/3507 - 83s - 24ms/step - accuracy: 0.9307 - auc: 0.9861 - loss: 0.1483 - val_accuracy: 0.9291 - val_auc: 0.9858 - val_loss: 0.1495 - learning_rate: 5.0000e-04\n",
            "Epoch 69/100\n"
          ]
        },
        {
          "metadata": {
            "tags": null
          },
          "name": "stderr",
          "output_type": "stream",
          "text": [
            "WARNING:absl:You are saving your model as an HDF5 file via `model.save()` or `keras.saving.save_model(model)`. This file format is considered legacy. We recommend using instead the native Keras format, e.g. `model.save('my_model.keras')` or `keras.saving.save_model(model, 'my_model.keras')`. \n"
          ]
        },
        {
          "metadata": {
            "tags": null
          },
          "name": "stdout",
          "output_type": "stream",
          "text": [
            "3507/3507 - 75s - 21ms/step - accuracy: 0.9323 - auc: 0.9866 - loss: 0.1457 - val_accuracy: 0.9292 - val_auc: 0.9862 - val_loss: 0.1472 - learning_rate: 5.0000e-04\n",
            "Epoch 70/100\n"
          ]
        },
        {
          "metadata": {
            "tags": null
          },
          "name": "stderr",
          "output_type": "stream",
          "text": [
            "WARNING:absl:You are saving your model as an HDF5 file via `model.save()` or `keras.saving.save_model(model)`. This file format is considered legacy. We recommend using instead the native Keras format, e.g. `model.save('my_model.keras')` or `keras.saving.save_model(model, 'my_model.keras')`. \n"
          ]
        },
        {
          "metadata": {
            "tags": null
          },
          "name": "stdout",
          "output_type": "stream",
          "text": [
            "3507/3507 - 73s - 21ms/step - accuracy: 0.9322 - auc: 0.9867 - loss: 0.1448 - val_accuracy: 0.9305 - val_auc: 0.9863 - val_loss: 0.1467 - learning_rate: 5.0000e-04\n",
            "Epoch 71/100\n"
          ]
        },
        {
          "metadata": {
            "tags": null
          },
          "name": "stderr",
          "output_type": "stream",
          "text": [
            "WARNING:absl:You are saving your model as an HDF5 file via `model.save()` or `keras.saving.save_model(model)`. This file format is considered legacy. We recommend using instead the native Keras format, e.g. `model.save('my_model.keras')` or `keras.saving.save_model(model, 'my_model.keras')`. \n"
          ]
        },
        {
          "metadata": {
            "tags": null
          },
          "name": "stdout",
          "output_type": "stream",
          "text": [
            "3507/3507 - 81s - 23ms/step - accuracy: 0.9327 - auc: 0.9868 - loss: 0.1443 - val_accuracy: 0.9318 - val_auc: 0.9864 - val_loss: 0.1459 - learning_rate: 5.0000e-04\n",
            "Epoch 72/100\n",
            "3507/3507 - 71s - 20ms/step - accuracy: 0.9329 - auc: 0.9867 - loss: 0.1448 - val_accuracy: 0.9307 - val_auc: 0.9863 - val_loss: 0.1463 - learning_rate: 5.0000e-04\n",
            "Epoch 73/100\n"
          ]
        },
        {
          "metadata": {
            "tags": null
          },
          "name": "stderr",
          "output_type": "stream",
          "text": [
            "WARNING:absl:You are saving your model as an HDF5 file via `model.save()` or `keras.saving.save_model(model)`. This file format is considered legacy. We recommend using instead the native Keras format, e.g. `model.save('my_model.keras')` or `keras.saving.save_model(model, 'my_model.keras')`. \n"
          ]
        },
        {
          "metadata": {
            "tags": null
          },
          "name": "stdout",
          "output_type": "stream",
          "text": [
            "3507/3507 - 83s - 24ms/step - accuracy: 0.9337 - auc: 0.9869 - loss: 0.1441 - val_accuracy: 0.9318 - val_auc: 0.9867 - val_loss: 0.1444 - learning_rate: 5.0000e-04\n",
            "Epoch 74/100\n",
            "3507/3507 - 72s - 21ms/step - accuracy: 0.9336 - auc: 0.9870 - loss: 0.1433 - val_accuracy: 0.9318 - val_auc: 0.9865 - val_loss: 0.1450 - learning_rate: 5.0000e-04\n",
            "Epoch 75/100\n"
          ]
        },
        {
          "metadata": {
            "tags": null
          },
          "name": "stderr",
          "output_type": "stream",
          "text": [
            "WARNING:absl:You are saving your model as an HDF5 file via `model.save()` or `keras.saving.save_model(model)`. This file format is considered legacy. We recommend using instead the native Keras format, e.g. `model.save('my_model.keras')` or `keras.saving.save_model(model, 'my_model.keras')`. \n"
          ]
        },
        {
          "output_type": "stream",
          "name": "stdout",
          "text": [
            "3507/3507 - 82s - 23ms/step - accuracy: 0.9333 - auc: 0.9869 - loss: 0.1431 - val_accuracy: 0.9322 - val_auc: 0.9867 - val_loss: 0.1439 - learning_rate: 5.0000e-04\n",
            "Epoch 76/100\n",
            "3507/3507 - 82s - 23ms/step - accuracy: 0.9337 - auc: 0.9870 - loss: 0.1429 - val_accuracy: 0.9318 - val_auc: 0.9865 - val_loss: 0.1449 - learning_rate: 5.0000e-04\n",
            "Epoch 77/100\n",
            "3507/3507 - 72s - 21ms/step - accuracy: 0.9344 - auc: 0.9873 - loss: 0.1417 - val_accuracy: 0.9322 - val_auc: 0.9867 - val_loss: 0.1439 - learning_rate: 5.0000e-04\n",
            "Epoch 78/100\n"
          ]
        },
        {
          "output_type": "stream",
          "name": "stderr",
          "text": [
            "WARNING:absl:You are saving your model as an HDF5 file via `model.save()` or `keras.saving.save_model(model)`. This file format is considered legacy. We recommend using instead the native Keras format, e.g. `model.save('my_model.keras')` or `keras.saving.save_model(model, 'my_model.keras')`. \n"
          ]
        },
        {
          "output_type": "stream",
          "name": "stdout",
          "text": [
            "3507/3507 - 73s - 21ms/step - accuracy: 0.9344 - auc: 0.9873 - loss: 0.1419 - val_accuracy: 0.9329 - val_auc: 0.9869 - val_loss: 0.1432 - learning_rate: 5.0000e-04\n",
            "Epoch 79/100\n"
          ]
        },
        {
          "output_type": "stream",
          "name": "stderr",
          "text": [
            "WARNING:absl:You are saving your model as an HDF5 file via `model.save()` or `keras.saving.save_model(model)`. This file format is considered legacy. We recommend using instead the native Keras format, e.g. `model.save('my_model.keras')` or `keras.saving.save_model(model, 'my_model.keras')`. \n"
          ]
        },
        {
          "output_type": "stream",
          "name": "stdout",
          "text": [
            "3507/3507 - 85s - 24ms/step - accuracy: 0.9349 - auc: 0.9875 - loss: 0.1406 - val_accuracy: 0.9339 - val_auc: 0.9871 - val_loss: 0.1419 - learning_rate: 5.0000e-04\n",
            "Epoch 80/100\n",
            "3507/3507 - 72s - 20ms/step - accuracy: 0.9351 - auc: 0.9874 - loss: 0.1415 - val_accuracy: 0.9330 - val_auc: 0.9869 - val_loss: 0.1432 - learning_rate: 5.0000e-04\n",
            "Epoch 81/100\n",
            "3507/3507 - 72s - 21ms/step - accuracy: 0.9344 - auc: 0.9875 - loss: 0.1405 - val_accuracy: 0.9343 - val_auc: 0.9870 - val_loss: 0.1426 - learning_rate: 5.0000e-04\n",
            "Epoch 82/100\n",
            "3507/3507 - 71s - 20ms/step - accuracy: 0.9355 - auc: 0.9876 - loss: 0.1397 - val_accuracy: 0.9329 - val_auc: 0.9868 - val_loss: 0.1437 - learning_rate: 5.0000e-04\n",
            "Epoch 83/100\n"
          ]
        },
        {
          "output_type": "stream",
          "name": "stderr",
          "text": [
            "WARNING:absl:You are saving your model as an HDF5 file via `model.save()` or `keras.saving.save_model(model)`. This file format is considered legacy. We recommend using instead the native Keras format, e.g. `model.save('my_model.keras')` or `keras.saving.save_model(model, 'my_model.keras')`. \n"
          ]
        },
        {
          "output_type": "stream",
          "name": "stdout",
          "text": [
            "3507/3507 - 72s - 21ms/step - accuracy: 0.9353 - auc: 0.9875 - loss: 0.1407 - val_accuracy: 0.9351 - val_auc: 0.9871 - val_loss: 0.1423 - learning_rate: 5.0000e-04\n",
            "Epoch 84/100\n",
            "3507/3507 - 72s - 20ms/step - accuracy: 0.9352 - auc: 0.9877 - loss: 0.1399 - val_accuracy: 0.9344 - val_auc: 0.9870 - val_loss: 0.1429 - learning_rate: 5.0000e-04\n",
            "Epoch 85/100\n"
          ]
        },
        {
          "output_type": "stream",
          "name": "stderr",
          "text": [
            "WARNING:absl:You are saving your model as an HDF5 file via `model.save()` or `keras.saving.save_model(model)`. This file format is considered legacy. We recommend using instead the native Keras format, e.g. `model.save('my_model.keras')` or `keras.saving.save_model(model, 'my_model.keras')`. \n"
          ]
        },
        {
          "output_type": "stream",
          "name": "stdout",
          "text": [
            "3507/3507 - 83s - 24ms/step - accuracy: 0.9376 - auc: 0.9883 - loss: 0.1361 - val_accuracy: 0.9356 - val_auc: 0.9874 - val_loss: 0.1406 - learning_rate: 2.5000e-04\n",
            "Epoch 86/100\n",
            "3507/3507 - 81s - 23ms/step - accuracy: 0.9377 - auc: 0.9884 - loss: 0.1353 - val_accuracy: 0.9356 - val_auc: 0.9874 - val_loss: 0.1404 - learning_rate: 2.5000e-04\n",
            "Epoch 87/100\n"
          ]
        },
        {
          "output_type": "stream",
          "name": "stderr",
          "text": [
            "WARNING:absl:You are saving your model as an HDF5 file via `model.save()` or `keras.saving.save_model(model)`. This file format is considered legacy. We recommend using instead the native Keras format, e.g. `model.save('my_model.keras')` or `keras.saving.save_model(model, 'my_model.keras')`. \n"
          ]
        },
        {
          "output_type": "stream",
          "name": "stdout",
          "text": [
            "3507/3507 - 73s - 21ms/step - accuracy: 0.9385 - auc: 0.9884 - loss: 0.1350 - val_accuracy: 0.9352 - val_auc: 0.9875 - val_loss: 0.1401 - learning_rate: 2.5000e-04\n",
            "Epoch 88/100\n",
            "3507/3507 - 72s - 20ms/step - accuracy: 0.9379 - auc: 0.9883 - loss: 0.1350 - val_accuracy: 0.9350 - val_auc: 0.9875 - val_loss: 0.1400 - learning_rate: 2.5000e-04\n",
            "Epoch 89/100\n",
            "3507/3507 - 71s - 20ms/step - accuracy: 0.9385 - auc: 0.9884 - loss: 0.1347 - val_accuracy: 0.9349 - val_auc: 0.9874 - val_loss: 0.1401 - learning_rate: 2.5000e-04\n",
            "Epoch 90/100\n"
          ]
        },
        {
          "output_type": "stream",
          "name": "stderr",
          "text": [
            "WARNING:absl:You are saving your model as an HDF5 file via `model.save()` or `keras.saving.save_model(model)`. This file format is considered legacy. We recommend using instead the native Keras format, e.g. `model.save('my_model.keras')` or `keras.saving.save_model(model, 'my_model.keras')`. \n"
          ]
        },
        {
          "output_type": "stream",
          "name": "stdout",
          "text": [
            "3507/3507 - 82s - 23ms/step - accuracy: 0.9391 - auc: 0.9887 - loss: 0.1337 - val_accuracy: 0.9365 - val_auc: 0.9876 - val_loss: 0.1396 - learning_rate: 2.5000e-04\n",
            "Epoch 91/100\n",
            "3507/3507 - 83s - 24ms/step - accuracy: 0.9382 - auc: 0.9885 - loss: 0.1347 - val_accuracy: 0.9361 - val_auc: 0.9875 - val_loss: 0.1395 - learning_rate: 2.5000e-04\n",
            "Epoch 92/100\n",
            "3507/3507 - 82s - 23ms/step - accuracy: 0.9383 - auc: 0.9886 - loss: 0.1338 - val_accuracy: 0.9356 - val_auc: 0.9876 - val_loss: 0.1390 - learning_rate: 2.5000e-04\n",
            "Epoch 93/100\n",
            "3507/3507 - 83s - 24ms/step - accuracy: 0.9391 - auc: 0.9886 - loss: 0.1341 - val_accuracy: 0.9357 - val_auc: 0.9874 - val_loss: 0.1405 - learning_rate: 2.5000e-04\n",
            "Epoch 94/100\n",
            "3507/3507 - 72s - 20ms/step - accuracy: 0.9395 - auc: 0.9887 - loss: 0.1335 - val_accuracy: 0.9366 - val_auc: 0.9876 - val_loss: 0.1394 - learning_rate: 2.5000e-04\n",
            "Epoch 95/100\n"
          ]
        },
        {
          "output_type": "stream",
          "name": "stderr",
          "text": [
            "WARNING:absl:You are saving your model as an HDF5 file via `model.save()` or `keras.saving.save_model(model)`. This file format is considered legacy. We recommend using instead the native Keras format, e.g. `model.save('my_model.keras')` or `keras.saving.save_model(model, 'my_model.keras')`. \n"
          ]
        },
        {
          "output_type": "stream",
          "name": "stdout",
          "text": [
            "3507/3507 - 73s - 21ms/step - accuracy: 0.9397 - auc: 0.9889 - loss: 0.1321 - val_accuracy: 0.9365 - val_auc: 0.9879 - val_loss: 0.1372 - learning_rate: 2.5000e-04\n",
            "Epoch 96/100\n"
          ]
        },
        {
          "output_type": "stream",
          "name": "stderr",
          "text": [
            "WARNING:absl:You are saving your model as an HDF5 file via `model.save()` or `keras.saving.save_model(model)`. This file format is considered legacy. We recommend using instead the native Keras format, e.g. `model.save('my_model.keras')` or `keras.saving.save_model(model, 'my_model.keras')`. \n"
          ]
        },
        {
          "output_type": "stream",
          "name": "stdout",
          "text": [
            "3507/3507 - 81s - 23ms/step - accuracy: 0.9395 - auc: 0.9890 - loss: 0.1318 - val_accuracy: 0.9365 - val_auc: 0.9880 - val_loss: 0.1377 - learning_rate: 2.5000e-04\n",
            "Epoch 97/100\n",
            "3507/3507 - 81s - 23ms/step - accuracy: 0.9394 - auc: 0.9888 - loss: 0.1332 - val_accuracy: 0.9364 - val_auc: 0.9877 - val_loss: 0.1387 - learning_rate: 2.5000e-04\n",
            "Epoch 98/100\n",
            "3507/3507 - 71s - 20ms/step - accuracy: 0.9388 - auc: 0.9889 - loss: 0.1325 - val_accuracy: 0.9360 - val_auc: 0.9879 - val_loss: 0.1384 - learning_rate: 2.5000e-04\n",
            "Epoch 99/100\n",
            "3507/3507 - 72s - 21ms/step - accuracy: 0.9397 - auc: 0.9890 - loss: 0.1318 - val_accuracy: 0.9359 - val_auc: 0.9878 - val_loss: 0.1386 - learning_rate: 2.5000e-04\n",
            "Epoch 100/100\n"
          ]
        },
        {
          "output_type": "stream",
          "name": "stderr",
          "text": [
            "WARNING:absl:You are saving your model as an HDF5 file via `model.save()` or `keras.saving.save_model(model)`. This file format is considered legacy. We recommend using instead the native Keras format, e.g. `model.save('my_model.keras')` or `keras.saving.save_model(model, 'my_model.keras')`. \n"
          ]
        },
        {
          "output_type": "stream",
          "name": "stdout",
          "text": [
            "3507/3507 - 72s - 20ms/step - accuracy: 0.9402 - auc: 0.9889 - loss: 0.1319 - val_accuracy: 0.9381 - val_auc: 0.9880 - val_loss: 0.1365 - learning_rate: 2.5000e-04\n"
          ]
        }
      ]
    },
    {
      "cell_type": "code",
      "source": [
        "# ✅ Step 10: Advanced Training Visualization\n",
        "\n",
        "import matplotlib.pyplot as plt\n",
        "import numpy as np\n",
        "import os\n",
        "\n",
        "# Create a save path (optional)\n",
        "save_dir = \"/content/drive/MyDrive/DL_Project/plots\"\n",
        "os.makedirs(save_dir, exist_ok=True)\n",
        "\n",
        "# Helper function to plot any metric\n",
        "def plot_metric(metric_name, history, ax):\n",
        "    train_metric = history.history.get(metric_name)\n",
        "    val_metric = history.history.get(f'val_{metric_name}')\n",
        "\n",
        "    if train_metric and val_metric:\n",
        "        ax.plot(train_metric, label=f'Train {metric_name.capitalize()}', linewidth=2)\n",
        "        ax.plot(val_metric, label=f'Val {metric_name.capitalize()}', linewidth=2, linestyle='--')\n",
        "        ax.set_title(f'{metric_name.upper()} Curve', fontsize=12, fontweight='bold')\n",
        "        ax.set_xlabel('Epochs')\n",
        "        ax.set_ylabel(metric_name.capitalize())\n",
        "        ax.grid(True, linestyle='--', alpha=0.6)\n",
        "        ax.legend()\n",
        "        # Annotate best validation metric\n",
        "        best_epoch = np.argmax(val_metric) if metric_name != 'loss' else np.argmin(val_metric)\n",
        "        ax.axvline(best_epoch, color='gray', linestyle=':', alpha=0.7)\n",
        "        ax.text(best_epoch, val_metric[best_epoch], f'  Best: {val_metric[best_epoch]:.3f}',\n",
        "                color='black', fontsize=9, verticalalignment='bottom')\n",
        "    else:\n",
        "        ax.text(0.5, 0.5, f\"{metric_name} not found in history\",\n",
        "                horizontalalignment='center', verticalalignment='center', transform=ax.transAxes)\n",
        "\n",
        "# Create subplots\n",
        "fig, axs = plt.subplots(1, 3, figsize=(18, 5))\n",
        "\n",
        "# Plot Accuracy, AUC, and Loss\n",
        "plot_metric('accuracy', history, axs[0])\n",
        "plot_metric('auc', history, axs[1])\n",
        "plot_metric('loss', history, axs[2])\n",
        "\n",
        "plt.suptitle('Training Progress of LSTM Diabetes Model', fontsize=14, fontweight='bold')\n",
        "plt.tight_layout(rect=[0, 0, 1, 0.96])\n",
        "plt.show()\n",
        "\n",
        "# Optionally save the figure\n",
        "fig.savefig(os.path.join(save_dir, \"training_curves.png\"), dpi=300)\n",
        "print(f\"✅ Training plots saved at: {os.path.join(save_dir, 'training_curves.png')}\")\n"
      ],
      "metadata": {
        "colab": {
          "base_uri": "https://localhost:8080/",
          "height": 464
        },
        "id": "WvLNfn7JRJYb",
        "outputId": "4d55e33b-0d9c-4d91-fc65-25c599d9dc94"
      },
      "execution_count": 13,
      "outputs": [
        {
          "output_type": "display_data",
          "data": {
            "text/plain": [
              "<Figure size 1800x500 with 3 Axes>"
            ],
            "image/png": "[encoded data removed]"
          },
          "metadata": {}
        },
        {
          "output_type": "stream",
          "name": "stdout",
          "text": [
            "✅ Training plots saved at: /content/drive/MyDrive/DL_Project/plots/training_curves.png\n"
          ]
        }
      ]
    },
    {
      "cell_type": "code",
      "source": [
        "# ✅ Step 11: Advanced Model Evaluation and Visualization\n",
        "import matplotlib.pyplot as plt\n",
        "import seaborn as sns\n",
        "from sklearn.metrics import (\n",
        "    accuracy_score, precision_score, recall_score, f1_score, roc_auc_score,\n",
        "    confusion_matrix, roc_curve, precision_recall_curve, classification_report\n",
        ")\n",
        "import numpy as np\n",
        "import os\n",
        "\n",
        "# Make predictions\n",
        "y_prob = model.predict(X_test_seq).ravel()\n",
        "y_pred = (y_prob >= 0.5).astype(int)\n",
        "\n",
        "# 📊 Compute Metrics\n",
        "acc = accuracy_score(y_test, y_pred)\n",
        "prec = precision_score(y_test, y_pred)\n",
        "rec = recall_score(y_test, y_pred)\n",
        "f1 = f1_score(y_test, y_pred)\n",
        "auc = roc_auc_score(y_test, y_prob)\n",
        "\n",
        "print(\"===== Classification Report =====\")\n",
        "print(classification_report(y_test, y_pred))\n",
        "print(f\"✅ Accuracy:  {acc:.4f}\")\n",
        "print(f\"✅ Precision: {prec:.4f}\")\n",
        "print(f\"✅ Recall:    {rec:.4f}\")\n",
        "print(f\"✅ F1-Score:  {f1:.4f}\")\n",
        "print(f\"✅ AUC:       {auc:.4f}\")\n",
        "\n",
        "# 📁 Save directory for plots\n",
        "save_dir = \"/content/drive/MyDrive/DL_Project/plots\"\n",
        "os.makedirs(save_dir, exist_ok=True)\n",
        "\n",
        "# 🎯 Confusion Matrix\n",
        "cm = confusion_matrix(y_test, y_pred)\n",
        "plt.figure(figsize=(6,5))\n",
        "sns.heatmap(cm, annot=True, fmt='d', cmap='Blues', cbar=False)\n",
        "plt.title(\"Confusion Matrix\", fontsize=13, fontweight='bold')\n",
        "plt.xlabel(\"Predicted Label\")\n",
        "plt.ylabel(\"True Label\")\n",
        "plt.savefig(os.path.join(save_dir, \"confusion_matrix.png\"), dpi=300)\n",
        "plt.show()\n",
        "\n",
        "# 📈 ROC Curve\n",
        "fpr, tpr, _ = roc_curve(y_test, y_prob)\n",
        "plt.figure(figsize=(6,5))\n",
        "plt.plot(fpr, tpr, linewidth=2, label=f'AUC = {auc:.3f}')\n",
        "plt.plot([0, 1], [0, 1], 'k--', label='Random Guess')\n",
        "plt.xlabel('False Positive Rate')\n",
        "plt.ylabel('True Positive Rate')\n",
        "plt.title('Receiver Operating Characteristic (ROC)', fontweight='bold')\n",
        "plt.legend()\n",
        "plt.grid(True, linestyle='--', alpha=0.6)\n",
        "plt.savefig(os.path.join(save_dir, \"roc_curve.png\"), dpi=300)\n",
        "plt.show()\n",
        "\n",
        "# 📉 Precision–Recall Curve\n",
        "precision, recall, thresholds = precision_recall_curve(y_test, y_prob)\n",
        "plt.figure(figsize=(6,5))\n",
        "plt.plot(recall, precision, linewidth=2, color='purple')\n",
        "plt.xlabel('Recall')\n",
        "plt.ylabel('Precision')\n",
        "plt.title('Precision–Recall Curve', fontweight='bold')\n",
        "plt.grid(True, linestyle='--', alpha=0.6)\n",
        "plt.savefig(os.path.join(save_dir, \"precision_recall_curve.png\"), dpi=300)\n",
        "plt.show()\n",
        "\n",
        "print(\"✅ Evaluation plots saved in:\", save_dir)\n"
      ],
      "metadata": {
        "colab": {
          "base_uri": "https://localhost:8080/",
          "height": 1000
        },
        "id": "TRWYY0TqRMb0",
        "outputId": "c25fe475-1c2d-4f42-81b0-4c2fbea1ced3"
      },
      "execution_count": 17,
      "outputs": [
        {
          "output_type": "stream",
          "name": "stdout",
          "text": [
            "\u001b[1m1096/1096\u001b[0m \u001b[32m━━━━━━━━━━━━━━━━━━━━\u001b[0m\u001b[37m\u001b[0m \u001b[1m7s\u001b[0m 7ms/step\n",
            "===== Classification Report =====\n",
            "              precision    recall  f1-score   support\n",
            "\n",
            "           0       0.97      0.90      0.93     17533\n",
            "           1       0.91      0.97      0.94     17533\n",
            "\n",
            "    accuracy                           0.94     35066\n",
            "   macro avg       0.94      0.94      0.94     35066\n",
            "weighted avg       0.94      0.94      0.94     35066\n",
            "\n",
            "✅ Accuracy:  0.9363\n",
            "✅ Precision: 0.9067\n",
            "✅ Recall:    0.9727\n",
            "✅ F1-Score:  0.9385\n",
            "✅ AUC:       0.9878\n"
          ]
        },
        {
          "output_type": "display_data",
          "data": {
            "text/plain": [
              "<Figure size 600x500 with 1 Axes>"
            ],
            "image/png": "[encoded data removed]"
          },
          "metadata": {}
        },
        {
          "output_type": "display_data",
          "data": {
            "text/plain": [
              "<Figure size 600x500 with 1 Axes>"
            ],
            "image/png": "[encoded data removed]"
          },
          "metadata": {}
        },
        {
          "output_type": "display_data",
          "data": {
            "text/plain": [
              "<Figure size 600x500 with 1 Axes>"
            ],
            "image/png": "[encoded data removed]"
          },
          "metadata": {}
        },
        {
          "output_type": "stream",
          "name": "stdout",
          "text": [
            "✅ Evaluation plots saved in: /content/drive/MyDrive/DL_Project/plots\n"
          ]
        }
      ]
    },
    {
      "cell_type": "code",
      "source": [
        "# ✅ Step 12: Save final model\n",
        "model.save(\"/content/drive/MyDrive/DiabetesPrediction/final_LSTM_model.h5\")\n",
        "print(\"Model saved to Drive ✅\")\n"
      ],
      "metadata": {
        "colab": {
          "base_uri": "https://localhost:8080/"
        },
        "id": "cZFjW7eiRNR7",
        "outputId": "4bd72972-1960-49cb-c942-f9e3a8ed50e6"
      },
      "execution_count": 12,
      "outputs": [
        {
          "output_type": "stream",
          "name": "stderr",
          "text": [
            "WARNING:absl:You are saving your model as an HDF5 file via `model.save()` or `keras.saving.save_model(model)`. This file format is considered legacy. We recommend using instead the native Keras format, e.g. `model.save('my_model.keras')` or `keras.saving.save_model(model, 'my_model.keras')`. \n"
          ]
        },
        {
          "output_type": "stream",
          "name": "stdout",
          "text": [
            "Model saved to Drive ✅\n"
          ]
        }
      ]
    }
  ],
  "metadata": {
    "colab": {
      "name": "Welcome To Colab",
      "provenance": [],
      "include_colab_link": true
    },
    "kernelspec": {
      "display_name": "Python 3",
      "name": "python3"
    }
  },
  "nbformat": 4,
  "nbformat_minor": 0
}