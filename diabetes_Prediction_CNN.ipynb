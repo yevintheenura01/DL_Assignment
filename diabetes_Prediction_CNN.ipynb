{
  "cells": [
    {
      "cell_type": "markdown",
      "metadata": {
        "id": "view-in-github",
        "colab_type": "text"
      },
      "source": [
        "<a href=\"https://colab.research.google.com/github/yevintheenura01/DL_Assignment/blob/Manoj/diabetes_Prediction_CNN.ipynb\" target=\"_parent\"><img src=\"https://colab.research.google.com/assets/colab-badge.svg\" alt=\"Open In Colab\"/></a>"
      ]
    },
    {
      "cell_type": "code",
      "execution_count": null,
      "metadata": {
        "colab": {
          "base_uri": "https://localhost:8080/"
        },
        "id": "Dd_31lBHzjg2",
        "outputId": "645fda58-df6c-452c-aec4-0362cc900d36"
      },
      "outputs": [
        {
          "name": "stdout",
          "output_type": "stream",
          "text": [
            "Using Colab cache for faster access to the 'diabetes-prediction-dataset' dataset.\n",
            "Path to dataset files: /kaggle/input/diabetes-prediction-dataset\n"
          ]
        }
      ],
      "source": [
        "# Colab cell 1: download dataset using kagglehub (your snippet)\n",
        "import os\n",
        "try:\n",
        "    import kagglehub\n",
        "    path = kagglehub.dataset_download(\"iammustafatz/diabetes-prediction-dataset\")\n",
        "    print(\"Path to dataset files:\", path)\n",
        "except Exception as e:\n",
        "    print(\"kagglehub failed or not available:\", e)\n",
        "    print(\"Trying kaggle CLI fallback (ensure kaggle API token is configured in Colab)...\")\n",
        "    # Fallback: try kaggle CLI (user must upload kaggle.json or set token)\n",
        "    try:\n",
        "        !kaggle datasets download -d iammustafatz/diabetes-prediction-dataset -q\n",
        "        !unzip -q -o iammustafatz-diabetes-prediction-dataset.zip -d dataset_files\n",
        "        path = \"dataset_files\"\n",
        "        print(\"Downloaded and unzipped into:\", path)\n",
        "    except Exception as e2:\n",
        "        print(\"Fallback failed:\", e2)\n",
        "        raise RuntimeError(\"Dataset download failed. Upload kaggle.json to /root/.kaggle/ or provide dataset manually.\")\n"
      ]
    },
    {
      "cell_type": "code",
      "execution_count": null,
      "metadata": {
        "colab": {
          "base_uri": "https://localhost:8080/"
        },
        "id": "ZbYjHnBK0QFL",
        "outputId": "b4b6eeda-27af-4058-9d42-a20816dcadf4"
      },
      "outputs": [
        {
          "name": "stdout",
          "output_type": "stream",
          "text": [
            "Files in working dir / dataset_files (if present):\n",
            "ls: cannot access 'dataset_files': No such file or directory\n",
            "total 16\n",
            "drwxr-xr-x 1 root root 4096 Oct  8 13:53 .\n",
            "drwxr-xr-x 1 root root 4096 Oct 10 09:02 ..\n",
            "drwxr-xr-x 4 root root 4096 Oct  8 13:52 .config\n",
            "drwxr-xr-x 1 root root 4096 Oct  8 13:53 sample_data\n"
          ]
        }
      ],
      "source": [
        "# Colab cell 2: list files in dataset folder\n",
        "import os\n",
        "for root, dirs, files in os.walk('.', topdown=True):\n",
        "    if 'dataset_files' in root or 'iammustafatz' in root or root == './':\n",
        "        pass\n",
        "# Try common places\n",
        "print(\"Files in working dir / dataset_files (if present):\")\n",
        "!ls -la dataset_files || true\n",
        "!ls -la || true\n",
        "\n"
      ]
    },
    {
      "cell_type": "code",
      "execution_count": null,
      "metadata": {
        "colab": {
          "base_uri": "https://localhost:8080/",
          "height": 307
        },
        "id": "8Zfp_zNY0b_z",
        "outputId": "cb897604-96cc-432c-f8cd-7a8faf357548"
      },
      "outputs": [
        {
          "name": "stdout",
          "output_type": "stream",
          "text": [
            "CSV candidates found: ['sample_data/mnist_test.csv', 'sample_data/california_housing_test.csv', 'sample_data/mnist_train_small.csv', 'sample_data/california_housing_train.csv']\n",
            "Using CSV: sample_data/mnist_test.csv\n",
            "Shape: (9999, 785)\n"
          ]
        },
        {
          "data": {
            "application/vnd.google.colaboratory.intrinsic+json": {
              "type": "dataframe",
              "variable_name": "df"
            },
            "text/html": [
              "\n",
              "  <div id=\"df-3ba8adc9-c482-4b1b-bd6f-971d4852ef3c\" class=\"colab-df-container\">\n",
              "    <div>\n",
              "<style scoped>\n",
              "    .dataframe tbody tr th:only-of-type {\n",
              "        vertical-align: middle;\n",
              "    }\n",
              "\n",
              "    .dataframe tbody tr th {\n",
              "        vertical-align: top;\n",
              "    }\n",
              "\n",
              "    .dataframe thead th {\n",
              "        text-align: right;\n",
              "    }\n",
              "</style>\n",
              "<table border=\"1\" class=\"dataframe\">\n",
              "  <thead>\n",
              "    <tr style=\"text-align: right;\">\n",
              "      <th></th>\n",
              "      <th>7</th>\n",
              "      <th>0</th>\n",
              "      <th>0.1</th>\n",
              "      <th>0.2</th>\n",
              "      <th>0.3</th>\n",
              "      <th>0.4</th>\n",
              "      <th>0.5</th>\n",
              "      <th>0.6</th>\n",
              "      <th>0.7</th>\n",
              "      <th>0.8</th>\n",
              "      <th>...</th>\n",
              "      <th>0.658</th>\n",
              "      <th>0.659</th>\n",
              "      <th>0.660</th>\n",
              "      <th>0.661</th>\n",
              "      <th>0.662</th>\n",
              "      <th>0.663</th>\n",
              "      <th>0.664</th>\n",
              "      <th>0.665</th>\n",
              "      <th>0.666</th>\n",
              "      <th>0.667</th>\n",
              "    </tr>\n",
              "  </thead>\n",
              "  <tbody>\n",
              "    <tr>\n",
              "      <th>0</th>\n",
              "      <td>2</td>\n",
              "      <td>0</td>\n",
              "      <td>0</td>\n",
              "      <td>0</td>\n",
              "      <td>0</td>\n",
              "      <td>0</td>\n",
              "      <td>0</td>\n",
              "      <td>0</td>\n",
              "      <td>0</td>\n",
              "      <td>0</td>\n",
              "      <td>...</td>\n",
              "      <td>0</td>\n",
              "      <td>0</td>\n",
              "      <td>0</td>\n",
              "      <td>0</td>\n",
              "      <td>0</td>\n",
              "      <td>0</td>\n",
              "      <td>0</td>\n",
              "      <td>0</td>\n",
              "      <td>0</td>\n",
              "      <td>0</td>\n",
              "    </tr>\n",
              "    <tr>\n",
              "      <th>1</th>\n",
              "      <td>1</td>\n",
              "      <td>0</td>\n",
              "      <td>0</td>\n",
              "      <td>0</td>\n",
              "      <td>0</td>\n",
              "      <td>0</td>\n",
              "      <td>0</td>\n",
              "      <td>0</td>\n",
              "      <td>0</td>\n",
              "      <td>0</td>\n",
              "      <td>...</td>\n",
              "      <td>0</td>\n",
              "      <td>0</td>\n",
              "      <td>0</td>\n",
              "      <td>0</td>\n",
              "      <td>0</td>\n",
              "      <td>0</td>\n",
              "      <td>0</td>\n",
              "      <td>0</td>\n",
              "      <td>0</td>\n",
              "      <td>0</td>\n",
              "    </tr>\n",
              "    <tr>\n",
              "      <th>2</th>\n",
              "      <td>0</td>\n",
              "      <td>0</td>\n",
              "      <td>0</td>\n",
              "      <td>0</td>\n",
              "      <td>0</td>\n",
              "      <td>0</td>\n",
              "      <td>0</td>\n",
              "      <td>0</td>\n",
              "      <td>0</td>\n",
              "      <td>0</td>\n",
              "      <td>...</td>\n",
              "      <td>0</td>\n",
              "      <td>0</td>\n",
              "      <td>0</td>\n",
              "      <td>0</td>\n",
              "      <td>0</td>\n",
              "      <td>0</td>\n",
              "      <td>0</td>\n",
              "      <td>0</td>\n",
              "      <td>0</td>\n",
              "      <td>0</td>\n",
              "    </tr>\n",
              "    <tr>\n",
              "      <th>3</th>\n",
              "      <td>4</td>\n",
              "      <td>0</td>\n",
              "      <td>0</td>\n",
              "      <td>0</td>\n",
              "      <td>0</td>\n",
              "      <td>0</td>\n",
              "      <td>0</td>\n",
              "      <td>0</td>\n",
              "      <td>0</td>\n",
              "      <td>0</td>\n",
              "      <td>...</td>\n",
              "      <td>0</td>\n",
              "      <td>0</td>\n",
              "      <td>0</td>\n",
              "      <td>0</td>\n",
              "      <td>0</td>\n",
              "      <td>0</td>\n",
              "      <td>0</td>\n",
              "      <td>0</td>\n",
              "      <td>0</td>\n",
              "      <td>0</td>\n",
              "    </tr>\n",
              "    <tr>\n",
              "      <th>4</th>\n",
              "      <td>1</td>\n",
              "      <td>0</td>\n",
              "      <td>0</td>\n",
              "      <td>0</td>\n",
              "      <td>0</td>\n",
              "      <td>0</td>\n",
              "      <td>0</td>\n",
              "      <td>0</td>\n",
              "      <td>0</td>\n",
              "      <td>0</td>\n",
              "      <td>...</td>\n",
              "      <td>0</td>\n",
              "      <td>0</td>\n",
              "      <td>0</td>\n",
              "      <td>0</td>\n",
              "      <td>0</td>\n",
              "      <td>0</td>\n",
              "      <td>0</td>\n",
              "      <td>0</td>\n",
              "      <td>0</td>\n",
              "      <td>0</td>\n",
              "    </tr>\n",
              "  </tbody>\n",
              "</table>\n",
              "<p>5 rows × 785 columns</p>\n",
              "</div>\n",
              "    <div class=\"colab-df-buttons\">\n",
              "\n",
              "  <div class=\"colab-df-container\">\n",
              "    <button class=\"colab-df-convert\" onclick=\"convertToInteractive('df-3ba8adc9-c482-4b1b-bd6f-971d4852ef3c')\"\n",
              "            title=\"Convert this dataframe to an interactive table.\"\n",
              "            style=\"display:none;\">\n",
              "\n",
              "  <svg xmlns=\"http://www.w3.org/2000/svg\" height=\"24px\" viewBox=\"0 -960 960 960\">\n",
              "    <path d=\"M120-120v-720h720v720H120Zm60-500h600v-160H180v160Zm220 220h160v-160H400v160Zm0 220h160v-160H400v160ZM180-400h160v-160H180v160Zm440 0h160v-160H620v160ZM180-180h160v-160H180v160Zm440 0h160v-160H620v160Z\"/>\n",
              "  </svg>\n",
              "    </button>\n",
              "\n",
              "  <style>\n",
              "    .colab-df-container {\n",
              "      display:flex;\n",
              "      gap: 12px;\n",
              "    }\n",
              "\n",
              "    .colab-df-convert {\n",
              "      background-color: #E8F0FE;\n",
              "      border: none;\n",
              "      border-radius: 50%;\n",
              "      cursor: pointer;\n",
              "      display: none;\n",
              "      fill: #1967D2;\n",
              "      height: 32px;\n",
              "      padding: 0 0 0 0;\n",
              "      width: 32px;\n",
              "    }\n",
              "\n",
              "    .colab-df-convert:hover {\n",
              "      background-color: #E2EBFA;\n",
              "      box-shadow: 0px 1px 2px rgba(60, 64, 67, 0.3), 0px 1px 3px 1px rgba(60, 64, 67, 0.15);\n",
              "      fill: #174EA6;\n",
              "    }\n",
              "\n",
              "    .colab-df-buttons div {\n",
              "      margin-bottom: 4px;\n",
              "    }\n",
              "\n",
              "    [theme=dark] .colab-df-convert {\n",
              "      background-color: #3B4455;\n",
              "      fill: #D2E3FC;\n",
              "    }\n",
              "\n",
              "    [theme=dark] .colab-df-convert:hover {\n",
              "      background-color: #434B5C;\n",
              "      box-shadow: 0px 1px 3px 1px rgba(0, 0, 0, 0.15);\n",
              "      filter: drop-shadow(0px 1px 2px rgba(0, 0, 0, 0.3));\n",
              "      fill: #FFFFFF;\n",
              "    }\n",
              "  </style>\n",
              "\n",
              "    <script>\n",
              "      const buttonEl =\n",
              "        document.querySelector('#df-3ba8adc9-c482-4b1b-bd6f-971d4852ef3c button.colab-df-convert');\n",
              "      buttonEl.style.display =\n",
              "        google.colab.kernel.accessAllowed ? 'block' : 'none';\n",
              "\n",
              "      async function convertToInteractive(key) {\n",
              "        const element = document.querySelector('#df-3ba8adc9-c482-4b1b-bd6f-971d4852ef3c');\n",
              "        const dataTable =\n",
              "          await google.colab.kernel.invokeFunction('convertToInteractive',\n",
              "                                                    [key], {});\n",
              "        if (!dataTable) return;\n",
              "\n",
              "        const docLinkHtml = 'Like what you see? Visit the ' +\n",
              "          '<a target=\"_blank\" href=https://colab.research.google.com/notebooks/data_table.ipynb>data table notebook</a>'\n",
              "          + ' to learn more about interactive tables.';\n",
              "        element.innerHTML = '';\n",
              "        dataTable['output_type'] = 'display_data';\n",
              "        await google.colab.output.renderOutput(dataTable, element);\n",
              "        const docLink = document.createElement('div');\n",
              "        docLink.innerHTML = docLinkHtml;\n",
              "        element.appendChild(docLink);\n",
              "      }\n",
              "    </script>\n",
              "  </div>\n",
              "\n",
              "\n",
              "    <div id=\"df-57a681a0-1cfe-4d5c-ba00-9c1879268ebc\">\n",
              "      <button class=\"colab-df-quickchart\" onclick=\"quickchart('df-57a681a0-1cfe-4d5c-ba00-9c1879268ebc')\"\n",
              "                title=\"Suggest charts\"\n",
              "                style=\"display:none;\">\n",
              "\n",
              "<svg xmlns=\"http://www.w3.org/2000/svg\" height=\"24px\"viewBox=\"0 0 24 24\"\n",
              "     width=\"24px\">\n",
              "    <g>\n",
              "        <path d=\"M19 3H5c-1.1 0-2 .9-2 2v14c0 1.1.9 2 2 2h14c1.1 0 2-.9 2-2V5c0-1.1-.9-2-2-2zM9 17H7v-7h2v7zm4 0h-2V7h2v10zm4 0h-2v-4h2v4z\"/>\n",
              "    </g>\n",
              "</svg>\n",
              "      </button>\n",
              "\n",
              "<style>\n",
              "  .colab-df-quickchart {\n",
              "      --bg-color: #E8F0FE;\n",
              "      --fill-color: #1967D2;\n",
              "      --hover-bg-color: #E2EBFA;\n",
              "      --hover-fill-color: #174EA6;\n",
              "      --disabled-fill-color: #AAA;\n",
              "      --disabled-bg-color: #DDD;\n",
              "  }\n",
              "\n",
              "  [theme=dark] .colab-df-quickchart {\n",
              "      --bg-color: #3B4455;\n",
              "      --fill-color: #D2E3FC;\n",
              "      --hover-bg-color: #434B5C;\n",
              "      --hover-fill-color: #FFFFFF;\n",
              "      --disabled-bg-color: #3B4455;\n",
              "      --disabled-fill-color: #666;\n",
              "  }\n",
              "\n",
              "  .colab-df-quickchart {\n",
              "    background-color: var(--bg-color);\n",
              "    border: none;\n",
              "    border-radius: 50%;\n",
              "    cursor: pointer;\n",
              "    display: none;\n",
              "    fill: var(--fill-color);\n",
              "    height: 32px;\n",
              "    padding: 0;\n",
              "    width: 32px;\n",
              "  }\n",
              "\n",
              "  .colab-df-quickchart:hover {\n",
              "    background-color: var(--hover-bg-color);\n",
              "    box-shadow: 0 1px 2px rgba(60, 64, 67, 0.3), 0 1px 3px 1px rgba(60, 64, 67, 0.15);\n",
              "    fill: var(--button-hover-fill-color);\n",
              "  }\n",
              "\n",
              "  .colab-df-quickchart-complete:disabled,\n",
              "  .colab-df-quickchart-complete:disabled:hover {\n",
              "    background-color: var(--disabled-bg-color);\n",
              "    fill: var(--disabled-fill-color);\n",
              "    box-shadow: none;\n",
              "  }\n",
              "\n",
              "  .colab-df-spinner {\n",
              "    border: 2px solid var(--fill-color);\n",
              "    border-color: transparent;\n",
              "    border-bottom-color: var(--fill-color);\n",
              "    animation:\n",
              "      spin 1s steps(1) infinite;\n",
              "  }\n",
              "\n",
              "  @keyframes spin {\n",
              "    0% {\n",
              "      border-color: transparent;\n",
              "      border-bottom-color: var(--fill-color);\n",
              "      border-left-color: var(--fill-color);\n",
              "    }\n",
              "    20% {\n",
              "      border-color: transparent;\n",
              "      border-left-color: var(--fill-color);\n",
              "      border-top-color: var(--fill-color);\n",
              "    }\n",
              "    30% {\n",
              "      border-color: transparent;\n",
              "      border-left-color: var(--fill-color);\n",
              "      border-top-color: var(--fill-color);\n",
              "      border-right-color: var(--fill-color);\n",
              "    }\n",
              "    40% {\n",
              "      border-color: transparent;\n",
              "      border-right-color: var(--fill-color);\n",
              "      border-top-color: var(--fill-color);\n",
              "    }\n",
              "    60% {\n",
              "      border-color: transparent;\n",
              "      border-right-color: var(--fill-color);\n",
              "    }\n",
              "    80% {\n",
              "      border-color: transparent;\n",
              "      border-right-color: var(--fill-color);\n",
              "      border-bottom-color: var(--fill-color);\n",
              "    }\n",
              "    90% {\n",
              "      border-color: transparent;\n",
              "      border-bottom-color: var(--fill-color);\n",
              "    }\n",
              "  }\n",
              "</style>\n",
              "\n",
              "      <script>\n",
              "        async function quickchart(key) {\n",
              "          const quickchartButtonEl =\n",
              "            document.querySelector('#' + key + ' button');\n",
              "          quickchartButtonEl.disabled = true;  // To prevent multiple clicks.\n",
              "          quickchartButtonEl.classList.add('colab-df-spinner');\n",
              "          try {\n",
              "            const charts = await google.colab.kernel.invokeFunction(\n",
              "                'suggestCharts', [key], {});\n",
              "          } catch (error) {\n",
              "            console.error('Error during call to suggestCharts:', error);\n",
              "          }\n",
              "          quickchartButtonEl.classList.remove('colab-df-spinner');\n",
              "          quickchartButtonEl.classList.add('colab-df-quickchart-complete');\n",
              "        }\n",
              "        (() => {\n",
              "          let quickchartButtonEl =\n",
              "            document.querySelector('#df-57a681a0-1cfe-4d5c-ba00-9c1879268ebc button');\n",
              "          quickchartButtonEl.style.display =\n",
              "            google.colab.kernel.accessAllowed ? 'block' : 'none';\n",
              "        })();\n",
              "      </script>\n",
              "    </div>\n",
              "\n",
              "    </div>\n",
              "  </div>\n"
            ],
            "text/plain": [
              "   7  0  0.1  0.2  0.3  0.4  0.5  0.6  0.7  0.8  ...  0.658  0.659  0.660  \\\n",
              "0  2  0    0    0    0    0    0    0    0    0  ...      0      0      0   \n",
              "1  1  0    0    0    0    0    0    0    0    0  ...      0      0      0   \n",
              "2  0  0    0    0    0    0    0    0    0    0  ...      0      0      0   \n",
              "3  4  0    0    0    0    0    0    0    0    0  ...      0      0      0   \n",
              "4  1  0    0    0    0    0    0    0    0    0  ...      0      0      0   \n",
              "\n",
              "   0.661  0.662  0.663  0.664  0.665  0.666  0.667  \n",
              "0      0      0      0      0      0      0      0  \n",
              "1      0      0      0      0      0      0      0  \n",
              "2      0      0      0      0      0      0      0  \n",
              "3      0      0      0      0      0      0      0  \n",
              "4      0      0      0      0      0      0      0  \n",
              "\n",
              "[5 rows x 785 columns]"
            ]
          },
          "execution_count": 10,
          "metadata": {},
          "output_type": "execute_result"
        }
      ],
      "source": [
        "# Colab cell 3: load dataset CSV (adjust filename if different)\n",
        "import pandas as pd\n",
        "import glob\n",
        "\n",
        "# try common names\n",
        "candidates = glob.glob(\"**/*.csv\", recursive=True)\n",
        "print(\"CSV candidates found:\", candidates)\n",
        "\n",
        "# pick the likely csv (first candidate)\n",
        "if len(candidates) == 0:\n",
        "    raise FileNotFoundError(\"No CSV found. Make sure dataset downloaded and extracted.\")\n",
        "csv_path = candidates[0]\n",
        "print(\"Using CSV:\", csv_path)\n",
        "df = pd.read_csv(csv_path)\n",
        "print(\"Shape:\", df.shape)\n",
        "df.head()\n"
      ]
    },
    {
      "cell_type": "code",
      "execution_count": null,
      "metadata": {
        "colab": {
          "background_save": true,
          "base_uri": "https://localhost:8080/",
          "height": 1000
        },
        "id": "H2LpxN5m0hBs",
        "outputId": "513a66fd-c0e3-48f7-d390-c40f9186ee1d"
      },
      "outputs": [
        {
          "name": "stdout",
          "output_type": "stream",
          "text": [
            "Columns: ['7', '0', '0.1', '0.2', '0.3', '0.4', '0.5', '0.6', '0.7', '0.8', '0.9', '0.10', '0.11', '0.12', '0.13', '0.14', '0.15', '0.16', '0.17', '0.18', '0.19', '0.20', '0.21', '0.22', '0.23', '0.24', '0.25', '0.26', '0.27', '0.28', '0.29', '0.30', '0.31', '0.32', '0.33', '0.34', '0.35', '0.36', '0.37', '0.38', '0.39', '0.40', '0.41', '0.42', '0.43', '0.44', '0.45', '0.46', '0.47', '0.48', '0.49', '0.50', '0.51', '0.52', '0.53', '0.54', '0.55', '0.56', '0.57', '0.58', '0.59', '0.60', '0.61', '0.62', '0.63', '0.64', '0.65', '0.66', '0.67', '0.68', '0.69', '0.70', '0.71', '0.72', '0.73', '0.74', '0.75', '0.76', '0.77', '0.78', '0.79', '0.80', '0.81', '0.82', '0.83', '0.84', '0.85', '0.86', '0.87', '0.88', '0.89', '0.90', '0.91', '0.92', '0.93', '0.94', '0.95', '0.96', '0.97', '0.98', '0.99', '0.100', '0.101', '0.102', '0.103', '0.104', '0.105', '0.106', '0.107', '0.108', '0.109', '0.110', '0.111', '0.112', '0.113', '0.114', '0.115', '0.116', '0.117', '0.118', '0.119', '0.120', '0.121', '0.122', '0.123', '0.124', '0.125', '0.126', '0.127', '0.128', '0.129', '0.130', '0.131', '0.132', '0.133', '0.134', '0.135', '0.136', '0.137', '0.138', '0.139', '0.140', '0.141', '0.142', '0.143', '0.144', '0.145', '0.146', '0.147', '0.148', '0.149', '0.150', '0.151', '0.152', '0.153', '0.154', '0.155', '0.156', '0.157', '0.158', '0.159', '0.160', '0.161', '0.162', '0.163', '0.164', '0.165', '0.166', '0.167', '0.168', '0.169', '0.170', '0.171', '0.172', '0.173', '0.174', '0.175', '0.176', '0.177', '0.178', '0.179', '0.180', '0.181', '0.182', '0.183', '0.184', '0.185', '0.186', '0.187', '0.188', '0.189', '0.190', '0.191', '0.192', '0.193', '0.194', '0.195', '0.196', '0.197', '0.198', '0.199', '0.200', '0.201', '84', '185', '159', '151', '60', '36', '0.202', '0.203', '0.204', '0.205', '0.206', '0.207', '0.208', '0.209', '0.210', '0.211', '0.212', '0.213', '0.214', '0.215', '0.216', '0.217', '0.218', '0.219', '0.220', '0.221', '0.222', '0.223', '222', '254', '254.1', '254.2', '254.3', '241', '198', '198.1', '198.2', '198.3', '198.4', '198.5', '198.6', '198.7', '170', '52', '0.224', '0.225', '0.226', '0.227', '0.228', '0.229', '0.230', '0.231', '0.232', '0.233', '0.234', '0.235', '67', '114', '72', '114.1', '163', '227', '254.4', '225', '254.5', '254.6', '254.7', '250', '229', '254.8', '254.9', '140', '0.236', '0.237', '0.238', '0.239', '0.240', '0.241', '0.242', '0.243', '0.244', '0.245', '0.246', '0.247', '0.248', '0.249', '0.250', '0.251', '0.252', '17', '66', '14', '67.1', '67.2', '67.3', '59', '21', '236', '254.10', '106', '0.253', '0.254', '0.255', '0.256', '0.257', '0.258', '0.259', '0.260', '0.261', '0.262', '0.263', '0.264', '0.265', '0.266', '0.267', '0.268', '0.269', '0.270', '0.271', '0.272', '0.273', '0.274', '0.275', '0.276', '83', '253', '209', '18', '0.277', '0.278', '0.279', '0.280', '0.281', '0.282', '0.283', '0.284', '0.285', '0.286', '0.287', '0.288', '0.289', '0.290', '0.291', '0.292', '0.293', '0.294', '0.295', '0.296', '0.297', '0.298', '0.299', '22', '233', '255', '83.1', '0.300', '0.301', '0.302', '0.303', '0.304', '0.305', '0.306', '0.307', '0.308', '0.309', '0.310', '0.311', '0.312', '0.313', '0.314', '0.315', '0.316', '0.317', '0.318', '0.319', '0.320', '0.321', '0.322', '0.323', '129', '254.11', '238', '44', '0.324', '0.325', '0.326', '0.327', '0.328', '0.329', '0.330', '0.331', '0.332', '0.333', '0.334', '0.335', '0.336', '0.337', '0.338', '0.339', '0.340', '0.341', '0.342', '0.343', '0.344', '0.345', '0.346', '59.1', '249', '254.12', '62', '0.347', '0.348', '0.349', '0.350', '0.351', '0.352', '0.353', '0.354', '0.355', '0.356', '0.357', '0.358', '0.359', '0.360', '0.361', '0.362', '0.363', '0.364', '0.365', '0.366', '0.367', '0.368', '0.369', '0.370', '133', '254.13', '187', '5', '0.371', '0.372', '0.373', '0.374', '0.375', '0.376', '0.377', '0.378', '0.379', '0.380', '0.381', '0.382', '0.383', '0.384', '0.385', '0.386', '0.387', '0.388', '0.389', '0.390', '0.391', '0.392', '0.393', '9', '205', '248', '58', '0.394', '0.395', '0.396', '0.397', '0.398', '0.399', '0.400', '0.401', '0.402', '0.403', '0.404', '0.405', '0.406', '0.407', '0.408', '0.409', '0.410', '0.411', '0.412', '0.413', '0.414', '0.415', '0.416', '0.417', '126', '254.14', '182', '0.418', '0.419', '0.420', '0.421', '0.422', '0.423', '0.424', '0.425', '0.426', '0.427', '0.428', '0.429', '0.430', '0.431', '0.432', '0.433', '0.434', '0.435', '0.436', '0.437', '0.438', '0.439', '0.440', '0.441', '75', '251', '240', '57', '0.442', '0.443', '0.444', '0.445', '0.446', '0.447', '0.448', '0.449', '0.450', '0.451', '0.452', '0.453', '0.454', '0.455', '0.456', '0.457', '0.458', '0.459', '0.460', '0.461', '0.462', '0.463', '0.464', '19', '221', '254.15', '166', '0.465', '0.466', '0.467', '0.468', '0.469', '0.470', '0.471', '0.472', '0.473', '0.474', '0.475', '0.476', '0.477', '0.478', '0.479', '0.480', '0.481', '0.482', '0.483', '0.484', '0.485', '0.486', '0.487', '3', '203', '254.16', '219', '35', '0.488', '0.489', '0.490', '0.491', '0.492', '0.493', '0.494', '0.495', '0.496', '0.497', '0.498', '0.499', '0.500', '0.501', '0.502', '0.503', '0.504', '0.505', '0.506', '0.507', '0.508', '0.509', '0.510', '38', '254.17', '254.18', '77', '0.511', '0.512', '0.513', '0.514', '0.515', '0.516', '0.517', '0.518', '0.519', '0.520', '0.521', '0.522', '0.523', '0.524', '0.525', '0.526', '0.527', '0.528', '0.529', '0.530', '0.531', '0.532', '0.533', '31', '224', '254.19', '115', '1', '0.534', '0.535', '0.536', '0.537', '0.538', '0.539', '0.540', '0.541', '0.542', '0.543', '0.544', '0.545', '0.546', '0.547', '0.548', '0.549', '0.550', '0.551', '0.552', '0.553', '0.554', '0.555', '0.556', '133.1', '254.20', '254.21', '52.1', '0.557', '0.558', '0.559', '0.560', '0.561', '0.562', '0.563', '0.564', '0.565', '0.566', '0.567', '0.568', '0.569', '0.570', '0.571', '0.572', '0.573', '0.574', '0.575', '0.576', '0.577', '0.578', '0.579', '61', '242', '254.22', '254.23', '52.2', '0.580', '0.581', '0.582', '0.583', '0.584', '0.585', '0.586', '0.587', '0.588', '0.589', '0.590', '0.591', '0.592', '0.593', '0.594', '0.595', '0.596', '0.597', '0.598', '0.599', '0.600', '0.601', '0.602', '121', '254.24', '254.25', '219.1', '40', '0.603', '0.604', '0.605', '0.606', '0.607', '0.608', '0.609', '0.610', '0.611', '0.612', '0.613', '0.614', '0.615', '0.616', '0.617', '0.618', '0.619', '0.620', '0.621', '0.622', '0.623', '0.624', '0.625', '121.1', '254.26', '207', '18.1', '0.626', '0.627', '0.628', '0.629', '0.630', '0.631', '0.632', '0.633', '0.634', '0.635', '0.636', '0.637', '0.638', '0.639', '0.640', '0.641', '0.642', '0.643', '0.644', '0.645', '0.646', '0.647', '0.648', '0.649', '0.650', '0.651', '0.652', '0.653', '0.654', '0.655', '0.656', '0.657', '0.658', '0.659', '0.660', '0.661', '0.662', '0.663', '0.664', '0.665', '0.666', '0.667']\n",
            "\n",
            "Info:\n",
            "<class 'pandas.core.frame.DataFrame'>\n",
            "RangeIndex: 9999 entries, 0 to 9998\n",
            "Columns: 785 entries, 7 to 0.667\n",
            "dtypes: int64(785)\n",
            "memory usage: 59.9 MB\n",
            "\n",
            "Missing values per column:\n",
            " 7        0\n",
            "0        0\n",
            "0.1      0\n",
            "0.2      0\n",
            "0.3      0\n",
            "        ..\n",
            "0.663    0\n",
            "0.664    0\n",
            "0.665    0\n",
            "0.666    0\n",
            "0.667    0\n",
            "Length: 785, dtype: int64\n"
          ]
        },
        {
          "data": {
            "application/vnd.google.colaboratory.intrinsic+json": {
              "type": "dataframe"
            },
            "text/html": [
              "\n",
              "  <div id=\"df-b97e994a-da73-4338-bbbe-d2fbc4eba311\" class=\"colab-df-container\">\n",
              "    <div>\n",
              "<style scoped>\n",
              "    .dataframe tbody tr th:only-of-type {\n",
              "        vertical-align: middle;\n",
              "    }\n",
              "\n",
              "    .dataframe tbody tr th {\n",
              "        vertical-align: top;\n",
              "    }\n",
              "\n",
              "    .dataframe thead th {\n",
              "        text-align: right;\n",
              "    }\n",
              "</style>\n",
              "<table border=\"1\" class=\"dataframe\">\n",
              "  <thead>\n",
              "    <tr style=\"text-align: right;\">\n",
              "      <th></th>\n",
              "      <th>7</th>\n",
              "      <th>0</th>\n",
              "      <th>0.1</th>\n",
              "      <th>0.2</th>\n",
              "      <th>0.3</th>\n",
              "      <th>0.4</th>\n",
              "      <th>0.5</th>\n",
              "      <th>0.6</th>\n",
              "      <th>0.7</th>\n",
              "      <th>0.8</th>\n",
              "      <th>...</th>\n",
              "      <th>0.658</th>\n",
              "      <th>0.659</th>\n",
              "      <th>0.660</th>\n",
              "      <th>0.661</th>\n",
              "      <th>0.662</th>\n",
              "      <th>0.663</th>\n",
              "      <th>0.664</th>\n",
              "      <th>0.665</th>\n",
              "      <th>0.666</th>\n",
              "      <th>0.667</th>\n",
              "    </tr>\n",
              "  </thead>\n",
              "  <tbody>\n",
              "    <tr>\n",
              "      <th>count</th>\n",
              "      <td>9999.000000</td>\n",
              "      <td>9999.0</td>\n",
              "      <td>9999.0</td>\n",
              "      <td>9999.0</td>\n",
              "      <td>9999.0</td>\n",
              "      <td>9999.0</td>\n",
              "      <td>9999.0</td>\n",
              "      <td>9999.0</td>\n",
              "      <td>9999.0</td>\n",
              "      <td>9999.0</td>\n",
              "      <td>...</td>\n",
              "      <td>9999.000000</td>\n",
              "      <td>9999.000000</td>\n",
              "      <td>9999.000000</td>\n",
              "      <td>9999.000000</td>\n",
              "      <td>9999.0</td>\n",
              "      <td>9999.0</td>\n",
              "      <td>9999.0</td>\n",
              "      <td>9999.0</td>\n",
              "      <td>9999.0</td>\n",
              "      <td>9999.0</td>\n",
              "    </tr>\n",
              "    <tr>\n",
              "      <th>mean</th>\n",
              "      <td>4.443144</td>\n",
              "      <td>0.0</td>\n",
              "      <td>0.0</td>\n",
              "      <td>0.0</td>\n",
              "      <td>0.0</td>\n",
              "      <td>0.0</td>\n",
              "      <td>0.0</td>\n",
              "      <td>0.0</td>\n",
              "      <td>0.0</td>\n",
              "      <td>0.0</td>\n",
              "      <td>...</td>\n",
              "      <td>0.179318</td>\n",
              "      <td>0.163616</td>\n",
              "      <td>0.052605</td>\n",
              "      <td>0.000600</td>\n",
              "      <td>0.0</td>\n",
              "      <td>0.0</td>\n",
              "      <td>0.0</td>\n",
              "      <td>0.0</td>\n",
              "      <td>0.0</td>\n",
              "      <td>0.0</td>\n",
              "    </tr>\n",
              "    <tr>\n",
              "      <th>std</th>\n",
              "      <td>2.895897</td>\n",
              "      <td>0.0</td>\n",
              "      <td>0.0</td>\n",
              "      <td>0.0</td>\n",
              "      <td>0.0</td>\n",
              "      <td>0.0</td>\n",
              "      <td>0.0</td>\n",
              "      <td>0.0</td>\n",
              "      <td>0.0</td>\n",
              "      <td>0.0</td>\n",
              "      <td>...</td>\n",
              "      <td>5.674433</td>\n",
              "      <td>5.736359</td>\n",
              "      <td>2.420125</td>\n",
              "      <td>0.060003</td>\n",
              "      <td>0.0</td>\n",
              "      <td>0.0</td>\n",
              "      <td>0.0</td>\n",
              "      <td>0.0</td>\n",
              "      <td>0.0</td>\n",
              "      <td>0.0</td>\n",
              "    </tr>\n",
              "    <tr>\n",
              "      <th>min</th>\n",
              "      <td>0.000000</td>\n",
              "      <td>0.0</td>\n",
              "      <td>0.0</td>\n",
              "      <td>0.0</td>\n",
              "      <td>0.0</td>\n",
              "      <td>0.0</td>\n",
              "      <td>0.0</td>\n",
              "      <td>0.0</td>\n",
              "      <td>0.0</td>\n",
              "      <td>0.0</td>\n",
              "      <td>...</td>\n",
              "      <td>0.000000</td>\n",
              "      <td>0.000000</td>\n",
              "      <td>0.000000</td>\n",
              "      <td>0.000000</td>\n",
              "      <td>0.0</td>\n",
              "      <td>0.0</td>\n",
              "      <td>0.0</td>\n",
              "      <td>0.0</td>\n",
              "      <td>0.0</td>\n",
              "      <td>0.0</td>\n",
              "    </tr>\n",
              "    <tr>\n",
              "      <th>25%</th>\n",
              "      <td>2.000000</td>\n",
              "      <td>0.0</td>\n",
              "      <td>0.0</td>\n",
              "      <td>0.0</td>\n",
              "      <td>0.0</td>\n",
              "      <td>0.0</td>\n",
              "      <td>0.0</td>\n",
              "      <td>0.0</td>\n",
              "      <td>0.0</td>\n",
              "      <td>0.0</td>\n",
              "      <td>...</td>\n",
              "      <td>0.000000</td>\n",
              "      <td>0.000000</td>\n",
              "      <td>0.000000</td>\n",
              "      <td>0.000000</td>\n",
              "      <td>0.0</td>\n",
              "      <td>0.0</td>\n",
              "      <td>0.0</td>\n",
              "      <td>0.0</td>\n",
              "      <td>0.0</td>\n",
              "      <td>0.0</td>\n",
              "    </tr>\n",
              "    <tr>\n",
              "      <th>50%</th>\n",
              "      <td>4.000000</td>\n",
              "      <td>0.0</td>\n",
              "      <td>0.0</td>\n",
              "      <td>0.0</td>\n",
              "      <td>0.0</td>\n",
              "      <td>0.0</td>\n",
              "      <td>0.0</td>\n",
              "      <td>0.0</td>\n",
              "      <td>0.0</td>\n",
              "      <td>0.0</td>\n",
              "      <td>...</td>\n",
              "      <td>0.000000</td>\n",
              "      <td>0.000000</td>\n",
              "      <td>0.000000</td>\n",
              "      <td>0.000000</td>\n",
              "      <td>0.0</td>\n",
              "      <td>0.0</td>\n",
              "      <td>0.0</td>\n",
              "      <td>0.0</td>\n",
              "      <td>0.0</td>\n",
              "      <td>0.0</td>\n",
              "    </tr>\n",
              "    <tr>\n",
              "      <th>75%</th>\n",
              "      <td>7.000000</td>\n",
              "      <td>0.0</td>\n",
              "      <td>0.0</td>\n",
              "      <td>0.0</td>\n",
              "      <td>0.0</td>\n",
              "      <td>0.0</td>\n",
              "      <td>0.0</td>\n",
              "      <td>0.0</td>\n",
              "      <td>0.0</td>\n",
              "      <td>0.0</td>\n",
              "      <td>...</td>\n",
              "      <td>0.000000</td>\n",
              "      <td>0.000000</td>\n",
              "      <td>0.000000</td>\n",
              "      <td>0.000000</td>\n",
              "      <td>0.0</td>\n",
              "      <td>0.0</td>\n",
              "      <td>0.0</td>\n",
              "      <td>0.0</td>\n",
              "      <td>0.0</td>\n",
              "      <td>0.0</td>\n",
              "    </tr>\n",
              "    <tr>\n",
              "      <th>max</th>\n",
              "      <td>9.000000</td>\n",
              "      <td>0.0</td>\n",
              "      <td>0.0</td>\n",
              "      <td>0.0</td>\n",
              "      <td>0.0</td>\n",
              "      <td>0.0</td>\n",
              "      <td>0.0</td>\n",
              "      <td>0.0</td>\n",
              "      <td>0.0</td>\n",
              "      <td>0.0</td>\n",
              "      <td>...</td>\n",
              "      <td>253.000000</td>\n",
              "      <td>253.000000</td>\n",
              "      <td>156.000000</td>\n",
              "      <td>6.000000</td>\n",
              "      <td>0.0</td>\n",
              "      <td>0.0</td>\n",
              "      <td>0.0</td>\n",
              "      <td>0.0</td>\n",
              "      <td>0.0</td>\n",
              "      <td>0.0</td>\n",
              "    </tr>\n",
              "  </tbody>\n",
              "</table>\n",
              "<p>8 rows × 785 columns</p>\n",
              "</div>\n",
              "    <div class=\"colab-df-buttons\">\n",
              "\n",
              "  <div class=\"colab-df-container\">\n",
              "    <button class=\"colab-df-convert\" onclick=\"convertToInteractive('df-b97e994a-da73-4338-bbbe-d2fbc4eba311')\"\n",
              "            title=\"Convert this dataframe to an interactive table.\"\n",
              "            style=\"display:none;\">\n",
              "\n",
              "  <svg xmlns=\"http://www.w3.org/2000/svg\" height=\"24px\" viewBox=\"0 -960 960 960\">\n",
              "    <path d=\"M120-120v-720h720v720H120Zm60-500h600v-160H180v160Zm220 220h160v-160H400v160Zm0 220h160v-160H400v160ZM180-400h160v-160H180v160Zm440 0h160v-160H620v160ZM180-180h160v-160H180v160Zm440 0h160v-160H620v160Z\"/>\n",
              "  </svg>\n",
              "    </button>\n",
              "\n",
              "  <style>\n",
              "    .colab-df-container {\n",
              "      display:flex;\n",
              "      gap: 12px;\n",
              "    }\n",
              "\n",
              "    .colab-df-convert {\n",
              "      background-color: #E8F0FE;\n",
              "      border: none;\n",
              "      border-radius: 50%;\n",
              "      cursor: pointer;\n",
              "      display: none;\n",
              "      fill: #1967D2;\n",
              "      height: 32px;\n",
              "      padding: 0 0 0 0;\n",
              "      width: 32px;\n",
              "    }\n",
              "\n",
              "    .colab-df-convert:hover {\n",
              "      background-color: #E2EBFA;\n",
              "      box-shadow: 0px 1px 2px rgba(60, 64, 67, 0.3), 0px 1px 3px 1px rgba(60, 64, 67, 0.15);\n",
              "      fill: #174EA6;\n",
              "    }\n",
              "\n",
              "    .colab-df-buttons div {\n",
              "      margin-bottom: 4px;\n",
              "    }\n",
              "\n",
              "    [theme=dark] .colab-df-convert {\n",
              "      background-color: #3B4455;\n",
              "      fill: #D2E3FC;\n",
              "    }\n",
              "\n",
              "    [theme=dark] .colab-df-convert:hover {\n",
              "      background-color: #434B5C;\n",
              "      box-shadow: 0px 1px 3px 1px rgba(0, 0, 0, 0.15);\n",
              "      filter: drop-shadow(0px 1px 2px rgba(0, 0, 0, 0.3));\n",
              "      fill: #FFFFFF;\n",
              "    }\n",
              "  </style>\n",
              "\n",
              "    <script>\n",
              "      const buttonEl =\n",
              "        document.querySelector('#df-b97e994a-da73-4338-bbbe-d2fbc4eba311 button.colab-df-convert');\n",
              "      buttonEl.style.display =\n",
              "        google.colab.kernel.accessAllowed ? 'block' : 'none';\n",
              "\n",
              "      async function convertToInteractive(key) {\n",
              "        const element = document.querySelector('#df-b97e994a-da73-4338-bbbe-d2fbc4eba311');\n",
              "        const dataTable =\n",
              "          await google.colab.kernel.invokeFunction('convertToInteractive',\n",
              "                                                    [key], {});\n",
              "        if (!dataTable) return;\n",
              "\n",
              "        const docLinkHtml = 'Like what you see? Visit the ' +\n",
              "          '<a target=\"_blank\" href=https://colab.research.google.com/notebooks/data_table.ipynb>data table notebook</a>'\n",
              "          + ' to learn more about interactive tables.';\n",
              "        element.innerHTML = '';\n",
              "        dataTable['output_type'] = 'display_data';\n",
              "        await google.colab.output.renderOutput(dataTable, element);\n",
              "        const docLink = document.createElement('div');\n",
              "        docLink.innerHTML = docLinkHtml;\n",
              "        element.appendChild(docLink);\n",
              "      }\n",
              "    </script>\n",
              "  </div>\n",
              "\n",
              "\n",
              "    <div id=\"df-72b4d677-9292-49f3-9675-f2d3f5d00ad9\">\n",
              "      <button class=\"colab-df-quickchart\" onclick=\"quickchart('df-72b4d677-9292-49f3-9675-f2d3f5d00ad9')\"\n",
              "                title=\"Suggest charts\"\n",
              "                style=\"display:none;\">\n",
              "\n",
              "<svg xmlns=\"http://www.w3.org/2000/svg\" height=\"24px\"viewBox=\"0 0 24 24\"\n",
              "     width=\"24px\">\n",
              "    <g>\n",
              "        <path d=\"M19 3H5c-1.1 0-2 .9-2 2v14c0 1.1.9 2 2 2h14c1.1 0 2-.9 2-2V5c0-1.1-.9-2-2-2zM9 17H7v-7h2v7zm4 0h-2V7h2v10zm4 0h-2v-4h2v4z\"/>\n",
              "    </g>\n",
              "</svg>\n",
              "      </button>\n",
              "\n",
              "<style>\n",
              "  .colab-df-quickchart {\n",
              "      --bg-color: #E8F0FE;\n",
              "      --fill-color: #1967D2;\n",
              "      --hover-bg-color: #E2EBFA;\n",
              "      --hover-fill-color: #174EA6;\n",
              "      --disabled-fill-color: #AAA;\n",
              "      --disabled-bg-color: #DDD;\n",
              "  }\n",
              "\n",
              "  [theme=dark] .colab-df-quickchart {\n",
              "      --bg-color: #3B4455;\n",
              "      --fill-color: #D2E3FC;\n",
              "      --hover-bg-color: #434B5C;\n",
              "      --hover-fill-color: #FFFFFF;\n",
              "      --disabled-bg-color: #3B4455;\n",
              "      --disabled-fill-color: #666;\n",
              "  }\n",
              "\n",
              "  .colab-df-quickchart {\n",
              "    background-color: var(--bg-color);\n",
              "    border: none;\n",
              "    border-radius: 50%;\n",
              "    cursor: pointer;\n",
              "    display: none;\n",
              "    fill: var(--fill-color);\n",
              "    height: 32px;\n",
              "    padding: 0;\n",
              "    width: 32px;\n",
              "  }\n",
              "\n",
              "  .colab-df-quickchart:hover {\n",
              "    background-color: var(--hover-bg-color);\n",
              "    box-shadow: 0 1px 2px rgba(60, 64, 67, 0.3), 0 1px 3px 1px rgba(60, 64, 67, 0.15);\n",
              "    fill: var(--button-hover-fill-color);\n",
              "  }\n",
              "\n",
              "  .colab-df-quickchart-complete:disabled,\n",
              "  .colab-df-quickchart-complete:disabled:hover {\n",
              "    background-color: var(--disabled-bg-color);\n",
              "    fill: var(--disabled-fill-color);\n",
              "    box-shadow: none;\n",
              "  }\n",
              "\n",
              "  .colab-df-spinner {\n",
              "    border: 2px solid var(--fill-color);\n",
              "    border-color: transparent;\n",
              "    border-bottom-color: var(--fill-color);\n",
              "    animation:\n",
              "      spin 1s steps(1) infinite;\n",
              "  }\n",
              "\n",
              "  @keyframes spin {\n",
              "    0% {\n",
              "      border-color: transparent;\n",
              "      border-bottom-color: var(--fill-color);\n",
              "      border-left-color: var(--fill-color);\n",
              "    }\n",
              "    20% {\n",
              "      border-color: transparent;\n",
              "      border-left-color: var(--fill-color);\n",
              "      border-top-color: var(--fill-color);\n",
              "    }\n",
              "    30% {\n",
              "      border-color: transparent;\n",
              "      border-left-color: var(--fill-color);\n",
              "      border-top-color: var(--fill-color);\n",
              "      border-right-color: var(--fill-color);\n",
              "    }\n",
              "    40% {\n",
              "      border-color: transparent;\n",
              "      border-right-color: var(--fill-color);\n",
              "      border-top-color: var(--fill-color);\n",
              "    }\n",
              "    60% {\n",
              "      border-color: transparent;\n",
              "      border-right-color: var(--fill-color);\n",
              "    }\n",
              "    80% {\n",
              "      border-color: transparent;\n",
              "      border-right-color: var(--fill-color);\n",
              "      border-bottom-color: var(--fill-color);\n",
              "    }\n",
              "    90% {\n",
              "      border-color: transparent;\n",
              "      border-bottom-color: var(--fill-color);\n",
              "    }\n",
              "  }\n",
              "</style>\n",
              "\n",
              "      <script>\n",
              "        async function quickchart(key) {\n",
              "          const quickchartButtonEl =\n",
              "            document.querySelector('#' + key + ' button');\n",
              "          quickchartButtonEl.disabled = true;  // To prevent multiple clicks.\n",
              "          quickchartButtonEl.classList.add('colab-df-spinner');\n",
              "          try {\n",
              "            const charts = await google.colab.kernel.invokeFunction(\n",
              "                'suggestCharts', [key], {});\n",
              "          } catch (error) {\n",
              "            console.error('Error during call to suggestCharts:', error);\n",
              "          }\n",
              "          quickchartButtonEl.classList.remove('colab-df-spinner');\n",
              "          quickchartButtonEl.classList.add('colab-df-quickchart-complete');\n",
              "        }\n",
              "        (() => {\n",
              "          let quickchartButtonEl =\n",
              "            document.querySelector('#df-72b4d677-9292-49f3-9675-f2d3f5d00ad9 button');\n",
              "          quickchartButtonEl.style.display =\n",
              "            google.colab.kernel.accessAllowed ? 'block' : 'none';\n",
              "        })();\n",
              "      </script>\n",
              "    </div>\n",
              "\n",
              "    </div>\n",
              "  </div>\n"
            ],
            "text/plain": [
              "                 7       0     0.1     0.2     0.3     0.4     0.5     0.6  \\\n",
              "count  9999.000000  9999.0  9999.0  9999.0  9999.0  9999.0  9999.0  9999.0   \n",
              "mean      4.443144     0.0     0.0     0.0     0.0     0.0     0.0     0.0   \n",
              "std       2.895897     0.0     0.0     0.0     0.0     0.0     0.0     0.0   \n",
              "min       0.000000     0.0     0.0     0.0     0.0     0.0     0.0     0.0   \n",
              "25%       2.000000     0.0     0.0     0.0     0.0     0.0     0.0     0.0   \n",
              "50%       4.000000     0.0     0.0     0.0     0.0     0.0     0.0     0.0   \n",
              "75%       7.000000     0.0     0.0     0.0     0.0     0.0     0.0     0.0   \n",
              "max       9.000000     0.0     0.0     0.0     0.0     0.0     0.0     0.0   \n",
              "\n",
              "          0.7     0.8  ...        0.658        0.659        0.660  \\\n",
              "count  9999.0  9999.0  ...  9999.000000  9999.000000  9999.000000   \n",
              "mean      0.0     0.0  ...     0.179318     0.163616     0.052605   \n",
              "std       0.0     0.0  ...     5.674433     5.736359     2.420125   \n",
              "min       0.0     0.0  ...     0.000000     0.000000     0.000000   \n",
              "25%       0.0     0.0  ...     0.000000     0.000000     0.000000   \n",
              "50%       0.0     0.0  ...     0.000000     0.000000     0.000000   \n",
              "75%       0.0     0.0  ...     0.000000     0.000000     0.000000   \n",
              "max       0.0     0.0  ...   253.000000   253.000000   156.000000   \n",
              "\n",
              "             0.661   0.662   0.663   0.664   0.665   0.666   0.667  \n",
              "count  9999.000000  9999.0  9999.0  9999.0  9999.0  9999.0  9999.0  \n",
              "mean      0.000600     0.0     0.0     0.0     0.0     0.0     0.0  \n",
              "std       0.060003     0.0     0.0     0.0     0.0     0.0     0.0  \n",
              "min       0.000000     0.0     0.0     0.0     0.0     0.0     0.0  \n",
              "25%       0.000000     0.0     0.0     0.0     0.0     0.0     0.0  \n",
              "50%       0.000000     0.0     0.0     0.0     0.0     0.0     0.0  \n",
              "75%       0.000000     0.0     0.0     0.0     0.0     0.0     0.0  \n",
              "max       6.000000     0.0     0.0     0.0     0.0     0.0     0.0  \n",
              "\n",
              "[8 rows x 785 columns]"
            ]
          },
          "metadata": {},
          "output_type": "display_data"
        },
        {
          "name": "stdout",
          "output_type": "stream",
          "text": [
            "Target candidates detected: []\n",
            "Using target column: 0.667\n"
          ]
        },
        {
          "data": {
            "image/png": "[encoded data removed]",
            "text/plain": [
              "<Figure size 500x400 with 1 Axes>"
            ]
          },
          "metadata": {},
          "output_type": "display_data"
        },
        {
          "data": {
            "image/png": "[encoded data removed]",
            "text/plain": [
              "<Figure size 1000x800 with 2 Axes>"
            ]
          },
          "metadata": {},
          "output_type": "display_data"
        }
      ],
      "source": [
        "# Colab cell 4: basic EDA\n",
        "import matplotlib.pyplot as plt\n",
        "import seaborn as sns\n",
        "%matplotlib inline\n",
        "\n",
        "print(\"Columns:\", df.columns.tolist())\n",
        "print(\"\\nInfo:\")\n",
        "df.info()\n",
        "print(\"\\nMissing values per column:\\n\", df.isnull().sum())\n",
        "\n",
        "# Summary statistics\n",
        "display(df.describe())\n",
        "\n",
        "# Target distribution (assume target column name 'Outcome' or 'diabetes' or 'diabetes_binary')\n",
        "target_candidates = [c for c in df.columns if 'outcome' in c.lower() or 'diabet' in c.lower() or 'target' in c.lower()]\n",
        "print(\"Target candidates detected:\", target_candidates)\n",
        "target = target_candidates[0] if target_candidates else df.columns[-1]\n",
        "print(\"Using target column:\", target)\n",
        "\n",
        "plt.figure(figsize=(5,4))\n",
        "sns.countplot(x=target, data=df)\n",
        "plt.title(\"Target distribution\")\n",
        "plt.show()\n",
        "\n",
        "# Pairwise correlations heatmap for numeric columns (if not too many)\n",
        "num_cols = df.select_dtypes(include='number').columns.tolist()\n",
        "plt.figure(figsize=(10,8))\n",
        "sns.heatmap(df[num_cols].corr(), annot=True, fmt=\".2f\", cmap='RdBu', center=0)\n",
        "plt.title(\"Correlation matrix (numeric)\")\n",
        "plt.show()\n"
      ]
    },
    {
      "cell_type": "code",
      "execution_count": null,
      "metadata": {
        "colab": {
          "base_uri": "https://localhost:8080/"
        },
        "id": "3foguSL80pdu",
        "outputId": "24ff538f-8057-4de4-c8ba-ae84376f8701"
      },
      "outputs": [
        {
          "name": "stdout",
          "output_type": "stream",
          "text": [
            "Shapes: (537, 8) (115, 8) (116, 8)\n",
            "Conv1D shapes: (537, 8, 1) (115, 8, 1) (116, 8, 1)\n"
          ]
        }
      ],
      "source": [
        "# Colab cell 5: preprocessing\n",
        "from sklearn.model_selection import train_test_split\n",
        "from sklearn.impute import SimpleImputer\n",
        "from sklearn.preprocessing import StandardScaler\n",
        "\n",
        "# Define X, y\n",
        "X = df.drop(columns=[target])\n",
        "y = df[target].astype(int)\n",
        "\n",
        "# Impute missing numeric values with median\n",
        "num_cols = X.select_dtypes(include='number').columns.tolist()\n",
        "imputer = SimpleImputer(strategy='median')\n",
        "X[num_cols] = imputer.fit_transform(X[num_cols])\n",
        "\n",
        "# If categorical columns exist, do one-hot encoding\n",
        "cat_cols = X.select_dtypes(include=['object', 'category']).columns.tolist()\n",
        "if cat_cols:\n",
        "    X = pd.get_dummies(X, columns=cat_cols, drop_first=True)\n",
        "\n",
        "# Feature scaling\n",
        "scaler = StandardScaler()\n",
        "X_scaled = scaler.fit_transform(X)\n",
        "\n",
        "# Train-test split (stratify by y for balanced class)\n",
        "X_train, X_test, y_train, y_test = train_test_split(\n",
        "    X_scaled, y, test_size=0.2, random_state=42, stratify=y\n",
        ")\n",
        "\n",
        "# For Keras Conv1D, reshape to (samples, timesteps, features=1) where timesteps = n_features\n",
        "import numpy as np\n",
        "n_features = X_train.shape[1]\n",
        "X_train_cnn = X_train.reshape(-1, n_features, 1)\n",
        "X_test_cnn  = X_test.reshape(-1, n_features, 1)\n",
        "\n",
        "print(\"Train shape (CNN):\", X_train_cnn.shape, \"Test shape (CNN):\", X_test_cnn.shape)\n"
      ]
    },
    {
      "cell_type": "code",
      "execution_count": null,
      "metadata": {
        "colab": {
          "base_uri": "https://localhost:8080/",
          "height": 673
        },
        "id": "PieT3CBI0u-D",
        "outputId": "9f682fd6-e99d-428a-9f21-b3ca589d197b"
      },
      "outputs": [
        {
          "data": {
            "text/html": [
              "<pre style=\"white-space:pre;overflow-x:auto;line-height:normal;font-family:Menlo,'DejaVu Sans Mono',consolas,'Courier New',monospace\"><span style=\"font-weight: bold\">Model: \"sequential_1\"</span>\n",
              "</pre>\n"
            ],
            "text/plain": [
              "\u001b[1mModel: \"sequential_1\"\u001b[0m\n"
            ]
          },
          "metadata": {},
          "output_type": "display_data"
        },
        {
          "data": {
            "text/html": [
              "<pre style=\"white-space:pre;overflow-x:auto;line-height:normal;font-family:Menlo,'DejaVu Sans Mono',consolas,'Courier New',monospace\">┏━━━━━━━━━━━━━━━━━━━━━━━━━━━━━━━━━┳━━━━━━━━━━━━━━━━━━━━━━━━┳━━━━━━━━━━━━━━━┓\n",
              "┃<span style=\"font-weight: bold\"> Layer (type)                    </span>┃<span style=\"font-weight: bold\"> Output Shape           </span>┃<span style=\"font-weight: bold\">       Param # </span>┃\n",
              "┡━━━━━━━━━━━━━━━━━━━━━━━━━━━━━━━━━╇━━━━━━━━━━━━━━━━━━━━━━━━╇━━━━━━━━━━━━━━━┩\n",
              "│ conv1d_3 (<span style=\"color: #0087ff; text-decoration-color: #0087ff\">Conv1D</span>)               │ (<span style=\"color: #00d7ff; text-decoration-color: #00d7ff\">None</span>, <span style=\"color: #00af00; text-decoration-color: #00af00\">8</span>, <span style=\"color: #00af00; text-decoration-color: #00af00\">64</span>)          │           <span style=\"color: #00af00; text-decoration-color: #00af00\">256</span> │\n",
              "├─────────────────────────────────┼────────────────────────┼───────────────┤\n",
              "│ batch_normalization_3           │ (<span style=\"color: #00d7ff; text-decoration-color: #00d7ff\">None</span>, <span style=\"color: #00af00; text-decoration-color: #00af00\">8</span>, <span style=\"color: #00af00; text-decoration-color: #00af00\">64</span>)          │           <span style=\"color: #00af00; text-decoration-color: #00af00\">256</span> │\n",
              "│ (<span style=\"color: #0087ff; text-decoration-color: #0087ff\">BatchNormalization</span>)            │                        │               │\n",
              "├─────────────────────────────────┼────────────────────────┼───────────────┤\n",
              "│ activation_3 (<span style=\"color: #0087ff; text-decoration-color: #0087ff\">Activation</span>)       │ (<span style=\"color: #00d7ff; text-decoration-color: #00d7ff\">None</span>, <span style=\"color: #00af00; text-decoration-color: #00af00\">8</span>, <span style=\"color: #00af00; text-decoration-color: #00af00\">64</span>)          │             <span style=\"color: #00af00; text-decoration-color: #00af00\">0</span> │\n",
              "├─────────────────────────────────┼────────────────────────┼───────────────┤\n",
              "│ dropout_3 (<span style=\"color: #0087ff; text-decoration-color: #0087ff\">Dropout</span>)             │ (<span style=\"color: #00d7ff; text-decoration-color: #00d7ff\">None</span>, <span style=\"color: #00af00; text-decoration-color: #00af00\">8</span>, <span style=\"color: #00af00; text-decoration-color: #00af00\">64</span>)          │             <span style=\"color: #00af00; text-decoration-color: #00af00\">0</span> │\n",
              "├─────────────────────────────────┼────────────────────────┼───────────────┤\n",
              "│ conv1d_4 (<span style=\"color: #0087ff; text-decoration-color: #0087ff\">Conv1D</span>)               │ (<span style=\"color: #00d7ff; text-decoration-color: #00d7ff\">None</span>, <span style=\"color: #00af00; text-decoration-color: #00af00\">8</span>, <span style=\"color: #00af00; text-decoration-color: #00af00\">128</span>)         │        <span style=\"color: #00af00; text-decoration-color: #00af00\">24,704</span> │\n",
              "├─────────────────────────────────┼────────────────────────┼───────────────┤\n",
              "│ batch_normalization_4           │ (<span style=\"color: #00d7ff; text-decoration-color: #00d7ff\">None</span>, <span style=\"color: #00af00; text-decoration-color: #00af00\">8</span>, <span style=\"color: #00af00; text-decoration-color: #00af00\">128</span>)         │           <span style=\"color: #00af00; text-decoration-color: #00af00\">512</span> │\n",
              "│ (<span style=\"color: #0087ff; text-decoration-color: #0087ff\">BatchNormalization</span>)            │                        │               │\n",
              "├─────────────────────────────────┼────────────────────────┼───────────────┤\n",
              "│ activation_4 (<span style=\"color: #0087ff; text-decoration-color: #0087ff\">Activation</span>)       │ (<span style=\"color: #00d7ff; text-decoration-color: #00d7ff\">None</span>, <span style=\"color: #00af00; text-decoration-color: #00af00\">8</span>, <span style=\"color: #00af00; text-decoration-color: #00af00\">128</span>)         │             <span style=\"color: #00af00; text-decoration-color: #00af00\">0</span> │\n",
              "├─────────────────────────────────┼────────────────────────┼───────────────┤\n",
              "│ dropout_4 (<span style=\"color: #0087ff; text-decoration-color: #0087ff\">Dropout</span>)             │ (<span style=\"color: #00d7ff; text-decoration-color: #00d7ff\">None</span>, <span style=\"color: #00af00; text-decoration-color: #00af00\">8</span>, <span style=\"color: #00af00; text-decoration-color: #00af00\">128</span>)         │             <span style=\"color: #00af00; text-decoration-color: #00af00\">0</span> │\n",
              "├─────────────────────────────────┼────────────────────────┼───────────────┤\n",
              "│ conv1d_5 (<span style=\"color: #0087ff; text-decoration-color: #0087ff\">Conv1D</span>)               │ (<span style=\"color: #00d7ff; text-decoration-color: #00d7ff\">None</span>, <span style=\"color: #00af00; text-decoration-color: #00af00\">8</span>, <span style=\"color: #00af00; text-decoration-color: #00af00\">128</span>)         │        <span style=\"color: #00af00; text-decoration-color: #00af00\">49,280</span> │\n",
              "├─────────────────────────────────┼────────────────────────┼───────────────┤\n",
              "│ batch_normalization_5           │ (<span style=\"color: #00d7ff; text-decoration-color: #00d7ff\">None</span>, <span style=\"color: #00af00; text-decoration-color: #00af00\">8</span>, <span style=\"color: #00af00; text-decoration-color: #00af00\">128</span>)         │           <span style=\"color: #00af00; text-decoration-color: #00af00\">512</span> │\n",
              "│ (<span style=\"color: #0087ff; text-decoration-color: #0087ff\">BatchNormalization</span>)            │                        │               │\n",
              "├─────────────────────────────────┼────────────────────────┼───────────────┤\n",
              "│ activation_5 (<span style=\"color: #0087ff; text-decoration-color: #0087ff\">Activation</span>)       │ (<span style=\"color: #00d7ff; text-decoration-color: #00d7ff\">None</span>, <span style=\"color: #00af00; text-decoration-color: #00af00\">8</span>, <span style=\"color: #00af00; text-decoration-color: #00af00\">128</span>)         │             <span style=\"color: #00af00; text-decoration-color: #00af00\">0</span> │\n",
              "├─────────────────────────────────┼────────────────────────┼───────────────┤\n",
              "│ global_average_pooling1d_1      │ (<span style=\"color: #00d7ff; text-decoration-color: #00d7ff\">None</span>, <span style=\"color: #00af00; text-decoration-color: #00af00\">128</span>)            │             <span style=\"color: #00af00; text-decoration-color: #00af00\">0</span> │\n",
              "│ (<span style=\"color: #0087ff; text-decoration-color: #0087ff\">GlobalAveragePooling1D</span>)        │                        │               │\n",
              "├─────────────────────────────────┼────────────────────────┼───────────────┤\n",
              "│ dense_2 (<span style=\"color: #0087ff; text-decoration-color: #0087ff\">Dense</span>)                 │ (<span style=\"color: #00d7ff; text-decoration-color: #00d7ff\">None</span>, <span style=\"color: #00af00; text-decoration-color: #00af00\">64</span>)             │         <span style=\"color: #00af00; text-decoration-color: #00af00\">8,256</span> │\n",
              "├─────────────────────────────────┼────────────────────────┼───────────────┤\n",
              "│ dropout_5 (<span style=\"color: #0087ff; text-decoration-color: #0087ff\">Dropout</span>)             │ (<span style=\"color: #00d7ff; text-decoration-color: #00d7ff\">None</span>, <span style=\"color: #00af00; text-decoration-color: #00af00\">64</span>)             │             <span style=\"color: #00af00; text-decoration-color: #00af00\">0</span> │\n",
              "├─────────────────────────────────┼────────────────────────┼───────────────┤\n",
              "│ dense_3 (<span style=\"color: #0087ff; text-decoration-color: #0087ff\">Dense</span>)                 │ (<span style=\"color: #00d7ff; text-decoration-color: #00d7ff\">None</span>, <span style=\"color: #00af00; text-decoration-color: #00af00\">1</span>)              │            <span style=\"color: #00af00; text-decoration-color: #00af00\">65</span> │\n",
              "└─────────────────────────────────┴────────────────────────┴───────────────┘\n",
              "</pre>\n"
            ],
            "text/plain": [
              "┏━━━━━━━━━━━━━━━━━━━━━━━━━━━━━━━━━┳━━━━━━━━━━━━━━━━━━━━━━━━┳━━━━━━━━━━━━━━━┓\n",
              "┃\u001b[1m \u001b[0m\u001b[1mLayer (type)                   \u001b[0m\u001b[1m \u001b[0m┃\u001b[1m \u001b[0m\u001b[1mOutput Shape          \u001b[0m\u001b[1m \u001b[0m┃\u001b[1m \u001b[0m\u001b[1m      Param #\u001b[0m\u001b[1m \u001b[0m┃\n",
              "┡━━━━━━━━━━━━━━━━━━━━━━━━━━━━━━━━━╇━━━━━━━━━━━━━━━━━━━━━━━━╇━━━━━━━━━━━━━━━┩\n",
              "│ conv1d_3 (\u001b[38;5;33mConv1D\u001b[0m)               │ (\u001b[38;5;45mNone\u001b[0m, \u001b[38;5;34m8\u001b[0m, \u001b[38;5;34m64\u001b[0m)          │           \u001b[38;5;34m256\u001b[0m │\n",
              "├─────────────────────────────────┼────────────────────────┼───────────────┤\n",
              "│ batch_normalization_3           │ (\u001b[38;5;45mNone\u001b[0m, \u001b[38;5;34m8\u001b[0m, \u001b[38;5;34m64\u001b[0m)          │           \u001b[38;5;34m256\u001b[0m │\n",
              "│ (\u001b[38;5;33mBatchNormalization\u001b[0m)            │                        │               │\n",
              "├─────────────────────────────────┼────────────────────────┼───────────────┤\n",
              "│ activation_3 (\u001b[38;5;33mActivation\u001b[0m)       │ (\u001b[38;5;45mNone\u001b[0m, \u001b[38;5;34m8\u001b[0m, \u001b[38;5;34m64\u001b[0m)          │             \u001b[38;5;34m0\u001b[0m │\n",
              "├─────────────────────────────────┼────────────────────────┼───────────────┤\n",
              "│ dropout_3 (\u001b[38;5;33mDropout\u001b[0m)             │ (\u001b[38;5;45mNone\u001b[0m, \u001b[38;5;34m8\u001b[0m, \u001b[38;5;34m64\u001b[0m)          │             \u001b[38;5;34m0\u001b[0m │\n",
              "├─────────────────────────────────┼────────────────────────┼───────────────┤\n",
              "│ conv1d_4 (\u001b[38;5;33mConv1D\u001b[0m)               │ (\u001b[38;5;45mNone\u001b[0m, \u001b[38;5;34m8\u001b[0m, \u001b[38;5;34m128\u001b[0m)         │        \u001b[38;5;34m24,704\u001b[0m │\n",
              "├─────────────────────────────────┼────────────────────────┼───────────────┤\n",
              "│ batch_normalization_4           │ (\u001b[38;5;45mNone\u001b[0m, \u001b[38;5;34m8\u001b[0m, \u001b[38;5;34m128\u001b[0m)         │           \u001b[38;5;34m512\u001b[0m │\n",
              "│ (\u001b[38;5;33mBatchNormalization\u001b[0m)            │                        │               │\n",
              "├─────────────────────────────────┼────────────────────────┼───────────────┤\n",
              "│ activation_4 (\u001b[38;5;33mActivation\u001b[0m)       │ (\u001b[38;5;45mNone\u001b[0m, \u001b[38;5;34m8\u001b[0m, \u001b[38;5;34m128\u001b[0m)         │             \u001b[38;5;34m0\u001b[0m │\n",
              "├─────────────────────────────────┼────────────────────────┼───────────────┤\n",
              "│ dropout_4 (\u001b[38;5;33mDropout\u001b[0m)             │ (\u001b[38;5;45mNone\u001b[0m, \u001b[38;5;34m8\u001b[0m, \u001b[38;5;34m128\u001b[0m)         │             \u001b[38;5;34m0\u001b[0m │\n",
              "├─────────────────────────────────┼────────────────────────┼───────────────┤\n",
              "│ conv1d_5 (\u001b[38;5;33mConv1D\u001b[0m)               │ (\u001b[38;5;45mNone\u001b[0m, \u001b[38;5;34m8\u001b[0m, \u001b[38;5;34m128\u001b[0m)         │        \u001b[38;5;34m49,280\u001b[0m │\n",
              "├─────────────────────────────────┼────────────────────────┼───────────────┤\n",
              "│ batch_normalization_5           │ (\u001b[38;5;45mNone\u001b[0m, \u001b[38;5;34m8\u001b[0m, \u001b[38;5;34m128\u001b[0m)         │           \u001b[38;5;34m512\u001b[0m │\n",
              "│ (\u001b[38;5;33mBatchNormalization\u001b[0m)            │                        │               │\n",
              "├─────────────────────────────────┼────────────────────────┼───────────────┤\n",
              "│ activation_5 (\u001b[38;5;33mActivation\u001b[0m)       │ (\u001b[38;5;45mNone\u001b[0m, \u001b[38;5;34m8\u001b[0m, \u001b[38;5;34m128\u001b[0m)         │             \u001b[38;5;34m0\u001b[0m │\n",
              "├─────────────────────────────────┼────────────────────────┼───────────────┤\n",
              "│ global_average_pooling1d_1      │ (\u001b[38;5;45mNone\u001b[0m, \u001b[38;5;34m128\u001b[0m)            │             \u001b[38;5;34m0\u001b[0m │\n",
              "│ (\u001b[38;5;33mGlobalAveragePooling1D\u001b[0m)        │                        │               │\n",
              "├─────────────────────────────────┼────────────────────────┼───────────────┤\n",
              "│ dense_2 (\u001b[38;5;33mDense\u001b[0m)                 │ (\u001b[38;5;45mNone\u001b[0m, \u001b[38;5;34m64\u001b[0m)             │         \u001b[38;5;34m8,256\u001b[0m │\n",
              "├─────────────────────────────────┼────────────────────────┼───────────────┤\n",
              "│ dropout_5 (\u001b[38;5;33mDropout\u001b[0m)             │ (\u001b[38;5;45mNone\u001b[0m, \u001b[38;5;34m64\u001b[0m)             │             \u001b[38;5;34m0\u001b[0m │\n",
              "├─────────────────────────────────┼────────────────────────┼───────────────┤\n",
              "│ dense_3 (\u001b[38;5;33mDense\u001b[0m)                 │ (\u001b[38;5;45mNone\u001b[0m, \u001b[38;5;34m1\u001b[0m)              │            \u001b[38;5;34m65\u001b[0m │\n",
              "└─────────────────────────────────┴────────────────────────┴───────────────┘\n"
            ]
          },
          "metadata": {},
          "output_type": "display_data"
        },
        {
          "data": {
            "text/html": [
              "<pre style=\"white-space:pre;overflow-x:auto;line-height:normal;font-family:Menlo,'DejaVu Sans Mono',consolas,'Courier New',monospace\"><span style=\"font-weight: bold\"> Total params: </span><span style=\"color: #00af00; text-decoration-color: #00af00\">83,841</span> (327.50 KB)\n",
              "</pre>\n"
            ],
            "text/plain": [
              "\u001b[1m Total params: \u001b[0m\u001b[38;5;34m83,841\u001b[0m (327.50 KB)\n"
            ]
          },
          "metadata": {},
          "output_type": "display_data"
        },
        {
          "data": {
            "text/html": [
              "<pre style=\"white-space:pre;overflow-x:auto;line-height:normal;font-family:Menlo,'DejaVu Sans Mono',consolas,'Courier New',monospace\"><span style=\"font-weight: bold\"> Trainable params: </span><span style=\"color: #00af00; text-decoration-color: #00af00\">83,201</span> (325.00 KB)\n",
              "</pre>\n"
            ],
            "text/plain": [
              "\u001b[1m Trainable params: \u001b[0m\u001b[38;5;34m83,201\u001b[0m (325.00 KB)\n"
            ]
          },
          "metadata": {},
          "output_type": "display_data"
        },
        {
          "data": {
            "text/html": [
              "<pre style=\"white-space:pre;overflow-x:auto;line-height:normal;font-family:Menlo,'DejaVu Sans Mono',consolas,'Courier New',monospace\"><span style=\"font-weight: bold\"> Non-trainable params: </span><span style=\"color: #00af00; text-decoration-color: #00af00\">640</span> (2.50 KB)\n",
              "</pre>\n"
            ],
            "text/plain": [
              "\u001b[1m Non-trainable params: \u001b[0m\u001b[38;5;34m640\u001b[0m (2.50 KB)\n"
            ]
          },
          "metadata": {},
          "output_type": "display_data"
        }
      ],
      "source": [
        "# Colab cell 6: Random Forest baseline\n",
        "from sklearn.ensemble import RandomForestClassifier\n",
        "from sklearn.metrics import classification_report, confusion_matrix, roc_auc_score\n",
        "\n",
        "rf = RandomForestClassifier(n_estimators=200, random_state=42)\n",
        "rf.fit(X_train, y_train)\n",
        "y_pred_rf = rf.predict(X_test)\n",
        "y_proba_rf = rf.predict_proba(X_test)[:,1]\n",
        "\n",
        "print(\"Random Forest - classification report\")\n",
        "print(classification_report(y_test, y_pred_rf))\n",
        "print(\"Confusion matrix:\\n\", confusion_matrix(y_test, y_pred_rf))\n",
        "print(\"ROC AUC:\", roc_auc_score(y_test, y_proba_rf))\n"
      ]
    },
    {
      "cell_type": "code",
      "execution_count": null,
      "metadata": {
        "colab": {
          "base_uri": "https://localhost:8080/"
        },
        "id": "BDBFcdKw030-",
        "outputId": "c0374f59-6eff-4ffd-c92e-8aad5eff9a0f"
      },
      "outputs": [
        {
          "name": "stdout",
          "output_type": "stream",
          "text": [
            "Class weights: {0: np.float64(0.7671428571428571), 1: np.float64(1.4358288770053476)}\n"
          ]
        }
      ],
      "source": [
        "# Colab cell 7: XGBoost\n",
        "import xgboost as xgb\n",
        "from sklearn.metrics import accuracy_score\n",
        "\n",
        "xg = xgb.XGBClassifier(use_label_encoder=False, eval_metric='logloss', random_state=42)\n",
        "xg.fit(X_train, y_train)\n",
        "y_pred_xg = xg.predict(X_test)\n",
        "y_proba_xg = xg.predict_proba(X_test)[:,1]\n",
        "print(\"XGBoost accuracy:\", accuracy_score(y_test, y_pred_xg))\n",
        "print(classification_report(y_test, y_pred_xg))\n",
        "print(\"ROC AUC:\", roc_auc_score(y_test, y_proba_xg))\n"
      ]
    },
    {
      "cell_type": "code",
      "execution_count": null,
      "metadata": {
        "colab": {
          "base_uri": "https://localhost:8080/"
        },
        "id": "l4wln6-706XN",
        "outputId": "b7a53d06-0fa6-4c1b-dec8-e9419265c30d"
      },
      "outputs": [
        {
          "name": "stdout",
          "output_type": "stream",
          "text": [
            "Epoch 1/150\n"
          ]
        },
        {
          "name": "stderr",
          "output_type": "stream",
          "text": [
            "/usr/local/lib/python3.12/dist-packages/keras/src/callbacks/model_checkpoint.py:302: UserWarning: Can save best model only with val_auc available.\n",
            "  if self._should_save_model(epoch, batch, logs, filepath):\n",
            "WARNING:absl:You are saving your model as an HDF5 file via `model.save()` or `keras.saving.save_model(model)`. This file format is considered legacy. We recommend using instead the native Keras format, e.g. `model.save('my_model.keras')` or `keras.saving.save_model(model, 'my_model.keras')`. \n"
          ]
        },
        {
          "name": "stdout",
          "output_type": "stream",
          "text": [
            "17/17 - 6s - 357ms/step - AUC: 0.7671 - Accuracy: 0.6909 - loss: 0.6023 - val_AUC: 0.7870 - val_Accuracy: 0.7304 - val_loss: 0.6639 - learning_rate: 1.0000e-03\n",
            "Epoch 2/150\n"
          ]
        },
        {
          "name": "stderr",
          "output_type": "stream",
          "text": [
            "/usr/local/lib/python3.12/dist-packages/keras/src/callbacks/early_stopping.py:153: UserWarning: Early stopping conditioned on metric `val_auc` which is not available. Available metrics are: AUC,Accuracy,loss,val_AUC,val_Accuracy,val_loss\n",
            "  current = self.get_monitor_value(logs)\n",
            "/usr/local/lib/python3.12/dist-packages/keras/src/callbacks/callback_list.py:145: UserWarning: Learning rate reduction is conditioned on metric `val_auc` which is not available. Available metrics are: AUC,Accuracy,loss,val_AUC,val_Accuracy,val_loss,learning_rate.\n",
            "  callback.on_epoch_end(epoch, logs)\n",
            "WARNING:absl:You are saving your model as an HDF5 file via `model.save()` or `keras.saving.save_model(model)`. This file format is considered legacy. We recommend using instead the native Keras format, e.g. `model.save('my_model.keras')` or `keras.saving.save_model(model, 'my_model.keras')`. \n"
          ]
        },
        {
          "name": "stdout",
          "output_type": "stream",
          "text": [
            "17/17 - 0s - 23ms/step - AUC: 0.7995 - Accuracy: 0.7225 - loss: 0.5751 - val_AUC: 0.7900 - val_Accuracy: 0.6783 - val_loss: 0.6632 - learning_rate: 1.0000e-03\n",
            "Epoch 3/150\n"
          ]
        },
        {
          "name": "stderr",
          "output_type": "stream",
          "text": [
            "WARNING:absl:You are saving your model as an HDF5 file via `model.save()` or `keras.saving.save_model(model)`. This file format is considered legacy. We recommend using instead the native Keras format, e.g. `model.save('my_model.keras')` or `keras.saving.save_model(model, 'my_model.keras')`. \n"
          ]
        },
        {
          "name": "stdout",
          "output_type": "stream",
          "text": [
            "17/17 - 0s - 21ms/step - AUC: 0.8005 - Accuracy: 0.6927 - loss: 0.5653 - val_AUC: 0.7928 - val_Accuracy: 0.6783 - val_loss: 0.6606 - learning_rate: 1.0000e-03\n",
            "Epoch 4/150\n"
          ]
        },
        {
          "name": "stderr",
          "output_type": "stream",
          "text": [
            "WARNING:absl:You are saving your model as an HDF5 file via `model.save()` or `keras.saving.save_model(model)`. This file format is considered legacy. We recommend using instead the native Keras format, e.g. `model.save('my_model.keras')` or `keras.saving.save_model(model, 'my_model.keras')`. \n"
          ]
        },
        {
          "name": "stdout",
          "output_type": "stream",
          "text": [
            "17/17 - 0s - 23ms/step - AUC: 0.8055 - Accuracy: 0.7300 - loss: 0.5714 - val_AUC: 0.8097 - val_Accuracy: 0.6957 - val_loss: 0.6512 - learning_rate: 1.0000e-03\n",
            "Epoch 5/150\n"
          ]
        },
        {
          "name": "stderr",
          "output_type": "stream",
          "text": [
            "WARNING:absl:You are saving your model as an HDF5 file via `model.save()` or `keras.saving.save_model(model)`. This file format is considered legacy. We recommend using instead the native Keras format, e.g. `model.save('my_model.keras')` or `keras.saving.save_model(model, 'my_model.keras')`. \n"
          ]
        },
        {
          "name": "stdout",
          "output_type": "stream",
          "text": [
            "17/17 - 0s - 20ms/step - AUC: 0.8355 - Accuracy: 0.7393 - loss: 0.5307 - val_AUC: 0.8000 - val_Accuracy: 0.6870 - val_loss: 0.6536 - learning_rate: 1.0000e-03\n",
            "Epoch 6/150\n"
          ]
        },
        {
          "name": "stderr",
          "output_type": "stream",
          "text": [
            "WARNING:absl:You are saving your model as an HDF5 file via `model.save()` or `keras.saving.save_model(model)`. This file format is considered legacy. We recommend using instead the native Keras format, e.g. `model.save('my_model.keras')` or `keras.saving.save_model(model, 'my_model.keras')`. \n"
          ]
        },
        {
          "name": "stdout",
          "output_type": "stream",
          "text": [
            "17/17 - 0s - 21ms/step - AUC: 0.8217 - Accuracy: 0.7412 - loss: 0.5431 - val_AUC: 0.8125 - val_Accuracy: 0.6870 - val_loss: 0.6602 - learning_rate: 1.0000e-03\n",
            "Epoch 7/150\n"
          ]
        },
        {
          "name": "stderr",
          "output_type": "stream",
          "text": [
            "WARNING:absl:You are saving your model as an HDF5 file via `model.save()` or `keras.saving.save_model(model)`. This file format is considered legacy. We recommend using instead the native Keras format, e.g. `model.save('my_model.keras')` or `keras.saving.save_model(model, 'my_model.keras')`. \n"
          ]
        },
        {
          "name": "stdout",
          "output_type": "stream",
          "text": [
            "17/17 - 0s - 28ms/step - AUC: 0.8285 - Accuracy: 0.7486 - loss: 0.5385 - val_AUC: 0.8165 - val_Accuracy: 0.6870 - val_loss: 0.6571 - learning_rate: 1.0000e-03\n",
            "Epoch 8/150\n"
          ]
        },
        {
          "name": "stderr",
          "output_type": "stream",
          "text": [
            "WARNING:absl:You are saving your model as an HDF5 file via `model.save()` or `keras.saving.save_model(model)`. This file format is considered legacy. We recommend using instead the native Keras format, e.g. `model.save('my_model.keras')` or `keras.saving.save_model(model, 'my_model.keras')`. \n"
          ]
        },
        {
          "name": "stdout",
          "output_type": "stream",
          "text": [
            "17/17 - 0s - 23ms/step - AUC: 0.8379 - Accuracy: 0.7654 - loss: 0.5246 - val_AUC: 0.8155 - val_Accuracy: 0.6870 - val_loss: 0.6378 - learning_rate: 1.0000e-03\n",
            "Epoch 9/150\n"
          ]
        },
        {
          "name": "stderr",
          "output_type": "stream",
          "text": [
            "WARNING:absl:You are saving your model as an HDF5 file via `model.save()` or `keras.saving.save_model(model)`. This file format is considered legacy. We recommend using instead the native Keras format, e.g. `model.save('my_model.keras')` or `keras.saving.save_model(model, 'my_model.keras')`. \n"
          ]
        },
        {
          "name": "stdout",
          "output_type": "stream",
          "text": [
            "17/17 - 0s - 22ms/step - AUC: 0.8408 - Accuracy: 0.7505 - loss: 0.5208 - val_AUC: 0.8162 - val_Accuracy: 0.6870 - val_loss: 0.6412 - learning_rate: 1.0000e-03\n",
            "Epoch 10/150\n"
          ]
        },
        {
          "name": "stderr",
          "output_type": "stream",
          "text": [
            "WARNING:absl:You are saving your model as an HDF5 file via `model.save()` or `keras.saving.save_model(model)`. This file format is considered legacy. We recommend using instead the native Keras format, e.g. `model.save('my_model.keras')` or `keras.saving.save_model(model, 'my_model.keras')`. \n"
          ]
        },
        {
          "name": "stdout",
          "output_type": "stream",
          "text": [
            "17/17 - 1s - 34ms/step - AUC: 0.8450 - Accuracy: 0.7505 - loss: 0.5200 - val_AUC: 0.8185 - val_Accuracy: 0.6870 - val_loss: 0.6473 - learning_rate: 1.0000e-03\n",
            "Epoch 11/150\n"
          ]
        },
        {
          "name": "stderr",
          "output_type": "stream",
          "text": [
            "WARNING:absl:You are saving your model as an HDF5 file via `model.save()` or `keras.saving.save_model(model)`. This file format is considered legacy. We recommend using instead the native Keras format, e.g. `model.save('my_model.keras')` or `keras.saving.save_model(model, 'my_model.keras')`. \n"
          ]
        },
        {
          "name": "stdout",
          "output_type": "stream",
          "text": [
            "17/17 - 1s - 38ms/step - AUC: 0.8414 - Accuracy: 0.7486 - loss: 0.5196 - val_AUC: 0.8292 - val_Accuracy: 0.6957 - val_loss: 0.6287 - learning_rate: 1.0000e-03\n",
            "Epoch 12/150\n"
          ]
        },
        {
          "name": "stderr",
          "output_type": "stream",
          "text": [
            "WARNING:absl:You are saving your model as an HDF5 file via `model.save()` or `keras.saving.save_model(model)`. This file format is considered legacy. We recommend using instead the native Keras format, e.g. `model.save('my_model.keras')` or `keras.saving.save_model(model, 'my_model.keras')`. \n"
          ]
        },
        {
          "name": "stdout",
          "output_type": "stream",
          "text": [
            "17/17 - 0s - 21ms/step - AUC: 0.8536 - Accuracy: 0.7765 - loss: 0.5039 - val_AUC: 0.8282 - val_Accuracy: 0.7304 - val_loss: 0.5773 - learning_rate: 1.0000e-03\n",
            "Epoch 13/150\n"
          ]
        },
        {
          "name": "stderr",
          "output_type": "stream",
          "text": [
            "WARNING:absl:You are saving your model as an HDF5 file via `model.save()` or `keras.saving.save_model(model)`. This file format is considered legacy. We recommend using instead the native Keras format, e.g. `model.save('my_model.keras')` or `keras.saving.save_model(model, 'my_model.keras')`. \n"
          ]
        },
        {
          "name": "stdout",
          "output_type": "stream",
          "text": [
            "17/17 - 0s - 23ms/step - AUC: 0.8531 - Accuracy: 0.7728 - loss: 0.5136 - val_AUC: 0.8347 - val_Accuracy: 0.7217 - val_loss: 0.5766 - learning_rate: 1.0000e-03\n",
            "Epoch 14/150\n"
          ]
        },
        {
          "name": "stderr",
          "output_type": "stream",
          "text": [
            "WARNING:absl:You are saving your model as an HDF5 file via `model.save()` or `keras.saving.save_model(model)`. This file format is considered legacy. We recommend using instead the native Keras format, e.g. `model.save('my_model.keras')` or `keras.saving.save_model(model, 'my_model.keras')`. \n"
          ]
        },
        {
          "name": "stdout",
          "output_type": "stream",
          "text": [
            "17/17 - 0s - 20ms/step - AUC: 0.8539 - Accuracy: 0.7654 - loss: 0.5021 - val_AUC: 0.8508 - val_Accuracy: 0.7478 - val_loss: 0.5530 - learning_rate: 1.0000e-03\n",
            "Epoch 15/150\n"
          ]
        },
        {
          "name": "stderr",
          "output_type": "stream",
          "text": [
            "WARNING:absl:You are saving your model as an HDF5 file via `model.save()` or `keras.saving.save_model(model)`. This file format is considered legacy. We recommend using instead the native Keras format, e.g. `model.save('my_model.keras')` or `keras.saving.save_model(model, 'my_model.keras')`. \n"
          ]
        },
        {
          "name": "stdout",
          "output_type": "stream",
          "text": [
            "17/17 - 0s - 20ms/step - AUC: 0.8640 - Accuracy: 0.7784 - loss: 0.4963 - val_AUC: 0.8427 - val_Accuracy: 0.7304 - val_loss: 0.5850 - learning_rate: 1.0000e-03\n",
            "Epoch 16/150\n"
          ]
        },
        {
          "name": "stderr",
          "output_type": "stream",
          "text": [
            "WARNING:absl:You are saving your model as an HDF5 file via `model.save()` or `keras.saving.save_model(model)`. This file format is considered legacy. We recommend using instead the native Keras format, e.g. `model.save('my_model.keras')` or `keras.saving.save_model(model, 'my_model.keras')`. \n"
          ]
        },
        {
          "name": "stdout",
          "output_type": "stream",
          "text": [
            "17/17 - 1s - 35ms/step - AUC: 0.8610 - Accuracy: 0.7765 - loss: 0.4901 - val_AUC: 0.8517 - val_Accuracy: 0.7652 - val_loss: 0.5236 - learning_rate: 1.0000e-03\n",
            "Epoch 17/150\n"
          ]
        },
        {
          "name": "stderr",
          "output_type": "stream",
          "text": [
            "WARNING:absl:You are saving your model as an HDF5 file via `model.save()` or `keras.saving.save_model(model)`. This file format is considered legacy. We recommend using instead the native Keras format, e.g. `model.save('my_model.keras')` or `keras.saving.save_model(model, 'my_model.keras')`. \n"
          ]
        },
        {
          "name": "stdout",
          "output_type": "stream",
          "text": [
            "17/17 - 1s - 76ms/step - AUC: 0.8583 - Accuracy: 0.7654 - loss: 0.4994 - val_AUC: 0.8512 - val_Accuracy: 0.7652 - val_loss: 0.5462 - learning_rate: 1.0000e-03\n",
            "Epoch 18/150\n"
          ]
        },
        {
          "name": "stderr",
          "output_type": "stream",
          "text": [
            "WARNING:absl:You are saving your model as an HDF5 file via `model.save()` or `keras.saving.save_model(model)`. This file format is considered legacy. We recommend using instead the native Keras format, e.g. `model.save('my_model.keras')` or `keras.saving.save_model(model, 'my_model.keras')`. \n"
          ]
        },
        {
          "name": "stdout",
          "output_type": "stream",
          "text": [
            "17/17 - 1s - 31ms/step - AUC: 0.8538 - Accuracy: 0.7784 - loss: 0.5065 - val_AUC: 0.8447 - val_Accuracy: 0.7565 - val_loss: 0.5334 - learning_rate: 1.0000e-03\n",
            "Epoch 19/150\n"
          ]
        },
        {
          "name": "stderr",
          "output_type": "stream",
          "text": [
            "WARNING:absl:You are saving your model as an HDF5 file via `model.save()` or `keras.saving.save_model(model)`. This file format is considered legacy. We recommend using instead the native Keras format, e.g. `model.save('my_model.keras')` or `keras.saving.save_model(model, 'my_model.keras')`. \n"
          ]
        },
        {
          "name": "stdout",
          "output_type": "stream",
          "text": [
            "17/17 - 0s - 25ms/step - AUC: 0.8719 - Accuracy: 0.7952 - loss: 0.4814 - val_AUC: 0.8487 - val_Accuracy: 0.7565 - val_loss: 0.5272 - learning_rate: 1.0000e-03\n",
            "Epoch 20/150\n"
          ]
        },
        {
          "name": "stderr",
          "output_type": "stream",
          "text": [
            "WARNING:absl:You are saving your model as an HDF5 file via `model.save()` or `keras.saving.save_model(model)`. This file format is considered legacy. We recommend using instead the native Keras format, e.g. `model.save('my_model.keras')` or `keras.saving.save_model(model, 'my_model.keras')`. \n"
          ]
        },
        {
          "name": "stdout",
          "output_type": "stream",
          "text": [
            "17/17 - 1s - 32ms/step - AUC: 0.8723 - Accuracy: 0.7765 - loss: 0.4811 - val_AUC: 0.8473 - val_Accuracy: 0.7478 - val_loss: 0.5284 - learning_rate: 1.0000e-03\n",
            "Epoch 21/150\n"
          ]
        },
        {
          "name": "stderr",
          "output_type": "stream",
          "text": [
            "WARNING:absl:You are saving your model as an HDF5 file via `model.save()` or `keras.saving.save_model(model)`. This file format is considered legacy. We recommend using instead the native Keras format, e.g. `model.save('my_model.keras')` or `keras.saving.save_model(model, 'my_model.keras')`. \n"
          ]
        },
        {
          "name": "stdout",
          "output_type": "stream",
          "text": [
            "17/17 - 0s - 22ms/step - AUC: 0.8798 - Accuracy: 0.7896 - loss: 0.4616 - val_AUC: 0.8533 - val_Accuracy: 0.7565 - val_loss: 0.5267 - learning_rate: 1.0000e-03\n",
            "Epoch 22/150\n"
          ]
        },
        {
          "name": "stderr",
          "output_type": "stream",
          "text": [
            "WARNING:absl:You are saving your model as an HDF5 file via `model.save()` or `keras.saving.save_model(model)`. This file format is considered legacy. We recommend using instead the native Keras format, e.g. `model.save('my_model.keras')` or `keras.saving.save_model(model, 'my_model.keras')`. \n"
          ]
        },
        {
          "name": "stdout",
          "output_type": "stream",
          "text": [
            "17/17 - 0s - 19ms/step - AUC: 0.8680 - Accuracy: 0.7803 - loss: 0.4776 - val_AUC: 0.8497 - val_Accuracy: 0.7391 - val_loss: 0.5613 - learning_rate: 1.0000e-03\n",
            "Epoch 23/150\n"
          ]
        },
        {
          "name": "stderr",
          "output_type": "stream",
          "text": [
            "WARNING:absl:You are saving your model as an HDF5 file via `model.save()` or `keras.saving.save_model(model)`. This file format is considered legacy. We recommend using instead the native Keras format, e.g. `model.save('my_model.keras')` or `keras.saving.save_model(model, 'my_model.keras')`. \n"
          ]
        },
        {
          "name": "stdout",
          "output_type": "stream",
          "text": [
            "17/17 - 0s - 21ms/step - AUC: 0.8586 - Accuracy: 0.7691 - loss: 0.4921 - val_AUC: 0.8453 - val_Accuracy: 0.7565 - val_loss: 0.5399 - learning_rate: 1.0000e-03\n",
            "Epoch 24/150\n"
          ]
        },
        {
          "name": "stderr",
          "output_type": "stream",
          "text": [
            "WARNING:absl:You are saving your model as an HDF5 file via `model.save()` or `keras.saving.save_model(model)`. This file format is considered legacy. We recommend using instead the native Keras format, e.g. `model.save('my_model.keras')` or `keras.saving.save_model(model, 'my_model.keras')`. \n"
          ]
        },
        {
          "name": "stdout",
          "output_type": "stream",
          "text": [
            "17/17 - 0s - 22ms/step - AUC: 0.8714 - Accuracy: 0.7914 - loss: 0.4816 - val_AUC: 0.8460 - val_Accuracy: 0.7739 - val_loss: 0.4963 - learning_rate: 1.0000e-03\n",
            "Epoch 25/150\n"
          ]
        },
        {
          "name": "stderr",
          "output_type": "stream",
          "text": [
            "WARNING:absl:You are saving your model as an HDF5 file via `model.save()` or `keras.saving.save_model(model)`. This file format is considered legacy. We recommend using instead the native Keras format, e.g. `model.save('my_model.keras')` or `keras.saving.save_model(model, 'my_model.keras')`. \n"
          ]
        },
        {
          "name": "stdout",
          "output_type": "stream",
          "text": [
            "17/17 - 0s - 19ms/step - AUC: 0.8766 - Accuracy: 0.7896 - loss: 0.4718 - val_AUC: 0.8507 - val_Accuracy: 0.7652 - val_loss: 0.5126 - learning_rate: 1.0000e-03\n",
            "Epoch 26/150\n"
          ]
        },
        {
          "name": "stderr",
          "output_type": "stream",
          "text": [
            "WARNING:absl:You are saving your model as an HDF5 file via `model.save()` or `keras.saving.save_model(model)`. This file format is considered legacy. We recommend using instead the native Keras format, e.g. `model.save('my_model.keras')` or `keras.saving.save_model(model, 'my_model.keras')`. \n"
          ]
        },
        {
          "name": "stdout",
          "output_type": "stream",
          "text": [
            "17/17 - 0s - 21ms/step - AUC: 0.8771 - Accuracy: 0.7896 - loss: 0.4698 - val_AUC: 0.8453 - val_Accuracy: 0.7478 - val_loss: 0.5453 - learning_rate: 1.0000e-03\n",
            "Epoch 27/150\n"
          ]
        },
        {
          "name": "stderr",
          "output_type": "stream",
          "text": [
            "WARNING:absl:You are saving your model as an HDF5 file via `model.save()` or `keras.saving.save_model(model)`. This file format is considered legacy. We recommend using instead the native Keras format, e.g. `model.save('my_model.keras')` or `keras.saving.save_model(model, 'my_model.keras')`. \n"
          ]
        },
        {
          "name": "stdout",
          "output_type": "stream",
          "text": [
            "17/17 - 0s - 20ms/step - AUC: 0.8748 - Accuracy: 0.7933 - loss: 0.4693 - val_AUC: 0.8437 - val_Accuracy: 0.7652 - val_loss: 0.5044 - learning_rate: 1.0000e-03\n",
            "Epoch 28/150\n"
          ]
        },
        {
          "name": "stderr",
          "output_type": "stream",
          "text": [
            "WARNING:absl:You are saving your model as an HDF5 file via `model.save()` or `keras.saving.save_model(model)`. This file format is considered legacy. We recommend using instead the native Keras format, e.g. `model.save('my_model.keras')` or `keras.saving.save_model(model, 'my_model.keras')`. \n"
          ]
        },
        {
          "name": "stdout",
          "output_type": "stream",
          "text": [
            "17/17 - 0s - 20ms/step - AUC: 0.8807 - Accuracy: 0.7914 - loss: 0.4633 - val_AUC: 0.8355 - val_Accuracy: 0.7565 - val_loss: 0.5385 - learning_rate: 1.0000e-03\n",
            "Epoch 29/150\n"
          ]
        },
        {
          "name": "stderr",
          "output_type": "stream",
          "text": [
            "WARNING:absl:You are saving your model as an HDF5 file via `model.save()` or `keras.saving.save_model(model)`. This file format is considered legacy. We recommend using instead the native Keras format, e.g. `model.save('my_model.keras')` or `keras.saving.save_model(model, 'my_model.keras')`. \n"
          ]
        },
        {
          "name": "stdout",
          "output_type": "stream",
          "text": [
            "17/17 - 0s - 20ms/step - AUC: 0.8719 - Accuracy: 0.7821 - loss: 0.4776 - val_AUC: 0.8468 - val_Accuracy: 0.7652 - val_loss: 0.5244 - learning_rate: 1.0000e-03\n",
            "Epoch 30/150\n"
          ]
        },
        {
          "name": "stderr",
          "output_type": "stream",
          "text": [
            "WARNING:absl:You are saving your model as an HDF5 file via `model.save()` or `keras.saving.save_model(model)`. This file format is considered legacy. We recommend using instead the native Keras format, e.g. `model.save('my_model.keras')` or `keras.saving.save_model(model, 'my_model.keras')`. \n"
          ]
        },
        {
          "name": "stdout",
          "output_type": "stream",
          "text": [
            "17/17 - 0s - 21ms/step - AUC: 0.8883 - Accuracy: 0.7896 - loss: 0.4494 - val_AUC: 0.8447 - val_Accuracy: 0.7478 - val_loss: 0.5381 - learning_rate: 1.0000e-03\n",
            "Epoch 31/150\n"
          ]
        },
        {
          "name": "stderr",
          "output_type": "stream",
          "text": [
            "WARNING:absl:You are saving your model as an HDF5 file via `model.save()` or `keras.saving.save_model(model)`. This file format is considered legacy. We recommend using instead the native Keras format, e.g. `model.save('my_model.keras')` or `keras.saving.save_model(model, 'my_model.keras')`. \n"
          ]
        },
        {
          "name": "stdout",
          "output_type": "stream",
          "text": [
            "17/17 - 0s - 23ms/step - AUC: 0.8758 - Accuracy: 0.7877 - loss: 0.4698 - val_AUC: 0.8443 - val_Accuracy: 0.7565 - val_loss: 0.5682 - learning_rate: 1.0000e-03\n",
            "Epoch 32/150\n"
          ]
        },
        {
          "name": "stderr",
          "output_type": "stream",
          "text": [
            "WARNING:absl:You are saving your model as an HDF5 file via `model.save()` or `keras.saving.save_model(model)`. This file format is considered legacy. We recommend using instead the native Keras format, e.g. `model.save('my_model.keras')` or `keras.saving.save_model(model, 'my_model.keras')`. \n"
          ]
        },
        {
          "name": "stdout",
          "output_type": "stream",
          "text": [
            "17/17 - 0s - 21ms/step - AUC: 0.8828 - Accuracy: 0.7933 - loss: 0.4619 - val_AUC: 0.8488 - val_Accuracy: 0.7565 - val_loss: 0.5576 - learning_rate: 1.0000e-03\n",
            "Epoch 33/150\n"
          ]
        },
        {
          "name": "stderr",
          "output_type": "stream",
          "text": [
            "WARNING:absl:You are saving your model as an HDF5 file via `model.save()` or `keras.saving.save_model(model)`. This file format is considered legacy. We recommend using instead the native Keras format, e.g. `model.save('my_model.keras')` or `keras.saving.save_model(model, 'my_model.keras')`. \n"
          ]
        },
        {
          "name": "stdout",
          "output_type": "stream",
          "text": [
            "17/17 - 0s - 23ms/step - AUC: 0.8757 - Accuracy: 0.7914 - loss: 0.4735 - val_AUC: 0.8500 - val_Accuracy: 0.7652 - val_loss: 0.5309 - learning_rate: 1.0000e-03\n",
            "Epoch 34/150\n"
          ]
        },
        {
          "name": "stderr",
          "output_type": "stream",
          "text": [
            "WARNING:absl:You are saving your model as an HDF5 file via `model.save()` or `keras.saving.save_model(model)`. This file format is considered legacy. We recommend using instead the native Keras format, e.g. `model.save('my_model.keras')` or `keras.saving.save_model(model, 'my_model.keras')`. \n"
          ]
        },
        {
          "name": "stdout",
          "output_type": "stream",
          "text": [
            "17/17 - 0s - 21ms/step - AUC: 0.8883 - Accuracy: 0.7952 - loss: 0.4488 - val_AUC: 0.8512 - val_Accuracy: 0.7652 - val_loss: 0.5312 - learning_rate: 1.0000e-03\n",
            "Epoch 35/150\n"
          ]
        },
        {
          "name": "stderr",
          "output_type": "stream",
          "text": [
            "WARNING:absl:You are saving your model as an HDF5 file via `model.save()` or `keras.saving.save_model(model)`. This file format is considered legacy. We recommend using instead the native Keras format, e.g. `model.save('my_model.keras')` or `keras.saving.save_model(model, 'my_model.keras')`. \n"
          ]
        },
        {
          "name": "stdout",
          "output_type": "stream",
          "text": [
            "17/17 - 0s - 23ms/step - AUC: 0.8940 - Accuracy: 0.8138 - loss: 0.4403 - val_AUC: 0.8512 - val_Accuracy: 0.7913 - val_loss: 0.5491 - learning_rate: 1.0000e-03\n",
            "Epoch 36/150\n"
          ]
        },
        {
          "name": "stderr",
          "output_type": "stream",
          "text": [
            "WARNING:absl:You are saving your model as an HDF5 file via `model.save()` or `keras.saving.save_model(model)`. This file format is considered legacy. We recommend using instead the native Keras format, e.g. `model.save('my_model.keras')` or `keras.saving.save_model(model, 'my_model.keras')`. \n"
          ]
        },
        {
          "name": "stdout",
          "output_type": "stream",
          "text": [
            "17/17 - 0s - 22ms/step - AUC: 0.8839 - Accuracy: 0.8045 - loss: 0.4510 - val_AUC: 0.8495 - val_Accuracy: 0.7739 - val_loss: 0.5300 - learning_rate: 1.0000e-03\n",
            "Epoch 37/150\n"
          ]
        },
        {
          "name": "stderr",
          "output_type": "stream",
          "text": [
            "WARNING:absl:You are saving your model as an HDF5 file via `model.save()` or `keras.saving.save_model(model)`. This file format is considered legacy. We recommend using instead the native Keras format, e.g. `model.save('my_model.keras')` or `keras.saving.save_model(model, 'my_model.keras')`. \n"
          ]
        },
        {
          "name": "stdout",
          "output_type": "stream",
          "text": [
            "17/17 - 0s - 22ms/step - AUC: 0.8919 - Accuracy: 0.7952 - loss: 0.4436 - val_AUC: 0.8447 - val_Accuracy: 0.7391 - val_loss: 0.5524 - learning_rate: 1.0000e-03\n",
            "Epoch 38/150\n"
          ]
        },
        {
          "name": "stderr",
          "output_type": "stream",
          "text": [
            "WARNING:absl:You are saving your model as an HDF5 file via `model.save()` or `keras.saving.save_model(model)`. This file format is considered legacy. We recommend using instead the native Keras format, e.g. `model.save('my_model.keras')` or `keras.saving.save_model(model, 'my_model.keras')`. \n"
          ]
        },
        {
          "name": "stdout",
          "output_type": "stream",
          "text": [
            "17/17 - 0s - 23ms/step - AUC: 0.8882 - Accuracy: 0.8082 - loss: 0.4497 - val_AUC: 0.8560 - val_Accuracy: 0.7826 - val_loss: 0.5186 - learning_rate: 1.0000e-03\n",
            "Epoch 39/150\n"
          ]
        },
        {
          "name": "stderr",
          "output_type": "stream",
          "text": [
            "WARNING:absl:You are saving your model as an HDF5 file via `model.save()` or `keras.saving.save_model(model)`. This file format is considered legacy. We recommend using instead the native Keras format, e.g. `model.save('my_model.keras')` or `keras.saving.save_model(model, 'my_model.keras')`. \n"
          ]
        },
        {
          "name": "stdout",
          "output_type": "stream",
          "text": [
            "17/17 - 1s - 39ms/step - AUC: 0.9024 - Accuracy: 0.8082 - loss: 0.4282 - val_AUC: 0.8547 - val_Accuracy: 0.7913 - val_loss: 0.4998 - learning_rate: 1.0000e-03\n",
            "Epoch 40/150\n"
          ]
        },
        {
          "name": "stderr",
          "output_type": "stream",
          "text": [
            "WARNING:absl:You are saving your model as an HDF5 file via `model.save()` or `keras.saving.save_model(model)`. This file format is considered legacy. We recommend using instead the native Keras format, e.g. `model.save('my_model.keras')` or `keras.saving.save_model(model, 'my_model.keras')`. \n"
          ]
        },
        {
          "name": "stdout",
          "output_type": "stream",
          "text": [
            "17/17 - 0s - 27ms/step - AUC: 0.8957 - Accuracy: 0.8119 - loss: 0.4358 - val_AUC: 0.8503 - val_Accuracy: 0.7739 - val_loss: 0.5649 - learning_rate: 1.0000e-03\n",
            "Epoch 41/150\n"
          ]
        },
        {
          "name": "stderr",
          "output_type": "stream",
          "text": [
            "WARNING:absl:You are saving your model as an HDF5 file via `model.save()` or `keras.saving.save_model(model)`. This file format is considered legacy. We recommend using instead the native Keras format, e.g. `model.save('my_model.keras')` or `keras.saving.save_model(model, 'my_model.keras')`. \n"
          ]
        },
        {
          "name": "stdout",
          "output_type": "stream",
          "text": [
            "17/17 - 0s - 24ms/step - AUC: 0.8867 - Accuracy: 0.8082 - loss: 0.4489 - val_AUC: 0.8548 - val_Accuracy: 0.7565 - val_loss: 0.4991 - learning_rate: 1.0000e-03\n",
            "Epoch 42/150\n"
          ]
        },
        {
          "name": "stderr",
          "output_type": "stream",
          "text": [
            "WARNING:absl:You are saving your model as an HDF5 file via `model.save()` or `keras.saving.save_model(model)`. This file format is considered legacy. We recommend using instead the native Keras format, e.g. `model.save('my_model.keras')` or `keras.saving.save_model(model, 'my_model.keras')`. \n"
          ]
        },
        {
          "name": "stdout",
          "output_type": "stream",
          "text": [
            "17/17 - 0s - 27ms/step - AUC: 0.8879 - Accuracy: 0.7970 - loss: 0.4466 - val_AUC: 0.8437 - val_Accuracy: 0.7478 - val_loss: 0.5163 - learning_rate: 1.0000e-03\n",
            "Epoch 43/150\n"
          ]
        },
        {
          "name": "stderr",
          "output_type": "stream",
          "text": [
            "WARNING:absl:You are saving your model as an HDF5 file via `model.save()` or `keras.saving.save_model(model)`. This file format is considered legacy. We recommend using instead the native Keras format, e.g. `model.save('my_model.keras')` or `keras.saving.save_model(model, 'my_model.keras')`. \n"
          ]
        },
        {
          "name": "stdout",
          "output_type": "stream",
          "text": [
            "17/17 - 0s - 27ms/step - AUC: 0.9015 - Accuracy: 0.8305 - loss: 0.4246 - val_AUC: 0.8522 - val_Accuracy: 0.7565 - val_loss: 0.4907 - learning_rate: 1.0000e-03\n",
            "Epoch 44/150\n"
          ]
        },
        {
          "name": "stderr",
          "output_type": "stream",
          "text": [
            "WARNING:absl:You are saving your model as an HDF5 file via `model.save()` or `keras.saving.save_model(model)`. This file format is considered legacy. We recommend using instead the native Keras format, e.g. `model.save('my_model.keras')` or `keras.saving.save_model(model, 'my_model.keras')`. \n"
          ]
        },
        {
          "name": "stdout",
          "output_type": "stream",
          "text": [
            "17/17 - 1s - 43ms/step - AUC: 0.9063 - Accuracy: 0.8324 - loss: 0.4164 - val_AUC: 0.8425 - val_Accuracy: 0.7391 - val_loss: 0.5065 - learning_rate: 1.0000e-03\n",
            "Epoch 45/150\n"
          ]
        },
        {
          "name": "stderr",
          "output_type": "stream",
          "text": [
            "WARNING:absl:You are saving your model as an HDF5 file via `model.save()` or `keras.saving.save_model(model)`. This file format is considered legacy. We recommend using instead the native Keras format, e.g. `model.save('my_model.keras')` or `keras.saving.save_model(model, 'my_model.keras')`. \n"
          ]
        },
        {
          "name": "stdout",
          "output_type": "stream",
          "text": [
            "17/17 - 1s - 32ms/step - AUC: 0.9031 - Accuracy: 0.8026 - loss: 0.4224 - val_AUC: 0.8437 - val_Accuracy: 0.7304 - val_loss: 0.5114 - learning_rate: 1.0000e-03\n",
            "Epoch 46/150\n"
          ]
        },
        {
          "name": "stderr",
          "output_type": "stream",
          "text": [
            "WARNING:absl:You are saving your model as an HDF5 file via `model.save()` or `keras.saving.save_model(model)`. This file format is considered legacy. We recommend using instead the native Keras format, e.g. `model.save('my_model.keras')` or `keras.saving.save_model(model, 'my_model.keras')`. \n"
          ]
        },
        {
          "name": "stdout",
          "output_type": "stream",
          "text": [
            "17/17 - 1s - 36ms/step - AUC: 0.9138 - Accuracy: 0.8138 - loss: 0.4039 - val_AUC: 0.8443 - val_Accuracy: 0.7478 - val_loss: 0.5186 - learning_rate: 1.0000e-03\n",
            "Epoch 47/150\n"
          ]
        },
        {
          "name": "stderr",
          "output_type": "stream",
          "text": [
            "WARNING:absl:You are saving your model as an HDF5 file via `model.save()` or `keras.saving.save_model(model)`. This file format is considered legacy. We recommend using instead the native Keras format, e.g. `model.save('my_model.keras')` or `keras.saving.save_model(model, 'my_model.keras')`. \n"
          ]
        },
        {
          "name": "stdout",
          "output_type": "stream",
          "text": [
            "17/17 - 1s - 32ms/step - AUC: 0.9012 - Accuracy: 0.8231 - loss: 0.4243 - val_AUC: 0.8507 - val_Accuracy: 0.7565 - val_loss: 0.5304 - learning_rate: 1.0000e-03\n",
            "Epoch 48/150\n"
          ]
        },
        {
          "name": "stderr",
          "output_type": "stream",
          "text": [
            "WARNING:absl:You are saving your model as an HDF5 file via `model.save()` or `keras.saving.save_model(model)`. This file format is considered legacy. We recommend using instead the native Keras format, e.g. `model.save('my_model.keras')` or `keras.saving.save_model(model, 'my_model.keras')`. \n"
          ]
        },
        {
          "name": "stdout",
          "output_type": "stream",
          "text": [
            "17/17 - 0s - 20ms/step - AUC: 0.9112 - Accuracy: 0.8175 - loss: 0.4082 - val_AUC: 0.8567 - val_Accuracy: 0.7913 - val_loss: 0.5109 - learning_rate: 1.0000e-03\n",
            "Epoch 49/150\n"
          ]
        },
        {
          "name": "stderr",
          "output_type": "stream",
          "text": [
            "WARNING:absl:You are saving your model as an HDF5 file via `model.save()` or `keras.saving.save_model(model)`. This file format is considered legacy. We recommend using instead the native Keras format, e.g. `model.save('my_model.keras')` or `keras.saving.save_model(model, 'my_model.keras')`. \n"
          ]
        },
        {
          "name": "stdout",
          "output_type": "stream",
          "text": [
            "17/17 - 0s - 20ms/step - AUC: 0.9062 - Accuracy: 0.8119 - loss: 0.4125 - val_AUC: 0.8470 - val_Accuracy: 0.7478 - val_loss: 0.5016 - learning_rate: 1.0000e-03\n",
            "Epoch 50/150\n"
          ]
        },
        {
          "name": "stderr",
          "output_type": "stream",
          "text": [
            "WARNING:absl:You are saving your model as an HDF5 file via `model.save()` or `keras.saving.save_model(model)`. This file format is considered legacy. We recommend using instead the native Keras format, e.g. `model.save('my_model.keras')` or `keras.saving.save_model(model, 'my_model.keras')`. \n"
          ]
        },
        {
          "name": "stdout",
          "output_type": "stream",
          "text": [
            "17/17 - 0s - 20ms/step - AUC: 0.9201 - Accuracy: 0.8287 - loss: 0.3897 - val_AUC: 0.8493 - val_Accuracy: 0.7565 - val_loss: 0.5163 - learning_rate: 1.0000e-03\n",
            "Epoch 51/150\n"
          ]
        },
        {
          "name": "stderr",
          "output_type": "stream",
          "text": [
            "WARNING:absl:You are saving your model as an HDF5 file via `model.save()` or `keras.saving.save_model(model)`. This file format is considered legacy. We recommend using instead the native Keras format, e.g. `model.save('my_model.keras')` or `keras.saving.save_model(model, 'my_model.keras')`. \n"
          ]
        },
        {
          "name": "stdout",
          "output_type": "stream",
          "text": [
            "17/17 - 0s - 21ms/step - AUC: 0.9133 - Accuracy: 0.8231 - loss: 0.3998 - val_AUC: 0.8452 - val_Accuracy: 0.7391 - val_loss: 0.5535 - learning_rate: 1.0000e-03\n",
            "Epoch 52/150\n"
          ]
        },
        {
          "name": "stderr",
          "output_type": "stream",
          "text": [
            "WARNING:absl:You are saving your model as an HDF5 file via `model.save()` or `keras.saving.save_model(model)`. This file format is considered legacy. We recommend using instead the native Keras format, e.g. `model.save('my_model.keras')` or `keras.saving.save_model(model, 'my_model.keras')`. \n"
          ]
        },
        {
          "name": "stdout",
          "output_type": "stream",
          "text": [
            "17/17 - 0s - 21ms/step - AUC: 0.9059 - Accuracy: 0.8156 - loss: 0.4130 - val_AUC: 0.8488 - val_Accuracy: 0.7565 - val_loss: 0.5704 - learning_rate: 1.0000e-03\n",
            "Epoch 53/150\n"
          ]
        },
        {
          "name": "stderr",
          "output_type": "stream",
          "text": [
            "WARNING:absl:You are saving your model as an HDF5 file via `model.save()` or `keras.saving.save_model(model)`. This file format is considered legacy. We recommend using instead the native Keras format, e.g. `model.save('my_model.keras')` or `keras.saving.save_model(model, 'my_model.keras')`. \n"
          ]
        },
        {
          "name": "stdout",
          "output_type": "stream",
          "text": [
            "17/17 - 0s - 23ms/step - AUC: 0.9134 - Accuracy: 0.8101 - loss: 0.3991 - val_AUC: 0.8527 - val_Accuracy: 0.7565 - val_loss: 0.5355 - learning_rate: 1.0000e-03\n",
            "Epoch 54/150\n"
          ]
        },
        {
          "name": "stderr",
          "output_type": "stream",
          "text": [
            "WARNING:absl:You are saving your model as an HDF5 file via `model.save()` or `keras.saving.save_model(model)`. This file format is considered legacy. We recommend using instead the native Keras format, e.g. `model.save('my_model.keras')` or `keras.saving.save_model(model, 'my_model.keras')`. \n"
          ]
        },
        {
          "name": "stdout",
          "output_type": "stream",
          "text": [
            "17/17 - 0s - 21ms/step - AUC: 0.9227 - Accuracy: 0.8156 - loss: 0.3812 - val_AUC: 0.8523 - val_Accuracy: 0.7652 - val_loss: 0.5316 - learning_rate: 1.0000e-03\n",
            "Epoch 55/150\n"
          ]
        },
        {
          "name": "stderr",
          "output_type": "stream",
          "text": [
            "WARNING:absl:You are saving your model as an HDF5 file via `model.save()` or `keras.saving.save_model(model)`. This file format is considered legacy. We recommend using instead the native Keras format, e.g. `model.save('my_model.keras')` or `keras.saving.save_model(model, 'my_model.keras')`. \n"
          ]
        },
        {
          "name": "stdout",
          "output_type": "stream",
          "text": [
            "17/17 - 0s - 21ms/step - AUC: 0.9103 - Accuracy: 0.8361 - loss: 0.4070 - val_AUC: 0.8565 - val_Accuracy: 0.7739 - val_loss: 0.5536 - learning_rate: 1.0000e-03\n",
            "Epoch 56/150\n"
          ]
        },
        {
          "name": "stderr",
          "output_type": "stream",
          "text": [
            "WARNING:absl:You are saving your model as an HDF5 file via `model.save()` or `keras.saving.save_model(model)`. This file format is considered legacy. We recommend using instead the native Keras format, e.g. `model.save('my_model.keras')` or `keras.saving.save_model(model, 'my_model.keras')`. \n"
          ]
        },
        {
          "name": "stdout",
          "output_type": "stream",
          "text": [
            "17/17 - 0s - 23ms/step - AUC: 0.9205 - Accuracy: 0.8231 - loss: 0.3859 - val_AUC: 0.8525 - val_Accuracy: 0.7652 - val_loss: 0.5916 - learning_rate: 1.0000e-03\n",
            "Epoch 57/150\n"
          ]
        },
        {
          "name": "stderr",
          "output_type": "stream",
          "text": [
            "WARNING:absl:You are saving your model as an HDF5 file via `model.save()` or `keras.saving.save_model(model)`. This file format is considered legacy. We recommend using instead the native Keras format, e.g. `model.save('my_model.keras')` or `keras.saving.save_model(model, 'my_model.keras')`. \n"
          ]
        },
        {
          "name": "stdout",
          "output_type": "stream",
          "text": [
            "17/17 - 0s - 21ms/step - AUC: 0.9189 - Accuracy: 0.8175 - loss: 0.3889 - val_AUC: 0.8548 - val_Accuracy: 0.7739 - val_loss: 0.5964 - learning_rate: 1.0000e-03\n",
            "Epoch 58/150\n"
          ]
        },
        {
          "name": "stderr",
          "output_type": "stream",
          "text": [
            "WARNING:absl:You are saving your model as an HDF5 file via `model.save()` or `keras.saving.save_model(model)`. This file format is considered legacy. We recommend using instead the native Keras format, e.g. `model.save('my_model.keras')` or `keras.saving.save_model(model, 'my_model.keras')`. \n"
          ]
        },
        {
          "name": "stdout",
          "output_type": "stream",
          "text": [
            "17/17 - 0s - 21ms/step - AUC: 0.9131 - Accuracy: 0.8194 - loss: 0.4017 - val_AUC: 0.8563 - val_Accuracy: 0.7739 - val_loss: 0.5622 - learning_rate: 1.0000e-03\n",
            "Epoch 59/150\n"
          ]
        },
        {
          "name": "stderr",
          "output_type": "stream",
          "text": [
            "WARNING:absl:You are saving your model as an HDF5 file via `model.save()` or `keras.saving.save_model(model)`. This file format is considered legacy. We recommend using instead the native Keras format, e.g. `model.save('my_model.keras')` or `keras.saving.save_model(model, 'my_model.keras')`. \n"
          ]
        },
        {
          "name": "stdout",
          "output_type": "stream",
          "text": [
            "17/17 - 0s - 21ms/step - AUC: 0.9148 - Accuracy: 0.8287 - loss: 0.3961 - val_AUC: 0.8512 - val_Accuracy: 0.7652 - val_loss: 0.5451 - learning_rate: 1.0000e-03\n",
            "Epoch 60/150\n"
          ]
        },
        {
          "name": "stderr",
          "output_type": "stream",
          "text": [
            "WARNING:absl:You are saving your model as an HDF5 file via `model.save()` or `keras.saving.save_model(model)`. This file format is considered legacy. We recommend using instead the native Keras format, e.g. `model.save('my_model.keras')` or `keras.saving.save_model(model, 'my_model.keras')`. \n"
          ]
        },
        {
          "name": "stdout",
          "output_type": "stream",
          "text": [
            "17/17 - 0s - 25ms/step - AUC: 0.9207 - Accuracy: 0.8194 - loss: 0.3849 - val_AUC: 0.8503 - val_Accuracy: 0.7739 - val_loss: 0.5423 - learning_rate: 1.0000e-03\n",
            "Epoch 61/150\n"
          ]
        },
        {
          "name": "stderr",
          "output_type": "stream",
          "text": [
            "WARNING:absl:You are saving your model as an HDF5 file via `model.save()` or `keras.saving.save_model(model)`. This file format is considered legacy. We recommend using instead the native Keras format, e.g. `model.save('my_model.keras')` or `keras.saving.save_model(model, 'my_model.keras')`. \n"
          ]
        },
        {
          "name": "stdout",
          "output_type": "stream",
          "text": [
            "17/17 - 0s - 24ms/step - AUC: 0.9152 - Accuracy: 0.8156 - loss: 0.3994 - val_AUC: 0.8618 - val_Accuracy: 0.7913 - val_loss: 0.5302 - learning_rate: 1.0000e-03\n",
            "Epoch 62/150\n"
          ]
        },
        {
          "name": "stderr",
          "output_type": "stream",
          "text": [
            "WARNING:absl:You are saving your model as an HDF5 file via `model.save()` or `keras.saving.save_model(model)`. This file format is considered legacy. We recommend using instead the native Keras format, e.g. `model.save('my_model.keras')` or `keras.saving.save_model(model, 'my_model.keras')`. \n"
          ]
        },
        {
          "name": "stdout",
          "output_type": "stream",
          "text": [
            "17/17 - 0s - 22ms/step - AUC: 0.9214 - Accuracy: 0.8324 - loss: 0.3843 - val_AUC: 0.8548 - val_Accuracy: 0.7739 - val_loss: 0.5309 - learning_rate: 1.0000e-03\n",
            "Epoch 63/150\n"
          ]
        },
        {
          "name": "stderr",
          "output_type": "stream",
          "text": [
            "WARNING:absl:You are saving your model as an HDF5 file via `model.save()` or `keras.saving.save_model(model)`. This file format is considered legacy. We recommend using instead the native Keras format, e.g. `model.save('my_model.keras')` or `keras.saving.save_model(model, 'my_model.keras')`. \n"
          ]
        },
        {
          "name": "stdout",
          "output_type": "stream",
          "text": [
            "17/17 - 0s - 20ms/step - AUC: 0.9238 - Accuracy: 0.8417 - loss: 0.3842 - val_AUC: 0.8570 - val_Accuracy: 0.7826 - val_loss: 0.5216 - learning_rate: 1.0000e-03\n",
            "Epoch 64/150\n"
          ]
        },
        {
          "name": "stderr",
          "output_type": "stream",
          "text": [
            "WARNING:absl:You are saving your model as an HDF5 file via `model.save()` or `keras.saving.save_model(model)`. This file format is considered legacy. We recommend using instead the native Keras format, e.g. `model.save('my_model.keras')` or `keras.saving.save_model(model, 'my_model.keras')`. \n"
          ]
        },
        {
          "name": "stdout",
          "output_type": "stream",
          "text": [
            "17/17 - 0s - 23ms/step - AUC: 0.9342 - Accuracy: 0.8436 - loss: 0.3654 - val_AUC: 0.8565 - val_Accuracy: 0.7652 - val_loss: 0.6409 - learning_rate: 1.0000e-03\n",
            "Epoch 65/150\n"
          ]
        },
        {
          "name": "stderr",
          "output_type": "stream",
          "text": [
            "WARNING:absl:You are saving your model as an HDF5 file via `model.save()` or `keras.saving.save_model(model)`. This file format is considered legacy. We recommend using instead the native Keras format, e.g. `model.save('my_model.keras')` or `keras.saving.save_model(model, 'my_model.keras')`. \n"
          ]
        },
        {
          "name": "stdout",
          "output_type": "stream",
          "text": [
            "17/17 - 0s - 22ms/step - AUC: 0.9336 - Accuracy: 0.8492 - loss: 0.3547 - val_AUC: 0.8607 - val_Accuracy: 0.7652 - val_loss: 0.5718 - learning_rate: 1.0000e-03\n",
            "Epoch 66/150\n"
          ]
        },
        {
          "name": "stderr",
          "output_type": "stream",
          "text": [
            "WARNING:absl:You are saving your model as an HDF5 file via `model.save()` or `keras.saving.save_model(model)`. This file format is considered legacy. We recommend using instead the native Keras format, e.g. `model.save('my_model.keras')` or `keras.saving.save_model(model, 'my_model.keras')`. \n"
          ]
        },
        {
          "name": "stdout",
          "output_type": "stream",
          "text": [
            "17/17 - 1s - 45ms/step - AUC: 0.9152 - Accuracy: 0.8305 - loss: 0.3967 - val_AUC: 0.8595 - val_Accuracy: 0.7739 - val_loss: 0.5470 - learning_rate: 1.0000e-03\n",
            "Epoch 67/150\n"
          ]
        },
        {
          "name": "stderr",
          "output_type": "stream",
          "text": [
            "WARNING:absl:You are saving your model as an HDF5 file via `model.save()` or `keras.saving.save_model(model)`. This file format is considered legacy. We recommend using instead the native Keras format, e.g. `model.save('my_model.keras')` or `keras.saving.save_model(model, 'my_model.keras')`. \n"
          ]
        },
        {
          "name": "stdout",
          "output_type": "stream",
          "text": [
            "17/17 - 1s - 52ms/step - AUC: 0.9250 - Accuracy: 0.8380 - loss: 0.3763 - val_AUC: 0.8542 - val_Accuracy: 0.7739 - val_loss: 0.5628 - learning_rate: 1.0000e-03\n",
            "Epoch 68/150\n"
          ]
        },
        {
          "name": "stderr",
          "output_type": "stream",
          "text": [
            "WARNING:absl:You are saving your model as an HDF5 file via `model.save()` or `keras.saving.save_model(model)`. This file format is considered legacy. We recommend using instead the native Keras format, e.g. `model.save('my_model.keras')` or `keras.saving.save_model(model, 'my_model.keras')`. \n"
          ]
        },
        {
          "name": "stdout",
          "output_type": "stream",
          "text": [
            "17/17 - 0s - 21ms/step - AUC: 0.9127 - Accuracy: 0.8138 - loss: 0.4059 - val_AUC: 0.8632 - val_Accuracy: 0.7565 - val_loss: 0.5797 - learning_rate: 1.0000e-03\n",
            "Epoch 69/150\n"
          ]
        },
        {
          "name": "stderr",
          "output_type": "stream",
          "text": [
            "WARNING:absl:You are saving your model as an HDF5 file via `model.save()` or `keras.saving.save_model(model)`. This file format is considered legacy. We recommend using instead the native Keras format, e.g. `model.save('my_model.keras')` or `keras.saving.save_model(model, 'my_model.keras')`. \n"
          ]
        },
        {
          "name": "stdout",
          "output_type": "stream",
          "text": [
            "17/17 - 0s - 20ms/step - AUC: 0.9366 - Accuracy: 0.8492 - loss: 0.3569 - val_AUC: 0.8658 - val_Accuracy: 0.7739 - val_loss: 0.5685 - learning_rate: 1.0000e-03\n",
            "Epoch 70/150\n"
          ]
        },
        {
          "name": "stderr",
          "output_type": "stream",
          "text": [
            "WARNING:absl:You are saving your model as an HDF5 file via `model.save()` or `keras.saving.save_model(model)`. This file format is considered legacy. We recommend using instead the native Keras format, e.g. `model.save('my_model.keras')` or `keras.saving.save_model(model, 'my_model.keras')`. \n"
          ]
        },
        {
          "name": "stdout",
          "output_type": "stream",
          "text": [
            "17/17 - 0s - 21ms/step - AUC: 0.9277 - Accuracy: 0.8305 - loss: 0.3704 - val_AUC: 0.8595 - val_Accuracy: 0.7739 - val_loss: 0.6057 - learning_rate: 1.0000e-03\n",
            "Epoch 71/150\n"
          ]
        },
        {
          "name": "stderr",
          "output_type": "stream",
          "text": [
            "WARNING:absl:You are saving your model as an HDF5 file via `model.save()` or `keras.saving.save_model(model)`. This file format is considered legacy. We recommend using instead the native Keras format, e.g. `model.save('my_model.keras')` or `keras.saving.save_model(model, 'my_model.keras')`. \n"
          ]
        },
        {
          "name": "stdout",
          "output_type": "stream",
          "text": [
            "17/17 - 0s - 19ms/step - AUC: 0.9393 - Accuracy: 0.8417 - loss: 0.3456 - val_AUC: 0.8632 - val_Accuracy: 0.7478 - val_loss: 0.6260 - learning_rate: 1.0000e-03\n",
            "Epoch 72/150\n"
          ]
        },
        {
          "name": "stderr",
          "output_type": "stream",
          "text": [
            "WARNING:absl:You are saving your model as an HDF5 file via `model.save()` or `keras.saving.save_model(model)`. This file format is considered legacy. We recommend using instead the native Keras format, e.g. `model.save('my_model.keras')` or `keras.saving.save_model(model, 'my_model.keras')`. \n"
          ]
        },
        {
          "name": "stdout",
          "output_type": "stream",
          "text": [
            "17/17 - 1s - 30ms/step - AUC: 0.9396 - Accuracy: 0.8529 - loss: 0.3490 - val_AUC: 0.8575 - val_Accuracy: 0.7565 - val_loss: 0.6604 - learning_rate: 1.0000e-03\n",
            "Epoch 73/150\n"
          ]
        },
        {
          "name": "stderr",
          "output_type": "stream",
          "text": [
            "WARNING:absl:You are saving your model as an HDF5 file via `model.save()` or `keras.saving.save_model(model)`. This file format is considered legacy. We recommend using instead the native Keras format, e.g. `model.save('my_model.keras')` or `keras.saving.save_model(model, 'my_model.keras')`. \n"
          ]
        },
        {
          "name": "stdout",
          "output_type": "stream",
          "text": [
            "17/17 - 1s - 31ms/step - AUC: 0.9311 - Accuracy: 0.8324 - loss: 0.3583 - val_AUC: 0.8538 - val_Accuracy: 0.7391 - val_loss: 0.6745 - learning_rate: 1.0000e-03\n",
            "Epoch 74/150\n"
          ]
        },
        {
          "name": "stderr",
          "output_type": "stream",
          "text": [
            "WARNING:absl:You are saving your model as an HDF5 file via `model.save()` or `keras.saving.save_model(model)`. This file format is considered legacy. We recommend using instead the native Keras format, e.g. `model.save('my_model.keras')` or `keras.saving.save_model(model, 'my_model.keras')`. \n"
          ]
        },
        {
          "name": "stdout",
          "output_type": "stream",
          "text": [
            "17/17 - 1s - 31ms/step - AUC: 0.9392 - Accuracy: 0.8454 - loss: 0.3424 - val_AUC: 0.8640 - val_Accuracy: 0.7652 - val_loss: 0.5441 - learning_rate: 1.0000e-03\n",
            "Epoch 75/150\n"
          ]
        },
        {
          "name": "stderr",
          "output_type": "stream",
          "text": [
            "WARNING:absl:You are saving your model as an HDF5 file via `model.save()` or `keras.saving.save_model(model)`. This file format is considered legacy. We recommend using instead the native Keras format, e.g. `model.save('my_model.keras')` or `keras.saving.save_model(model, 'my_model.keras')`. \n"
          ]
        },
        {
          "name": "stdout",
          "output_type": "stream",
          "text": [
            "17/17 - 1s - 38ms/step - AUC: 0.9284 - Accuracy: 0.8417 - loss: 0.3753 - val_AUC: 0.8563 - val_Accuracy: 0.7739 - val_loss: 0.5781 - learning_rate: 1.0000e-03\n",
            "Epoch 76/150\n"
          ]
        },
        {
          "name": "stderr",
          "output_type": "stream",
          "text": [
            "WARNING:absl:You are saving your model as an HDF5 file via `model.save()` or `keras.saving.save_model(model)`. This file format is considered legacy. We recommend using instead the native Keras format, e.g. `model.save('my_model.keras')` or `keras.saving.save_model(model, 'my_model.keras')`. \n"
          ]
        },
        {
          "name": "stdout",
          "output_type": "stream",
          "text": [
            "17/17 - 1s - 31ms/step - AUC: 0.9388 - Accuracy: 0.8510 - loss: 0.3475 - val_AUC: 0.8592 - val_Accuracy: 0.7739 - val_loss: 0.5559 - learning_rate: 1.0000e-03\n",
            "Epoch 77/150\n"
          ]
        },
        {
          "name": "stderr",
          "output_type": "stream",
          "text": [
            "WARNING:absl:You are saving your model as an HDF5 file via `model.save()` or `keras.saving.save_model(model)`. This file format is considered legacy. We recommend using instead the native Keras format, e.g. `model.save('my_model.keras')` or `keras.saving.save_model(model, 'my_model.keras')`. \n"
          ]
        },
        {
          "name": "stdout",
          "output_type": "stream",
          "text": [
            "17/17 - 0s - 25ms/step - AUC: 0.9379 - Accuracy: 0.8566 - loss: 0.3477 - val_AUC: 0.8605 - val_Accuracy: 0.7478 - val_loss: 0.5579 - learning_rate: 1.0000e-03\n",
            "Epoch 78/150\n"
          ]
        },
        {
          "name": "stderr",
          "output_type": "stream",
          "text": [
            "WARNING:absl:You are saving your model as an HDF5 file via `model.save()` or `keras.saving.save_model(model)`. This file format is considered legacy. We recommend using instead the native Keras format, e.g. `model.save('my_model.keras')` or `keras.saving.save_model(model, 'my_model.keras')`. \n"
          ]
        },
        {
          "name": "stdout",
          "output_type": "stream",
          "text": [
            "17/17 - 0s - 20ms/step - AUC: 0.9253 - Accuracy: 0.8305 - loss: 0.3765 - val_AUC: 0.8603 - val_Accuracy: 0.7826 - val_loss: 0.5264 - learning_rate: 1.0000e-03\n",
            "Epoch 79/150\n"
          ]
        },
        {
          "name": "stderr",
          "output_type": "stream",
          "text": [
            "WARNING:absl:You are saving your model as an HDF5 file via `model.save()` or `keras.saving.save_model(model)`. This file format is considered legacy. We recommend using instead the native Keras format, e.g. `model.save('my_model.keras')` or `keras.saving.save_model(model, 'my_model.keras')`. \n"
          ]
        },
        {
          "name": "stdout",
          "output_type": "stream",
          "text": [
            "17/17 - 0s - 21ms/step - AUC: 0.9367 - Accuracy: 0.8492 - loss: 0.3500 - val_AUC: 0.8497 - val_Accuracy: 0.7652 - val_loss: 0.5825 - learning_rate: 1.0000e-03\n",
            "Epoch 80/150\n"
          ]
        },
        {
          "name": "stderr",
          "output_type": "stream",
          "text": [
            "WARNING:absl:You are saving your model as an HDF5 file via `model.save()` or `keras.saving.save_model(model)`. This file format is considered legacy. We recommend using instead the native Keras format, e.g. `model.save('my_model.keras')` or `keras.saving.save_model(model, 'my_model.keras')`. \n"
          ]
        },
        {
          "name": "stdout",
          "output_type": "stream",
          "text": [
            "17/17 - 0s - 21ms/step - AUC: 0.9402 - Accuracy: 0.8622 - loss: 0.3456 - val_AUC: 0.8563 - val_Accuracy: 0.7739 - val_loss: 0.5565 - learning_rate: 1.0000e-03\n",
            "Epoch 81/150\n"
          ]
        },
        {
          "name": "stderr",
          "output_type": "stream",
          "text": [
            "WARNING:absl:You are saving your model as an HDF5 file via `model.save()` or `keras.saving.save_model(model)`. This file format is considered legacy. We recommend using instead the native Keras format, e.g. `model.save('my_model.keras')` or `keras.saving.save_model(model, 'my_model.keras')`. \n"
          ]
        },
        {
          "name": "stdout",
          "output_type": "stream",
          "text": [
            "17/17 - 0s - 20ms/step - AUC: 0.9408 - Accuracy: 0.8436 - loss: 0.3441 - val_AUC: 0.8650 - val_Accuracy: 0.7739 - val_loss: 0.5641 - learning_rate: 1.0000e-03\n",
            "Epoch 82/150\n"
          ]
        },
        {
          "name": "stderr",
          "output_type": "stream",
          "text": [
            "WARNING:absl:You are saving your model as an HDF5 file via `model.save()` or `keras.saving.save_model(model)`. This file format is considered legacy. We recommend using instead the native Keras format, e.g. `model.save('my_model.keras')` or `keras.saving.save_model(model, 'my_model.keras')`. \n"
          ]
        },
        {
          "name": "stdout",
          "output_type": "stream",
          "text": [
            "17/17 - 0s - 21ms/step - AUC: 0.9537 - Accuracy: 0.8678 - loss: 0.3114 - val_AUC: 0.8615 - val_Accuracy: 0.8000 - val_loss: 0.5501 - learning_rate: 1.0000e-03\n",
            "Epoch 83/150\n"
          ]
        },
        {
          "name": "stderr",
          "output_type": "stream",
          "text": [
            "WARNING:absl:You are saving your model as an HDF5 file via `model.save()` or `keras.saving.save_model(model)`. This file format is considered legacy. We recommend using instead the native Keras format, e.g. `model.save('my_model.keras')` or `keras.saving.save_model(model, 'my_model.keras')`. \n"
          ]
        },
        {
          "name": "stdout",
          "output_type": "stream",
          "text": [
            "17/17 - 0s - 21ms/step - AUC: 0.9308 - Accuracy: 0.8436 - loss: 0.3671 - val_AUC: 0.8645 - val_Accuracy: 0.7652 - val_loss: 0.5833 - learning_rate: 1.0000e-03\n",
            "Epoch 84/150\n"
          ]
        },
        {
          "name": "stderr",
          "output_type": "stream",
          "text": [
            "WARNING:absl:You are saving your model as an HDF5 file via `model.save()` or `keras.saving.save_model(model)`. This file format is considered legacy. We recommend using instead the native Keras format, e.g. `model.save('my_model.keras')` or `keras.saving.save_model(model, 'my_model.keras')`. \n"
          ]
        },
        {
          "name": "stdout",
          "output_type": "stream",
          "text": [
            "17/17 - 0s - 23ms/step - AUC: 0.9458 - Accuracy: 0.8510 - loss: 0.3371 - val_AUC: 0.8593 - val_Accuracy: 0.7652 - val_loss: 0.6254 - learning_rate: 1.0000e-03\n",
            "Epoch 85/150\n"
          ]
        },
        {
          "name": "stderr",
          "output_type": "stream",
          "text": [
            "WARNING:absl:You are saving your model as an HDF5 file via `model.save()` or `keras.saving.save_model(model)`. This file format is considered legacy. We recommend using instead the native Keras format, e.g. `model.save('my_model.keras')` or `keras.saving.save_model(model, 'my_model.keras')`. \n"
          ]
        },
        {
          "name": "stdout",
          "output_type": "stream",
          "text": [
            "17/17 - 0s - 23ms/step - AUC: 0.9450 - Accuracy: 0.8641 - loss: 0.3348 - val_AUC: 0.8582 - val_Accuracy: 0.7565 - val_loss: 0.6452 - learning_rate: 1.0000e-03\n",
            "Epoch 86/150\n"
          ]
        },
        {
          "name": "stderr",
          "output_type": "stream",
          "text": [
            "WARNING:absl:You are saving your model as an HDF5 file via `model.save()` or `keras.saving.save_model(model)`. This file format is considered legacy. We recommend using instead the native Keras format, e.g. `model.save('my_model.keras')` or `keras.saving.save_model(model, 'my_model.keras')`. \n"
          ]
        },
        {
          "name": "stdout",
          "output_type": "stream",
          "text": [
            "17/17 - 0s - 20ms/step - AUC: 0.9505 - Accuracy: 0.8547 - loss: 0.3191 - val_AUC: 0.8573 - val_Accuracy: 0.8000 - val_loss: 0.5852 - learning_rate: 1.0000e-03\n",
            "Epoch 87/150\n"
          ]
        },
        {
          "name": "stderr",
          "output_type": "stream",
          "text": [
            "WARNING:absl:You are saving your model as an HDF5 file via `model.save()` or `keras.saving.save_model(model)`. This file format is considered legacy. We recommend using instead the native Keras format, e.g. `model.save('my_model.keras')` or `keras.saving.save_model(model, 'my_model.keras')`. \n"
          ]
        },
        {
          "name": "stdout",
          "output_type": "stream",
          "text": [
            "17/17 - 0s - 21ms/step - AUC: 0.9426 - Accuracy: 0.8436 - loss: 0.3384 - val_AUC: 0.8593 - val_Accuracy: 0.7652 - val_loss: 0.5432 - learning_rate: 1.0000e-03\n",
            "Epoch 88/150\n"
          ]
        },
        {
          "name": "stderr",
          "output_type": "stream",
          "text": [
            "WARNING:absl:You are saving your model as an HDF5 file via `model.save()` or `keras.saving.save_model(model)`. This file format is considered legacy. We recommend using instead the native Keras format, e.g. `model.save('my_model.keras')` or `keras.saving.save_model(model, 'my_model.keras')`. \n"
          ]
        },
        {
          "name": "stdout",
          "output_type": "stream",
          "text": [
            "17/17 - 0s - 22ms/step - AUC: 0.9444 - Accuracy: 0.8566 - loss: 0.3315 - val_AUC: 0.8563 - val_Accuracy: 0.7478 - val_loss: 0.5612 - learning_rate: 1.0000e-03\n",
            "Epoch 89/150\n"
          ]
        },
        {
          "name": "stderr",
          "output_type": "stream",
          "text": [
            "WARNING:absl:You are saving your model as an HDF5 file via `model.save()` or `keras.saving.save_model(model)`. This file format is considered legacy. We recommend using instead the native Keras format, e.g. `model.save('my_model.keras')` or `keras.saving.save_model(model, 'my_model.keras')`. \n"
          ]
        },
        {
          "name": "stdout",
          "output_type": "stream",
          "text": [
            "17/17 - 0s - 23ms/step - AUC: 0.9454 - Accuracy: 0.8585 - loss: 0.3321 - val_AUC: 0.8452 - val_Accuracy: 0.7478 - val_loss: 0.6081 - learning_rate: 1.0000e-03\n",
            "Epoch 90/150\n"
          ]
        },
        {
          "name": "stderr",
          "output_type": "stream",
          "text": [
            "WARNING:absl:You are saving your model as an HDF5 file via `model.save()` or `keras.saving.save_model(model)`. This file format is considered legacy. We recommend using instead the native Keras format, e.g. `model.save('my_model.keras')` or `keras.saving.save_model(model, 'my_model.keras')`. \n"
          ]
        },
        {
          "name": "stdout",
          "output_type": "stream",
          "text": [
            "17/17 - 0s - 23ms/step - AUC: 0.9405 - Accuracy: 0.8510 - loss: 0.3394 - val_AUC: 0.8408 - val_Accuracy: 0.7652 - val_loss: 0.7045 - learning_rate: 1.0000e-03\n",
            "Epoch 91/150\n"
          ]
        },
        {
          "name": "stderr",
          "output_type": "stream",
          "text": [
            "WARNING:absl:You are saving your model as an HDF5 file via `model.save()` or `keras.saving.save_model(model)`. This file format is considered legacy. We recommend using instead the native Keras format, e.g. `model.save('my_model.keras')` or `keras.saving.save_model(model, 'my_model.keras')`. \n"
          ]
        },
        {
          "name": "stdout",
          "output_type": "stream",
          "text": [
            "17/17 - 0s - 22ms/step - AUC: 0.9485 - Accuracy: 0.8715 - loss: 0.3231 - val_AUC: 0.8593 - val_Accuracy: 0.7652 - val_loss: 0.5923 - learning_rate: 1.0000e-03\n",
            "Epoch 92/150\n"
          ]
        },
        {
          "name": "stderr",
          "output_type": "stream",
          "text": [
            "WARNING:absl:You are saving your model as an HDF5 file via `model.save()` or `keras.saving.save_model(model)`. This file format is considered legacy. We recommend using instead the native Keras format, e.g. `model.save('my_model.keras')` or `keras.saving.save_model(model, 'my_model.keras')`. \n"
          ]
        },
        {
          "name": "stdout",
          "output_type": "stream",
          "text": [
            "17/17 - 0s - 21ms/step - AUC: 0.9500 - Accuracy: 0.8641 - loss: 0.3228 - val_AUC: 0.8582 - val_Accuracy: 0.7913 - val_loss: 0.5590 - learning_rate: 1.0000e-03\n",
            "Epoch 93/150\n"
          ]
        },
        {
          "name": "stderr",
          "output_type": "stream",
          "text": [
            "WARNING:absl:You are saving your model as an HDF5 file via `model.save()` or `keras.saving.save_model(model)`. This file format is considered legacy. We recommend using instead the native Keras format, e.g. `model.save('my_model.keras')` or `keras.saving.save_model(model, 'my_model.keras')`. \n"
          ]
        },
        {
          "name": "stdout",
          "output_type": "stream",
          "text": [
            "17/17 - 0s - 22ms/step - AUC: 0.9473 - Accuracy: 0.8659 - loss: 0.3263 - val_AUC: 0.8563 - val_Accuracy: 0.7652 - val_loss: 0.6216 - learning_rate: 1.0000e-03\n",
            "Epoch 94/150\n"
          ]
        },
        {
          "name": "stderr",
          "output_type": "stream",
          "text": [
            "WARNING:absl:You are saving your model as an HDF5 file via `model.save()` or `keras.saving.save_model(model)`. This file format is considered legacy. We recommend using instead the native Keras format, e.g. `model.save('my_model.keras')` or `keras.saving.save_model(model, 'my_model.keras')`. \n"
          ]
        },
        {
          "name": "stdout",
          "output_type": "stream",
          "text": [
            "17/17 - 0s - 21ms/step - AUC: 0.9494 - Accuracy: 0.8659 - loss: 0.3186 - val_AUC: 0.8437 - val_Accuracy: 0.7565 - val_loss: 0.6946 - learning_rate: 1.0000e-03\n",
            "Epoch 95/150\n"
          ]
        },
        {
          "name": "stderr",
          "output_type": "stream",
          "text": [
            "WARNING:absl:You are saving your model as an HDF5 file via `model.save()` or `keras.saving.save_model(model)`. This file format is considered legacy. We recommend using instead the native Keras format, e.g. `model.save('my_model.keras')` or `keras.saving.save_model(model, 'my_model.keras')`. \n"
          ]
        },
        {
          "name": "stdout",
          "output_type": "stream",
          "text": [
            "17/17 - 0s - 22ms/step - AUC: 0.9346 - Accuracy: 0.8622 - loss: 0.3551 - val_AUC: 0.8577 - val_Accuracy: 0.7739 - val_loss: 0.5538 - learning_rate: 1.0000e-03\n",
            "Epoch 96/150\n"
          ]
        },
        {
          "name": "stderr",
          "output_type": "stream",
          "text": [
            "WARNING:absl:You are saving your model as an HDF5 file via `model.save()` or `keras.saving.save_model(model)`. This file format is considered legacy. We recommend using instead the native Keras format, e.g. `model.save('my_model.keras')` or `keras.saving.save_model(model, 'my_model.keras')`. \n"
          ]
        },
        {
          "name": "stdout",
          "output_type": "stream",
          "text": [
            "17/17 - 0s - 23ms/step - AUC: 0.9505 - Accuracy: 0.8529 - loss: 0.3209 - val_AUC: 0.8478 - val_Accuracy: 0.7565 - val_loss: 0.6140 - learning_rate: 1.0000e-03\n",
            "Epoch 97/150\n"
          ]
        },
        {
          "name": "stderr",
          "output_type": "stream",
          "text": [
            "WARNING:absl:You are saving your model as an HDF5 file via `model.save()` or `keras.saving.save_model(model)`. This file format is considered legacy. We recommend using instead the native Keras format, e.g. `model.save('my_model.keras')` or `keras.saving.save_model(model, 'my_model.keras')`. \n"
          ]
        },
        {
          "name": "stdout",
          "output_type": "stream",
          "text": [
            "17/17 - 0s - 22ms/step - AUC: 0.9571 - Accuracy: 0.8771 - loss: 0.3044 - val_AUC: 0.8513 - val_Accuracy: 0.7739 - val_loss: 0.6793 - learning_rate: 1.0000e-03\n",
            "Epoch 98/150\n"
          ]
        },
        {
          "name": "stderr",
          "output_type": "stream",
          "text": [
            "WARNING:absl:You are saving your model as an HDF5 file via `model.save()` or `keras.saving.save_model(model)`. This file format is considered legacy. We recommend using instead the native Keras format, e.g. `model.save('my_model.keras')` or `keras.saving.save_model(model, 'my_model.keras')`. \n"
          ]
        },
        {
          "name": "stdout",
          "output_type": "stream",
          "text": [
            "17/17 - 0s - 22ms/step - AUC: 0.9549 - Accuracy: 0.8734 - loss: 0.3108 - val_AUC: 0.8580 - val_Accuracy: 0.7652 - val_loss: 0.5734 - learning_rate: 1.0000e-03\n",
            "Epoch 99/150\n"
          ]
        },
        {
          "name": "stderr",
          "output_type": "stream",
          "text": [
            "WARNING:absl:You are saving your model as an HDF5 file via `model.save()` or `keras.saving.save_model(model)`. This file format is considered legacy. We recommend using instead the native Keras format, e.g. `model.save('my_model.keras')` or `keras.saving.save_model(model, 'my_model.keras')`. \n"
          ]
        },
        {
          "name": "stdout",
          "output_type": "stream",
          "text": [
            "17/17 - 1s - 42ms/step - AUC: 0.9537 - Accuracy: 0.8771 - loss: 0.3101 - val_AUC: 0.8565 - val_Accuracy: 0.7739 - val_loss: 0.6005 - learning_rate: 1.0000e-03\n",
            "Epoch 100/150\n"
          ]
        },
        {
          "name": "stderr",
          "output_type": "stream",
          "text": [
            "WARNING:absl:You are saving your model as an HDF5 file via `model.save()` or `keras.saving.save_model(model)`. This file format is considered legacy. We recommend using instead the native Keras format, e.g. `model.save('my_model.keras')` or `keras.saving.save_model(model, 'my_model.keras')`. \n"
          ]
        },
        {
          "name": "stdout",
          "output_type": "stream",
          "text": [
            "17/17 - 1s - 36ms/step - AUC: 0.9359 - Accuracy: 0.8417 - loss: 0.3586 - val_AUC: 0.8498 - val_Accuracy: 0.7391 - val_loss: 0.7473 - learning_rate: 1.0000e-03\n",
            "Epoch 101/150\n"
          ]
        },
        {
          "name": "stderr",
          "output_type": "stream",
          "text": [
            "WARNING:absl:You are saving your model as an HDF5 file via `model.save()` or `keras.saving.save_model(model)`. This file format is considered legacy. We recommend using instead the native Keras format, e.g. `model.save('my_model.keras')` or `keras.saving.save_model(model, 'my_model.keras')`. \n"
          ]
        },
        {
          "name": "stdout",
          "output_type": "stream",
          "text": [
            "17/17 - 1s - 32ms/step - AUC: 0.9530 - Accuracy: 0.8752 - loss: 0.3105 - val_AUC: 0.8390 - val_Accuracy: 0.7304 - val_loss: 0.7013 - learning_rate: 1.0000e-03\n",
            "Epoch 102/150\n"
          ]
        },
        {
          "name": "stderr",
          "output_type": "stream",
          "text": [
            "WARNING:absl:You are saving your model as an HDF5 file via `model.save()` or `keras.saving.save_model(model)`. This file format is considered legacy. We recommend using instead the native Keras format, e.g. `model.save('my_model.keras')` or `keras.saving.save_model(model, 'my_model.keras')`. \n"
          ]
        },
        {
          "name": "stdout",
          "output_type": "stream",
          "text": [
            "17/17 - 1s - 43ms/step - AUC: 0.9490 - Accuracy: 0.8752 - loss: 0.3209 - val_AUC: 0.8468 - val_Accuracy: 0.7391 - val_loss: 0.6357 - learning_rate: 1.0000e-03\n",
            "Epoch 103/150\n"
          ]
        },
        {
          "name": "stderr",
          "output_type": "stream",
          "text": [
            "WARNING:absl:You are saving your model as an HDF5 file via `model.save()` or `keras.saving.save_model(model)`. This file format is considered legacy. We recommend using instead the native Keras format, e.g. `model.save('my_model.keras')` or `keras.saving.save_model(model, 'my_model.keras')`. \n"
          ]
        },
        {
          "name": "stdout",
          "output_type": "stream",
          "text": [
            "17/17 - 1s - 72ms/step - AUC: 0.9572 - Accuracy: 0.8883 - loss: 0.3054 - val_AUC: 0.8502 - val_Accuracy: 0.7565 - val_loss: 0.5983 - learning_rate: 1.0000e-03\n",
            "Epoch 104/150\n"
          ]
        },
        {
          "name": "stderr",
          "output_type": "stream",
          "text": [
            "WARNING:absl:You are saving your model as an HDF5 file via `model.save()` or `keras.saving.save_model(model)`. This file format is considered legacy. We recommend using instead the native Keras format, e.g. `model.save('my_model.keras')` or `keras.saving.save_model(model, 'my_model.keras')`. \n"
          ]
        },
        {
          "name": "stdout",
          "output_type": "stream",
          "text": [
            "17/17 - 1s - 45ms/step - AUC: 0.9579 - Accuracy: 0.8734 - loss: 0.3002 - val_AUC: 0.8500 - val_Accuracy: 0.7565 - val_loss: 0.6581 - learning_rate: 1.0000e-03\n",
            "Epoch 105/150\n"
          ]
        },
        {
          "name": "stderr",
          "output_type": "stream",
          "text": [
            "WARNING:absl:You are saving your model as an HDF5 file via `model.save()` or `keras.saving.save_model(model)`. This file format is considered legacy. We recommend using instead the native Keras format, e.g. `model.save('my_model.keras')` or `keras.saving.save_model(model, 'my_model.keras')`. \n"
          ]
        },
        {
          "name": "stdout",
          "output_type": "stream",
          "text": [
            "17/17 - 1s - 33ms/step - AUC: 0.9640 - Accuracy: 0.8845 - loss: 0.2799 - val_AUC: 0.8552 - val_Accuracy: 0.7739 - val_loss: 0.6973 - learning_rate: 1.0000e-03\n",
            "Epoch 106/150\n"
          ]
        },
        {
          "name": "stderr",
          "output_type": "stream",
          "text": [
            "WARNING:absl:You are saving your model as an HDF5 file via `model.save()` or `keras.saving.save_model(model)`. This file format is considered legacy. We recommend using instead the native Keras format, e.g. `model.save('my_model.keras')` or `keras.saving.save_model(model, 'my_model.keras')`. \n"
          ]
        },
        {
          "name": "stdout",
          "output_type": "stream",
          "text": [
            "17/17 - 1s - 33ms/step - AUC: 0.9619 - Accuracy: 0.8864 - loss: 0.2847 - val_AUC: 0.8505 - val_Accuracy: 0.7739 - val_loss: 0.7148 - learning_rate: 1.0000e-03\n",
            "Epoch 107/150\n"
          ]
        },
        {
          "name": "stderr",
          "output_type": "stream",
          "text": [
            "WARNING:absl:You are saving your model as an HDF5 file via `model.save()` or `keras.saving.save_model(model)`. This file format is considered legacy. We recommend using instead the native Keras format, e.g. `model.save('my_model.keras')` or `keras.saving.save_model(model, 'my_model.keras')`. \n"
          ]
        },
        {
          "name": "stdout",
          "output_type": "stream",
          "text": [
            "17/17 - 1s - 30ms/step - AUC: 0.9624 - Accuracy: 0.8808 - loss: 0.2867 - val_AUC: 0.8568 - val_Accuracy: 0.7565 - val_loss: 0.6147 - learning_rate: 1.0000e-03\n",
            "Epoch 108/150\n"
          ]
        },
        {
          "name": "stderr",
          "output_type": "stream",
          "text": [
            "WARNING:absl:You are saving your model as an HDF5 file via `model.save()` or `keras.saving.save_model(model)`. This file format is considered legacy. We recommend using instead the native Keras format, e.g. `model.save('my_model.keras')` or `keras.saving.save_model(model, 'my_model.keras')`. \n"
          ]
        },
        {
          "name": "stdout",
          "output_type": "stream",
          "text": [
            "17/17 - 1s - 31ms/step - AUC: 0.9594 - Accuracy: 0.8771 - loss: 0.2987 - val_AUC: 0.8628 - val_Accuracy: 0.7565 - val_loss: 0.5764 - learning_rate: 1.0000e-03\n",
            "Epoch 109/150\n"
          ]
        },
        {
          "name": "stderr",
          "output_type": "stream",
          "text": [
            "WARNING:absl:You are saving your model as an HDF5 file via `model.save()` or `keras.saving.save_model(model)`. This file format is considered legacy. We recommend using instead the native Keras format, e.g. `model.save('my_model.keras')` or `keras.saving.save_model(model, 'my_model.keras')`. \n"
          ]
        },
        {
          "name": "stdout",
          "output_type": "stream",
          "text": [
            "17/17 - 0s - 27ms/step - AUC: 0.9586 - Accuracy: 0.8752 - loss: 0.2960 - val_AUC: 0.8557 - val_Accuracy: 0.7565 - val_loss: 0.6030 - learning_rate: 1.0000e-03\n",
            "Epoch 110/150\n"
          ]
        },
        {
          "name": "stderr",
          "output_type": "stream",
          "text": [
            "WARNING:absl:You are saving your model as an HDF5 file via `model.save()` or `keras.saving.save_model(model)`. This file format is considered legacy. We recommend using instead the native Keras format, e.g. `model.save('my_model.keras')` or `keras.saving.save_model(model, 'my_model.keras')`. \n"
          ]
        },
        {
          "name": "stdout",
          "output_type": "stream",
          "text": [
            "17/17 - 1s - 30ms/step - AUC: 0.9609 - Accuracy: 0.8752 - loss: 0.2886 - val_AUC: 0.8638 - val_Accuracy: 0.7478 - val_loss: 0.6639 - learning_rate: 1.0000e-03\n",
            "Epoch 111/150\n"
          ]
        },
        {
          "name": "stderr",
          "output_type": "stream",
          "text": [
            "WARNING:absl:You are saving your model as an HDF5 file via `model.save()` or `keras.saving.save_model(model)`. This file format is considered legacy. We recommend using instead the native Keras format, e.g. `model.save('my_model.keras')` or `keras.saving.save_model(model, 'my_model.keras')`. \n"
          ]
        },
        {
          "name": "stdout",
          "output_type": "stream",
          "text": [
            "17/17 - 1s - 69ms/step - AUC: 0.9524 - Accuracy: 0.8715 - loss: 0.3143 - val_AUC: 0.8565 - val_Accuracy: 0.7478 - val_loss: 0.6822 - learning_rate: 1.0000e-03\n",
            "Epoch 112/150\n"
          ]
        },
        {
          "name": "stderr",
          "output_type": "stream",
          "text": [
            "WARNING:absl:You are saving your model as an HDF5 file via `model.save()` or `keras.saving.save_model(model)`. This file format is considered legacy. We recommend using instead the native Keras format, e.g. `model.save('my_model.keras')` or `keras.saving.save_model(model, 'my_model.keras')`. \n"
          ]
        },
        {
          "name": "stdout",
          "output_type": "stream",
          "text": [
            "17/17 - 1s - 59ms/step - AUC: 0.9700 - Accuracy: 0.8920 - loss: 0.2609 - val_AUC: 0.8558 - val_Accuracy: 0.7826 - val_loss: 0.6483 - learning_rate: 1.0000e-03\n",
            "Epoch 113/150\n"
          ]
        },
        {
          "name": "stderr",
          "output_type": "stream",
          "text": [
            "WARNING:absl:You are saving your model as an HDF5 file via `model.save()` or `keras.saving.save_model(model)`. This file format is considered legacy. We recommend using instead the native Keras format, e.g. `model.save('my_model.keras')` or `keras.saving.save_model(model, 'my_model.keras')`. \n"
          ]
        },
        {
          "name": "stdout",
          "output_type": "stream",
          "text": [
            "17/17 - 1s - 62ms/step - AUC: 0.9693 - Accuracy: 0.8845 - loss: 0.2649 - val_AUC: 0.8542 - val_Accuracy: 0.7739 - val_loss: 0.6890 - learning_rate: 1.0000e-03\n",
            "Epoch 114/150\n"
          ]
        },
        {
          "name": "stderr",
          "output_type": "stream",
          "text": [
            "WARNING:absl:You are saving your model as an HDF5 file via `model.save()` or `keras.saving.save_model(model)`. This file format is considered legacy. We recommend using instead the native Keras format, e.g. `model.save('my_model.keras')` or `keras.saving.save_model(model, 'my_model.keras')`. \n"
          ]
        },
        {
          "name": "stdout",
          "output_type": "stream",
          "text": [
            "17/17 - 1s - 66ms/step - AUC: 0.9666 - Accuracy: 0.8939 - loss: 0.2710 - val_AUC: 0.8597 - val_Accuracy: 0.7913 - val_loss: 0.6528 - learning_rate: 1.0000e-03\n",
            "Epoch 115/150\n"
          ]
        },
        {
          "name": "stderr",
          "output_type": "stream",
          "text": [
            "WARNING:absl:You are saving your model as an HDF5 file via `model.save()` or `keras.saving.save_model(model)`. This file format is considered legacy. We recommend using instead the native Keras format, e.g. `model.save('my_model.keras')` or `keras.saving.save_model(model, 'my_model.keras')`. \n"
          ]
        },
        {
          "name": "stdout",
          "output_type": "stream",
          "text": [
            "17/17 - 1s - 74ms/step - AUC: 0.9566 - Accuracy: 0.8808 - loss: 0.3001 - val_AUC: 0.8615 - val_Accuracy: 0.7391 - val_loss: 0.6970 - learning_rate: 1.0000e-03\n",
            "Epoch 116/150\n"
          ]
        },
        {
          "name": "stderr",
          "output_type": "stream",
          "text": [
            "WARNING:absl:You are saving your model as an HDF5 file via `model.save()` or `keras.saving.save_model(model)`. This file format is considered legacy. We recommend using instead the native Keras format, e.g. `model.save('my_model.keras')` or `keras.saving.save_model(model, 'my_model.keras')`. \n"
          ]
        },
        {
          "name": "stdout",
          "output_type": "stream",
          "text": [
            "17/17 - 1s - 52ms/step - AUC: 0.9616 - Accuracy: 0.8771 - loss: 0.2849 - val_AUC: 0.8608 - val_Accuracy: 0.7652 - val_loss: 0.7068 - learning_rate: 1.0000e-03\n",
            "Epoch 117/150\n"
          ]
        },
        {
          "name": "stderr",
          "output_type": "stream",
          "text": [
            "WARNING:absl:You are saving your model as an HDF5 file via `model.save()` or `keras.saving.save_model(model)`. This file format is considered legacy. We recommend using instead the native Keras format, e.g. `model.save('my_model.keras')` or `keras.saving.save_model(model, 'my_model.keras')`. \n"
          ]
        },
        {
          "name": "stdout",
          "output_type": "stream",
          "text": [
            "17/17 - 1s - 45ms/step - AUC: 0.9567 - Accuracy: 0.8827 - loss: 0.2985 - val_AUC: 0.8413 - val_Accuracy: 0.7652 - val_loss: 0.7500 - learning_rate: 1.0000e-03\n",
            "Epoch 118/150\n"
          ]
        },
        {
          "name": "stderr",
          "output_type": "stream",
          "text": [
            "WARNING:absl:You are saving your model as an HDF5 file via `model.save()` or `keras.saving.save_model(model)`. This file format is considered legacy. We recommend using instead the native Keras format, e.g. `model.save('my_model.keras')` or `keras.saving.save_model(model, 'my_model.keras')`. \n"
          ]
        },
        {
          "name": "stdout",
          "output_type": "stream",
          "text": [
            "17/17 - 1s - 39ms/step - AUC: 0.9596 - Accuracy: 0.8827 - loss: 0.2964 - val_AUC: 0.8455 - val_Accuracy: 0.7478 - val_loss: 0.6922 - learning_rate: 1.0000e-03\n",
            "Epoch 119/150\n"
          ]
        },
        {
          "name": "stderr",
          "output_type": "stream",
          "text": [
            "WARNING:absl:You are saving your model as an HDF5 file via `model.save()` or `keras.saving.save_model(model)`. This file format is considered legacy. We recommend using instead the native Keras format, e.g. `model.save('my_model.keras')` or `keras.saving.save_model(model, 'my_model.keras')`. \n"
          ]
        },
        {
          "name": "stdout",
          "output_type": "stream",
          "text": [
            "17/17 - 1s - 76ms/step - AUC: 0.9578 - Accuracy: 0.8939 - loss: 0.2872 - val_AUC: 0.8452 - val_Accuracy: 0.7739 - val_loss: 0.7415 - learning_rate: 1.0000e-03\n",
            "Epoch 120/150\n"
          ]
        },
        {
          "name": "stderr",
          "output_type": "stream",
          "text": [
            "WARNING:absl:You are saving your model as an HDF5 file via `model.save()` or `keras.saving.save_model(model)`. This file format is considered legacy. We recommend using instead the native Keras format, e.g. `model.save('my_model.keras')` or `keras.saving.save_model(model, 'my_model.keras')`. \n"
          ]
        },
        {
          "name": "stdout",
          "output_type": "stream",
          "text": [
            "17/17 - 1s - 30ms/step - AUC: 0.9585 - Accuracy: 0.8845 - loss: 0.2979 - val_AUC: 0.8575 - val_Accuracy: 0.7739 - val_loss: 0.6443 - learning_rate: 1.0000e-03\n",
            "Epoch 121/150\n"
          ]
        },
        {
          "name": "stderr",
          "output_type": "stream",
          "text": [
            "WARNING:absl:You are saving your model as an HDF5 file via `model.save()` or `keras.saving.save_model(model)`. This file format is considered legacy. We recommend using instead the native Keras format, e.g. `model.save('my_model.keras')` or `keras.saving.save_model(model, 'my_model.keras')`. \n"
          ]
        },
        {
          "name": "stdout",
          "output_type": "stream",
          "text": [
            "17/17 - 0s - 26ms/step - AUC: 0.9553 - Accuracy: 0.8696 - loss: 0.3076 - val_AUC: 0.8557 - val_Accuracy: 0.7826 - val_loss: 0.6282 - learning_rate: 1.0000e-03\n",
            "Epoch 122/150\n"
          ]
        },
        {
          "name": "stderr",
          "output_type": "stream",
          "text": [
            "WARNING:absl:You are saving your model as an HDF5 file via `model.save()` or `keras.saving.save_model(model)`. This file format is considered legacy. We recommend using instead the native Keras format, e.g. `model.save('my_model.keras')` or `keras.saving.save_model(model, 'my_model.keras')`. \n"
          ]
        },
        {
          "name": "stdout",
          "output_type": "stream",
          "text": [
            "17/17 - 0s - 23ms/step - AUC: 0.9712 - Accuracy: 0.8939 - loss: 0.2620 - val_AUC: 0.8505 - val_Accuracy: 0.7565 - val_loss: 0.7429 - learning_rate: 1.0000e-03\n",
            "Epoch 123/150\n"
          ]
        },
        {
          "name": "stderr",
          "output_type": "stream",
          "text": [
            "WARNING:absl:You are saving your model as an HDF5 file via `model.save()` or `keras.saving.save_model(model)`. This file format is considered legacy. We recommend using instead the native Keras format, e.g. `model.save('my_model.keras')` or `keras.saving.save_model(model, 'my_model.keras')`. \n"
          ]
        },
        {
          "name": "stdout",
          "output_type": "stream",
          "text": [
            "17/17 - 1s - 36ms/step - AUC: 0.9647 - Accuracy: 0.8883 - loss: 0.2779 - val_AUC: 0.8578 - val_Accuracy: 0.7739 - val_loss: 0.7097 - learning_rate: 1.0000e-03\n",
            "Epoch 124/150\n"
          ]
        },
        {
          "name": "stderr",
          "output_type": "stream",
          "text": [
            "WARNING:absl:You are saving your model as an HDF5 file via `model.save()` or `keras.saving.save_model(model)`. This file format is considered legacy. We recommend using instead the native Keras format, e.g. `model.save('my_model.keras')` or `keras.saving.save_model(model, 'my_model.keras')`. \n"
          ]
        },
        {
          "name": "stdout",
          "output_type": "stream",
          "text": [
            "17/17 - 0s - 22ms/step - AUC: 0.9653 - Accuracy: 0.8957 - loss: 0.2738 - val_AUC: 0.8643 - val_Accuracy: 0.8000 - val_loss: 0.6849 - learning_rate: 1.0000e-03\n",
            "Epoch 125/150\n"
          ]
        },
        {
          "name": "stderr",
          "output_type": "stream",
          "text": [
            "WARNING:absl:You are saving your model as an HDF5 file via `model.save()` or `keras.saving.save_model(model)`. This file format is considered legacy. We recommend using instead the native Keras format, e.g. `model.save('my_model.keras')` or `keras.saving.save_model(model, 'my_model.keras')`. \n"
          ]
        },
        {
          "name": "stdout",
          "output_type": "stream",
          "text": [
            "17/17 - 0s - 22ms/step - AUC: 0.9578 - Accuracy: 0.8808 - loss: 0.2989 - val_AUC: 0.8535 - val_Accuracy: 0.7565 - val_loss: 0.6757 - learning_rate: 1.0000e-03\n",
            "Epoch 126/150\n"
          ]
        },
        {
          "name": "stderr",
          "output_type": "stream",
          "text": [
            "WARNING:absl:You are saving your model as an HDF5 file via `model.save()` or `keras.saving.save_model(model)`. This file format is considered legacy. We recommend using instead the native Keras format, e.g. `model.save('my_model.keras')` or `keras.saving.save_model(model, 'my_model.keras')`. \n"
          ]
        },
        {
          "name": "stdout",
          "output_type": "stream",
          "text": [
            "17/17 - 0s - 26ms/step - AUC: 0.9610 - Accuracy: 0.8845 - loss: 0.2905 - val_AUC: 0.8522 - val_Accuracy: 0.7739 - val_loss: 0.6959 - learning_rate: 1.0000e-03\n",
            "Epoch 127/150\n"
          ]
        },
        {
          "name": "stderr",
          "output_type": "stream",
          "text": [
            "WARNING:absl:You are saving your model as an HDF5 file via `model.save()` or `keras.saving.save_model(model)`. This file format is considered legacy. We recommend using instead the native Keras format, e.g. `model.save('my_model.keras')` or `keras.saving.save_model(model, 'my_model.keras')`. \n"
          ]
        },
        {
          "name": "stdout",
          "output_type": "stream",
          "text": [
            "17/17 - 0s - 25ms/step - AUC: 0.9678 - Accuracy: 0.9069 - loss: 0.2641 - val_AUC: 0.8500 - val_Accuracy: 0.7739 - val_loss: 0.7041 - learning_rate: 1.0000e-03\n",
            "Epoch 128/150\n"
          ]
        },
        {
          "name": "stderr",
          "output_type": "stream",
          "text": [
            "WARNING:absl:You are saving your model as an HDF5 file via `model.save()` or `keras.saving.save_model(model)`. This file format is considered legacy. We recommend using instead the native Keras format, e.g. `model.save('my_model.keras')` or `keras.saving.save_model(model, 'my_model.keras')`. \n"
          ]
        },
        {
          "name": "stdout",
          "output_type": "stream",
          "text": [
            "17/17 - 0s - 22ms/step - AUC: 0.9732 - Accuracy: 0.9162 - loss: 0.2466 - val_AUC: 0.8527 - val_Accuracy: 0.7739 - val_loss: 0.7308 - learning_rate: 1.0000e-03\n",
            "Epoch 129/150\n"
          ]
        },
        {
          "name": "stderr",
          "output_type": "stream",
          "text": [
            "WARNING:absl:You are saving your model as an HDF5 file via `model.save()` or `keras.saving.save_model(model)`. This file format is considered legacy. We recommend using instead the native Keras format, e.g. `model.save('my_model.keras')` or `keras.saving.save_model(model, 'my_model.keras')`. \n"
          ]
        },
        {
          "name": "stdout",
          "output_type": "stream",
          "text": [
            "17/17 - 1s - 35ms/step - AUC: 0.9704 - Accuracy: 0.8864 - loss: 0.2635 - val_AUC: 0.8560 - val_Accuracy: 0.7652 - val_loss: 0.6392 - learning_rate: 1.0000e-03\n",
            "Epoch 130/150\n"
          ]
        },
        {
          "name": "stderr",
          "output_type": "stream",
          "text": [
            "WARNING:absl:You are saving your model as an HDF5 file via `model.save()` or `keras.saving.save_model(model)`. This file format is considered legacy. We recommend using instead the native Keras format, e.g. `model.save('my_model.keras')` or `keras.saving.save_model(model, 'my_model.keras')`. \n"
          ]
        },
        {
          "name": "stdout",
          "output_type": "stream",
          "text": [
            "17/17 - 0s - 24ms/step - AUC: 0.9659 - Accuracy: 0.8957 - loss: 0.2743 - val_AUC: 0.8440 - val_Accuracy: 0.7478 - val_loss: 0.7493 - learning_rate: 1.0000e-03\n",
            "Epoch 131/150\n"
          ]
        },
        {
          "name": "stderr",
          "output_type": "stream",
          "text": [
            "WARNING:absl:You are saving your model as an HDF5 file via `model.save()` or `keras.saving.save_model(model)`. This file format is considered legacy. We recommend using instead the native Keras format, e.g. `model.save('my_model.keras')` or `keras.saving.save_model(model, 'my_model.keras')`. \n"
          ]
        },
        {
          "name": "stdout",
          "output_type": "stream",
          "text": [
            "17/17 - 0s - 21ms/step - AUC: 0.9648 - Accuracy: 0.8883 - loss: 0.2811 - val_AUC: 0.8363 - val_Accuracy: 0.7652 - val_loss: 0.8422 - learning_rate: 1.0000e-03\n",
            "Epoch 132/150\n"
          ]
        },
        {
          "name": "stderr",
          "output_type": "stream",
          "text": [
            "WARNING:absl:You are saving your model as an HDF5 file via `model.save()` or `keras.saving.save_model(model)`. This file format is considered legacy. We recommend using instead the native Keras format, e.g. `model.save('my_model.keras')` or `keras.saving.save_model(model, 'my_model.keras')`. \n"
          ]
        },
        {
          "name": "stdout",
          "output_type": "stream",
          "text": [
            "17/17 - 0s - 22ms/step - AUC: 0.9746 - Accuracy: 0.8957 - loss: 0.2456 - val_AUC: 0.8570 - val_Accuracy: 0.8000 - val_loss: 0.6840 - learning_rate: 1.0000e-03\n",
            "Epoch 133/150\n"
          ]
        },
        {
          "name": "stderr",
          "output_type": "stream",
          "text": [
            "WARNING:absl:You are saving your model as an HDF5 file via `model.save()` or `keras.saving.save_model(model)`. This file format is considered legacy. We recommend using instead the native Keras format, e.g. `model.save('my_model.keras')` or `keras.saving.save_model(model, 'my_model.keras')`. \n"
          ]
        },
        {
          "name": "stdout",
          "output_type": "stream",
          "text": [
            "17/17 - 0s - 22ms/step - AUC: 0.9677 - Accuracy: 0.9050 - loss: 0.2665 - val_AUC: 0.8488 - val_Accuracy: 0.7739 - val_loss: 0.6440 - learning_rate: 1.0000e-03\n",
            "Epoch 134/150\n"
          ]
        },
        {
          "name": "stderr",
          "output_type": "stream",
          "text": [
            "WARNING:absl:You are saving your model as an HDF5 file via `model.save()` or `keras.saving.save_model(model)`. This file format is considered legacy. We recommend using instead the native Keras format, e.g. `model.save('my_model.keras')` or `keras.saving.save_model(model, 'my_model.keras')`. \n"
          ]
        },
        {
          "name": "stdout",
          "output_type": "stream",
          "text": [
            "17/17 - 0s - 21ms/step - AUC: 0.9735 - Accuracy: 0.9069 - loss: 0.2526 - val_AUC: 0.8517 - val_Accuracy: 0.7739 - val_loss: 0.6542 - learning_rate: 1.0000e-03\n",
            "Epoch 135/150\n"
          ]
        },
        {
          "name": "stderr",
          "output_type": "stream",
          "text": [
            "WARNING:absl:You are saving your model as an HDF5 file via `model.save()` or `keras.saving.save_model(model)`. This file format is considered legacy. We recommend using instead the native Keras format, e.g. `model.save('my_model.keras')` or `keras.saving.save_model(model, 'my_model.keras')`. \n"
          ]
        },
        {
          "name": "stdout",
          "output_type": "stream",
          "text": [
            "17/17 - 0s - 22ms/step - AUC: 0.9746 - Accuracy: 0.9125 - loss: 0.2506 - val_AUC: 0.8547 - val_Accuracy: 0.7565 - val_loss: 0.6700 - learning_rate: 1.0000e-03\n",
            "Epoch 136/150\n"
          ]
        },
        {
          "name": "stderr",
          "output_type": "stream",
          "text": [
            "WARNING:absl:You are saving your model as an HDF5 file via `model.save()` or `keras.saving.save_model(model)`. This file format is considered legacy. We recommend using instead the native Keras format, e.g. `model.save('my_model.keras')` or `keras.saving.save_model(model, 'my_model.keras')`. \n"
          ]
        },
        {
          "name": "stdout",
          "output_type": "stream",
          "text": [
            "17/17 - 0s - 25ms/step - AUC: 0.9742 - Accuracy: 0.9088 - loss: 0.2439 - val_AUC: 0.8508 - val_Accuracy: 0.7478 - val_loss: 0.6496 - learning_rate: 1.0000e-03\n",
            "Epoch 137/150\n"
          ]
        },
        {
          "name": "stderr",
          "output_type": "stream",
          "text": [
            "WARNING:absl:You are saving your model as an HDF5 file via `model.save()` or `keras.saving.save_model(model)`. This file format is considered legacy. We recommend using instead the native Keras format, e.g. `model.save('my_model.keras')` or `keras.saving.save_model(model, 'my_model.keras')`. \n"
          ]
        },
        {
          "name": "stdout",
          "output_type": "stream",
          "text": [
            "17/17 - 0s - 23ms/step - AUC: 0.9707 - Accuracy: 0.8920 - loss: 0.2525 - val_AUC: 0.8502 - val_Accuracy: 0.7565 - val_loss: 0.7459 - learning_rate: 1.0000e-03\n",
            "Epoch 138/150\n"
          ]
        },
        {
          "name": "stderr",
          "output_type": "stream",
          "text": [
            "WARNING:absl:You are saving your model as an HDF5 file via `model.save()` or `keras.saving.save_model(model)`. This file format is considered legacy. We recommend using instead the native Keras format, e.g. `model.save('my_model.keras')` or `keras.saving.save_model(model, 'my_model.keras')`. \n"
          ]
        },
        {
          "name": "stdout",
          "output_type": "stream",
          "text": [
            "17/17 - 0s - 24ms/step - AUC: 0.9699 - Accuracy: 0.8864 - loss: 0.2598 - val_AUC: 0.8482 - val_Accuracy: 0.7826 - val_loss: 0.7802 - learning_rate: 1.0000e-03\n",
            "Epoch 139/150\n"
          ]
        },
        {
          "name": "stderr",
          "output_type": "stream",
          "text": [
            "WARNING:absl:You are saving your model as an HDF5 file via `model.save()` or `keras.saving.save_model(model)`. This file format is considered legacy. We recommend using instead the native Keras format, e.g. `model.save('my_model.keras')` or `keras.saving.save_model(model, 'my_model.keras')`. \n"
          ]
        },
        {
          "name": "stdout",
          "output_type": "stream",
          "text": [
            "17/17 - 0s - 23ms/step - AUC: 0.9625 - Accuracy: 0.8994 - loss: 0.2934 - val_AUC: 0.8410 - val_Accuracy: 0.7652 - val_loss: 0.7330 - learning_rate: 1.0000e-03\n",
            "Epoch 140/150\n"
          ]
        },
        {
          "name": "stderr",
          "output_type": "stream",
          "text": [
            "WARNING:absl:You are saving your model as an HDF5 file via `model.save()` or `keras.saving.save_model(model)`. This file format is considered legacy. We recommend using instead the native Keras format, e.g. `model.save('my_model.keras')` or `keras.saving.save_model(model, 'my_model.keras')`. \n"
          ]
        },
        {
          "name": "stdout",
          "output_type": "stream",
          "text": [
            "17/17 - 0s - 22ms/step - AUC: 0.9720 - Accuracy: 0.9106 - loss: 0.2496 - val_AUC: 0.8448 - val_Accuracy: 0.7652 - val_loss: 0.6957 - learning_rate: 1.0000e-03\n",
            "Epoch 141/150\n"
          ]
        },
        {
          "name": "stderr",
          "output_type": "stream",
          "text": [
            "WARNING:absl:You are saving your model as an HDF5 file via `model.save()` or `keras.saving.save_model(model)`. This file format is considered legacy. We recommend using instead the native Keras format, e.g. `model.save('my_model.keras')` or `keras.saving.save_model(model, 'my_model.keras')`. \n"
          ]
        },
        {
          "name": "stdout",
          "output_type": "stream",
          "text": [
            "17/17 - 0s - 25ms/step - AUC: 0.9761 - Accuracy: 0.9088 - loss: 0.2414 - val_AUC: 0.8570 - val_Accuracy: 0.8000 - val_loss: 0.6365 - learning_rate: 1.0000e-03\n",
            "Epoch 142/150\n"
          ]
        },
        {
          "name": "stderr",
          "output_type": "stream",
          "text": [
            "WARNING:absl:You are saving your model as an HDF5 file via `model.save()` or `keras.saving.save_model(model)`. This file format is considered legacy. We recommend using instead the native Keras format, e.g. `model.save('my_model.keras')` or `keras.saving.save_model(model, 'my_model.keras')`. \n"
          ]
        },
        {
          "name": "stdout",
          "output_type": "stream",
          "text": [
            "17/17 - 0s - 24ms/step - AUC: 0.9698 - Accuracy: 0.9032 - loss: 0.2577 - val_AUC: 0.8422 - val_Accuracy: 0.7652 - val_loss: 0.7564 - learning_rate: 1.0000e-03\n",
            "Epoch 143/150\n"
          ]
        },
        {
          "name": "stderr",
          "output_type": "stream",
          "text": [
            "WARNING:absl:You are saving your model as an HDF5 file via `model.save()` or `keras.saving.save_model(model)`. This file format is considered legacy. We recommend using instead the native Keras format, e.g. `model.save('my_model.keras')` or `keras.saving.save_model(model, 'my_model.keras')`. \n"
          ]
        },
        {
          "name": "stdout",
          "output_type": "stream",
          "text": [
            "17/17 - 0s - 23ms/step - AUC: 0.9805 - Accuracy: 0.9218 - loss: 0.2227 - val_AUC: 0.8393 - val_Accuracy: 0.7478 - val_loss: 0.7263 - learning_rate: 1.0000e-03\n",
            "Epoch 144/150\n"
          ]
        },
        {
          "name": "stderr",
          "output_type": "stream",
          "text": [
            "WARNING:absl:You are saving your model as an HDF5 file via `model.save()` or `keras.saving.save_model(model)`. This file format is considered legacy. We recommend using instead the native Keras format, e.g. `model.save('my_model.keras')` or `keras.saving.save_model(model, 'my_model.keras')`. \n"
          ]
        },
        {
          "name": "stdout",
          "output_type": "stream",
          "text": [
            "17/17 - 0s - 29ms/step - AUC: 0.9781 - Accuracy: 0.8976 - loss: 0.2372 - val_AUC: 0.8447 - val_Accuracy: 0.7391 - val_loss: 0.7153 - learning_rate: 1.0000e-03\n",
            "Epoch 145/150\n"
          ]
        },
        {
          "name": "stderr",
          "output_type": "stream",
          "text": [
            "WARNING:absl:You are saving your model as an HDF5 file via `model.save()` or `keras.saving.save_model(model)`. This file format is considered legacy. We recommend using instead the native Keras format, e.g. `model.save('my_model.keras')` or `keras.saving.save_model(model, 'my_model.keras')`. \n"
          ]
        },
        {
          "name": "stdout",
          "output_type": "stream",
          "text": [
            "17/17 - 1s - 38ms/step - AUC: 0.9811 - Accuracy: 0.9218 - loss: 0.2254 - val_AUC: 0.8417 - val_Accuracy: 0.7478 - val_loss: 0.6856 - learning_rate: 1.0000e-03\n",
            "Epoch 146/150\n"
          ]
        },
        {
          "name": "stderr",
          "output_type": "stream",
          "text": [
            "WARNING:absl:You are saving your model as an HDF5 file via `model.save()` or `keras.saving.save_model(model)`. This file format is considered legacy. We recommend using instead the native Keras format, e.g. `model.save('my_model.keras')` or `keras.saving.save_model(model, 'my_model.keras')`. \n"
          ]
        },
        {
          "name": "stdout",
          "output_type": "stream",
          "text": [
            "17/17 - 1s - 37ms/step - AUC: 0.9786 - Accuracy: 0.9143 - loss: 0.2305 - val_AUC: 0.8358 - val_Accuracy: 0.7565 - val_loss: 0.8200 - learning_rate: 1.0000e-03\n",
            "Epoch 147/150\n"
          ]
        },
        {
          "name": "stderr",
          "output_type": "stream",
          "text": [
            "WARNING:absl:You are saving your model as an HDF5 file via `model.save()` or `keras.saving.save_model(model)`. This file format is considered legacy. We recommend using instead the native Keras format, e.g. `model.save('my_model.keras')` or `keras.saving.save_model(model, 'my_model.keras')`. \n"
          ]
        },
        {
          "name": "stdout",
          "output_type": "stream",
          "text": [
            "17/17 - 1s - 42ms/step - AUC: 0.9776 - Accuracy: 0.9125 - loss: 0.2327 - val_AUC: 0.8492 - val_Accuracy: 0.7739 - val_loss: 0.6971 - learning_rate: 1.0000e-03\n",
            "Epoch 148/150\n"
          ]
        },
        {
          "name": "stderr",
          "output_type": "stream",
          "text": [
            "WARNING:absl:You are saving your model as an HDF5 file via `model.save()` or `keras.saving.save_model(model)`. This file format is considered legacy. We recommend using instead the native Keras format, e.g. `model.save('my_model.keras')` or `keras.saving.save_model(model, 'my_model.keras')`. \n"
          ]
        },
        {
          "name": "stdout",
          "output_type": "stream",
          "text": [
            "17/17 - 1s - 36ms/step - AUC: 0.9742 - Accuracy: 0.9218 - loss: 0.2401 - val_AUC: 0.8408 - val_Accuracy: 0.7739 - val_loss: 0.8060 - learning_rate: 1.0000e-03\n",
            "Epoch 149/150\n"
          ]
        },
        {
          "name": "stderr",
          "output_type": "stream",
          "text": [
            "WARNING:absl:You are saving your model as an HDF5 file via `model.save()` or `keras.saving.save_model(model)`. This file format is considered legacy. We recommend using instead the native Keras format, e.g. `model.save('my_model.keras')` or `keras.saving.save_model(model, 'my_model.keras')`. \n"
          ]
        },
        {
          "name": "stdout",
          "output_type": "stream",
          "text": [
            "17/17 - 0s - 26ms/step - AUC: 0.9827 - Accuracy: 0.9274 - loss: 0.2188 - val_AUC: 0.8507 - val_Accuracy: 0.7652 - val_loss: 0.7368 - learning_rate: 1.0000e-03\n",
            "Epoch 150/150\n"
          ]
        },
        {
          "name": "stderr",
          "output_type": "stream",
          "text": [
            "WARNING:absl:You are saving your model as an HDF5 file via `model.save()` or `keras.saving.save_model(model)`. This file format is considered legacy. We recommend using instead the native Keras format, e.g. `model.save('my_model.keras')` or `keras.saving.save_model(model, 'my_model.keras')`. \n"
          ]
        },
        {
          "name": "stdout",
          "output_type": "stream",
          "text": [
            "17/17 - 0s - 24ms/step - AUC: 0.9712 - Accuracy: 0.9032 - loss: 0.2553 - val_AUC: 0.8475 - val_Accuracy: 0.7304 - val_loss: 0.7917 - learning_rate: 1.0000e-03\n"
          ]
        }
      ],
      "source": [
        "# Colab cell 8: Dense NN\n",
        "import tensorflow as tf\n",
        "from tensorflow.keras import layers, models, callbacks\n",
        "\n",
        "tf.random.set_seed(42)\n",
        "dense_model = models.Sequential([\n",
        "    layers.Input(shape=(n_features,)),\n",
        "    layers.Dense(128, activation='relu'),\n",
        "    layers.Dropout(0.3),\n",
        "    layers.Dense(64, activation='relu'),\n",
        "    layers.Dropout(0.2),\n",
        "    layers.Dense(1, activation='sigmoid')\n",
        "])\n",
        "dense_model.compile(optimizer='adam', loss='binary_crossentropy', metrics=['accuracy', tf.keras.metrics.AUC(name='auc')])\n",
        "dense_model.summary()\n",
        "\n",
        "es = callbacks.EarlyStopping(monitor='val_loss', patience=8, restore_best_weights=True)\n",
        "\n",
        "history_dense = dense_model.fit(\n",
        "    X_train, y_train,\n",
        "    validation_split=0.15,\n",
        "    epochs=100,\n",
        "    batch_size=32,\n",
        "    callbacks=[es],\n",
        "    verbose=2\n",
        ")\n",
        "\n",
        "# Evaluate\n",
        "dense_eval = dense_model.evaluate(X_test, y_test, verbose=0)\n",
        "print(\"Dense NN eval (loss, acc, auc):\", dense_eval)\n",
        "y_proba_dense = dense_model.predict(X_test).ravel()\n",
        "y_pred_dense = (y_proba_dense >= 0.5).astype(int)\n",
        "print(classification_report(y_test, y_pred_dense))\n",
        "print(\"ROC AUC:\", roc_auc_score(y_test, y_proba_dense))\n"
      ]
    },
    {
      "cell_type": "code",
      "execution_count": null,
      "metadata": {
        "colab": {
          "base_uri": "https://localhost:8080/",
          "height": 349
        },
        "id": "zlle_apw1S6x",
        "outputId": "f0660afe-6d13-4161-bc85-459e11160605"
      },
      "outputs": [
        {
          "name": "stdout",
          "output_type": "stream",
          "text": [
            "History keys available: ['AUC', 'Accuracy', 'loss', 'val_AUC', 'val_Accuracy', 'val_loss', 'learning_rate']\n"
          ]
        },
        {
          "data": {
            "image/png": "[encoded data removed]",
            "text/plain": [
              "<Figure size 1400x400 with 2 Axes>"
            ]
          },
          "metadata": {},
          "output_type": "display_data"
        }
      ],
      "source": [
        "# Colab cell 9: 1D-CNN on tabular (features as timesteps)\n",
        "from tensorflow.keras import regularizers\n",
        "\n",
        "cnn_model = models.Sequential([\n",
        "    layers.Input(shape=(n_features,1)),\n",
        "    layers.Conv1D(filters=32, kernel_size=3, activation='relu', padding='same'),\n",
        "    layers.BatchNormalization(),\n",
        "    layers.Conv1D(filters=64, kernel_size=3, activation='relu', padding='same'),\n",
        "    layers.BatchNormalization(),\n",
        "    layers.MaxPooling1D(pool_size=2),\n",
        "    layers.Dropout(0.3),\n",
        "    layers.Flatten(),\n",
        "    layers.Dense(64, activation='relu', kernel_regularizer=regularizers.l2(1e-4)),\n",
        "    layers.Dropout(0.2),\n",
        "    layers.Dense(1, activation='sigmoid')\n",
        "])\n",
        "\n",
        "cnn_model.compile(optimizer='adam', loss='binary_crossentropy', metrics=['accuracy', tf.keras.metrics.AUC(name='auc')])\n",
        "cnn_model.summary()\n",
        "\n",
        "es2 = callbacks.EarlyStopping(monitor='val_loss', patience=8, restore_best_weights=True)\n",
        "history_cnn = cnn_model.fit(\n",
        "    X_train_cnn, y_train,\n",
        "    validation_split=0.15,\n",
        "    epochs=100,\n",
        "    batch_size=32,\n",
        "    callbacks=[es2],\n",
        "    verbose=2\n",
        ")\n",
        "\n",
        "# Evaluate\n",
        "cnn_eval = cnn_model.evaluate(X_test_cnn, y_test, verbose=0)\n",
        "print(\"CNN eval (loss, acc, auc):\", cnn_eval)\n",
        "y_proba_cnn = cnn_model.predict(X_test_cnn).ravel()\n",
        "y_pred_cnn = (y_proba_cnn >= 0.5).astype(int)\n",
        "print(classification_report(y_test, y_pred_cnn))\n",
        "print(\"ROC AUC:\", roc_auc_score(y_test, y_proba_cnn))\n"
      ]
    },
    {
      "cell_type": "code",
      "execution_count": null,
      "metadata": {
        "colab": {
          "base_uri": "https://localhost:8080/"
        },
        "id": "N9zZwACq2zJF",
        "outputId": "235e1f71-e1d5-4969-8ac2-324b4eb6aecc"
      },
      "outputs": [
        {
          "name": "stderr",
          "output_type": "stream",
          "text": [
            "WARNING:absl:Compiled the loaded model, but the compiled metrics have yet to be built. `model.compile_metrics` will be empty until you train or evaluate the model.\n"
          ]
        },
        {
          "name": "stdout",
          "output_type": "stream",
          "text": [
            "Test results (loss, AUC, accuracy): [1.1060625314712524, 0.7343089580535889, 0.008620689623057842]\n"
          ]
        }
      ],
      "source": [
        "# Colab cell 10: compare & ROC\n",
        "from sklearn.metrics import roc_curve, auc, precision_recall_fscore_support\n",
        "\n",
        "models_results = {\n",
        "    \"RandomForest\": (y_test, y_pred_rf, y_proba_rf),\n",
        "    \"XGBoost\": (y_test, y_pred_xg, y_proba_xg),\n",
        "    \"DenseNN\": (y_test, y_pred_dense, y_proba_dense),\n",
        "    \"CNN\": (y_test, y_pred_cnn, y_proba_cnn)\n",
        "}\n",
        "\n",
        "# Print summary table\n",
        "rows = []\n",
        "for name,(y_t,y_p,y_pr) in models_results.items():\n",
        "    acc = (y_t == y_p).mean()\n",
        "    prec, rec, f1, _ = precision_recall_fscore_support(y_t, y_p, average='binary', zero_division=0)\n",
        "    roc = roc_auc_score(y_t, y_pr)\n",
        "    rows.append({\"model\":name,\"accuracy\":acc,\"precision\":prec,\"recall\":rec,\"f1\":f1,\"roc_auc\":roc})\n",
        "summary_df = pd.DataFrame(rows).sort_values(\"roc_auc\", ascending=False)\n",
        "display(summary_df)\n",
        "\n",
        "# Plot ROC curves\n",
        "plt.figure(figsize=(8,6))\n",
        "for name,(y_t,y_p,y_pr) in models_results.items():\n",
        "    fpr, tpr, _ = roc_curve(y_t, y_pr)\n",
        "    plt.plot(fpr, tpr, label=f\"{name} (AUC={roc_auc_score(y_t,y_pr):.3f})\")\n",
        "plt.plot([0,1],[0,1],'k--')\n",
        "plt.xlabel(\"False Positive Rate\")\n",
        "plt.ylabel(\"True Positive Rate\")\n",
        "plt.title(\"ROC curves\")\n",
        "plt.legend()\n",
        "plt.show()\n"
      ]
    },
    {
      "cell_type": "code",
      "execution_count": null,
      "metadata": {
        "colab": {
          "base_uri": "https://localhost:8080/",
          "height": 782
        },
        "id": "jhIIdKHG27Yu",
        "outputId": "ff7d1926-4951-4abe-89e5-f89588a13f37"
      },
      "outputs": [
        {
          "name": "stdout",
          "output_type": "stream",
          "text": [
            "\u001b[1m4/4\u001b[0m \u001b[32m━━━━━━━━━━━━━━━━━━━━\u001b[0m\u001b[37m\u001b[0m \u001b[1m0s\u001b[0m 65ms/step\n",
            "Test ROC AUC: 0.7298, AP: 0.5848\n",
            "\n",
            "Confusion Matrix:\n",
            " [[49 26]\n",
            " [13 28]]\n",
            "\n",
            "Classification Report:\n",
            "               precision    recall  f1-score   support\n",
            "\n",
            "           0     0.7903    0.6533    0.7153        75\n",
            "           1     0.5185    0.6829    0.5895        41\n",
            "\n",
            "    accuracy                         0.6638       116\n",
            "   macro avg     0.6544    0.6681    0.6524       116\n",
            "weighted avg     0.6943    0.6638    0.6708       116\n",
            "\n"
          ]
        },
        {
          "data": {
            "image/png": "[encoded data removed]",
            "text/plain": [
              "<Figure size 600x500 with 1 Axes>"
            ]
          },
          "metadata": {},
          "output_type": "display_data"
        }
      ],
      "source": [
        "# Colab cell 11: confusion matrix for CNN\n",
        "import seaborn as sns\n",
        "cm = confusion_matrix(y_test, y_pred_cnn)\n",
        "plt.figure(figsize=(4,3))\n",
        "sns.heatmap(cm, annot=True, fmt='d', cmap='Blues')\n",
        "plt.xlabel(\"Predicted\")\n",
        "plt.ylabel(\"Actual\")\n",
        "plt.title(\"Confusion matrix - CNN\")\n",
        "plt.show()\n"
      ]
    },
    {
      "cell_type": "code",
      "execution_count": null,
      "metadata": {
        "colab": {
          "base_uri": "https://localhost:8080/",
          "height": 774
        },
        "id": "75rMgeeV3Axg",
        "outputId": "8edf58e4-dbd4-45cd-cb8c-9f601c52b3a1"
      },
      "outputs": [
        {
          "name": "stderr",
          "output_type": "stream",
          "text": [
            "/usr/local/lib/python3.12/dist-packages/shap/explainers/_deep/deep_tf.py:94: UserWarning: Your TensorFlow version is newer than 2.4.0 and so graph support has been removed in eager mode and some static graphs may not be supported. See PR #1483 for discussion.\n",
            "  warnings.warn(\n",
            "/usr/local/lib/python3.12/dist-packages/keras/src/models/functional.py:241: UserWarning: The structure of `inputs` doesn't match the expected structure.\n",
            "Expected: input_layer\n",
            "Received: inputs=['Tensor(shape=(100, 8, 1))']\n",
            "  warnings.warn(msg)\n",
            "/usr/local/lib/python3.12/dist-packages/keras/src/models/functional.py:241: UserWarning: The structure of `inputs` doesn't match the expected structure.\n",
            "Expected: input_layer\n",
            "Received: inputs=['Tensor(shape=(200, 8, 1))']\n",
            "  warnings.warn(msg)\n",
            "/usr/local/lib/python3.12/dist-packages/keras/src/models/functional.py:241: UserWarning: The structure of `inputs` doesn't match the expected structure.\n",
            "Expected: input_layer\n",
            "Received: inputs=['Tensor(shape=(50, 8, 1))']\n",
            "  warnings.warn(msg)\n",
            "/tmp/ipython-input-1138440909.py:16: FutureWarning: The NumPy global RNG was seeded by calling `np.random.seed`. In a future version this function will no longer use the global RNG. Pass `rng` explicitly to opt-in to the new behaviour and silence this warning.\n",
            "  shap.summary_plot(np.squeeze(shap_values), to_explain.reshape(to_explain.shape[0], to_explain.shape[1]), feature_names=df_clean.drop(columns=[TARGET]).columns.tolist(), plot_type=\"bar\")\n"
          ]
        },
        {
          "data": {
            "image/png": "[encoded data removed]",
            "text/plain": [
              "<Figure size 800x470 with 1 Axes>"
            ]
          },
          "metadata": {},
          "output_type": "display_data"
        }
      ],
      "source": [
        "# Colab cell 12: save artifacts\n",
        "import joblib\n",
        "os.makedirs(\"artifacts\", exist_ok=True)\n",
        "joblib.dump(scaler, \"artifacts/scaler.joblib\")\n",
        "joblib.dump(imputer, \"artifacts/imputer.joblib\")\n",
        "joblib.dump(rf, \"artifacts/random_forest.joblib\")\n",
        "xg.save_model(\"artifacts/xgboost.json\")\n",
        "dense_model.save(\"artifacts/dense_model.h5\")\n",
        "cnn_model.save(\"artifacts/cnn_model.h5\")\n",
        "print(\"Saved artifacts to artifacts/\")\n"
      ]
    },
    {
      "cell_type": "code",
      "execution_count": null,
      "metadata": {
        "colab": {
          "base_uri": "https://localhost:8080/",
          "height": 54
        },
        "id": "ZDhYqwul3OME",
        "outputId": "76cb41f1-bab8-4369-cdd0-9f6ed22a294f"
      },
      "outputs": [
        {
          "name": "stderr",
          "output_type": "stream",
          "text": [
            "WARNING:absl:You are saving your model as an HDF5 file via `model.save()` or `keras.saving.save_model(model)`. This file format is considered legacy. We recommend using instead the native Keras format, e.g. `model.save('my_model.keras')` or `keras.saving.save_model(model, 'my_model.keras')`. \n"
          ]
        },
        {
          "data": {
            "application/javascript": [
              "\n",
              "    async function download(id, filename, size) {\n",
              "      if (!google.colab.kernel.accessAllowed) {\n",
              "        return;\n",
              "      }\n",
              "      const div = document.createElement('div');\n",
              "      const label = document.createElement('label');\n",
              "      label.textContent = `Downloading \"${filename}\": `;\n",
              "      div.appendChild(label);\n",
              "      const progress = document.createElement('progress');\n",
              "      progress.max = size;\n",
              "      div.appendChild(progress);\n",
              "      document.body.appendChild(div);\n",
              "\n",
              "      const buffers = [];\n",
              "      let downloaded = 0;\n",
              "\n",
              "      const channel = await google.colab.kernel.comms.open(id);\n",
              "      // Send a message to notify the kernel that we're ready.\n",
              "      channel.send({})\n",
              "\n",
              "      for await (const message of channel.messages) {\n",
              "        // Send a message to notify the kernel that we're ready.\n",
              "        channel.send({})\n",
              "        if (message.buffers) {\n",
              "          for (const buffer of message.buffers) {\n",
              "            buffers.push(buffer);\n",
              "            downloaded += buffer.byteLength;\n",
              "            progress.value = downloaded;\n",
              "          }\n",
              "        }\n",
              "      }\n",
              "      const blob = new Blob(buffers, {type: 'application/binary'});\n",
              "      const a = document.createElement('a');\n",
              "      a.href = window.URL.createObjectURL(blob);\n",
              "      a.download = filename;\n",
              "      div.appendChild(a);\n",
              "      a.click();\n",
              "      div.remove();\n",
              "    }\n",
              "  "
            ],
            "text/plain": [
              "<IPython.core.display.Javascript object>"
            ]
          },
          "metadata": {},
          "output_type": "display_data"
        },
        {
          "data": {
            "application/javascript": [
              "download(\"download_a2ac9239-8f56-4caf-a8ea-a19d17cee65e\", \"diabetes_cnn_model.h5\", 398464)"
            ],
            "text/plain": [
              "<IPython.core.display.Javascript object>"
            ]
          },
          "metadata": {},
          "output_type": "display_data"
        },
        {
          "data": {
            "application/javascript": [
              "\n",
              "    async function download(id, filename, size) {\n",
              "      if (!google.colab.kernel.accessAllowed) {\n",
              "        return;\n",
              "      }\n",
              "      const div = document.createElement('div');\n",
              "      const label = document.createElement('label');\n",
              "      label.textContent = `Downloading \"${filename}\": `;\n",
              "      div.appendChild(label);\n",
              "      const progress = document.createElement('progress');\n",
              "      progress.max = size;\n",
              "      div.appendChild(progress);\n",
              "      document.body.appendChild(div);\n",
              "\n",
              "      const buffers = [];\n",
              "      let downloaded = 0;\n",
              "\n",
              "      const channel = await google.colab.kernel.comms.open(id);\n",
              "      // Send a message to notify the kernel that we're ready.\n",
              "      channel.send({})\n",
              "\n",
              "      for await (const message of channel.messages) {\n",
              "        // Send a message to notify the kernel that we're ready.\n",
              "        channel.send({})\n",
              "        if (message.buffers) {\n",
              "          for (const buffer of message.buffers) {\n",
              "            buffers.push(buffer);\n",
              "            downloaded += buffer.byteLength;\n",
              "            progress.value = downloaded;\n",
              "          }\n",
              "        }\n",
              "      }\n",
              "      const blob = new Blob(buffers, {type: 'application/binary'});\n",
              "      const a = document.createElement('a');\n",
              "      a.href = window.URL.createObjectURL(blob);\n",
              "      a.download = filename;\n",
              "      div.appendChild(a);\n",
              "      a.click();\n",
              "      div.remove();\n",
              "    }\n",
              "  "
            ],
            "text/plain": [
              "<IPython.core.display.Javascript object>"
            ]
          },
          "metadata": {},
          "output_type": "display_data"
        },
        {
          "data": {
            "application/javascript": [
              "download(\"download_4e43693f-d4cf-4280-a916-e0f467bef6f7\", \"scaler.save\", 807)"
            ],
            "text/plain": [
              "<IPython.core.display.Javascript object>"
            ]
          },
          "metadata": {},
          "output_type": "display_data"
        }
      ],
      "source": [
        "# Colab cell 13: load saved and predict (example single sample)\n",
        "from tensorflow.keras.models import load_model\n",
        "import numpy as np\n",
        "loaded_cnn = load_model(\"artifacts/cnn_model.h5\")\n",
        "# take first sample from test set as example\n",
        "sample = X_test[0].reshape(1, n_features, 1)\n",
        "pred_prob = loaded_cnn.predict(sample)[0,0]\n",
        "print(\"Predicted probability (CNN) for sample 0:\", pred_prob)\n"
      ]
    },
    {
      "cell_type": "code",
      "execution_count": null,
      "metadata": {
        "colab": {
          "base_uri": "https://localhost:8080/"
        },
        "id": "cgTyqjtX3VIE",
        "outputId": "c00c013f-e9b0-4c4d-a193-eb5a1007a85a"
      },
      "outputs": [
        {
          "name": "stdout",
          "output_type": "stream",
          "text": [
            "\u001b[1m1/1\u001b[0m \u001b[32m━━━━━━━━━━━━━━━━━━━━\u001b[0m\u001b[37m\u001b[0m \u001b[1m0s\u001b[0m 55ms/step\n",
            "Pred prob: 1.6065333e-05 Pred label: 0 True: 0\n"
          ]
        }
      ],
      "source": [
        "# Colab cell 14: feature importance & basic SHAP (note: SHAP can be slow)\n",
        "import shap\n",
        "# Random forest feature importances\n",
        "fi = pd.Series(rf.feature_importances_, index=X.columns).sort_values(ascending=False)\n",
        "print(\"Top feature importances (RF):\")\n",
        "display(fi.head(10))\n",
        "\n",
        "# SHAP (sample)\n",
        "explainer = shap.TreeExplainer(rf)\n",
        "shap_values = explainer.shap_values(X_test[:200])  # keep sample small for speed\n",
        "shap.summary_plot(shap_values[1], X_test[:200], feature_names=X.columns, show=True)\n"
      ]
    },
    {
      "cell_type": "code",
      "execution_count": null,
      "metadata": {
        "id": "dVA1I7q5f9pf"
      },
      "outputs": [],
      "source": []
    }
  ],
  "metadata": {
    "colab": {
      "provenance": [],
      "authorship_tag": "ABX9TyMiOI1+xNxjsUv+aqG/k2VT",
      "include_colab_link": true
    },
    "kernelspec": {
      "display_name": "Python 3",
      "name": "python3"
    },
    "language_info": {
      "name": "python"
    }
  },
  "nbformat": 4,
  "nbformat_minor": 0
}