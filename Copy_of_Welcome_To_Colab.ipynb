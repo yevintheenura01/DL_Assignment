{
  "cells": [
    {
      "cell_type": "markdown",
      "metadata": {
        "id": "view-in-github",
        "colab_type": "text"
      },
      "source": [
        "<a href=\"https://colab.research.google.com/github/yevintheenura01/DL_Assignment/blob/Nalinda/Copy_of_Welcome_To_Colab.ipynb\" target=\"_parent\"><img src=\"https://colab.research.google.com/assets/colab-badge.svg\" alt=\"Open In Colab\"/></a>"
      ]
    },
    {
      "cell_type": "code",
      "source": [
        "# Mount Google Drive\n",
        "from google.colab import drive\n",
        "drive.mount('/content/drive')\n"
      ],
      "metadata": {
        "id": "ZduOXeRIQeVY",
        "colab": {
          "base_uri": "https://localhost:8080/"
        },
        "outputId": "eb164b0a-c899-40bf-d0ca-8fc633f93c35"
      },
      "execution_count": 12,
      "outputs": [
        {
          "output_type": "stream",
          "name": "stdout",
          "text": [
            "Drive already mounted at /content/drive; to attempt to forcibly remount, call drive.mount(\"/content/drive\", force_remount=True).\n"
          ]
        }
      ]
    },
    {
      "cell_type": "code",
      "source": [
        "#  Import libraries\n",
        "import numpy as np\n",
        "import pandas as pd\n",
        "import matplotlib.pyplot as plt\n",
        "from sklearn.preprocessing import StandardScaler\n",
        "from sklearn.metrics import accuracy_score, precision_score, recall_score, f1_score, roc_auc_score, classification_report, confusion_matrix\n",
        "from tensorflow.keras import layers, models, regularizers, callbacks, optimizers\n",
        "import tensorflow as tf\n",
        "from tensorflow.keras.models import Model\n",
        "from tensorflow.keras.layers import Input, LSTM, Dense, Dropout, LayerNormalization, Bidirectional, BatchNormalization\n",
        "\n",
        "# reproducibility\n",
        "tf.random.set_seed(42)\n",
        "np.random.seed(42)\n"
      ],
      "metadata": {
        "id": "eVLesl2UQioY"
      },
      "execution_count": 13,
      "outputs": []
    },
    {
      "cell_type": "code",
      "source": [
        "# Clean Train/Test Data Loading from Google Drive\n",
        "import pandas as pd\n",
        "import os\n",
        "\n",
        "# Paths to your files\n",
        "train_path = \"/content/drive/MyDrive/DiabetesPrediction/outputs/train.csv\"\n",
        "test_path  = \"/content/drive/MyDrive/DiabetesPrediction/outputs/test.csv\"\n",
        "\n",
        "# Check file existence before loading\n",
        "for path in [train_path, test_path]:\n",
        "    if not os.path.exists(path):\n",
        "        raise FileNotFoundError(f\"❌ File not found: {path}\\nPlease verify the path in Google Drive.\")\n",
        "\n",
        "# Load CSV files\n",
        "train_df = pd.read_csv(train_path)\n",
        "test_df  = pd.read_csv(test_path)\n",
        "\n",
        "# ✅ Basic dataset info\n",
        "print(\"✅ Train shape:\", train_df.shape)\n",
        "print(\"✅ Test shape:\",  test_df.shape)\n",
        "\n",
        "# Check class balance (assuming 'diabetes' is your target)\n",
        "target_col = 'diabetes'\n",
        "if target_col in train_df.columns:\n",
        "    class_dist = train_df[target_col].value_counts(normalize=True)\n",
        "    print(f\"\\n⚖️ Class distribution in train set:\\n{class_dist}\")\n",
        "\n",
        "# Preview only first 5 rows\n",
        "print(\"\\n📘 Sample records:\")\n",
        "display(train_df.head())\n",
        "\n",
        "print(\"\\n✅ Train and Test datasets successfully loaded from Google Drive!\")\n"
      ],
      "metadata": {
        "id": "Fqo0h2R6Qjk8",
        "colab": {
          "base_uri": "https://localhost:8080/",
          "height": 414
        },
        "outputId": "8a59f436-dbc8-405f-d9bf-a607fea4ae23"
      },
      "execution_count": 14,
      "outputs": [
        {
          "output_type": "stream",
          "name": "stdout",
          "text": [
            "✅ Train shape: (140262, 9)\n",
            "✅ Test shape: (35066, 9)\n",
            "\n",
            "⚖️ Class distribution in train set:\n",
            "diabetes\n",
            "1    0.5\n",
            "0    0.5\n",
            "Name: proportion, dtype: float64\n",
            "\n",
            "📘 Sample records:\n"
          ]
        },
        {
          "output_type": "display_data",
          "data": {
            "text/plain": [
              "     gender       age  hypertension  heart_disease  smoking_history       bmi  \\\n",
              "0  1.183769  1.693635      3.447677       4.848534         0.408968  0.761924   \n",
              "1  1.183769  0.308435     -0.290050      -0.206248        -1.186816  0.055526   \n",
              "2 -0.843459 -1.014757     -0.290050      -0.206248        -1.186816  0.006561   \n",
              "3 -0.843459  0.945914     -0.290050      -0.206248         0.940896  0.094711   \n",
              "4 -0.843459  0.358859     -0.290050      -0.206248         0.940896  2.832448   \n",
              "\n",
              "   HbA1c_level  blood_glucose_level  diabetes  \n",
              "0     2.496579             0.054263         1  \n",
              "1     1.373995             0.047584         1  \n",
              "2    -0.684077             0.518038         0  \n",
              "3     3.057872             3.514083         1  \n",
              "4     0.438507            -0.129164         1  "
            ],
            "text/html": [
              "\n",
              "  <div id=\"df-ff874c12-af25-496d-83ae-742c4db3ef0b\" class=\"colab-df-container\">\n",
              "    <div>\n",
              "<style scoped>\n",
              "    .dataframe tbody tr th:only-of-type {\n",
              "        vertical-align: middle;\n",
              "    }\n",
              "\n",
              "    .dataframe tbody tr th {\n",
              "        vertical-align: top;\n",
              "    }\n",
              "\n",
              "    .dataframe thead th {\n",
              "        text-align: right;\n",
              "    }\n",
              "</style>\n",
              "<table border=\"1\" class=\"dataframe\">\n",
              "  <thead>\n",
              "    <tr style=\"text-align: right;\">\n",
              "      <th></th>\n",
              "      <th>gender</th>\n",
              "      <th>age</th>\n",
              "      <th>hypertension</th>\n",
              "      <th>heart_disease</th>\n",
              "      <th>smoking_history</th>\n",
              "      <th>bmi</th>\n",
              "      <th>HbA1c_level</th>\n",
              "      <th>blood_glucose_level</th>\n",
              "      <th>diabetes</th>\n",
              "    </tr>\n",
              "  </thead>\n",
              "  <tbody>\n",
              "    <tr>\n",
              "      <th>0</th>\n",
              "      <td>1.183769</td>\n",
              "      <td>1.693635</td>\n",
              "      <td>3.447677</td>\n",
              "      <td>4.848534</td>\n",
              "      <td>0.408968</td>\n",
              "      <td>0.761924</td>\n",
              "      <td>2.496579</td>\n",
              "      <td>0.054263</td>\n",
              "      <td>1</td>\n",
              "    </tr>\n",
              "    <tr>\n",
              "      <th>1</th>\n",
              "      <td>1.183769</td>\n",
              "      <td>0.308435</td>\n",
              "      <td>-0.290050</td>\n",
              "      <td>-0.206248</td>\n",
              "      <td>-1.186816</td>\n",
              "      <td>0.055526</td>\n",
              "      <td>1.373995</td>\n",
              "      <td>0.047584</td>\n",
              "      <td>1</td>\n",
              "    </tr>\n",
              "    <tr>\n",
              "      <th>2</th>\n",
              "      <td>-0.843459</td>\n",
              "      <td>-1.014757</td>\n",
              "      <td>-0.290050</td>\n",
              "      <td>-0.206248</td>\n",
              "      <td>-1.186816</td>\n",
              "      <td>0.006561</td>\n",
              "      <td>-0.684077</td>\n",
              "      <td>0.518038</td>\n",
              "      <td>0</td>\n",
              "    </tr>\n",
              "    <tr>\n",
              "      <th>3</th>\n",
              "      <td>-0.843459</td>\n",
              "      <td>0.945914</td>\n",
              "      <td>-0.290050</td>\n",
              "      <td>-0.206248</td>\n",
              "      <td>0.940896</td>\n",
              "      <td>0.094711</td>\n",
              "      <td>3.057872</td>\n",
              "      <td>3.514083</td>\n",
              "      <td>1</td>\n",
              "    </tr>\n",
              "    <tr>\n",
              "      <th>4</th>\n",
              "      <td>-0.843459</td>\n",
              "      <td>0.358859</td>\n",
              "      <td>-0.290050</td>\n",
              "      <td>-0.206248</td>\n",
              "      <td>0.940896</td>\n",
              "      <td>2.832448</td>\n",
              "      <td>0.438507</td>\n",
              "      <td>-0.129164</td>\n",
              "      <td>1</td>\n",
              "    </tr>\n",
              "  </tbody>\n",
              "</table>\n",
              "</div>\n",
              "    <div class=\"colab-df-buttons\">\n",
              "\n",
              "  <div class=\"colab-df-container\">\n",
              "    <button class=\"colab-df-convert\" onclick=\"convertToInteractive('df-ff874c12-af25-496d-83ae-742c4db3ef0b')\"\n",
              "            title=\"Convert this dataframe to an interactive table.\"\n",
              "            style=\"display:none;\">\n",
              "\n",
              "  <svg xmlns=\"http://www.w3.org/2000/svg\" height=\"24px\" viewBox=\"0 -960 960 960\">\n",
              "    <path d=\"M120-120v-720h720v720H120Zm60-500h600v-160H180v160Zm220 220h160v-160H400v160Zm0 220h160v-160H400v160ZM180-400h160v-160H180v160Zm440 0h160v-160H620v160ZM180-180h160v-160H180v160Zm440 0h160v-160H620v160Z\"/>\n",
              "  </svg>\n",
              "    </button>\n",
              "\n",
              "  <style>\n",
              "    .colab-df-container {\n",
              "      display:flex;\n",
              "      gap: 12px;\n",
              "    }\n",
              "\n",
              "    .colab-df-convert {\n",
              "      background-color: #E8F0FE;\n",
              "      border: none;\n",
              "      border-radius: 50%;\n",
              "      cursor: pointer;\n",
              "      display: none;\n",
              "      fill: #1967D2;\n",
              "      height: 32px;\n",
              "      padding: 0 0 0 0;\n",
              "      width: 32px;\n",
              "    }\n",
              "\n",
              "    .colab-df-convert:hover {\n",
              "      background-color: #E2EBFA;\n",
              "      box-shadow: 0px 1px 2px rgba(60, 64, 67, 0.3), 0px 1px 3px 1px rgba(60, 64, 67, 0.15);\n",
              "      fill: #174EA6;\n",
              "    }\n",
              "\n",
              "    .colab-df-buttons div {\n",
              "      margin-bottom: 4px;\n",
              "    }\n",
              "\n",
              "    [theme=dark] .colab-df-convert {\n",
              "      background-color: #3B4455;\n",
              "      fill: #D2E3FC;\n",
              "    }\n",
              "\n",
              "    [theme=dark] .colab-df-convert:hover {\n",
              "      background-color: #434B5C;\n",
              "      box-shadow: 0px 1px 3px 1px rgba(0, 0, 0, 0.15);\n",
              "      filter: drop-shadow(0px 1px 2px rgba(0, 0, 0, 0.3));\n",
              "      fill: #FFFFFF;\n",
              "    }\n",
              "  </style>\n",
              "\n",
              "    <script>\n",
              "      const buttonEl =\n",
              "        document.querySelector('#df-ff874c12-af25-496d-83ae-742c4db3ef0b button.colab-df-convert');\n",
              "      buttonEl.style.display =\n",
              "        google.colab.kernel.accessAllowed ? 'block' : 'none';\n",
              "\n",
              "      async function convertToInteractive(key) {\n",
              "        const element = document.querySelector('#df-ff874c12-af25-496d-83ae-742c4db3ef0b');\n",
              "        const dataTable =\n",
              "          await google.colab.kernel.invokeFunction('convertToInteractive',\n",
              "                                                    [key], {});\n",
              "        if (!dataTable) return;\n",
              "\n",
              "        const docLinkHtml = 'Like what you see? Visit the ' +\n",
              "          '<a target=\"_blank\" href=https://colab.research.google.com/notebooks/data_table.ipynb>data table notebook</a>'\n",
              "          + ' to learn more about interactive tables.';\n",
              "        element.innerHTML = '';\n",
              "        dataTable['output_type'] = 'display_data';\n",
              "        await google.colab.output.renderOutput(dataTable, element);\n",
              "        const docLink = document.createElement('div');\n",
              "        docLink.innerHTML = docLinkHtml;\n",
              "        element.appendChild(docLink);\n",
              "      }\n",
              "    </script>\n",
              "  </div>\n",
              "\n",
              "\n",
              "    <div id=\"df-c2e63f9d-4f94-4236-9f00-a3620472fb51\">\n",
              "      <button class=\"colab-df-quickchart\" onclick=\"quickchart('df-c2e63f9d-4f94-4236-9f00-a3620472fb51')\"\n",
              "                title=\"Suggest charts\"\n",
              "                style=\"display:none;\">\n",
              "\n",
              "<svg xmlns=\"http://www.w3.org/2000/svg\" height=\"24px\"viewBox=\"0 0 24 24\"\n",
              "     width=\"24px\">\n",
              "    <g>\n",
              "        <path d=\"M19 3H5c-1.1 0-2 .9-2 2v14c0 1.1.9 2 2 2h14c1.1 0 2-.9 2-2V5c0-1.1-.9-2-2-2zM9 17H7v-7h2v7zm4 0h-2V7h2v10zm4 0h-2v-4h2v4z\"/>\n",
              "    </g>\n",
              "</svg>\n",
              "      </button>\n",
              "\n",
              "<style>\n",
              "  .colab-df-quickchart {\n",
              "      --bg-color: #E8F0FE;\n",
              "      --fill-color: #1967D2;\n",
              "      --hover-bg-color: #E2EBFA;\n",
              "      --hover-fill-color: #174EA6;\n",
              "      --disabled-fill-color: #AAA;\n",
              "      --disabled-bg-color: #DDD;\n",
              "  }\n",
              "\n",
              "  [theme=dark] .colab-df-quickchart {\n",
              "      --bg-color: #3B4455;\n",
              "      --fill-color: #D2E3FC;\n",
              "      --hover-bg-color: #434B5C;\n",
              "      --hover-fill-color: #FFFFFF;\n",
              "      --disabled-bg-color: #3B4455;\n",
              "      --disabled-fill-color: #666;\n",
              "  }\n",
              "\n",
              "  .colab-df-quickchart {\n",
              "    background-color: var(--bg-color);\n",
              "    border: none;\n",
              "    border-radius: 50%;\n",
              "    cursor: pointer;\n",
              "    display: none;\n",
              "    fill: var(--fill-color);\n",
              "    height: 32px;\n",
              "    padding: 0;\n",
              "    width: 32px;\n",
              "  }\n",
              "\n",
              "  .colab-df-quickchart:hover {\n",
              "    background-color: var(--hover-bg-color);\n",
              "    box-shadow: 0 1px 2px rgba(60, 64, 67, 0.3), 0 1px 3px 1px rgba(60, 64, 67, 0.15);\n",
              "    fill: var(--button-hover-fill-color);\n",
              "  }\n",
              "\n",
              "  .colab-df-quickchart-complete:disabled,\n",
              "  .colab-df-quickchart-complete:disabled:hover {\n",
              "    background-color: var(--disabled-bg-color);\n",
              "    fill: var(--disabled-fill-color);\n",
              "    box-shadow: none;\n",
              "  }\n",
              "\n",
              "  .colab-df-spinner {\n",
              "    border: 2px solid var(--fill-color);\n",
              "    border-color: transparent;\n",
              "    border-bottom-color: var(--fill-color);\n",
              "    animation:\n",
              "      spin 1s steps(1) infinite;\n",
              "  }\n",
              "\n",
              "  @keyframes spin {\n",
              "    0% {\n",
              "      border-color: transparent;\n",
              "      border-bottom-color: var(--fill-color);\n",
              "      border-left-color: var(--fill-color);\n",
              "    }\n",
              "    20% {\n",
              "      border-color: transparent;\n",
              "      border-left-color: var(--fill-color);\n",
              "      border-top-color: var(--fill-color);\n",
              "    }\n",
              "    30% {\n",
              "      border-color: transparent;\n",
              "      border-left-color: var(--fill-color);\n",
              "      border-top-color: var(--fill-color);\n",
              "      border-right-color: var(--fill-color);\n",
              "    }\n",
              "    40% {\n",
              "      border-color: transparent;\n",
              "      border-right-color: var(--fill-color);\n",
              "      border-top-color: var(--fill-color);\n",
              "    }\n",
              "    60% {\n",
              "      border-color: transparent;\n",
              "      border-right-color: var(--fill-color);\n",
              "    }\n",
              "    80% {\n",
              "      border-color: transparent;\n",
              "      border-right-color: var(--fill-color);\n",
              "      border-bottom-color: var(--fill-color);\n",
              "    }\n",
              "    90% {\n",
              "      border-color: transparent;\n",
              "      border-bottom-color: var(--fill-color);\n",
              "    }\n",
              "  }\n",
              "</style>\n",
              "\n",
              "      <script>\n",
              "        async function quickchart(key) {\n",
              "          const quickchartButtonEl =\n",
              "            document.querySelector('#' + key + ' button');\n",
              "          quickchartButtonEl.disabled = true;  // To prevent multiple clicks.\n",
              "          quickchartButtonEl.classList.add('colab-df-spinner');\n",
              "          try {\n",
              "            const charts = await google.colab.kernel.invokeFunction(\n",
              "                'suggestCharts', [key], {});\n",
              "          } catch (error) {\n",
              "            console.error('Error during call to suggestCharts:', error);\n",
              "          }\n",
              "          quickchartButtonEl.classList.remove('colab-df-spinner');\n",
              "          quickchartButtonEl.classList.add('colab-df-quickchart-complete');\n",
              "        }\n",
              "        (() => {\n",
              "          let quickchartButtonEl =\n",
              "            document.querySelector('#df-c2e63f9d-4f94-4236-9f00-a3620472fb51 button');\n",
              "          quickchartButtonEl.style.display =\n",
              "            google.colab.kernel.accessAllowed ? 'block' : 'none';\n",
              "        })();\n",
              "      </script>\n",
              "    </div>\n",
              "\n",
              "    </div>\n",
              "  </div>\n"
            ],
            "application/vnd.google.colaboratory.intrinsic+json": {
              "type": "dataframe",
              "summary": "{\n  \"name\": \"print(\\\"\\\\n\\u2705 Train and Test datasets successfully loaded from Google Drive!\\\")\",\n  \"rows\": 5,\n  \"fields\": [\n    {\n      \"column\": \"gender\",\n      \"properties\": {\n        \"dtype\": \"number\",\n        \"std\": 1.110358854119331,\n        \"min\": -0.84345918910975,\n        \"max\": 1.1837694486460688,\n        \"num_unique_values\": 2,\n        \"samples\": [\n          -0.84345918910975,\n          1.1837694486460688\n        ],\n        \"semantic_type\": \"\",\n        \"description\": \"\"\n      }\n    },\n    {\n      \"column\": \"age\",\n      \"properties\": {\n        \"dtype\": \"number\",\n        \"std\": 0.995749178886114,\n        \"min\": -1.0147574878812138,\n        \"max\": 1.69363477738231,\n        \"num_unique_values\": 5,\n        \"samples\": [\n          0.3084352642582194,\n          0.358858524170956\n        ],\n        \"semantic_type\": \"\",\n        \"description\": \"\"\n      }\n    },\n    {\n      \"column\": \"hypertension\",\n      \"properties\": {\n        \"dtype\": \"number\",\n        \"std\": 1.6715624765503236,\n        \"min\": -0.2900503773512282,\n        \"max\": 3.4476769488531938,\n        \"num_unique_values\": 2,\n        \"samples\": [\n          -0.2900503773512282,\n          3.4476769488531938\n        ],\n        \"semantic_type\": \"\",\n        \"description\": \"\"\n      }\n    },\n    {\n      \"column\": \"heart_disease\",\n      \"properties\": {\n        \"dtype\": \"number\",\n        \"std\": 2.260567303648675,\n        \"min\": -0.2062478980765674,\n        \"max\": 4.848534260595279,\n        \"num_unique_values\": 2,\n        \"samples\": [\n          -0.2062478980765674,\n          4.848534260595279\n        ],\n        \"semantic_type\": \"\",\n        \"description\": \"\"\n      }\n    },\n    {\n      \"column\": \"smoking_history\",\n      \"properties\": {\n        \"dtype\": \"number\",\n        \"std\": 1.0901282981290665,\n        \"min\": -1.186816190130204,\n        \"max\": 0.940896381204629,\n        \"num_unique_values\": 3,\n        \"samples\": [\n          0.4089682383709208,\n          -1.186816190130204\n        ],\n        \"semantic_type\": \"\",\n        \"description\": \"\"\n      }\n    },\n    {\n      \"column\": \"bmi\",\n      \"properties\": {\n        \"dtype\": \"number\",\n        \"std\": 1.2042766669032974,\n        \"min\": 0.006561398574244,\n        \"max\": 2.8324475373921456,\n        \"num_unique_values\": 5,\n        \"samples\": [\n          0.0555256490685375,\n          2.8324475373921456\n        ],\n        \"semantic_type\": \"\",\n        \"description\": \"\"\n      }\n    },\n    {\n      \"column\": \"HbA1c_level\",\n      \"properties\": {\n        \"dtype\": \"number\",\n        \"std\": 1.5165284514173674,\n        \"min\": -0.6840773769983484,\n        \"max\": 3.0578717028305884,\n        \"num_unique_values\": 5,\n        \"samples\": [\n          1.3739946169075663,\n          0.4385073469503325\n        ],\n        \"semantic_type\": \"\",\n        \"description\": \"\"\n      }\n    },\n    {\n      \"column\": \"blood_glucose_level\",\n      \"properties\": {\n        \"dtype\": \"number\",\n        \"std\": 1.53552476045404,\n        \"min\": -0.1291641120573851,\n        \"max\": 3.5140833096841697,\n        \"num_unique_values\": 5,\n        \"samples\": [\n          0.0475842565362016,\n          -0.1291641120573851\n        ],\n        \"semantic_type\": \"\",\n        \"description\": \"\"\n      }\n    },\n    {\n      \"column\": \"diabetes\",\n      \"properties\": {\n        \"dtype\": \"number\",\n        \"std\": 0,\n        \"min\": 0,\n        \"max\": 1,\n        \"num_unique_values\": 2,\n        \"samples\": [\n          0,\n          1\n        ],\n        \"semantic_type\": \"\",\n        \"description\": \"\"\n      }\n    }\n  ]\n}"
            }
          },
          "metadata": {}
        },
        {
          "output_type": "stream",
          "name": "stdout",
          "text": [
            "\n",
            "✅ Train and Test datasets successfully loaded from Google Drive!\n"
          ]
        }
      ]
    },
    {
      "cell_type": "code",
      "source": [
        "#  Split features and target\n",
        "target_col = 'diabetes'  # change if your column name is different\n",
        "\n",
        "X_train = train_df.drop(columns=[target_col])\n",
        "y_train = train_df[target_col].values\n",
        "X_test  = test_df.drop(columns=[target_col])\n",
        "y_test  = test_df[target_col].values\n",
        "\n",
        "print(\"Features:\", X_train.shape[1], \" Target distribution:\", np.bincount(y_train))\n"
      ],
      "metadata": {
        "id": "1cA71SJlQwkB",
        "colab": {
          "base_uri": "https://localhost:8080/"
        },
        "outputId": "bd4b96cf-7c2d-470a-f67b-f11f44e0a5ef"
      },
      "execution_count": 15,
      "outputs": [
        {
          "output_type": "stream",
          "name": "stdout",
          "text": [
            "Features: 8  Target distribution: [70131 70131]\n"
          ]
        }
      ]
    },
    {
      "cell_type": "code",
      "source": [
        "# Scale features\n",
        "scaler = StandardScaler()\n",
        "X_train_scaled = scaler.fit_transform(X_train)\n",
        "X_test_scaled  = scaler.transform(X_test)\n"
      ],
      "metadata": {
        "id": "3QJNiQHzQz6L"
      },
      "execution_count": 19,
      "outputs": []
    },
    {
      "cell_type": "code",
      "source": [
        "#  Reshape for LSTM (each feature = timestep)\n",
        "X_train_seq = X_train_scaled.reshape(X_train_scaled.shape[0], X_train_scaled.shape[1], 1)\n",
        "X_test_seq  = X_test_scaled.reshape(X_test_scaled.shape[0], X_test_scaled.shape[1], 1)\n",
        "\n",
        "print(\"Train seq shape:\", X_train_seq.shape)\n"
      ],
      "metadata": {
        "id": "P6APsAueQ1rl",
        "colab": {
          "base_uri": "https://localhost:8080/"
        },
        "outputId": "15be9ad3-6815-452c-a562-e85bcd96513b"
      },
      "execution_count": 18,
      "outputs": [
        {
          "output_type": "stream",
          "name": "stdout",
          "text": [
            "Train seq shape: (140262, 8, 1)\n"
          ]
        }
      ]
    },
    {
      "cell_type": "code",
      "source": [
        "# Define advanced LSTM model\n",
        "def build_lstm(input_shape):\n",
        "    inp = Input(shape=input_shape)\n",
        "    x = Bidirectional(LSTM(64, return_sequences=True, kernel_regularizer=regularizers.l2(1e-4)))(inp)\n",
        "    x = LayerNormalization()(x)\n",
        "    x = Dropout(0.4)(x)\n",
        "    x = Bidirectional(LSTM(32))(x)\n",
        "    x = BatchNormalization()(x)\n",
        "    x = Dense(32, activation='relu', kernel_regularizer=regularizers.l2(1e-4))(x)\n",
        "    x = Dropout(0.3)(x)\n",
        "    out = Dense(1, activation='sigmoid')(x)\n",
        "    model = Model(inputs=inp, outputs=out)\n",
        "    model.compile(optimizer=optimizers.Adam(1e-3), loss='binary_crossentropy', metrics=['accuracy', tf.keras.metrics.AUC()])\n",
        "    return model\n",
        "\n",
        "model = build_lstm((X_train_seq.shape[1], 1))\n",
        "model.summary()\n"
      ],
      "metadata": {
        "id": "TpCO_EDoQ3ab",
        "colab": {
          "base_uri": "https://localhost:8080/",
          "height": 476
        },
        "outputId": "f4ae14c4-e315-48d9-c579-87877733b8da"
      },
      "execution_count": 20,
      "outputs": [
        {
          "output_type": "display_data",
          "data": {
            "text/plain": [
              "\u001b[1mModel: \"functional_1\"\u001b[0m\n"
            ],
            "text/html": [
              "<pre style=\"white-space:pre;overflow-x:auto;line-height:normal;font-family:Menlo,'DejaVu Sans Mono',consolas,'Courier New',monospace\"><span style=\"font-weight: bold\">Model: \"functional_1\"</span>\n",
              "</pre>\n"
            ]
          },
          "metadata": {}
        },
        {
          "output_type": "display_data",
          "data": {
            "text/plain": [
              "┏━━━━━━━━━━━━━━━━━━━━━━━━━━━━━━━━━┳━━━━━━━━━━━━━━━━━━━━━━━━┳━━━━━━━━━━━━━━━┓\n",
              "┃\u001b[1m \u001b[0m\u001b[1mLayer (type)                   \u001b[0m\u001b[1m \u001b[0m┃\u001b[1m \u001b[0m\u001b[1mOutput Shape          \u001b[0m\u001b[1m \u001b[0m┃\u001b[1m \u001b[0m\u001b[1m      Param #\u001b[0m\u001b[1m \u001b[0m┃\n",
              "┡━━━━━━━━━━━━━━━━━━━━━━━━━━━━━━━━━╇━━━━━━━━━━━━━━━━━━━━━━━━╇━━━━━━━━━━━━━━━┩\n",
              "│ input_layer_1 (\u001b[38;5;33mInputLayer\u001b[0m)      │ (\u001b[38;5;45mNone\u001b[0m, \u001b[38;5;34m8\u001b[0m, \u001b[38;5;34m1\u001b[0m)           │             \u001b[38;5;34m0\u001b[0m │\n",
              "├─────────────────────────────────┼────────────────────────┼───────────────┤\n",
              "│ bidirectional_2 (\u001b[38;5;33mBidirectional\u001b[0m) │ (\u001b[38;5;45mNone\u001b[0m, \u001b[38;5;34m8\u001b[0m, \u001b[38;5;34m128\u001b[0m)         │        \u001b[38;5;34m33,792\u001b[0m │\n",
              "├─────────────────────────────────┼────────────────────────┼───────────────┤\n",
              "│ layer_normalization_1           │ (\u001b[38;5;45mNone\u001b[0m, \u001b[38;5;34m8\u001b[0m, \u001b[38;5;34m128\u001b[0m)         │           \u001b[38;5;34m256\u001b[0m │\n",
              "│ (\u001b[38;5;33mLayerNormalization\u001b[0m)            │                        │               │\n",
              "├─────────────────────────────────┼────────────────────────┼───────────────┤\n",
              "│ dropout_2 (\u001b[38;5;33mDropout\u001b[0m)             │ (\u001b[38;5;45mNone\u001b[0m, \u001b[38;5;34m8\u001b[0m, \u001b[38;5;34m128\u001b[0m)         │             \u001b[38;5;34m0\u001b[0m │\n",
              "├─────────────────────────────────┼────────────────────────┼───────────────┤\n",
              "│ bidirectional_3 (\u001b[38;5;33mBidirectional\u001b[0m) │ (\u001b[38;5;45mNone\u001b[0m, \u001b[38;5;34m64\u001b[0m)             │        \u001b[38;5;34m41,216\u001b[0m │\n",
              "├─────────────────────────────────┼────────────────────────┼───────────────┤\n",
              "│ batch_normalization_1           │ (\u001b[38;5;45mNone\u001b[0m, \u001b[38;5;34m64\u001b[0m)             │           \u001b[38;5;34m256\u001b[0m │\n",
              "│ (\u001b[38;5;33mBatchNormalization\u001b[0m)            │                        │               │\n",
              "├─────────────────────────────────┼────────────────────────┼───────────────┤\n",
              "│ dense_2 (\u001b[38;5;33mDense\u001b[0m)                 │ (\u001b[38;5;45mNone\u001b[0m, \u001b[38;5;34m32\u001b[0m)             │         \u001b[38;5;34m2,080\u001b[0m │\n",
              "├─────────────────────────────────┼────────────────────────┼───────────────┤\n",
              "│ dropout_3 (\u001b[38;5;33mDropout\u001b[0m)             │ (\u001b[38;5;45mNone\u001b[0m, \u001b[38;5;34m32\u001b[0m)             │             \u001b[38;5;34m0\u001b[0m │\n",
              "├─────────────────────────────────┼────────────────────────┼───────────────┤\n",
              "│ dense_3 (\u001b[38;5;33mDense\u001b[0m)                 │ (\u001b[38;5;45mNone\u001b[0m, \u001b[38;5;34m1\u001b[0m)              │            \u001b[38;5;34m33\u001b[0m │\n",
              "└─────────────────────────────────┴────────────────────────┴───────────────┘\n"
            ],
            "text/html": [
              "<pre style=\"white-space:pre;overflow-x:auto;line-height:normal;font-family:Menlo,'DejaVu Sans Mono',consolas,'Courier New',monospace\">┏━━━━━━━━━━━━━━━━━━━━━━━━━━━━━━━━━┳━━━━━━━━━━━━━━━━━━━━━━━━┳━━━━━━━━━━━━━━━┓\n",
              "┃<span style=\"font-weight: bold\"> Layer (type)                    </span>┃<span style=\"font-weight: bold\"> Output Shape           </span>┃<span style=\"font-weight: bold\">       Param # </span>┃\n",
              "┡━━━━━━━━━━━━━━━━━━━━━━━━━━━━━━━━━╇━━━━━━━━━━━━━━━━━━━━━━━━╇━━━━━━━━━━━━━━━┩\n",
              "│ input_layer_1 (<span style=\"color: #0087ff; text-decoration-color: #0087ff\">InputLayer</span>)      │ (<span style=\"color: #00d7ff; text-decoration-color: #00d7ff\">None</span>, <span style=\"color: #00af00; text-decoration-color: #00af00\">8</span>, <span style=\"color: #00af00; text-decoration-color: #00af00\">1</span>)           │             <span style=\"color: #00af00; text-decoration-color: #00af00\">0</span> │\n",
              "├─────────────────────────────────┼────────────────────────┼───────────────┤\n",
              "│ bidirectional_2 (<span style=\"color: #0087ff; text-decoration-color: #0087ff\">Bidirectional</span>) │ (<span style=\"color: #00d7ff; text-decoration-color: #00d7ff\">None</span>, <span style=\"color: #00af00; text-decoration-color: #00af00\">8</span>, <span style=\"color: #00af00; text-decoration-color: #00af00\">128</span>)         │        <span style=\"color: #00af00; text-decoration-color: #00af00\">33,792</span> │\n",
              "├─────────────────────────────────┼────────────────────────┼───────────────┤\n",
              "│ layer_normalization_1           │ (<span style=\"color: #00d7ff; text-decoration-color: #00d7ff\">None</span>, <span style=\"color: #00af00; text-decoration-color: #00af00\">8</span>, <span style=\"color: #00af00; text-decoration-color: #00af00\">128</span>)         │           <span style=\"color: #00af00; text-decoration-color: #00af00\">256</span> │\n",
              "│ (<span style=\"color: #0087ff; text-decoration-color: #0087ff\">LayerNormalization</span>)            │                        │               │\n",
              "├─────────────────────────────────┼────────────────────────┼───────────────┤\n",
              "│ dropout_2 (<span style=\"color: #0087ff; text-decoration-color: #0087ff\">Dropout</span>)             │ (<span style=\"color: #00d7ff; text-decoration-color: #00d7ff\">None</span>, <span style=\"color: #00af00; text-decoration-color: #00af00\">8</span>, <span style=\"color: #00af00; text-decoration-color: #00af00\">128</span>)         │             <span style=\"color: #00af00; text-decoration-color: #00af00\">0</span> │\n",
              "├─────────────────────────────────┼────────────────────────┼───────────────┤\n",
              "│ bidirectional_3 (<span style=\"color: #0087ff; text-decoration-color: #0087ff\">Bidirectional</span>) │ (<span style=\"color: #00d7ff; text-decoration-color: #00d7ff\">None</span>, <span style=\"color: #00af00; text-decoration-color: #00af00\">64</span>)             │        <span style=\"color: #00af00; text-decoration-color: #00af00\">41,216</span> │\n",
              "├─────────────────────────────────┼────────────────────────┼───────────────┤\n",
              "│ batch_normalization_1           │ (<span style=\"color: #00d7ff; text-decoration-color: #00d7ff\">None</span>, <span style=\"color: #00af00; text-decoration-color: #00af00\">64</span>)             │           <span style=\"color: #00af00; text-decoration-color: #00af00\">256</span> │\n",
              "│ (<span style=\"color: #0087ff; text-decoration-color: #0087ff\">BatchNormalization</span>)            │                        │               │\n",
              "├─────────────────────────────────┼────────────────────────┼───────────────┤\n",
              "│ dense_2 (<span style=\"color: #0087ff; text-decoration-color: #0087ff\">Dense</span>)                 │ (<span style=\"color: #00d7ff; text-decoration-color: #00d7ff\">None</span>, <span style=\"color: #00af00; text-decoration-color: #00af00\">32</span>)             │         <span style=\"color: #00af00; text-decoration-color: #00af00\">2,080</span> │\n",
              "├─────────────────────────────────┼────────────────────────┼───────────────┤\n",
              "│ dropout_3 (<span style=\"color: #0087ff; text-decoration-color: #0087ff\">Dropout</span>)             │ (<span style=\"color: #00d7ff; text-decoration-color: #00d7ff\">None</span>, <span style=\"color: #00af00; text-decoration-color: #00af00\">32</span>)             │             <span style=\"color: #00af00; text-decoration-color: #00af00\">0</span> │\n",
              "├─────────────────────────────────┼────────────────────────┼───────────────┤\n",
              "│ dense_3 (<span style=\"color: #0087ff; text-decoration-color: #0087ff\">Dense</span>)                 │ (<span style=\"color: #00d7ff; text-decoration-color: #00d7ff\">None</span>, <span style=\"color: #00af00; text-decoration-color: #00af00\">1</span>)              │            <span style=\"color: #00af00; text-decoration-color: #00af00\">33</span> │\n",
              "└─────────────────────────────────┴────────────────────────┴───────────────┘\n",
              "</pre>\n"
            ]
          },
          "metadata": {}
        },
        {
          "output_type": "display_data",
          "data": {
            "text/plain": [
              "\u001b[1m Total params: \u001b[0m\u001b[38;5;34m77,633\u001b[0m (303.25 KB)\n"
            ],
            "text/html": [
              "<pre style=\"white-space:pre;overflow-x:auto;line-height:normal;font-family:Menlo,'DejaVu Sans Mono',consolas,'Courier New',monospace\"><span style=\"font-weight: bold\"> Total params: </span><span style=\"color: #00af00; text-decoration-color: #00af00\">77,633</span> (303.25 KB)\n",
              "</pre>\n"
            ]
          },
          "metadata": {}
        },
        {
          "output_type": "display_data",
          "data": {
            "text/plain": [
              "\u001b[1m Trainable params: \u001b[0m\u001b[38;5;34m77,505\u001b[0m (302.75 KB)\n"
            ],
            "text/html": [
              "<pre style=\"white-space:pre;overflow-x:auto;line-height:normal;font-family:Menlo,'DejaVu Sans Mono',consolas,'Courier New',monospace\"><span style=\"font-weight: bold\"> Trainable params: </span><span style=\"color: #00af00; text-decoration-color: #00af00\">77,505</span> (302.75 KB)\n",
              "</pre>\n"
            ]
          },
          "metadata": {}
        },
        {
          "output_type": "display_data",
          "data": {
            "text/plain": [
              "\u001b[1m Non-trainable params: \u001b[0m\u001b[38;5;34m128\u001b[0m (512.00 B)\n"
            ],
            "text/html": [
              "<pre style=\"white-space:pre;overflow-x:auto;line-height:normal;font-family:Menlo,'DejaVu Sans Mono',consolas,'Courier New',monospace\"><span style=\"font-weight: bold\"> Non-trainable params: </span><span style=\"color: #00af00; text-decoration-color: #00af00\">128</span> (512.00 B)\n",
              "</pre>\n"
            ]
          },
          "metadata": {}
        }
      ]
    },
    {
      "cell_type": "code",
      "source": [
        "# Callbacks\n",
        "early_stop = callbacks.EarlyStopping(monitor='val_auc', patience=15, mode='max', restore_best_weights=True)\n",
        "reduce_lr  = callbacks.ReduceLROnPlateau(monitor='val_auc', factor=0.5, patience=5, mode='max')\n",
        "checkpoint = callbacks.ModelCheckpoint('/content/drive/MyDrive/DiabetesPrediction/best_lstm.h5', save_best_only=True, monitor='val_auc', mode='max')\n"
      ],
      "metadata": {
        "id": "T85fbySNQ4FG"
      },
      "execution_count": 21,
      "outputs": []
    },
    {
      "cell_type": "code",
      "source": [
        "#  Train model\n",
        "history = model.fit(\n",
        "    X_train_seq, y_train,\n",
        "    validation_split=0.2,\n",
        "    epochs=20,\n",
        "    batch_size=32,\n",
        "    callbacks=[early_stop, reduce_lr, checkpoint],\n",
        "    verbose=2\n",
        ")\n"
      ],
      "metadata": {
        "id": "QAKmN6wwRHaO",
        "colab": {
          "base_uri": "https://localhost:8080/"
        },
        "outputId": "05035e2a-e483-4b03-ff00-dde38bfb6ec2"
      },
      "execution_count": 22,
      "outputs": [
        {
          "output_type": "stream",
          "name": "stdout",
          "text": [
            "Epoch 1/20\n"
          ]
        },
        {
          "output_type": "stream",
          "name": "stderr",
          "text": [
            "/usr/local/lib/python3.12/dist-packages/keras/src/callbacks/early_stopping.py:153: UserWarning: Early stopping conditioned on metric `val_auc` which is not available. Available metrics are: accuracy,auc_1,loss,val_accuracy,val_auc_1,val_loss\n",
            "  current = self.get_monitor_value(logs)\n",
            "/usr/local/lib/python3.12/dist-packages/keras/src/callbacks/callback_list.py:145: UserWarning: Learning rate reduction is conditioned on metric `val_auc` which is not available. Available metrics are: accuracy,auc_1,loss,val_accuracy,val_auc_1,val_loss,learning_rate.\n",
            "  callback.on_epoch_end(epoch, logs)\n",
            "/usr/local/lib/python3.12/dist-packages/keras/src/callbacks/model_checkpoint.py:302: UserWarning: Can save best model only with val_auc available.\n",
            "  if self._should_save_model(epoch, batch, logs, filepath):\n",
            "WARNING:absl:You are saving your model as an HDF5 file via `model.save()` or `keras.saving.save_model(model)`. This file format is considered legacy. We recommend using instead the native Keras format, e.g. `model.save('my_model.keras')` or `keras.saving.save_model(model, 'my_model.keras')`. \n"
          ]
        },
        {
          "output_type": "stream",
          "name": "stdout",
          "text": [
            "3507/3507 - 49s - 14ms/step - accuracy: 0.8907 - auc_1: 0.9655 - loss: 0.2379 - val_accuracy: 0.9041 - val_auc_1: 0.9751 - val_loss: 0.1991 - learning_rate: 1.0000e-03\n",
            "Epoch 2/20\n"
          ]
        },
        {
          "output_type": "stream",
          "name": "stderr",
          "text": [
            "WARNING:absl:You are saving your model as an HDF5 file via `model.save()` or `keras.saving.save_model(model)`. This file format is considered legacy. We recommend using instead the native Keras format, e.g. `model.save('my_model.keras')` or `keras.saving.save_model(model, 'my_model.keras')`. \n"
          ]
        },
        {
          "output_type": "stream",
          "name": "stdout",
          "text": [
            "3507/3507 - 82s - 23ms/step - accuracy: 0.9031 - auc_1: 0.9736 - loss: 0.2050 - val_accuracy: 0.9106 - val_auc_1: 0.9777 - val_loss: 0.1871 - learning_rate: 1.0000e-03\n",
            "Epoch 3/20\n"
          ]
        },
        {
          "output_type": "stream",
          "name": "stderr",
          "text": [
            "WARNING:absl:You are saving your model as an HDF5 file via `model.save()` or `keras.saving.save_model(model)`. This file format is considered legacy. We recommend using instead the native Keras format, e.g. `model.save('my_model.keras')` or `keras.saving.save_model(model, 'my_model.keras')`. \n"
          ]
        },
        {
          "output_type": "stream",
          "name": "stdout",
          "text": [
            "3507/3507 - 43s - 12ms/step - accuracy: 0.9057 - auc_1: 0.9753 - loss: 0.1974 - val_accuracy: 0.9112 - val_auc_1: 0.9783 - val_loss: 0.1844 - learning_rate: 1.0000e-03\n",
            "Epoch 4/20\n"
          ]
        },
        {
          "output_type": "stream",
          "name": "stderr",
          "text": [
            "WARNING:absl:You are saving your model as an HDF5 file via `model.save()` or `keras.saving.save_model(model)`. This file format is considered legacy. We recommend using instead the native Keras format, e.g. `model.save('my_model.keras')` or `keras.saving.save_model(model, 'my_model.keras')`. \n"
          ]
        },
        {
          "output_type": "stream",
          "name": "stdout",
          "text": [
            "3507/3507 - 43s - 12ms/step - accuracy: 0.9069 - auc_1: 0.9757 - loss: 0.1953 - val_accuracy: 0.9120 - val_auc_1: 0.9787 - val_loss: 0.1827 - learning_rate: 1.0000e-03\n",
            "Epoch 5/20\n"
          ]
        },
        {
          "output_type": "stream",
          "name": "stderr",
          "text": [
            "WARNING:absl:You are saving your model as an HDF5 file via `model.save()` or `keras.saving.save_model(model)`. This file format is considered legacy. We recommend using instead the native Keras format, e.g. `model.save('my_model.keras')` or `keras.saving.save_model(model, 'my_model.keras')`. \n"
          ]
        },
        {
          "output_type": "stream",
          "name": "stdout",
          "text": [
            "3507/3507 - 43s - 12ms/step - accuracy: 0.9082 - auc_1: 0.9763 - loss: 0.1926 - val_accuracy: 0.9115 - val_auc_1: 0.9787 - val_loss: 0.1832 - learning_rate: 1.0000e-03\n",
            "Epoch 6/20\n"
          ]
        },
        {
          "output_type": "stream",
          "name": "stderr",
          "text": [
            "WARNING:absl:You are saving your model as an HDF5 file via `model.save()` or `keras.saving.save_model(model)`. This file format is considered legacy. We recommend using instead the native Keras format, e.g. `model.save('my_model.keras')` or `keras.saving.save_model(model, 'my_model.keras')`. \n"
          ]
        },
        {
          "output_type": "stream",
          "name": "stdout",
          "text": [
            "3507/3507 - 43s - 12ms/step - accuracy: 0.9093 - auc_1: 0.9768 - loss: 0.1902 - val_accuracy: 0.9101 - val_auc_1: 0.9781 - val_loss: 0.1863 - learning_rate: 1.0000e-03\n",
            "Epoch 7/20\n"
          ]
        },
        {
          "output_type": "stream",
          "name": "stderr",
          "text": [
            "WARNING:absl:You are saving your model as an HDF5 file via `model.save()` or `keras.saving.save_model(model)`. This file format is considered legacy. We recommend using instead the native Keras format, e.g. `model.save('my_model.keras')` or `keras.saving.save_model(model, 'my_model.keras')`. \n"
          ]
        },
        {
          "output_type": "stream",
          "name": "stdout",
          "text": [
            "3507/3507 - 43s - 12ms/step - accuracy: 0.9088 - auc_1: 0.9768 - loss: 0.1898 - val_accuracy: 0.9113 - val_auc_1: 0.9786 - val_loss: 0.1819 - learning_rate: 1.0000e-03\n",
            "Epoch 8/20\n"
          ]
        },
        {
          "output_type": "stream",
          "name": "stderr",
          "text": [
            "WARNING:absl:You are saving your model as an HDF5 file via `model.save()` or `keras.saving.save_model(model)`. This file format is considered legacy. We recommend using instead the native Keras format, e.g. `model.save('my_model.keras')` or `keras.saving.save_model(model, 'my_model.keras')`. \n"
          ]
        },
        {
          "output_type": "stream",
          "name": "stdout",
          "text": [
            "3507/3507 - 42s - 12ms/step - accuracy: 0.9098 - auc_1: 0.9773 - loss: 0.1877 - val_accuracy: 0.9110 - val_auc_1: 0.9789 - val_loss: 0.1812 - learning_rate: 1.0000e-03\n",
            "Epoch 9/20\n"
          ]
        },
        {
          "output_type": "stream",
          "name": "stderr",
          "text": [
            "WARNING:absl:You are saving your model as an HDF5 file via `model.save()` or `keras.saving.save_model(model)`. This file format is considered legacy. We recommend using instead the native Keras format, e.g. `model.save('my_model.keras')` or `keras.saving.save_model(model, 'my_model.keras')`. \n"
          ]
        },
        {
          "output_type": "stream",
          "name": "stdout",
          "text": [
            "3507/3507 - 44s - 13ms/step - accuracy: 0.9096 - auc_1: 0.9773 - loss: 0.1876 - val_accuracy: 0.9118 - val_auc_1: 0.9791 - val_loss: 0.1802 - learning_rate: 1.0000e-03\n",
            "Epoch 10/20\n"
          ]
        },
        {
          "output_type": "stream",
          "name": "stderr",
          "text": [
            "WARNING:absl:You are saving your model as an HDF5 file via `model.save()` or `keras.saving.save_model(model)`. This file format is considered legacy. We recommend using instead the native Keras format, e.g. `model.save('my_model.keras')` or `keras.saving.save_model(model, 'my_model.keras')`. \n"
          ]
        },
        {
          "output_type": "stream",
          "name": "stdout",
          "text": [
            "3507/3507 - 42s - 12ms/step - accuracy: 0.9104 - auc_1: 0.9778 - loss: 0.1858 - val_accuracy: 0.9122 - val_auc_1: 0.9792 - val_loss: 0.1794 - learning_rate: 1.0000e-03\n",
            "Epoch 11/20\n"
          ]
        },
        {
          "output_type": "stream",
          "name": "stderr",
          "text": [
            "WARNING:absl:You are saving your model as an HDF5 file via `model.save()` or `keras.saving.save_model(model)`. This file format is considered legacy. We recommend using instead the native Keras format, e.g. `model.save('my_model.keras')` or `keras.saving.save_model(model, 'my_model.keras')`. \n"
          ]
        },
        {
          "output_type": "stream",
          "name": "stdout",
          "text": [
            "3507/3507 - 82s - 23ms/step - accuracy: 0.9106 - auc_1: 0.9778 - loss: 0.1852 - val_accuracy: 0.9113 - val_auc_1: 0.9788 - val_loss: 0.1818 - learning_rate: 1.0000e-03\n",
            "Epoch 12/20\n"
          ]
        },
        {
          "output_type": "stream",
          "name": "stderr",
          "text": [
            "WARNING:absl:You are saving your model as an HDF5 file via `model.save()` or `keras.saving.save_model(model)`. This file format is considered legacy. We recommend using instead the native Keras format, e.g. `model.save('my_model.keras')` or `keras.saving.save_model(model, 'my_model.keras')`. \n"
          ]
        },
        {
          "output_type": "stream",
          "name": "stdout",
          "text": [
            "3507/3507 - 43s - 12ms/step - accuracy: 0.9114 - auc_1: 0.9780 - loss: 0.1844 - val_accuracy: 0.9144 - val_auc_1: 0.9801 - val_loss: 0.1757 - learning_rate: 1.0000e-03\n",
            "Epoch 13/20\n"
          ]
        },
        {
          "output_type": "stream",
          "name": "stderr",
          "text": [
            "WARNING:absl:You are saving your model as an HDF5 file via `model.save()` or `keras.saving.save_model(model)`. This file format is considered legacy. We recommend using instead the native Keras format, e.g. `model.save('my_model.keras')` or `keras.saving.save_model(model, 'my_model.keras')`. \n"
          ]
        },
        {
          "output_type": "stream",
          "name": "stdout",
          "text": [
            "3507/3507 - 82s - 23ms/step - accuracy: 0.9112 - auc_1: 0.9782 - loss: 0.1837 - val_accuracy: 0.9125 - val_auc_1: 0.9793 - val_loss: 0.1799 - learning_rate: 1.0000e-03\n",
            "Epoch 14/20\n"
          ]
        },
        {
          "output_type": "stream",
          "name": "stderr",
          "text": [
            "WARNING:absl:You are saving your model as an HDF5 file via `model.save()` or `keras.saving.save_model(model)`. This file format is considered legacy. We recommend using instead the native Keras format, e.g. `model.save('my_model.keras')` or `keras.saving.save_model(model, 'my_model.keras')`. \n"
          ]
        },
        {
          "output_type": "stream",
          "name": "stdout",
          "text": [
            "3507/3507 - 82s - 23ms/step - accuracy: 0.9115 - auc_1: 0.9783 - loss: 0.1835 - val_accuracy: 0.9134 - val_auc_1: 0.9801 - val_loss: 0.1762 - learning_rate: 1.0000e-03\n",
            "Epoch 15/20\n"
          ]
        },
        {
          "output_type": "stream",
          "name": "stderr",
          "text": [
            "WARNING:absl:You are saving your model as an HDF5 file via `model.save()` or `keras.saving.save_model(model)`. This file format is considered legacy. We recommend using instead the native Keras format, e.g. `model.save('my_model.keras')` or `keras.saving.save_model(model, 'my_model.keras')`. \n"
          ]
        },
        {
          "output_type": "stream",
          "name": "stdout",
          "text": [
            "3507/3507 - 43s - 12ms/step - accuracy: 0.9131 - auc_1: 0.9787 - loss: 0.1816 - val_accuracy: 0.9156 - val_auc_1: 0.9805 - val_loss: 0.1737 - learning_rate: 1.0000e-03\n",
            "Epoch 16/20\n"
          ]
        },
        {
          "output_type": "stream",
          "name": "stderr",
          "text": [
            "WARNING:absl:You are saving your model as an HDF5 file via `model.save()` or `keras.saving.save_model(model)`. This file format is considered legacy. We recommend using instead the native Keras format, e.g. `model.save('my_model.keras')` or `keras.saving.save_model(model, 'my_model.keras')`. \n"
          ]
        },
        {
          "output_type": "stream",
          "name": "stdout",
          "text": [
            "3507/3507 - 44s - 13ms/step - accuracy: 0.9132 - auc_1: 0.9788 - loss: 0.1815 - val_accuracy: 0.9151 - val_auc_1: 0.9805 - val_loss: 0.1748 - learning_rate: 1.0000e-03\n",
            "Epoch 17/20\n"
          ]
        },
        {
          "output_type": "stream",
          "name": "stderr",
          "text": [
            "WARNING:absl:You are saving your model as an HDF5 file via `model.save()` or `keras.saving.save_model(model)`. This file format is considered legacy. We recommend using instead the native Keras format, e.g. `model.save('my_model.keras')` or `keras.saving.save_model(model, 'my_model.keras')`. \n"
          ]
        },
        {
          "output_type": "stream",
          "name": "stdout",
          "text": [
            "3507/3507 - 43s - 12ms/step - accuracy: 0.9136 - auc_1: 0.9791 - loss: 0.1800 - val_accuracy: 0.9150 - val_auc_1: 0.9804 - val_loss: 0.1746 - learning_rate: 1.0000e-03\n",
            "Epoch 18/20\n"
          ]
        },
        {
          "output_type": "stream",
          "name": "stderr",
          "text": [
            "WARNING:absl:You are saving your model as an HDF5 file via `model.save()` or `keras.saving.save_model(model)`. This file format is considered legacy. We recommend using instead the native Keras format, e.g. `model.save('my_model.keras')` or `keras.saving.save_model(model, 'my_model.keras')`. \n"
          ]
        },
        {
          "output_type": "stream",
          "name": "stdout",
          "text": [
            "3507/3507 - 43s - 12ms/step - accuracy: 0.9141 - auc_1: 0.9794 - loss: 0.1792 - val_accuracy: 0.9154 - val_auc_1: 0.9805 - val_loss: 0.1737 - learning_rate: 1.0000e-03\n",
            "Epoch 19/20\n"
          ]
        },
        {
          "output_type": "stream",
          "name": "stderr",
          "text": [
            "WARNING:absl:You are saving your model as an HDF5 file via `model.save()` or `keras.saving.save_model(model)`. This file format is considered legacy. We recommend using instead the native Keras format, e.g. `model.save('my_model.keras')` or `keras.saving.save_model(model, 'my_model.keras')`. \n"
          ]
        },
        {
          "output_type": "stream",
          "name": "stdout",
          "text": [
            "3507/3507 - 43s - 12ms/step - accuracy: 0.9139 - auc_1: 0.9793 - loss: 0.1794 - val_accuracy: 0.9122 - val_auc_1: 0.9790 - val_loss: 0.1809 - learning_rate: 1.0000e-03\n",
            "Epoch 20/20\n"
          ]
        },
        {
          "output_type": "stream",
          "name": "stderr",
          "text": [
            "WARNING:absl:You are saving your model as an HDF5 file via `model.save()` or `keras.saving.save_model(model)`. This file format is considered legacy. We recommend using instead the native Keras format, e.g. `model.save('my_model.keras')` or `keras.saving.save_model(model, 'my_model.keras')`. \n"
          ]
        },
        {
          "output_type": "stream",
          "name": "stdout",
          "text": [
            "3507/3507 - 44s - 12ms/step - accuracy: 0.9147 - auc_1: 0.9796 - loss: 0.1782 - val_accuracy: 0.9143 - val_auc_1: 0.9797 - val_loss: 0.1777 - learning_rate: 1.0000e-03\n"
          ]
        }
      ]
    },
    {
      "cell_type": "code",
      "source": [
        "#  Advanced Training Visualization\n",
        "\n",
        "import matplotlib.pyplot as plt\n",
        "import numpy as np\n",
        "import os\n",
        "\n",
        "# Create a save path (optional)\n",
        "save_dir = \"/content/drive/MyDrive/DL_Project/plots\"\n",
        "os.makedirs(save_dir, exist_ok=True)\n",
        "\n",
        "# Helper function to plot any metric\n",
        "def plot_metric(metric_name, history, ax):\n",
        "    train_metric = history.history.get(metric_name)\n",
        "    val_metric = history.history.get(f'val_{metric_name}')\n",
        "\n",
        "    if train_metric and val_metric:\n",
        "        ax.plot(train_metric, label=f'Train {metric_name.capitalize()}', linewidth=2)\n",
        "        ax.plot(val_metric, label=f'Val {metric_name.capitalize()}', linewidth=2, linestyle='--')\n",
        "        ax.set_title(f'{metric_name.upper()} Curve', fontsize=12, fontweight='bold')\n",
        "        ax.set_xlabel('Epochs')\n",
        "        ax.set_ylabel(metric_name.capitalize())\n",
        "        ax.grid(True, linestyle='--', alpha=0.6)\n",
        "        ax.legend()\n",
        "        # Annotate best validation metric\n",
        "        best_epoch = np.argmax(val_metric) if metric_name != 'loss' else np.argmin(val_metric)\n",
        "        ax.axvline(best_epoch, color='gray', linestyle=':', alpha=0.7)\n",
        "        ax.text(best_epoch, val_metric[best_epoch], f'  Best: {val_metric[best_epoch]:.3f}',\n",
        "                color='black', fontsize=9, verticalalignment='bottom')\n",
        "    else:\n",
        "        ax.text(0.5, 0.5, f\"{metric_name} not found in history\",\n",
        "                horizontalalignment='center', verticalalignment='center', transform=ax.transAxes)\n",
        "\n",
        "# Create subplots\n",
        "fig, axs = plt.subplots(1, 3, figsize=(18, 5))\n",
        "\n",
        "# Plot Accuracy, AUC, and Loss\n",
        "plot_metric('accuracy', history, axs[0])\n",
        "plot_metric('auc', history, axs[1])\n",
        "plot_metric('loss', history, axs[2])\n",
        "\n",
        "plt.suptitle('Training Progress of LSTM Diabetes Model', fontsize=14, fontweight='bold')\n",
        "plt.tight_layout(rect=[0, 0, 1, 0.96])\n",
        "plt.show()\n",
        "\n",
        "# Optionally save the figure\n",
        "fig.savefig(os.path.join(save_dir, \"training_curves.png\"), dpi=300)\n",
        "print(f\"✅ Training plots saved at: {os.path.join(save_dir, 'training_curves.png')}\")\n"
      ],
      "metadata": {
        "colab": {
          "base_uri": "https://localhost:8080/",
          "height": 528
        },
        "id": "WvLNfn7JRJYb",
        "outputId": "e60be6e5-c1d2-425c-c566-69ca29c62139"
      },
      "execution_count": 23,
      "outputs": [
        {
          "output_type": "display_data",
          "data": {
            "text/plain": [
              "<Figure size 1800x500 with 3 Axes>"
            ],
            "image/png": "[encoded data removed]"
          },
          "metadata": {}
        },
        {
          "output_type": "stream",
          "name": "stdout",
          "text": [
            "✅ Training plots saved at: /content/drive/MyDrive/DL_Project/plots/training_curves.png\n"
          ]
        }
      ]
    },
    {
      "cell_type": "code",
      "source": [
        "# Advanced Model Evaluation + Display Diabetes Results\n",
        "import matplotlib.pyplot as plt\n",
        "import seaborn as sns\n",
        "from sklearn.metrics import (\n",
        "    accuracy_score, precision_score, recall_score, f1_score, roc_auc_score,\n",
        "    confusion_matrix, roc_curve, precision_recall_curve, classification_report\n",
        ")\n",
        "import pandas as pd\n",
        "import numpy as np\n",
        "import os\n",
        "\n",
        "# Make predictions\n",
        "y_prob = model.predict(X_test_seq).ravel()\n",
        "y_pred = (y_prob >= 0.5).astype(int)\n",
        "\n",
        "# 📊 Compute Metrics\n",
        "acc  = accuracy_score(y_test, y_pred)\n",
        "prec = precision_score(y_test, y_pred)\n",
        "rec  = recall_score(y_test, y_pred)\n",
        "f1   = f1_score(y_test, y_pred)\n",
        "auc  = roc_auc_score(y_test, y_prob)\n",
        "\n",
        "print(\"===== Classification Report =====\")\n",
        "print(classification_report(y_test, y_pred))\n",
        "print(f\"✅ Accuracy:  {acc:.4f}\")\n",
        "print(f\"✅ Precision: {prec:.4f}\")\n",
        "print(f\"✅ Recall:    {rec:.4f}\")\n",
        "print(f\"✅ F1-Score:  {f1:.4f}\")\n",
        "print(f\"✅ AUC:       {auc:.4f}\")\n",
        "\n",
        "# 📁 Save directory for plots\n",
        "save_dir = \"/content/drive/MyDrive/DL_Project/plots\"\n",
        "os.makedirs(save_dir, exist_ok=True)\n",
        "\n",
        "# 🎯 Confusion Matrix\n",
        "cm = confusion_matrix(y_test, y_pred)\n",
        "plt.figure(figsize=(6,5))\n",
        "sns.heatmap(cm, annot=True, fmt='d', cmap='Blues', cbar=False)\n",
        "plt.title(\"Confusion Matrix\", fontsize=13, fontweight='bold')\n",
        "plt.xlabel(\"Predicted Label\")\n",
        "plt.ylabel(\"True Label\")\n",
        "plt.savefig(os.path.join(save_dir, \"confusion_matrix.png\"), dpi=300)\n",
        "plt.show()\n",
        "\n",
        "# 📈 ROC Curve\n",
        "fpr, tpr, _ = roc_curve(y_test, y_prob)\n",
        "plt.figure(figsize=(6,5))\n",
        "plt.plot(fpr, tpr, linewidth=2, label=f'AUC = {auc:.3f}')\n",
        "plt.plot([0, 1], [0, 1], 'k--', label='Random Guess')\n",
        "plt.xlabel('False Positive Rate')\n",
        "plt.ylabel('True Positive Rate')\n",
        "plt.title('Receiver Operating Characteristic (ROC)', fontweight='bold')\n",
        "plt.legend()\n",
        "plt.grid(True, linestyle='--', alpha=0.6)\n",
        "plt.savefig(os.path.join(save_dir, \"roc_curve.png\"), dpi=300)\n",
        "plt.show()\n",
        "\n",
        "# 📉 Precision–Recall Curve\n",
        "precision, recall, thresholds = precision_recall_curve(y_test, y_prob)\n",
        "plt.figure(figsize=(6,5))\n",
        "plt.plot(recall, precision, linewidth=2, color='purple')\n",
        "plt.xlabel('Recall')\n",
        "plt.ylabel('Precision')\n",
        "plt.title('Precision–Recall Curve', fontweight='bold')\n",
        "plt.grid(True, linestyle='--', alpha=0.6)\n",
        "plt.savefig(os.path.join(save_dir, \"precision_recall_curve.png\"), dpi=300)\n",
        "plt.show()\n",
        "\n",
        "# ✅ Display actual prediction results\n",
        "print(\"\\n===== Sample Diabetes Predictions =====\")\n",
        "\n",
        "# Combine true & predicted labels in a DataFrame for easy viewing\n",
        "results_df = pd.DataFrame({\n",
        "    'True_Label': y_test,\n",
        "    'Predicted_Label': y_pred,\n",
        "    'Predicted_Probability': np.round(y_prob, 3)\n",
        "})\n",
        "\n",
        "# Map 0→Non-Diabetic, 1→Diabetic\n",
        "results_df['True_Label'] = results_df['True_Label'].map({0: 'Non-Diabetic', 1: 'Diabetic'})\n",
        "results_df['Predicted_Label'] = results_df['Predicted_Label'].map({0: 'Non-Diabetic', 1: 'Diabetic'})\n",
        "\n",
        "# Show first 20 predictions for inspection\n",
        "display(results_df.head(20))\n",
        "\n",
        "# Optionally save full predictions to Drive\n",
        "results_path = os.path.join(save_dir, \"diabetes_predictions.csv\")\n",
        "results_df.to_csv(results_path, index=False)\n",
        "print(f\"✅ Prediction results saved at: {results_path}\")\n",
        "\n",
        "print(\"\\n✅ Evaluation plots and prediction results saved successfully!\")\n"
      ],
      "metadata": {
        "id": "TRWYY0TqRMb0",
        "colab": {
          "base_uri": "https://localhost:8080/",
          "height": 1000
        },
        "outputId": "73fe1a24-c25b-41f6-af49-f9b39d8dcb5f"
      },
      "execution_count": 24,
      "outputs": [
        {
          "output_type": "stream",
          "name": "stdout",
          "text": [
            "\u001b[1m1096/1096\u001b[0m \u001b[32m━━━━━━━━━━━━━━━━━━━━\u001b[0m\u001b[37m\u001b[0m \u001b[1m4s\u001b[0m 3ms/step\n",
            "===== Classification Report =====\n",
            "              precision    recall  f1-score   support\n",
            "\n",
            "           0       0.93      0.89      0.91     17533\n",
            "           1       0.89      0.93      0.91     17533\n",
            "\n",
            "    accuracy                           0.91     35066\n",
            "   macro avg       0.91      0.91      0.91     35066\n",
            "weighted avg       0.91      0.91      0.91     35066\n",
            "\n",
            "✅ Accuracy:  0.9116\n",
            "✅ Precision: 0.8935\n",
            "✅ Recall:    0.9346\n",
            "✅ F1-Score:  0.9136\n",
            "✅ AUC:       0.9789\n"
          ]
        },
        {
          "output_type": "display_data",
          "data": {
            "text/plain": [
              "<Figure size 600x500 with 1 Axes>"
            ],
            "image/png": "[encoded data removed]"
          },
          "metadata": {}
        },
        {
          "output_type": "display_data",
          "data": {
            "text/plain": [
              "<Figure size 600x500 with 1 Axes>"
            ],
            "image/png": "[encoded data removed]"
          },
          "metadata": {}
        },
        {
          "output_type": "display_data",
          "data": {
            "text/plain": [
              "<Figure size 600x500 with 1 Axes>"
            ],
            "image/png": "[encoded data removed]"
          },
          "metadata": {}
        },
        {
          "output_type": "stream",
          "name": "stdout",
          "text": [
            "\n",
            "===== Sample Diabetes Predictions =====\n"
          ]
        },
        {
          "output_type": "display_data",
          "data": {
            "text/plain": [
              "      True_Label Predicted_Label  Predicted_Probability\n",
              "0   Non-Diabetic    Non-Diabetic                  0.000\n",
              "1   Non-Diabetic    Non-Diabetic                  0.000\n",
              "2       Diabetic        Diabetic                  1.000\n",
              "3   Non-Diabetic    Non-Diabetic                  0.000\n",
              "4       Diabetic        Diabetic                  1.000\n",
              "5   Non-Diabetic    Non-Diabetic                  0.000\n",
              "6       Diabetic        Diabetic                  0.764\n",
              "7       Diabetic        Diabetic                  0.730\n",
              "8   Non-Diabetic    Non-Diabetic                  0.000\n",
              "9   Non-Diabetic        Diabetic                  0.743\n",
              "10  Non-Diabetic    Non-Diabetic                  0.015\n",
              "11      Diabetic        Diabetic                  0.818\n",
              "12  Non-Diabetic    Non-Diabetic                  0.000\n",
              "13      Diabetic        Diabetic                  0.597\n",
              "14      Diabetic        Diabetic                  1.000\n",
              "15      Diabetic        Diabetic                  1.000\n",
              "16      Diabetic        Diabetic                  1.000\n",
              "17      Diabetic        Diabetic                  1.000\n",
              "18      Diabetic        Diabetic                  1.000\n",
              "19      Diabetic        Diabetic                  0.661"
            ],
            "text/html": [
              "\n",
              "  <div id=\"df-cf7c4883-42e3-4d8b-9743-8b252960ca88\" class=\"colab-df-container\">\n",
              "    <div>\n",
              "<style scoped>\n",
              "    .dataframe tbody tr th:only-of-type {\n",
              "        vertical-align: middle;\n",
              "    }\n",
              "\n",
              "    .dataframe tbody tr th {\n",
              "        vertical-align: top;\n",
              "    }\n",
              "\n",
              "    .dataframe thead th {\n",
              "        text-align: right;\n",
              "    }\n",
              "</style>\n",
              "<table border=\"1\" class=\"dataframe\">\n",
              "  <thead>\n",
              "    <tr style=\"text-align: right;\">\n",
              "      <th></th>\n",
              "      <th>True_Label</th>\n",
              "      <th>Predicted_Label</th>\n",
              "      <th>Predicted_Probability</th>\n",
              "    </tr>\n",
              "  </thead>\n",
              "  <tbody>\n",
              "    <tr>\n",
              "      <th>0</th>\n",
              "      <td>Non-Diabetic</td>\n",
              "      <td>Non-Diabetic</td>\n",
              "      <td>0.000</td>\n",
              "    </tr>\n",
              "    <tr>\n",
              "      <th>1</th>\n",
              "      <td>Non-Diabetic</td>\n",
              "      <td>Non-Diabetic</td>\n",
              "      <td>0.000</td>\n",
              "    </tr>\n",
              "    <tr>\n",
              "      <th>2</th>\n",
              "      <td>Diabetic</td>\n",
              "      <td>Diabetic</td>\n",
              "      <td>1.000</td>\n",
              "    </tr>\n",
              "    <tr>\n",
              "      <th>3</th>\n",
              "      <td>Non-Diabetic</td>\n",
              "      <td>Non-Diabetic</td>\n",
              "      <td>0.000</td>\n",
              "    </tr>\n",
              "    <tr>\n",
              "      <th>4</th>\n",
              "      <td>Diabetic</td>\n",
              "      <td>Diabetic</td>\n",
              "      <td>1.000</td>\n",
              "    </tr>\n",
              "    <tr>\n",
              "      <th>5</th>\n",
              "      <td>Non-Diabetic</td>\n",
              "      <td>Non-Diabetic</td>\n",
              "      <td>0.000</td>\n",
              "    </tr>\n",
              "    <tr>\n",
              "      <th>6</th>\n",
              "      <td>Diabetic</td>\n",
              "      <td>Diabetic</td>\n",
              "      <td>0.764</td>\n",
              "    </tr>\n",
              "    <tr>\n",
              "      <th>7</th>\n",
              "      <td>Diabetic</td>\n",
              "      <td>Diabetic</td>\n",
              "      <td>0.730</td>\n",
              "    </tr>\n",
              "    <tr>\n",
              "      <th>8</th>\n",
              "      <td>Non-Diabetic</td>\n",
              "      <td>Non-Diabetic</td>\n",
              "      <td>0.000</td>\n",
              "    </tr>\n",
              "    <tr>\n",
              "      <th>9</th>\n",
              "      <td>Non-Diabetic</td>\n",
              "      <td>Diabetic</td>\n",
              "      <td>0.743</td>\n",
              "    </tr>\n",
              "    <tr>\n",
              "      <th>10</th>\n",
              "      <td>Non-Diabetic</td>\n",
              "      <td>Non-Diabetic</td>\n",
              "      <td>0.015</td>\n",
              "    </tr>\n",
              "    <tr>\n",
              "      <th>11</th>\n",
              "      <td>Diabetic</td>\n",
              "      <td>Diabetic</td>\n",
              "      <td>0.818</td>\n",
              "    </tr>\n",
              "    <tr>\n",
              "      <th>12</th>\n",
              "      <td>Non-Diabetic</td>\n",
              "      <td>Non-Diabetic</td>\n",
              "      <td>0.000</td>\n",
              "    </tr>\n",
              "    <tr>\n",
              "      <th>13</th>\n",
              "      <td>Diabetic</td>\n",
              "      <td>Diabetic</td>\n",
              "      <td>0.597</td>\n",
              "    </tr>\n",
              "    <tr>\n",
              "      <th>14</th>\n",
              "      <td>Diabetic</td>\n",
              "      <td>Diabetic</td>\n",
              "      <td>1.000</td>\n",
              "    </tr>\n",
              "    <tr>\n",
              "      <th>15</th>\n",
              "      <td>Diabetic</td>\n",
              "      <td>Diabetic</td>\n",
              "      <td>1.000</td>\n",
              "    </tr>\n",
              "    <tr>\n",
              "      <th>16</th>\n",
              "      <td>Diabetic</td>\n",
              "      <td>Diabetic</td>\n",
              "      <td>1.000</td>\n",
              "    </tr>\n",
              "    <tr>\n",
              "      <th>17</th>\n",
              "      <td>Diabetic</td>\n",
              "      <td>Diabetic</td>\n",
              "      <td>1.000</td>\n",
              "    </tr>\n",
              "    <tr>\n",
              "      <th>18</th>\n",
              "      <td>Diabetic</td>\n",
              "      <td>Diabetic</td>\n",
              "      <td>1.000</td>\n",
              "    </tr>\n",
              "    <tr>\n",
              "      <th>19</th>\n",
              "      <td>Diabetic</td>\n",
              "      <td>Diabetic</td>\n",
              "      <td>0.661</td>\n",
              "    </tr>\n",
              "  </tbody>\n",
              "</table>\n",
              "</div>\n",
              "    <div class=\"colab-df-buttons\">\n",
              "\n",
              "  <div class=\"colab-df-container\">\n",
              "    <button class=\"colab-df-convert\" onclick=\"convertToInteractive('df-cf7c4883-42e3-4d8b-9743-8b252960ca88')\"\n",
              "            title=\"Convert this dataframe to an interactive table.\"\n",
              "            style=\"display:none;\">\n",
              "\n",
              "  <svg xmlns=\"http://www.w3.org/2000/svg\" height=\"24px\" viewBox=\"0 -960 960 960\">\n",
              "    <path d=\"M120-120v-720h720v720H120Zm60-500h600v-160H180v160Zm220 220h160v-160H400v160Zm0 220h160v-160H400v160ZM180-400h160v-160H180v160Zm440 0h160v-160H620v160ZM180-180h160v-160H180v160Zm440 0h160v-160H620v160Z\"/>\n",
              "  </svg>\n",
              "    </button>\n",
              "\n",
              "  <style>\n",
              "    .colab-df-container {\n",
              "      display:flex;\n",
              "      gap: 12px;\n",
              "    }\n",
              "\n",
              "    .colab-df-convert {\n",
              "      background-color: #E8F0FE;\n",
              "      border: none;\n",
              "      border-radius: 50%;\n",
              "      cursor: pointer;\n",
              "      display: none;\n",
              "      fill: #1967D2;\n",
              "      height: 32px;\n",
              "      padding: 0 0 0 0;\n",
              "      width: 32px;\n",
              "    }\n",
              "\n",
              "    .colab-df-convert:hover {\n",
              "      background-color: #E2EBFA;\n",
              "      box-shadow: 0px 1px 2px rgba(60, 64, 67, 0.3), 0px 1px 3px 1px rgba(60, 64, 67, 0.15);\n",
              "      fill: #174EA6;\n",
              "    }\n",
              "\n",
              "    .colab-df-buttons div {\n",
              "      margin-bottom: 4px;\n",
              "    }\n",
              "\n",
              "    [theme=dark] .colab-df-convert {\n",
              "      background-color: #3B4455;\n",
              "      fill: #D2E3FC;\n",
              "    }\n",
              "\n",
              "    [theme=dark] .colab-df-convert:hover {\n",
              "      background-color: #434B5C;\n",
              "      box-shadow: 0px 1px 3px 1px rgba(0, 0, 0, 0.15);\n",
              "      filter: drop-shadow(0px 1px 2px rgba(0, 0, 0, 0.3));\n",
              "      fill: #FFFFFF;\n",
              "    }\n",
              "  </style>\n",
              "\n",
              "    <script>\n",
              "      const buttonEl =\n",
              "        document.querySelector('#df-cf7c4883-42e3-4d8b-9743-8b252960ca88 button.colab-df-convert');\n",
              "      buttonEl.style.display =\n",
              "        google.colab.kernel.accessAllowed ? 'block' : 'none';\n",
              "\n",
              "      async function convertToInteractive(key) {\n",
              "        const element = document.querySelector('#df-cf7c4883-42e3-4d8b-9743-8b252960ca88');\n",
              "        const dataTable =\n",
              "          await google.colab.kernel.invokeFunction('convertToInteractive',\n",
              "                                                    [key], {});\n",
              "        if (!dataTable) return;\n",
              "\n",
              "        const docLinkHtml = 'Like what you see? Visit the ' +\n",
              "          '<a target=\"_blank\" href=https://colab.research.google.com/notebooks/data_table.ipynb>data table notebook</a>'\n",
              "          + ' to learn more about interactive tables.';\n",
              "        element.innerHTML = '';\n",
              "        dataTable['output_type'] = 'display_data';\n",
              "        await google.colab.output.renderOutput(dataTable, element);\n",
              "        const docLink = document.createElement('div');\n",
              "        docLink.innerHTML = docLinkHtml;\n",
              "        element.appendChild(docLink);\n",
              "      }\n",
              "    </script>\n",
              "  </div>\n",
              "\n",
              "\n",
              "    <div id=\"df-83d05f7b-f6d7-4bdf-aeef-cb96f0652493\">\n",
              "      <button class=\"colab-df-quickchart\" onclick=\"quickchart('df-83d05f7b-f6d7-4bdf-aeef-cb96f0652493')\"\n",
              "                title=\"Suggest charts\"\n",
              "                style=\"display:none;\">\n",
              "\n",
              "<svg xmlns=\"http://www.w3.org/2000/svg\" height=\"24px\"viewBox=\"0 0 24 24\"\n",
              "     width=\"24px\">\n",
              "    <g>\n",
              "        <path d=\"M19 3H5c-1.1 0-2 .9-2 2v14c0 1.1.9 2 2 2h14c1.1 0 2-.9 2-2V5c0-1.1-.9-2-2-2zM9 17H7v-7h2v7zm4 0h-2V7h2v10zm4 0h-2v-4h2v4z\"/>\n",
              "    </g>\n",
              "</svg>\n",
              "      </button>\n",
              "\n",
              "<style>\n",
              "  .colab-df-quickchart {\n",
              "      --bg-color: #E8F0FE;\n",
              "      --fill-color: #1967D2;\n",
              "      --hover-bg-color: #E2EBFA;\n",
              "      --hover-fill-color: #174EA6;\n",
              "      --disabled-fill-color: #AAA;\n",
              "      --disabled-bg-color: #DDD;\n",
              "  }\n",
              "\n",
              "  [theme=dark] .colab-df-quickchart {\n",
              "      --bg-color: #3B4455;\n",
              "      --fill-color: #D2E3FC;\n",
              "      --hover-bg-color: #434B5C;\n",
              "      --hover-fill-color: #FFFFFF;\n",
              "      --disabled-bg-color: #3B4455;\n",
              "      --disabled-fill-color: #666;\n",
              "  }\n",
              "\n",
              "  .colab-df-quickchart {\n",
              "    background-color: var(--bg-color);\n",
              "    border: none;\n",
              "    border-radius: 50%;\n",
              "    cursor: pointer;\n",
              "    display: none;\n",
              "    fill: var(--fill-color);\n",
              "    height: 32px;\n",
              "    padding: 0;\n",
              "    width: 32px;\n",
              "  }\n",
              "\n",
              "  .colab-df-quickchart:hover {\n",
              "    background-color: var(--hover-bg-color);\n",
              "    box-shadow: 0 1px 2px rgba(60, 64, 67, 0.3), 0 1px 3px 1px rgba(60, 64, 67, 0.15);\n",
              "    fill: var(--button-hover-fill-color);\n",
              "  }\n",
              "\n",
              "  .colab-df-quickchart-complete:disabled,\n",
              "  .colab-df-quickchart-complete:disabled:hover {\n",
              "    background-color: var(--disabled-bg-color);\n",
              "    fill: var(--disabled-fill-color);\n",
              "    box-shadow: none;\n",
              "  }\n",
              "\n",
              "  .colab-df-spinner {\n",
              "    border: 2px solid var(--fill-color);\n",
              "    border-color: transparent;\n",
              "    border-bottom-color: var(--fill-color);\n",
              "    animation:\n",
              "      spin 1s steps(1) infinite;\n",
              "  }\n",
              "\n",
              "  @keyframes spin {\n",
              "    0% {\n",
              "      border-color: transparent;\n",
              "      border-bottom-color: var(--fill-color);\n",
              "      border-left-color: var(--fill-color);\n",
              "    }\n",
              "    20% {\n",
              "      border-color: transparent;\n",
              "      border-left-color: var(--fill-color);\n",
              "      border-top-color: var(--fill-color);\n",
              "    }\n",
              "    30% {\n",
              "      border-color: transparent;\n",
              "      border-left-color: var(--fill-color);\n",
              "      border-top-color: var(--fill-color);\n",
              "      border-right-color: var(--fill-color);\n",
              "    }\n",
              "    40% {\n",
              "      border-color: transparent;\n",
              "      border-right-color: var(--fill-color);\n",
              "      border-top-color: var(--fill-color);\n",
              "    }\n",
              "    60% {\n",
              "      border-color: transparent;\n",
              "      border-right-color: var(--fill-color);\n",
              "    }\n",
              "    80% {\n",
              "      border-color: transparent;\n",
              "      border-right-color: var(--fill-color);\n",
              "      border-bottom-color: var(--fill-color);\n",
              "    }\n",
              "    90% {\n",
              "      border-color: transparent;\n",
              "      border-bottom-color: var(--fill-color);\n",
              "    }\n",
              "  }\n",
              "</style>\n",
              "\n",
              "      <script>\n",
              "        async function quickchart(key) {\n",
              "          const quickchartButtonEl =\n",
              "            document.querySelector('#' + key + ' button');\n",
              "          quickchartButtonEl.disabled = true;  // To prevent multiple clicks.\n",
              "          quickchartButtonEl.classList.add('colab-df-spinner');\n",
              "          try {\n",
              "            const charts = await google.colab.kernel.invokeFunction(\n",
              "                'suggestCharts', [key], {});\n",
              "          } catch (error) {\n",
              "            console.error('Error during call to suggestCharts:', error);\n",
              "          }\n",
              "          quickchartButtonEl.classList.remove('colab-df-spinner');\n",
              "          quickchartButtonEl.classList.add('colab-df-quickchart-complete');\n",
              "        }\n",
              "        (() => {\n",
              "          let quickchartButtonEl =\n",
              "            document.querySelector('#df-83d05f7b-f6d7-4bdf-aeef-cb96f0652493 button');\n",
              "          quickchartButtonEl.style.display =\n",
              "            google.colab.kernel.accessAllowed ? 'block' : 'none';\n",
              "        })();\n",
              "      </script>\n",
              "    </div>\n",
              "\n",
              "    </div>\n",
              "  </div>\n"
            ],
            "application/vnd.google.colaboratory.intrinsic+json": {
              "type": "dataframe",
              "summary": "{\n  \"name\": \"print(\\\"\\\\n\\u2705 Evaluation plots and prediction results saved successfully!\\\")\",\n  \"rows\": 20,\n  \"fields\": [\n    {\n      \"column\": \"True_Label\",\n      \"properties\": {\n        \"dtype\": \"category\",\n        \"num_unique_values\": 2,\n        \"samples\": [\n          \"Diabetic\",\n          \"Non-Diabetic\"\n        ],\n        \"semantic_type\": \"\",\n        \"description\": \"\"\n      }\n    },\n    {\n      \"column\": \"Predicted_Label\",\n      \"properties\": {\n        \"dtype\": \"category\",\n        \"num_unique_values\": 2,\n        \"samples\": [\n          \"Diabetic\",\n          \"Non-Diabetic\"\n        ],\n        \"semantic_type\": \"\",\n        \"description\": \"\"\n      }\n    },\n    {\n      \"column\": \"Predicted_Probability\",\n      \"properties\": {\n        \"dtype\": \"float32\",\n        \"num_unique_values\": 9,\n        \"samples\": [\n          0.597000002861023,\n          1.0\n        ],\n        \"semantic_type\": \"\",\n        \"description\": \"\"\n      }\n    }\n  ]\n}"
            }
          },
          "metadata": {}
        },
        {
          "output_type": "stream",
          "name": "stdout",
          "text": [
            "✅ Prediction results saved at: /content/drive/MyDrive/DL_Project/plots/diabetes_predictions.csv\n",
            "\n",
            "✅ Evaluation plots and prediction results saved successfully!\n"
          ]
        }
      ]
    },
    {
      "cell_type": "code",
      "source": [
        "# Save final model\n",
        "model.save(\"/content/drive/MyDrive/DiabetesPrediction/final_LSTM_model.h5\")\n",
        "print(\"Model saved to Drive ✅\")\n"
      ],
      "metadata": {
        "id": "cZFjW7eiRNR7"
      },
      "execution_count": null,
      "outputs": []
    }
  ],
  "metadata": {
    "colab": {
      "provenance": [],
      "gpuType": "T4",
      "include_colab_link": true
    },
    "kernelspec": {
      "display_name": "Python 3",
      "name": "python3"
    },
    "accelerator": "GPU"
  },
  "nbformat": 4,
  "nbformat_minor": 0
}