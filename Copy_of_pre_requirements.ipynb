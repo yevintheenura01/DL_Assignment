{
  "nbformat": 4,
  "nbformat_minor": 0,
  "metadata": {
    "colab": {
      "provenance": [],
      "mount_file_id": "1_ju0ldlUmq5l5YDBMlymoH5-qSHzAlUR",
      "authorship_tag": "ABX9TyNAP+STNagKiG1T9PFxvKpB",
      "include_colab_link": true
    },
    "kernelspec": {
      "name": "python3",
      "display_name": "Python 3"
    },
    "language_info": {
      "name": "python"
    }
  },
  "cells": [
    {
      "cell_type": "markdown",
      "metadata": {
        "id": "view-in-github",
        "colab_type": "text"
      },
      "source": [
        "<a href=\"https://colab.research.google.com/github/yevintheenura01/DL_Assignment/blob/Yevin/Copy_of_pre_requirements.ipynb\" target=\"_parent\"><img src=\"https://colab.research.google.com/assets/colab-badge.svg\" alt=\"Open In Colab\"/></a>"
      ]
    },
    {
      "cell_type": "code",
      "source": [
        "import kagglehub\n",
        "\n",
        "# Download latest version\n",
        "path = kagglehub.dataset_download(\"iammustafatz/diabetes-prediction-dataset\")\n",
        "\n",
        "print(\"Path to dataset files:\", path)"
      ],
      "metadata": {
        "id": "di6tEyK4ldnJ",
        "colab": {
          "base_uri": "https://localhost:8080/"
        },
        "outputId": "0ee50fee-9147-4514-b1cf-dc4ac9f8fb1e"
      },
      "execution_count": 19,
      "outputs": [
        {
          "output_type": "stream",
          "name": "stdout",
          "text": [
            "Using Colab cache for faster access to the 'diabetes-prediction-dataset' dataset.\n",
            "Path to dataset files: /kaggle/input/diabetes-prediction-dataset\n"
          ]
        }
      ]
    },
    {
      "cell_type": "code",
      "source": [
        "!pip install -q imbalanced-learn joblib pandas scikit-learn"
      ],
      "metadata": {
        "id": "jDJ8ccRFVXnL"
      },
      "execution_count": 20,
      "outputs": []
    },
    {
      "cell_type": "code",
      "execution_count": 39,
      "metadata": {
        "id": "tG81sO5lSdTP"
      },
      "outputs": [],
      "source": [
        "import os\n",
        "import joblib\n",
        "import pandas as pd\n",
        "import numpy as np\n",
        "import matplotlib.pyplot as plt\n",
        "import seaborn as sns\n",
        "from sklearn.preprocessing import LabelEncoder, StandardScaler\n",
        "from sklearn.model_selection import train_test_split\n",
        "from imblearn.over_sampling import SMOTE"
      ]
    },
    {
      "cell_type": "code",
      "source": [
        "# Load dataset\n",
        "df = pd.read_csv('/kaggle/input/diabetes-prediction-dataset/diabetes_prediction_dataset.csv')\n",
        "print(df.head())"
      ],
      "metadata": {
        "id": "mXOvHFdhlEuF",
        "colab": {
          "base_uri": "https://localhost:8080/"
        },
        "outputId": "aa957514-d594-4d4b-8b03-7315f95fc829"
      },
      "execution_count": 40,
      "outputs": [
        {
          "output_type": "stream",
          "name": "stdout",
          "text": [
            "   gender   age  hypertension  heart_disease smoking_history    bmi  \\\n",
            "0  Female  80.0             0              1           never  25.19   \n",
            "1  Female  54.0             0              0         No Info  27.32   \n",
            "2    Male  28.0             0              0           never  27.32   \n",
            "3  Female  36.0             0              0         current  23.45   \n",
            "4    Male  76.0             1              1         current  20.14   \n",
            "\n",
            "   HbA1c_level  blood_glucose_level  diabetes  \n",
            "0          6.6                  140         0  \n",
            "1          6.6                   80         0  \n",
            "2          5.7                  158         0  \n",
            "3          5.0                  155         0  \n",
            "4          4.8                  155         0  \n"
          ]
        }
      ]
    },
    {
      "cell_type": "code",
      "source": [
        "df.shape"
      ],
      "metadata": {
        "id": "z80HUyUdmnmX",
        "colab": {
          "base_uri": "https://localhost:8080/"
        },
        "outputId": "2f0d31f1-b14d-4d62-91ed-828dcdefd7c8"
      },
      "execution_count": 41,
      "outputs": [
        {
          "output_type": "execute_result",
          "data": {
            "text/plain": [
              "(100000, 9)"
            ]
          },
          "metadata": {},
          "execution_count": 41
        }
      ]
    },
    {
      "cell_type": "code",
      "source": [
        "print(df.info())  # Data types and non-null counts"
      ],
      "metadata": {
        "id": "eyNBMfuMpFDm",
        "colab": {
          "base_uri": "https://localhost:8080/"
        },
        "outputId": "7ee4afaa-96d6-45d9-e4c6-40738ae7d738"
      },
      "execution_count": 42,
      "outputs": [
        {
          "output_type": "stream",
          "name": "stdout",
          "text": [
            "<class 'pandas.core.frame.DataFrame'>\n",
            "RangeIndex: 100000 entries, 0 to 99999\n",
            "Data columns (total 9 columns):\n",
            " #   Column               Non-Null Count   Dtype  \n",
            "---  ------               --------------   -----  \n",
            " 0   gender               100000 non-null  object \n",
            " 1   age                  100000 non-null  float64\n",
            " 2   hypertension         100000 non-null  int64  \n",
            " 3   heart_disease        100000 non-null  int64  \n",
            " 4   smoking_history      100000 non-null  object \n",
            " 5   bmi                  100000 non-null  float64\n",
            " 6   HbA1c_level          100000 non-null  float64\n",
            " 7   blood_glucose_level  100000 non-null  int64  \n",
            " 8   diabetes             100000 non-null  int64  \n",
            "dtypes: float64(3), int64(4), object(2)\n",
            "memory usage: 6.9+ MB\n",
            "None\n"
          ]
        }
      ]
    },
    {
      "cell_type": "code",
      "source": [
        "print(df.describe()) # Summary stats for numerical columns"
      ],
      "metadata": {
        "id": "9SKdzTFjpJsu",
        "colab": {
          "base_uri": "https://localhost:8080/"
        },
        "outputId": "494cca1b-f02b-4334-d31e-5eb9736778d0"
      },
      "execution_count": 43,
      "outputs": [
        {
          "output_type": "stream",
          "name": "stdout",
          "text": [
            "                 age  hypertension  heart_disease            bmi  \\\n",
            "count  100000.000000  100000.00000  100000.000000  100000.000000   \n",
            "mean       41.885856       0.07485       0.039420      27.320767   \n",
            "std        22.516840       0.26315       0.194593       6.636783   \n",
            "min         0.080000       0.00000       0.000000      10.010000   \n",
            "25%        24.000000       0.00000       0.000000      23.630000   \n",
            "50%        43.000000       0.00000       0.000000      27.320000   \n",
            "75%        60.000000       0.00000       0.000000      29.580000   \n",
            "max        80.000000       1.00000       1.000000      95.690000   \n",
            "\n",
            "         HbA1c_level  blood_glucose_level       diabetes  \n",
            "count  100000.000000        100000.000000  100000.000000  \n",
            "mean        5.527507           138.058060       0.085000  \n",
            "std         1.070672            40.708136       0.278883  \n",
            "min         3.500000            80.000000       0.000000  \n",
            "25%         4.800000           100.000000       0.000000  \n",
            "50%         5.800000           140.000000       0.000000  \n",
            "75%         6.200000           159.000000       0.000000  \n",
            "max         9.000000           300.000000       1.000000  \n"
          ]
        }
      ]
    },
    {
      "cell_type": "code",
      "source": [
        "# Visualize categorical features\n",
        "categorical_features = ['gender','smoking_history']\n",
        "for feature in categorical_features:\n",
        "    plt.figure(figsize=(6,4))\n",
        "    sns.countplot(x=feature, data=df)\n",
        "    plt.title(f'Distribution of {feature}')\n",
        "    plt.show()"
      ],
      "metadata": {
        "id": "DVBy4QRTZU7L",
        "colab": {
          "base_uri": "https://localhost:8080/",
          "height": 803
        },
        "outputId": "81e2573d-0fa2-47a7-9a69-13bb071d7808"
      },
      "execution_count": 44,
      "outputs": [
        {
          "output_type": "display_data",
          "data": {
            "text/plain": [
              "<Figure size 600x400 with 1 Axes>"
            ],
            "image/png": "[encoded data removed]"
          },
          "metadata": {}
        },
        {
          "output_type": "display_data",
          "data": {
            "text/plain": [
              "<Figure size 600x400 with 1 Axes>"
            ],
            "image/png": "[encoded data removed]"
          },
          "metadata": {}
        }
      ]
    },
    {
      "cell_type": "code",
      "source": [
        "# Count of diabetic (1) vs non-diabetic (0)\n",
        "sns.countplot(x='diabetes', data=df, palette='viridis')\n",
        "plt.title('Distribution of Diabetes Outcome (Target Variable)')\n",
        "plt.xlabel('Diabetes (1 = Yes, 0 = No)')\n",
        "plt.ylabel('Count')\n",
        "plt.show()"
      ],
      "metadata": {
        "id": "AixzX5Rqs0Ys",
        "colab": {
          "base_uri": "https://localhost:8080/",
          "height": 563
        },
        "outputId": "8137f862-b7ae-4722-f6b9-e41152b89db9"
      },
      "execution_count": 45,
      "outputs": [
        {
          "output_type": "stream",
          "name": "stderr",
          "text": [
            "/tmp/ipython-input-1187025268.py:2: FutureWarning: \n",
            "\n",
            "Passing `palette` without assigning `hue` is deprecated and will be removed in v0.14.0. Assign the `x` variable to `hue` and set `legend=False` for the same effect.\n",
            "\n",
            "  sns.countplot(x='diabetes', data=df, palette='viridis')\n"
          ]
        },
        {
          "output_type": "display_data",
          "data": {
            "text/plain": [
              "<Figure size 640x480 with 1 Axes>"
            ],
            "image/png": "[encoded data removed]"
          },
          "metadata": {}
        }
      ]
    },
    {
      "cell_type": "code",
      "source": [
        "df['diabetes'].value_counts(normalize=True)"
      ],
      "metadata": {
        "id": "6jy5-dgFD802",
        "colab": {
          "base_uri": "https://localhost:8080/",
          "height": 178
        },
        "outputId": "7ceec5cb-86a4-450c-f654-cfca442c82ad"
      },
      "execution_count": 46,
      "outputs": [
        {
          "output_type": "execute_result",
          "data": {
            "text/plain": [
              "diabetes\n",
              "0    0.915\n",
              "1    0.085\n",
              "Name: proportion, dtype: float64"
            ],
            "text/html": [
              "<div>\n",
              "<style scoped>\n",
              "    .dataframe tbody tr th:only-of-type {\n",
              "        vertical-align: middle;\n",
              "    }\n",
              "\n",
              "    .dataframe tbody tr th {\n",
              "        vertical-align: top;\n",
              "    }\n",
              "\n",
              "    .dataframe thead th {\n",
              "        text-align: right;\n",
              "    }\n",
              "</style>\n",
              "<table border=\"1\" class=\"dataframe\">\n",
              "  <thead>\n",
              "    <tr style=\"text-align: right;\">\n",
              "      <th></th>\n",
              "      <th>proportion</th>\n",
              "    </tr>\n",
              "    <tr>\n",
              "      <th>diabetes</th>\n",
              "      <th></th>\n",
              "    </tr>\n",
              "  </thead>\n",
              "  <tbody>\n",
              "    <tr>\n",
              "      <th>0</th>\n",
              "      <td>0.915</td>\n",
              "    </tr>\n",
              "    <tr>\n",
              "      <th>1</th>\n",
              "      <td>0.085</td>\n",
              "    </tr>\n",
              "  </tbody>\n",
              "</table>\n",
              "</div><br><label><b>dtype:</b> float64</label>"
            ]
          },
          "metadata": {},
          "execution_count": 46
        }
      ]
    },
    {
      "cell_type": "code",
      "source": [
        "duplicates = df.duplicated().sum()\n",
        "print(\"Duplicate Rows:\", duplicates)"
      ],
      "metadata": {
        "id": "QjhreBMyEmNb",
        "colab": {
          "base_uri": "https://localhost:8080/"
        },
        "outputId": "b6a7417c-fccc-4219-a2e7-800bf32f1c07"
      },
      "execution_count": 47,
      "outputs": [
        {
          "output_type": "stream",
          "name": "stdout",
          "text": [
            "Duplicate Rows: 3854\n"
          ]
        }
      ]
    },
    {
      "cell_type": "code",
      "source": [
        "#Remove duplicates\n",
        "df = df.drop_duplicates()\n",
        "print(\"New Shape:\", df.shape)"
      ],
      "metadata": {
        "id": "Xv_Omy8pEoVF",
        "colab": {
          "base_uri": "https://localhost:8080/"
        },
        "outputId": "d34894eb-11f1-4277-f038-a9b0fbb7182c"
      },
      "execution_count": 48,
      "outputs": [
        {
          "output_type": "stream",
          "name": "stdout",
          "text": [
            "New Shape: (96146, 9)\n"
          ]
        }
      ]
    },
    {
      "cell_type": "code",
      "source": [
        "df['smoking_history'].isnull().sum()"
      ],
      "metadata": {
        "id": "h0n9W_PwE0MN",
        "colab": {
          "base_uri": "https://localhost:8080/"
        },
        "outputId": "3a001fc9-f8cd-4d1c-c286-d71704d0feff"
      },
      "execution_count": 49,
      "outputs": [
        {
          "output_type": "execute_result",
          "data": {
            "text/plain": [
              "np.int64(0)"
            ]
          },
          "metadata": {},
          "execution_count": 49
        }
      ]
    },
    {
      "cell_type": "code",
      "source": [
        "# Identify categorical and continuous cols\n",
        "# Adjust these lists if you have different column names\n",
        "possible_cat = ['gender', 'smoking_history']\n",
        "all_cols = df.columns.tolist()\n",
        "all_cols.remove('diabetes')\n",
        "cat_cols = [c for c in possible_cat if c in df.columns]\n",
        "cont_cols = [c for c in all_cols if c not in cat_cols]\n",
        "\n",
        "\n",
        "print('Categorical cols:', cat_cols)\n",
        "print('Continuous cols:', cont_cols)"
      ],
      "metadata": {
        "id": "BlScfaw_FnXE",
        "colab": {
          "base_uri": "https://localhost:8080/"
        },
        "outputId": "071b1484-d160-4e93-e2a8-eecdf43eecc6"
      },
      "execution_count": 50,
      "outputs": [
        {
          "output_type": "stream",
          "name": "stdout",
          "text": [
            "Categorical cols: ['gender', 'smoking_history']\n",
            "Continuous cols: ['age', 'hypertension', 'heart_disease', 'bmi', 'HbA1c_level', 'blood_glucose_level']\n"
          ]
        }
      ]
    },
    {
      "cell_type": "code",
      "source": [
        "# Handle missing values: simple strategy (modify as needed)\n",
        "for c in cont_cols:\n",
        "  if df[c].isnull().any():\n",
        "    df[c].fillna(df[c].median(), inplace=True)\n",
        "for c in cat_cols:\n",
        "  if df[c].isnull().any():\n",
        "    df[c].fillna(df[c].mode()[0], inplace=True)\n"
      ],
      "metadata": {
        "id": "5cQYOs4SV018"
      },
      "execution_count": 51,
      "outputs": []
    },
    {
      "cell_type": "code",
      "source": [
        "#Clip extreme outliers for selected continuous features\n",
        "for col in ['bmi', 'HbA1c_level', 'blood_glucose_level']:\n",
        "  if col in df.columns:\n",
        "    df[col] = np.clip(df[col], df[col].quantile(0.01), df[col].quantile(0.99))\n",
        "\n"
      ],
      "metadata": {
        "id": "wgU7HVI1WCh6"
      },
      "execution_count": 52,
      "outputs": []
    },
    {
      "cell_type": "code",
      "source": [
        "# Encode categorical features as integer indices (LabelEncoder) - keep as integers (not one-hot)\n",
        "encoders = {}\n",
        "for c in cat_cols:\n",
        "  le = LabelEncoder()\n",
        "  df[c] = le.fit_transform(df[c].astype(str))\n",
        "  encoders[c] = le"
      ],
      "metadata": {
        "id": "8ZPTpbE2WERa"
      },
      "execution_count": 53,
      "outputs": []
    },
    {
      "cell_type": "code",
      "source": [
        "# Scale only continuous columns\n",
        "scaler = StandardScaler()\n",
        "df[cont_cols] = scaler.fit_transform(df[cont_cols])"
      ],
      "metadata": {
        "id": "pLAyUYsfWJ2i"
      },
      "execution_count": 54,
      "outputs": []
    },
    {
      "cell_type": "code",
      "source": [
        "from google.colab import drive\n",
        "import os\n",
        "\n",
        "# Mount Google Drive\n",
        "drive.mount('/content/drive')\n",
        "\n",
        "# Define the directory to save to in Google Drive\n",
        "DRIVE_OUT = '/content/drive/MyDrive/DiabetesPrediction/TabTrans/outputs'\n",
        "\n",
        "# Create the directory if it doesn't exist\n",
        "os.makedirs(DRIVE_OUT, exist_ok=True)\n",
        "\n",
        "# Save the encoder for later use\n",
        "joblib.dump(encoders, os.path.join(DRIVE_OUT, 'label_encoder.pkl'))"
      ],
      "metadata": {
        "id": "uyX60UZ5E_BK",
        "colab": {
          "base_uri": "https://localhost:8080/"
        },
        "outputId": "2614a3f1-e867-4197-eb28-e5b44e1bfbbe"
      },
      "execution_count": 55,
      "outputs": [
        {
          "output_type": "stream",
          "name": "stdout",
          "text": [
            "Mounted at /content/drive\n"
          ]
        },
        {
          "output_type": "execute_result",
          "data": {
            "text/plain": [
              "['/content/drive/MyDrive/DiabetesPrediction/TabTrans/outputs/label_encoder.pkl']"
            ]
          },
          "metadata": {},
          "execution_count": 55
        }
      ]
    },
    {
      "cell_type": "code",
      "source": [
        "# Save the scaler\n",
        "joblib.dump(scaler, os.path.join(DRIVE_OUT, \"scaler.pkl\"))"
      ],
      "metadata": {
        "id": "Y3BUghjwLNE3",
        "colab": {
          "base_uri": "https://localhost:8080/"
        },
        "outputId": "db044222-c0a5-4e58-e604-28bb84c6f349"
      },
      "execution_count": 56,
      "outputs": [
        {
          "output_type": "execute_result",
          "data": {
            "text/plain": [
              "['/content/drive/MyDrive/DiabetesPrediction/TabTrans/outputs/scaler.pkl']"
            ]
          },
          "metadata": {},
          "execution_count": 56
        }
      ]
    },
    {
      "cell_type": "code",
      "source": [
        "# Apply SMOTE on training split later - but we will apply SMOTE on full data then split to avoid leaking labels.\n",
        "X = df.drop('diabetes', axis=1)\n",
        "y = df['diabetes']\n",
        "\n",
        "smote = SMOTE(random_state=42)\n",
        "X_res, y_res = smote.fit_resample(X, y)\n",
        "print('After SMOTE shape:', X_res.shape, y_res.shape)"
      ],
      "metadata": {
        "id": "A-_Utyuhtn-1",
        "colab": {
          "base_uri": "https://localhost:8080/"
        },
        "outputId": "57bf175a-8289-45e7-ef22-f770d6f92678"
      },
      "execution_count": 57,
      "outputs": [
        {
          "output_type": "stream",
          "name": "stdout",
          "text": [
            "After SMOTE shape: (175328, 8) (175328,)\n"
          ]
        }
      ]
    },
    {
      "cell_type": "code",
      "source": [
        "# Recreate dataframe\n",
        "df_res = pd.DataFrame(X_res, columns=X.columns)\n",
        "df_res['diabetes'] = y_res"
      ],
      "metadata": {
        "id": "8D2kYrUEXzDS"
      },
      "execution_count": 58,
      "outputs": []
    },
    {
      "cell_type": "code",
      "source": [
        "# Train/test split\n",
        "train_df, test_df = train_test_split(df_res, test_size=0.2, random_state=42, stratify=df_res['diabetes'])\n"
      ],
      "metadata": {
        "id": "OrVqxDBdrLC9"
      },
      "execution_count": 59,
      "outputs": []
    },
    {
      "cell_type": "code",
      "source": [
        "# Save\n",
        "train_csv = os.path.join(DRIVE_OUT, 'clean_data_train.csv')\n",
        "test_csv = os.path.join(DRIVE_OUT, 'clean_data_test.csv')\n",
        "meta_pkl = os.path.join(DRIVE_OUT, 'meta_info.pkl')\n",
        "\n",
        "\n",
        "train_df.to_csv(train_csv, index=False)\n",
        "test_df.to_csv(test_csv, index=False)\n",
        "\n",
        "\n",
        "meta = {'cat_cols': cat_cols, 'cont_cols': cont_cols, 'target_col': 'diabetes'}\n",
        "joblib.dump(meta, meta_pkl)\n",
        "\n",
        "\n",
        "print('Saved:')\n",
        "print(' -', train_csv)\n",
        "print(' -', test_csv)\n",
        "print(' -', meta_pkl)"
      ],
      "metadata": {
        "id": "YzvFE7snrsPk",
        "colab": {
          "base_uri": "https://localhost:8080/"
        },
        "outputId": "bb659014-8509-4ae5-955f-3c262a1fbfc3"
      },
      "execution_count": 60,
      "outputs": [
        {
          "output_type": "stream",
          "name": "stdout",
          "text": [
            "Saved:\n",
            " - /content/drive/MyDrive/DiabetesPrediction/TabTrans/outputs/clean_data_train.csv\n",
            " - /content/drive/MyDrive/DiabetesPrediction/TabTrans/outputs/clean_data_test.csv\n",
            " - /content/drive/MyDrive/DiabetesPrediction/TabTrans/outputs/meta_info.pkl\n"
          ]
        }
      ]
    },
    {
      "cell_type": "code",
      "source": [
        "\n",
        "\n",
        "# Plot distribution before SMOTE\n",
        "plt.figure(figsize=(12, 5))\n",
        "plt.subplot(1, 2, 1)\n",
        "sns.countplot(x='diabetes', data=df, palette='viridis')\n",
        "plt.title('Distribution of Diabetes Outcome Before SMOTE')\n",
        "plt.xlabel('Diabetes (1 = Yes, 0 = No)')\n",
        "plt.ylabel('Count')\n",
        "\n",
        "# Plot distribution after SMOTE\n",
        "plt.subplot(1, 2, 2)\n",
        "sns.countplot(x='diabetes', data=df_res, palette='viridis')\n",
        "plt.title('Distribution of Diabetes Outcome After SMOTE')\n",
        "plt.xlabel('Diabetes (1 = Yes, 0 = No)')\n",
        "plt.ylabel('Count')\n",
        "\n",
        "plt.tight_layout()\n",
        "plt.show()"
      ],
      "metadata": {
        "colab": {
          "base_uri": "https://localhost:8080/",
          "height": 689
        },
        "id": "dahEkAxzYDNC",
        "outputId": "9cd1e613-5b98-4dc1-9ddd-1053e3f51ef9"
      },
      "execution_count": 61,
      "outputs": [
        {
          "output_type": "stream",
          "name": "stderr",
          "text": [
            "/tmp/ipython-input-4144245664.py:4: FutureWarning: \n",
            "\n",
            "Passing `palette` without assigning `hue` is deprecated and will be removed in v0.14.0. Assign the `x` variable to `hue` and set `legend=False` for the same effect.\n",
            "\n",
            "  sns.countplot(x='diabetes', data=df, palette='viridis')\n",
            "/tmp/ipython-input-4144245664.py:11: FutureWarning: \n",
            "\n",
            "Passing `palette` without assigning `hue` is deprecated and will be removed in v0.14.0. Assign the `x` variable to `hue` and set `legend=False` for the same effect.\n",
            "\n",
            "  sns.countplot(x='diabetes', data=df_res, palette='viridis')\n"
          ]
        },
        {
          "output_type": "display_data",
          "data": {
            "text/plain": [
              "<Figure size 1200x500 with 2 Axes>"
            ],
            "image/png": "[encoded data removed]"
          },
          "metadata": {}
        }
      ]
    }
  ]
}