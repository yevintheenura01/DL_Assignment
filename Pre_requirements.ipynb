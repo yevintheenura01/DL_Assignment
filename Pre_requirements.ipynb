{
  "nbformat": 4,
  "nbformat_minor": 0,
  "metadata": {
    "colab": {
      "provenance": [],
      "authorship_tag": "ABX9TyOhPqUDffUa0/gHvGAwm/7u",
      "include_colab_link": true
    },
    "kernelspec": {
      "name": "python3",
      "display_name": "Python 3"
    },
    "language_info": {
      "name": "python"
    }
  },
  "cells": [
    {
      "cell_type": "markdown",
      "metadata": {
        "id": "view-in-github",
        "colab_type": "text"
      },
      "source": [
        "<a href=\"https://colab.research.google.com/github/yevintheenura01/DL_Assignment/blob/Dinushi/Pre_requirements.ipynb\" target=\"_parent\"><img src=\"https://colab.research.google.com/assets/colab-badge.svg\" alt=\"Open In Colab\"/></a>"
      ]
    },
    {
      "cell_type": "code",
      "source": [
        "# Import libraries\n",
        "import pandas as pd\n",
        "import numpy as np\n",
        "import matplotlib.pyplot as plt\n",
        "import seaborn as sns\n",
        "\n",
        "from sklearn.model_selection import train_test_split\n",
        "from sklearn.preprocessing import StandardScaler\n",
        "from sklearn.metrics import accuracy_score, confusion_matrix, classification_report, roc_auc_score, roc_curve\n",
        "\n",
        "from tensorflow.keras.models import Sequential\n",
        "from tensorflow.keras.layers import Dense\n",
        "from tensorflow.keras.optimizers import Adam"
      ],
      "metadata": {
        "id": "_seZi-To20xN"
      },
      "execution_count": 1,
      "outputs": []
    },
    {
      "cell_type": "code",
      "source": [
        "# Cell 1 - Mount Google Drive & imports\n",
        "from google.colab import drive\n",
        "drive.mount('/content/drive')\n",
        "\n",
        "import os, joblib, numpy as np, pandas as pd\n",
        "import matplotlib.pyplot as plt, seaborn as sns\n",
        "sns.set(style=\"whitegrid\")\n",
        "\n",
        "# sklearn / tensorflow\n",
        "from sklearn.linear_model import LogisticRegression\n",
        "from sklearn.ensemble import RandomForestClassifier\n",
        "from sklearn.svm import SVC\n",
        "from sklearn.metrics import (accuracy_score, precision_score, recall_score, f1_score,\n",
        "                             roc_auc_score, confusion_matrix, classification_report, roc_curve)\n",
        "from sklearn.model_selection import train_test_split\n",
        "import tensorflow as tf\n",
        "from tensorflow import keras\n",
        "from tensorflow.keras import layers, callbacks\n",
        "\n",
        "print(\"Drive mounted. Libraries loaded. TF version:\", tf.__version__)\n"
      ],
      "metadata": {
        "colab": {
          "base_uri": "https://localhost:8080/"
        },
        "id": "wugp5ayq3aHm",
        "outputId": "02b77c06-b3f7-441b-c13b-070d2f7b4177"
      },
      "execution_count": 2,
      "outputs": [
        {
          "output_type": "stream",
          "name": "stdout",
          "text": [
            "Drive already mounted at /content/drive; to attempt to forcibly remount, call drive.mount(\"/content/drive\", force_remount=True).\n",
            "Drive mounted. Libraries loaded. TF version: 2.19.0\n"
          ]
        }
      ]
    },
    {
      "cell_type": "code",
      "source": [
        "# Cell 2 - Load the processed data saved earlier to Google Drive\n",
        "data_path = \"/content/drive/MyDrive/Diabetes_MLP_Project/processed_data\"\n",
        "\n",
        "train_csv = os.path.join(data_path, \"train_balanced.csv\")\n",
        "test_csv  = os.path.join(data_path, \"test_scaled.csv\")\n",
        "scaler_file = os.path.join(data_path, \"scaler_diabetes.save\")\n",
        "\n",
        "# Read CSVs\n",
        "train_df = pd.read_csv(train_csv)\n",
        "test_df  = pd.read_csv(test_csv)\n",
        "\n",
        "# Split into X/y\n",
        "X_train_bal = train_df.drop(\"diabetes\", axis=1).values\n",
        "y_train_bal = train_df[\"diabetes\"].values.astype(int)\n",
        "\n",
        "X_test_scaled = test_df.drop(\"diabetes\", axis=1).values\n",
        "y_test = test_df[\"diabetes\"].values.astype(int)\n",
        "\n",
        "# Load scaler (for future inference)\n",
        "scaler = joblib.load(scaler_file)\n",
        "\n",
        "print(\"Loaded shapes:\")\n",
        "print(\"X_train_bal:\", X_train_bal.shape, \"y_train_bal:\", y_train_bal.shape)\n",
        "print(\"X_test_scaled:\", X_test_scaled.shape, \"y_test:\", y_test.shape)\n",
        "\n",
        "# Keep a DataFrame copy of column names for plots/SHAP later\n",
        "feature_names = train_df.drop(\"diabetes\", axis=1).columns.tolist()\n",
        "print(\"Features:\", feature_names)\n"
      ],
      "metadata": {
        "colab": {
          "base_uri": "https://localhost:8080/"
        },
        "id": "qsmUCZZu9td1",
        "outputId": "b8e0f6ec-57eb-4e23-fa80-c4853ef4ab65"
      },
      "execution_count": 3,
      "outputs": [
        {
          "output_type": "stream",
          "name": "stdout",
          "text": [
            "Loaded shapes:\n",
            "X_train_bal: (138876, 6) y_train_bal: (138876,)\n",
            "X_test_scaled: (18720, 6) y_test: (18720,)\n",
            "Features: ['age', 'hypertension', 'bmi', 'HbA1c_level', 'blood_glucose_level', 'smoking_history_unknown']\n"
          ]
        }
      ]
    }
  ]
}